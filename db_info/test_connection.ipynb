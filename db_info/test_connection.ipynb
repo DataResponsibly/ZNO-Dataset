{
 "cells": [
  {
   "cell_type": "code",
   "execution_count": 1,
   "metadata": {},
   "outputs": [
    {
     "name": "stdout",
     "output_type": "stream",
     "text": [
      "Note: you may need to restart the kernel to use updated packages.\n"
     ]
    }
   ],
   "source": [
    "%pip install -q sqlalchemy"
   ]
  },
  {
   "cell_type": "code",
   "execution_count": 9,
   "metadata": {},
   "outputs": [
    {
     "name": "stdout",
     "output_type": "stream",
     "text": [
      "Successfully connected to the PostgreSQL database\n"
     ]
    }
   ],
   "source": [
    "import pandas as pd\n",
    "from sqlalchemy import create_engine\n",
    "# for postgreSQL database credentials can be written as \n",
    "user = 'myuser'\n",
    "password = 'mypassword'\n",
    "host = '127.0.0.1'\n",
    "port = '5432'\n",
    "database = 'EIE'\n",
    "# for creating connection string\n",
    "connection_str = f\"postgresql://{user}:{password}@{host}:{port}/{database}\"\n",
    "# SQLAlchemy engine\n",
    "engine = create_engine(connection_str)\n",
    "# you can test if the connection is made or not\n",
    "try:\n",
    "    with engine.connect() as connection_str:\n",
    "        print('Successfully connected to the PostgreSQL database')\n",
    "except Exception as ex:\n",
    "    print(f'Sorry failed to connect: {ex}')"
   ]
  },
  {
   "cell_type": "code",
   "execution_count": 11,
   "metadata": {},
   "outputs": [
    {
     "data": {
      "text/html": [
       "<div>\n",
       "<style scoped>\n",
       "    .dataframe tbody tr th:only-of-type {\n",
       "        vertical-align: middle;\n",
       "    }\n",
       "\n",
       "    .dataframe tbody tr th {\n",
       "        vertical-align: top;\n",
       "    }\n",
       "\n",
       "    .dataframe thead th {\n",
       "        text-align: right;\n",
       "    }\n",
       "</style>\n",
       "<table border=\"1\" class=\"dataframe\">\n",
       "  <thead>\n",
       "    <tr style=\"text-align: right;\">\n",
       "      <th></th>\n",
       "      <th>koatuu_2020</th>\n",
       "      <th>katottg_2023</th>\n",
       "      <th>category</th>\n",
       "      <th>region_name</th>\n",
       "    </tr>\n",
       "  </thead>\n",
       "  <tbody>\n",
       "    <tr>\n",
       "      <th>0</th>\n",
       "      <td>2323085101</td>\n",
       "      <td>UA23080270010078454</td>\n",
       "      <td>village</td>\n",
       "      <td>Zaporizka</td>\n",
       "    </tr>\n",
       "    <tr>\n",
       "      <th>1</th>\n",
       "      <td>6822710100</td>\n",
       "      <td>UA68040210010032567</td>\n",
       "      <td>town</td>\n",
       "      <td>Khmelnytska</td>\n",
       "    </tr>\n",
       "    <tr>\n",
       "      <th>2</th>\n",
       "      <td>1223881501</td>\n",
       "      <td>UA12140170040016918</td>\n",
       "      <td>village</td>\n",
       "      <td>Dnipropetrovska</td>\n",
       "    </tr>\n",
       "    <tr>\n",
       "      <th>3</th>\n",
       "      <td>7310100000</td>\n",
       "      <td>UA73060610010033137</td>\n",
       "      <td>town</td>\n",
       "      <td>Chernivetska</td>\n",
       "    </tr>\n",
       "    <tr>\n",
       "      <th>4</th>\n",
       "      <td>4822383001</td>\n",
       "      <td>UA48080050190079797</td>\n",
       "      <td>village</td>\n",
       "      <td>Mykolaivska</td>\n",
       "    </tr>\n",
       "  </tbody>\n",
       "</table>\n",
       "</div>"
      ],
      "text/plain": [
       "  koatuu_2020         katottg_2023 category      region_name\n",
       "0  2323085101  UA23080270010078454  village        Zaporizka\n",
       "1  6822710100  UA68040210010032567     town      Khmelnytska\n",
       "2  1223881501  UA12140170040016918  village  Dnipropetrovska\n",
       "3  7310100000  UA73060610010033137     town     Chernivetska\n",
       "4  4822383001  UA48080050190079797  village      Mykolaivska"
      ]
     },
     "execution_count": 11,
     "metadata": {},
     "output_type": "execute_result"
    }
   ],
   "source": [
    "# run the query\n",
    "query = \"SELECT * FROM locations LIMIT 5;\"\n",
    "df = pd.read_sql(query, engine)\n",
    "df.head()"
   ]
  },
  {
   "cell_type": "code",
   "execution_count": null,
   "metadata": {},
   "outputs": [],
   "source": []
  }
 ],
 "metadata": {
  "kernelspec": {
   "display_name": "base",
   "language": "python",
   "name": "python3"
  },
  "language_info": {
   "codemirror_mode": {
    "name": "ipython",
    "version": 3
   },
   "file_extension": ".py",
   "mimetype": "text/x-python",
   "name": "python",
   "nbconvert_exporter": "python",
   "pygments_lexer": "ipython3",
   "version": "3.8.8"
  }
 },
 "nbformat": 4,
 "nbformat_minor": 2
}
