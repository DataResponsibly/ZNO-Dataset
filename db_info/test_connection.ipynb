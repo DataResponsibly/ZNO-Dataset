{
 "cells": [
  {
   "cell_type": "code",
   "execution_count": 1,
   "metadata": {},
   "outputs": [
    {
     "name": "stdout",
     "output_type": "stream",
     "text": [
      "Note: you may need to restart the kernel to use updated packages.\n"
     ]
    }
   ],
   "source": [
    "%pip install -q sqlalchemy"
   ]
  },
  {
   "cell_type": "code",
   "execution_count": 7,
   "metadata": {},
   "outputs": [
    {
     "name": "stdout",
     "output_type": "stream",
     "text": [
      "Successfully connected to the PostgreSQL database\n"
     ]
    }
   ],
   "source": [
    "import pandas as pd\n",
    "from sqlalchemy import create_engine\n",
    "# for postgreSQL database credentials can be written as \n",
    "user = 'myuser'\n",
    "password = 'mypassword'\n",
    "host = 'localhost'\n",
    "port = '5433'\n",
    "database = 'EIE'\n",
    "# for creating connection string\n",
    "connection_str = f\"postgresql://{user}:{password}@{host}:{port}/{database}\"\n",
    "# SQLAlchemy engine\n",
    "engine = create_engine(connection_str)\n",
    "# you can test if the connection is made or not\n",
    "try:\n",
    "    with engine.connect() as connection_str:\n",
    "        print('Successfully connected to the PostgreSQL database')\n",
    "except Exception as ex:\n",
    "    print(f'Sorry failed to connect: {ex}')"
   ]
  },
  {
   "cell_type": "code",
   "execution_count": 8,
   "metadata": {},
   "outputs": [
    {
     "data": {
      "text/html": [
       "<div>\n",
       "<style scoped>\n",
       "    .dataframe tbody tr th:only-of-type {\n",
       "        vertical-align: middle;\n",
       "    }\n",
       "\n",
       "    .dataframe tbody tr th {\n",
       "        vertical-align: top;\n",
       "    }\n",
       "\n",
       "    .dataframe thead th {\n",
       "        text-align: right;\n",
       "    }\n",
       "</style>\n",
       "<table border=\"1\" class=\"dataframe\">\n",
       "  <thead>\n",
       "    <tr style=\"text-align: right;\">\n",
       "      <th></th>\n",
       "      <th>katottg_2023</th>\n",
       "      <th>koatuu_2020</th>\n",
       "      <th>category</th>\n",
       "      <th>ukrainian_name</th>\n",
       "      <th>english_name</th>\n",
       "    </tr>\n",
       "  </thead>\n",
       "  <tbody>\n",
       "    <tr>\n",
       "      <th>0</th>\n",
       "      <td>UA01000000000013043</td>\n",
       "      <td>0100000000</td>\n",
       "      <td>region</td>\n",
       "      <td>Автономна Республіка Крим</td>\n",
       "      <td>Avtonomna Respublika Krym</td>\n",
       "    </tr>\n",
       "    <tr>\n",
       "      <th>1</th>\n",
       "      <td>UA01020000000022387</td>\n",
       "      <td>0120400000</td>\n",
       "      <td>district</td>\n",
       "      <td>Бахчисарайський</td>\n",
       "      <td>Bakhchysaraiskyi</td>\n",
       "    </tr>\n",
       "    <tr>\n",
       "      <th>2</th>\n",
       "      <td>UA01020010000048857</td>\n",
       "      <td>8536990200</td>\n",
       "      <td>hromada</td>\n",
       "      <td>Андріївська</td>\n",
       "      <td>None</td>\n",
       "    </tr>\n",
       "    <tr>\n",
       "      <th>3</th>\n",
       "      <td>UA01020010010075540</td>\n",
       "      <td>8536990201</td>\n",
       "      <td>village</td>\n",
       "      <td>Андріївка</td>\n",
       "      <td>None</td>\n",
       "    </tr>\n",
       "    <tr>\n",
       "      <th>4</th>\n",
       "      <td>UA01020010020030666</td>\n",
       "      <td>8536990203</td>\n",
       "      <td>settlement</td>\n",
       "      <td>Сонячний</td>\n",
       "      <td>None</td>\n",
       "    </tr>\n",
       "  </tbody>\n",
       "</table>\n",
       "</div>"
      ],
      "text/plain": [
       "          katottg_2023 koatuu_2020    category             ukrainian_name  \\\n",
       "0  UA01000000000013043  0100000000      region  Автономна Республіка Крим   \n",
       "1  UA01020000000022387  0120400000    district            Бахчисарайський   \n",
       "2  UA01020010000048857  8536990200     hromada               Андріївська    \n",
       "3  UA01020010010075540  8536990201     village                  Андріївка   \n",
       "4  UA01020010020030666  8536990203  settlement                   Сонячний   \n",
       "\n",
       "                english_name  \n",
       "0  Avtonomna Respublika Krym  \n",
       "1           Bakhchysaraiskyi  \n",
       "2                       None  \n",
       "3                       None  \n",
       "4                       None  "
      ]
     },
     "execution_count": 8,
     "metadata": {},
     "output_type": "execute_result"
    }
   ],
   "source": [
    "# run the query\n",
    "query = \"SELECT * FROM locations LIMIT 5;\"\n",
    "df = pd.read_sql(query, engine)\n",
    "df.head()"
   ]
  },
  {
   "cell_type": "code",
   "execution_count": null,
   "metadata": {},
   "outputs": [],
   "source": []
  }
 ],
 "metadata": {
  "kernelspec": {
   "display_name": "base",
   "language": "python",
   "name": "python3"
  },
  "language_info": {
   "codemirror_mode": {
    "name": "ipython",
    "version": 3
   },
   "file_extension": ".py",
   "mimetype": "text/x-python",
   "name": "python",
   "nbconvert_exporter": "python",
   "pygments_lexer": "ipython3",
   "version": "3.11.6"
  }
 },
 "nbformat": 4,
 "nbformat_minor": 2
}
