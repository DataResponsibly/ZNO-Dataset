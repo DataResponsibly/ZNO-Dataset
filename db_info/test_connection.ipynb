{
 "cells": [
  {
   "cell_type": "code",
   "execution_count": 1,
   "metadata": {},
   "outputs": [
    {
     "name": "stdout",
     "output_type": "stream",
     "text": [
      "Note: you may need to restart the kernel to use updated packages.\n"
     ]
    }
   ],
   "source": [
    "%pip install -q sqlalchemy"
   ]
  },
  {
   "cell_type": "code",
   "execution_count": 15,
   "metadata": {},
   "outputs": [
    {
     "name": "stdout",
     "output_type": "stream",
     "text": [
      "Successfully connected to the PostgreSQL database\n"
     ]
    }
   ],
   "source": [
    "import pandas as pd\n",
    "from sqlalchemy import create_engine\n",
    "# for postgreSQL database credentials can be written as \n",
    "user = 'myuser'\n",
    "password = 'mypassword'\n",
    "host = 'localhost'\n",
    "port = '5433'\n",
    "database = 'eie'\n",
    "# for creating connection string\n",
    "connection_str = f\"postgresql://{user}:{password}@{host}:{port}/{database}\"\n",
    "# SQLAlchemy engine\n",
    "engine = create_engine(connection_str)\n",
    "# you can test if the connection is made or not\n",
    "try:\n",
    "    with engine.connect() as connection_str:\n",
    "        print('Successfully connected to the PostgreSQL database')\n",
    "except Exception as ex:\n",
    "    print(f'Sorry failed to connect: {ex}')"
   ]
  },
  {
   "cell_type": "code",
   "execution_count": 16,
   "metadata": {},
   "outputs": [
    {
     "data": {
      "text/html": [
       "<div>\n",
       "<style scoped>\n",
       "    .dataframe tbody tr th:only-of-type {\n",
       "        vertical-align: middle;\n",
       "    }\n",
       "\n",
       "    .dataframe tbody tr th {\n",
       "        vertical-align: top;\n",
       "    }\n",
       "\n",
       "    .dataframe thead th {\n",
       "        text-align: right;\n",
       "    }\n",
       "</style>\n",
       "<table border=\"1\" class=\"dataframe\">\n",
       "  <thead>\n",
       "    <tr style=\"text-align: right;\">\n",
       "      <th></th>\n",
       "      <th>outid</th>\n",
       "      <th>years</th>\n",
       "      <th>score100</th>\n",
       "      <th>score12</th>\n",
       "      <th>score</th>\n",
       "      <th>test_status</th>\n",
       "      <th>test_subject</th>\n",
       "      <th>test_type</th>\n",
       "      <th>katottg_2023_test_center</th>\n",
       "      <th>edrpou_test_center</th>\n",
       "    </tr>\n",
       "  </thead>\n",
       "  <tbody>\n",
       "    <tr>\n",
       "      <th>0</th>\n",
       "      <td>00000AC7-CDDE-4C77-B979-8B0351AF1305</td>\n",
       "      <td>2017</td>\n",
       "      <td>161.0</td>\n",
       "      <td>9.0</td>\n",
       "      <td>NaN</td>\n",
       "      <td>Accepted</td>\n",
       "      <td>ukrtest</td>\n",
       "      <td>EIE</td>\n",
       "      <td>UA51100270010275193</td>\n",
       "      <td>20995060</td>\n",
       "    </tr>\n",
       "    <tr>\n",
       "      <th>1</th>\n",
       "      <td>00000dce-36de-4d58-9dc2-7ffc824f597a</td>\n",
       "      <td>2021</td>\n",
       "      <td>NaN</td>\n",
       "      <td>NaN</td>\n",
       "      <td>NaN</td>\n",
       "      <td>Absent</td>\n",
       "      <td>ukrtest</td>\n",
       "      <td>EIE</td>\n",
       "      <td>UA18060090010074365</td>\n",
       "      <td>22061344</td>\n",
       "    </tr>\n",
       "    <tr>\n",
       "      <th>2</th>\n",
       "      <td>00001a8d-fff5-4c7c-bea2-b0157f7c5655</td>\n",
       "      <td>2021</td>\n",
       "      <td>128.0</td>\n",
       "      <td>6.0</td>\n",
       "      <td>31.0</td>\n",
       "      <td>Accepted</td>\n",
       "      <td>ukrtest</td>\n",
       "      <td>EIE</td>\n",
       "      <td>UA71080490010144486</td>\n",
       "      <td>25922746</td>\n",
       "    </tr>\n",
       "    <tr>\n",
       "      <th>3</th>\n",
       "      <td>0000268f-9fdd-49b2-9ee2-422778c9c4f1</td>\n",
       "      <td>2016</td>\n",
       "      <td>160.0</td>\n",
       "      <td>8.0</td>\n",
       "      <td>NaN</td>\n",
       "      <td>Accepted</td>\n",
       "      <td>ukrtest</td>\n",
       "      <td>EIE</td>\n",
       "      <td>UA63120270010216514</td>\n",
       "      <td>24486622</td>\n",
       "    </tr>\n",
       "    <tr>\n",
       "      <th>4</th>\n",
       "      <td>0000324e-f525-49c4-a963-8df0cc02d6d5</td>\n",
       "      <td>2018</td>\n",
       "      <td>166.0</td>\n",
       "      <td>9.0</td>\n",
       "      <td>69.0</td>\n",
       "      <td>Accepted</td>\n",
       "      <td>ukrtest</td>\n",
       "      <td>EIE</td>\n",
       "      <td>UA46100230010074173</td>\n",
       "      <td>34387362</td>\n",
       "    </tr>\n",
       "  </tbody>\n",
       "</table>\n",
       "</div>"
      ],
      "text/plain": [
       "                                  outid  years  score100  score12  score  \\\n",
       "0  00000AC7-CDDE-4C77-B979-8B0351AF1305   2017     161.0      9.0    NaN   \n",
       "1  00000dce-36de-4d58-9dc2-7ffc824f597a   2021       NaN      NaN    NaN   \n",
       "2  00001a8d-fff5-4c7c-bea2-b0157f7c5655   2021     128.0      6.0   31.0   \n",
       "3  0000268f-9fdd-49b2-9ee2-422778c9c4f1   2016     160.0      8.0    NaN   \n",
       "4  0000324e-f525-49c4-a963-8df0cc02d6d5   2018     166.0      9.0   69.0   \n",
       "\n",
       "  test_status test_subject test_type katottg_2023_test_center  \\\n",
       "0    Accepted      ukrtest       EIE      UA51100270010275193   \n",
       "1      Absent      ukrtest       EIE      UA18060090010074365   \n",
       "2    Accepted      ukrtest       EIE      UA71080490010144486   \n",
       "3    Accepted      ukrtest       EIE      UA63120270010216514   \n",
       "4    Accepted      ukrtest       EIE      UA46100230010074173   \n",
       "\n",
       "  edrpou_test_center  \n",
       "0           20995060  \n",
       "1           22061344  \n",
       "2           25922746  \n",
       "3           24486622  \n",
       "4           34387362  "
      ]
     },
     "execution_count": 16,
     "metadata": {},
     "output_type": "execute_result"
    }
   ],
   "source": [
    "# run the query\n",
    "query = \"SELECT * FROM students_take_tests;\"\n",
    "df = pd.read_sql(query, engine)\n",
    "df.head()"
   ]
  }
 ],
 "metadata": {
  "kernelspec": {
   "display_name": "base",
   "language": "python",
   "name": "python3"
  },
  "language_info": {
   "codemirror_mode": {
    "name": "ipython",
    "version": 3
   },
   "file_extension": ".py",
   "mimetype": "text/x-python",
   "name": "python",
   "nbconvert_exporter": "python",
   "pygments_lexer": "ipython3",
   "version": "3.11.6"
  }
 },
 "nbformat": 4,
 "nbformat_minor": 2
}
