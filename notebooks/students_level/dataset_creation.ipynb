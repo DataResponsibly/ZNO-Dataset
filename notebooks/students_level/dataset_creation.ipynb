{
 "cells": [
  {
   "attachments": {},
   "cell_type": "markdown",
   "metadata": {},
   "source": [
    "# Motivation"
   ]
  },
  {
   "attachments": {},
   "cell_type": "markdown",
   "metadata": {},
   "source": [
    "The motivation for creating prediction and ranking tasks for EIE datasets was to extend the dataset ecosystem available for algorithmic fairness research in two directions: the education domain and the dataset from Eastern Europe (Ukraine). We obtained the data from publicly available Open Data resource https://zno.testportal.com.ua/opendata.\n",
    "\n",
    "\n",
    "The tasks were created by Dr. Julia Stoyanovich and Andrew Bell from the Center for Responsible AI, New York University, and Tetiana Zakharchenko, Nazarii Drushchak, Oleksandra Konopatska, and Olha Liuba from Ukrainian Catholic University.\n",
    "\n",
    "\n",
    "The creation of the dataset was funded by the Center for Responsible AI, New York University."
   ]
  },
  {
   "attachments": {},
   "cell_type": "markdown",
   "metadata": {},
   "source": [
    "# Composition of Dataset"
   ]
  },
  {
   "cell_type": "code",
   "execution_count": 1,
   "metadata": {},
   "outputs": [],
   "source": [
    "import numpy as np\n",
    "import pandas as pd\n",
    "import matplotlib.pyplot as plt"
   ]
  },
  {
   "attachments": {},
   "cell_type": "markdown",
   "metadata": {},
   "source": [
    "We will load and work with datasets from 2016 to 2021 since they have a comparable structure. We downloadedoriginal datasets from Open Data Resource and uploaded to HuggingFace for easiness of usage."
   ]
  },
  {
   "attachments": {},
   "cell_type": "markdown",
   "metadata": {},
   "source": [
    "## Loading and merging"
   ]
  },
  {
   "attachments": {},
   "cell_type": "markdown",
   "metadata": {},
   "source": [
    "Load datasets from hugging face"
   ]
  },
  {
   "cell_type": "code",
   "execution_count": 12,
   "metadata": {},
   "outputs": [
    {
     "name": "stdout",
     "output_type": "stream",
     "text": [
      "EIE 2016 Loading...\n",
      "EIE 2017 Loading...\n",
      "EIE 2018 Loading...\n"
     ]
    },
    {
     "name": "stderr",
     "output_type": "stream",
     "text": [
      "/var/folders/cz/wq9d8j_11fx3b8pjjbk7z8br0000gn/T/ipykernel_8813/3474935177.py:11: DtypeWarning: Columns (119) have mixed types. Specify dtype option on import or set low_memory=False.\n",
      "  dataset = pd.read_csv(f\"../../zno/{year}/{file_name}\", sep=\";\", encoding='utf-8')\n"
     ]
    },
    {
     "name": "stdout",
     "output_type": "stream",
     "text": [
      "EIE 2019 Loading...\n"
     ]
    },
    {
     "name": "stderr",
     "output_type": "stream",
     "text": [
      "/var/folders/cz/wq9d8j_11fx3b8pjjbk7z8br0000gn/T/ipykernel_8813/3474935177.py:13: DtypeWarning: Columns (100,116,117,118,120,122,123,124,125) have mixed types. Specify dtype option on import or set low_memory=False.\n",
      "  dataset = pd.read_csv(f\"../../zno/{year}/{file_name}\", sep=\";\", encoding='Windows 1251')\n"
     ]
    },
    {
     "name": "stdout",
     "output_type": "stream",
     "text": [
      "EIE 2020 Loading...\n"
     ]
    },
    {
     "name": "stderr",
     "output_type": "stream",
     "text": [
      "/var/folders/cz/wq9d8j_11fx3b8pjjbk7z8br0000gn/T/ipykernel_8813/3474935177.py:13: DtypeWarning: Columns (96,97,98,100,102,103,104,105,116,117,118,120,122,123,124,125) have mixed types. Specify dtype option on import or set low_memory=False.\n",
      "  dataset = pd.read_csv(f\"../../zno/{year}/{file_name}\", sep=\";\", encoding='Windows 1251')\n"
     ]
    },
    {
     "name": "stdout",
     "output_type": "stream",
     "text": [
      "EIE 2021 Loading...\n"
     ]
    },
    {
     "name": "stderr",
     "output_type": "stream",
     "text": [
      "/var/folders/cz/wq9d8j_11fx3b8pjjbk7z8br0000gn/T/ipykernel_8813/3474935177.py:11: DtypeWarning: Columns (117,118,119,121,123,124,125,126,137,138,139,141,143,144,145,146) have mixed types. Specify dtype option on import or set low_memory=False.\n",
      "  dataset = pd.read_csv(f\"../../zno/{year}/{file_name}\", sep=\";\", encoding='utf-8')\n"
     ]
    },
    {
     "name": "stdout",
     "output_type": "stream",
     "text": [
      "EIE 2022 Loading...\n"
     ]
    }
   ],
   "source": [
    "# load datasets\n",
    "datasets = []\n",
    "years = range(2016, 2023)\n",
    "for year in years:\n",
    "    print(f\"EIE {year} Loading...\")\n",
    "    if int(year) >= 2019:\n",
    "        file_name = f'Odata{year}File.csv'\n",
    "    else:\n",
    "        file_name = f'OpenData{year}.csv'\n",
    "    try:           \n",
    "        dataset = pd.read_csv(f\"../../zno/{year}/{file_name}\", sep=\";\", encoding='utf-8')\n",
    "    except:\n",
    "        dataset = pd.read_csv(f\"../../zno/{year}/{file_name}\", sep=\";\", encoding='Windows 1251')\n",
    "    datasets.append(dataset)"
   ]
  },
  {
   "attachments": {},
   "cell_type": "markdown",
   "metadata": {},
   "source": [
    "Names of all features are the same across all years, but can have some difference with capital and lower cases. That's why we lower all of them. Also, we add a new column – a corresponding year. For further research we add the column with age."
   ]
  },
  {
   "cell_type": "code",
   "execution_count": 13,
   "metadata": {},
   "outputs": [],
   "source": [
    "#lowercase all columns and add year as attribute\n",
    "for year, dataset in zip(years, datasets):\n",
    "    dataset.columns = [col.lower() for col in dataset.columns]\n",
    "    dataset['year'] = year\n",
    "    dataset['age'] = year - dataset['birth']"
   ]
  },
  {
   "attachments": {},
   "cell_type": "markdown",
   "metadata": {},
   "source": [
    "## Unifiying column names"
   ]
  },
  {
   "attachments": {},
   "cell_type": "markdown",
   "metadata": {},
   "source": [
    "### 2016, 2017 and 2018"
   ]
  },
  {
   "attachments": {},
   "cell_type": "markdown",
   "metadata": {},
   "source": [
    "compare 2016 (dataset[0]) and 2018 (dataset[2]) structure"
   ]
  },
  {
   "cell_type": "code",
   "execution_count": 14,
   "metadata": {},
   "outputs": [
    {
     "data": {
      "text/plain": [
       "{'frball100',\n",
       " 'frptareaname',\n",
       " 'frptname',\n",
       " 'frptregname',\n",
       " 'frpttername',\n",
       " 'frtest',\n",
       " 'frteststatus',\n",
       " 'rusball100',\n",
       " 'rusptareaname',\n",
       " 'rusptname',\n",
       " 'rusptregname',\n",
       " 'ruspttername',\n",
       " 'rustest',\n",
       " 'rusteststatus',\n",
       " 'spball100',\n",
       " 'spptareaname',\n",
       " 'spptname',\n",
       " 'spptregname',\n",
       " 'sppttername',\n",
       " 'sptest',\n",
       " 'spteststatus'}"
      ]
     },
     "execution_count": 14,
     "metadata": {},
     "output_type": "execute_result"
    }
   ],
   "source": [
    "set(datasets[0].columns)-set(datasets[2].columns)"
   ]
  },
  {
   "cell_type": "code",
   "execution_count": 15,
   "metadata": {},
   "outputs": [
    {
     "data": {
      "text/plain": [
       "{'bioball',\n",
       " 'bioball12',\n",
       " 'chemball',\n",
       " 'chemball12',\n",
       " 'classlangname',\n",
       " 'classprofilename',\n",
       " 'deuball',\n",
       " 'deuball12',\n",
       " 'deudpalevel',\n",
       " 'engball',\n",
       " 'engball12',\n",
       " 'engdpalevel',\n",
       " 'fraball',\n",
       " 'fraball100',\n",
       " 'fraball12',\n",
       " 'fradpalevel',\n",
       " 'fraptareaname',\n",
       " 'fraptname',\n",
       " 'fraptregname',\n",
       " 'frapttername',\n",
       " 'fratest',\n",
       " 'frateststatus',\n",
       " 'geoball',\n",
       " 'geoball12',\n",
       " 'histball',\n",
       " 'mathball',\n",
       " 'physball',\n",
       " 'physball12',\n",
       " 'spaball',\n",
       " 'spaball100',\n",
       " 'spaball12',\n",
       " 'spadpalevel',\n",
       " 'spaptareaname',\n",
       " 'spaptname',\n",
       " 'spaptregname',\n",
       " 'spapttername',\n",
       " 'spatest',\n",
       " 'spateststatus',\n",
       " 'tertypename',\n",
       " 'ukrball'}"
      ]
     },
     "execution_count": 15,
     "metadata": {},
     "output_type": "execute_result"
    }
   ],
   "source": [
    "set(datasets[2].columns)-set(datasets[0].columns)"
   ]
  },
  {
   "cell_type": "code",
   "execution_count": 16,
   "metadata": {},
   "outputs": [],
   "source": [
    "datasets[0].columns = [col[:2]+'a'+col[2:] if col.startswith('fr') or col.startswith('sp') else col for col in datasets[0].columns]"
   ]
  },
  {
   "attachments": {},
   "cell_type": "markdown",
   "metadata": {},
   "source": [
    "compare 2017 and 2018"
   ]
  },
  {
   "cell_type": "code",
   "execution_count": 17,
   "metadata": {},
   "outputs": [
    {
     "data": {
      "text/html": [
       "<div>\n",
       "<style scoped>\n",
       "    .dataframe tbody tr th:only-of-type {\n",
       "        vertical-align: middle;\n",
       "    }\n",
       "\n",
       "    .dataframe tbody tr th {\n",
       "        vertical-align: top;\n",
       "    }\n",
       "\n",
       "    .dataframe thead th {\n",
       "        text-align: right;\n",
       "    }\n",
       "</style>\n",
       "<table border=\"1\" class=\"dataframe\">\n",
       "  <thead>\n",
       "    <tr style=\"text-align: right;\">\n",
       "      <th></th>\n",
       "      <th>outid</th>\n",
       "      <th>stid</th>\n",
       "      <th>birth</th>\n",
       "      <th>sextypename</th>\n",
       "      <th>regname</th>\n",
       "      <th>areaname</th>\n",
       "      <th>tername</th>\n",
       "      <th>regtypename</th>\n",
       "      <th>tertypename</th>\n",
       "      <th>classprofilename</th>\n",
       "      <th>...</th>\n",
       "      <th>rustest</th>\n",
       "      <th>rusteststatus</th>\n",
       "      <th>rusball100</th>\n",
       "      <th>rusball12</th>\n",
       "      <th>rusptname</th>\n",
       "      <th>rusptregname</th>\n",
       "      <th>rusptareaname</th>\n",
       "      <th>ruspttername</th>\n",
       "      <th>year</th>\n",
       "      <th>age</th>\n",
       "    </tr>\n",
       "  </thead>\n",
       "  <tbody>\n",
       "    <tr>\n",
       "      <th>0</th>\n",
       "      <td>EDDDC0A3-C615-4101-96B3-9F1A4C654A2C</td>\n",
       "      <td>14809269-9F28-454C-8B3B-01DE067C91F3</td>\n",
       "      <td>1999</td>\n",
       "      <td>жіноча</td>\n",
       "      <td>Житомирська область</td>\n",
       "      <td>Новоград-Волинський район</td>\n",
       "      <td>смт Городниця</td>\n",
       "      <td>Випускник минулих років</td>\n",
       "      <td>місто</td>\n",
       "      <td>NaN</td>\n",
       "      <td>...</td>\n",
       "      <td>NaN</td>\n",
       "      <td>NaN</td>\n",
       "      <td>NaN</td>\n",
       "      <td>NaN</td>\n",
       "      <td>NaN</td>\n",
       "      <td>NaN</td>\n",
       "      <td>NaN</td>\n",
       "      <td>NaN</td>\n",
       "      <td>2017</td>\n",
       "      <td>18</td>\n",
       "    </tr>\n",
       "    <tr>\n",
       "      <th>1</th>\n",
       "      <td>3528FBEB-5ABE-4956-B715-68FABAE0A566</td>\n",
       "      <td>C5B85614-D95B-4029-B3E4-920246DA7B17</td>\n",
       "      <td>1999</td>\n",
       "      <td>чоловіча</td>\n",
       "      <td>Сумська область</td>\n",
       "      <td>Сумська область</td>\n",
       "      <td>м.Лебедин</td>\n",
       "      <td>Учень (слухач, студент) професійно-технічного,...</td>\n",
       "      <td>місто</td>\n",
       "      <td>NaN</td>\n",
       "      <td>...</td>\n",
       "      <td>NaN</td>\n",
       "      <td>NaN</td>\n",
       "      <td>NaN</td>\n",
       "      <td>NaN</td>\n",
       "      <td>NaN</td>\n",
       "      <td>NaN</td>\n",
       "      <td>NaN</td>\n",
       "      <td>NaN</td>\n",
       "      <td>2017</td>\n",
       "      <td>18</td>\n",
       "    </tr>\n",
       "    <tr>\n",
       "      <th>2</th>\n",
       "      <td>1BA2DD60-B125-4DB0-875A-9AB8E54B4411</td>\n",
       "      <td>E1BB0166-3FFE-4BA0-BFB7-D60EC8E8CD8E</td>\n",
       "      <td>1991</td>\n",
       "      <td>чоловіча</td>\n",
       "      <td>Миколаївська область</td>\n",
       "      <td>м.Миколаїв</td>\n",
       "      <td>Корабельний район міста</td>\n",
       "      <td>Випускник минулих років</td>\n",
       "      <td>місто</td>\n",
       "      <td>NaN</td>\n",
       "      <td>...</td>\n",
       "      <td>NaN</td>\n",
       "      <td>NaN</td>\n",
       "      <td>NaN</td>\n",
       "      <td>NaN</td>\n",
       "      <td>NaN</td>\n",
       "      <td>NaN</td>\n",
       "      <td>NaN</td>\n",
       "      <td>NaN</td>\n",
       "      <td>2017</td>\n",
       "      <td>26</td>\n",
       "    </tr>\n",
       "    <tr>\n",
       "      <th>3</th>\n",
       "      <td>29BD1575-16B2-4EAD-B2AB-DC2A3365DE1E</td>\n",
       "      <td>574350E1-DDA9-47A8-ADAA-6F8915BD2A05</td>\n",
       "      <td>2000</td>\n",
       "      <td>чоловіча</td>\n",
       "      <td>Донецька область</td>\n",
       "      <td>Донецька область</td>\n",
       "      <td>м.Покровськ</td>\n",
       "      <td>Випускник загальноосвітнього навчального закла...</td>\n",
       "      <td>місто</td>\n",
       "      <td>Фізико-математичний</td>\n",
       "      <td>...</td>\n",
       "      <td>NaN</td>\n",
       "      <td>NaN</td>\n",
       "      <td>NaN</td>\n",
       "      <td>NaN</td>\n",
       "      <td>NaN</td>\n",
       "      <td>NaN</td>\n",
       "      <td>NaN</td>\n",
       "      <td>NaN</td>\n",
       "      <td>2017</td>\n",
       "      <td>17</td>\n",
       "    </tr>\n",
       "    <tr>\n",
       "      <th>4</th>\n",
       "      <td>FF8BFD9C-837B-4F38-A321-C9AC264F83E6</td>\n",
       "      <td>4E01CF4C-3596-4178-A44D-556197D73E7B</td>\n",
       "      <td>2000</td>\n",
       "      <td>чоловіча</td>\n",
       "      <td>Івано-Франківська область</td>\n",
       "      <td>Івано-Франківська область</td>\n",
       "      <td>м.Івано-Франківськ</td>\n",
       "      <td>Учень (слухач, студент) професійно-технічного,...</td>\n",
       "      <td>місто</td>\n",
       "      <td>NaN</td>\n",
       "      <td>...</td>\n",
       "      <td>NaN</td>\n",
       "      <td>NaN</td>\n",
       "      <td>NaN</td>\n",
       "      <td>NaN</td>\n",
       "      <td>NaN</td>\n",
       "      <td>NaN</td>\n",
       "      <td>NaN</td>\n",
       "      <td>NaN</td>\n",
       "      <td>2017</td>\n",
       "      <td>17</td>\n",
       "    </tr>\n",
       "    <tr>\n",
       "      <th>...</th>\n",
       "      <td>...</td>\n",
       "      <td>...</td>\n",
       "      <td>...</td>\n",
       "      <td>...</td>\n",
       "      <td>...</td>\n",
       "      <td>...</td>\n",
       "      <td>...</td>\n",
       "      <td>...</td>\n",
       "      <td>...</td>\n",
       "      <td>...</td>\n",
       "      <td>...</td>\n",
       "      <td>...</td>\n",
       "      <td>...</td>\n",
       "      <td>...</td>\n",
       "      <td>...</td>\n",
       "      <td>...</td>\n",
       "      <td>...</td>\n",
       "      <td>...</td>\n",
       "      <td>...</td>\n",
       "      <td>...</td>\n",
       "      <td>...</td>\n",
       "    </tr>\n",
       "    <tr>\n",
       "      <th>240884</th>\n",
       "      <td>D7D5DDD6-473F-4047-B673-88AC5922BCFB</td>\n",
       "      <td>EA2E4E4D-9672-48BA-A4BF-E77DD3A83EC4</td>\n",
       "      <td>1999</td>\n",
       "      <td>жіноча</td>\n",
       "      <td>м.Київ</td>\n",
       "      <td>м.Київ</td>\n",
       "      <td>Шевченківський район міста</td>\n",
       "      <td>Випускник загальноосвітнього навчального закла...</td>\n",
       "      <td>місто</td>\n",
       "      <td>Інформаційно-технологічний</td>\n",
       "      <td>...</td>\n",
       "      <td>NaN</td>\n",
       "      <td>NaN</td>\n",
       "      <td>NaN</td>\n",
       "      <td>NaN</td>\n",
       "      <td>NaN</td>\n",
       "      <td>NaN</td>\n",
       "      <td>NaN</td>\n",
       "      <td>NaN</td>\n",
       "      <td>2017</td>\n",
       "      <td>18</td>\n",
       "    </tr>\n",
       "    <tr>\n",
       "      <th>240885</th>\n",
       "      <td>678C3946-388B-4921-8679-C0788F21AAD4</td>\n",
       "      <td>97B6798B-B6BB-42B9-B971-91CD92053041</td>\n",
       "      <td>1999</td>\n",
       "      <td>жіноча</td>\n",
       "      <td>Харківська область</td>\n",
       "      <td>м.Харків</td>\n",
       "      <td>Московський район міста</td>\n",
       "      <td>Випускник загальноосвітнього навчального закла...</td>\n",
       "      <td>місто</td>\n",
       "      <td>Інший</td>\n",
       "      <td>...</td>\n",
       "      <td>NaN</td>\n",
       "      <td>NaN</td>\n",
       "      <td>NaN</td>\n",
       "      <td>NaN</td>\n",
       "      <td>NaN</td>\n",
       "      <td>NaN</td>\n",
       "      <td>NaN</td>\n",
       "      <td>NaN</td>\n",
       "      <td>2017</td>\n",
       "      <td>18</td>\n",
       "    </tr>\n",
       "    <tr>\n",
       "      <th>240886</th>\n",
       "      <td>9C4F308A-1A47-46A4-A192-CAFC3DF0A726</td>\n",
       "      <td>A84568A5-DFA5-45D2-ADD3-5196E1A7A72E</td>\n",
       "      <td>2000</td>\n",
       "      <td>чоловіча</td>\n",
       "      <td>Херсонська область</td>\n",
       "      <td>Великоолександрівський район</td>\n",
       "      <td>с.Чарівне</td>\n",
       "      <td>Випускник загальноосвітнього навчального закла...</td>\n",
       "      <td>село</td>\n",
       "      <td>Універсальний</td>\n",
       "      <td>...</td>\n",
       "      <td>NaN</td>\n",
       "      <td>NaN</td>\n",
       "      <td>NaN</td>\n",
       "      <td>NaN</td>\n",
       "      <td>NaN</td>\n",
       "      <td>NaN</td>\n",
       "      <td>NaN</td>\n",
       "      <td>NaN</td>\n",
       "      <td>2017</td>\n",
       "      <td>17</td>\n",
       "    </tr>\n",
       "    <tr>\n",
       "      <th>240887</th>\n",
       "      <td>DECAE4A3-0782-4565-9A00-95393AA7FCD9</td>\n",
       "      <td>A1113632-D542-43B8-BB44-E56FE6446951</td>\n",
       "      <td>1998</td>\n",
       "      <td>жіноча</td>\n",
       "      <td>Рівненська область</td>\n",
       "      <td>Гощанський район</td>\n",
       "      <td>с.Бабин</td>\n",
       "      <td>Випускник минулих років</td>\n",
       "      <td>село</td>\n",
       "      <td>NaN</td>\n",
       "      <td>...</td>\n",
       "      <td>NaN</td>\n",
       "      <td>NaN</td>\n",
       "      <td>NaN</td>\n",
       "      <td>NaN</td>\n",
       "      <td>NaN</td>\n",
       "      <td>NaN</td>\n",
       "      <td>NaN</td>\n",
       "      <td>NaN</td>\n",
       "      <td>2017</td>\n",
       "      <td>19</td>\n",
       "    </tr>\n",
       "    <tr>\n",
       "      <th>240888</th>\n",
       "      <td>AC4821DA-34AB-4AF4-B518-3765F1F4B26C</td>\n",
       "      <td>3617062A-A353-479F-98E2-B928C27A8309</td>\n",
       "      <td>2000</td>\n",
       "      <td>чоловіча</td>\n",
       "      <td>Запорізька область</td>\n",
       "      <td>Вільнянський район</td>\n",
       "      <td>с.Солоне</td>\n",
       "      <td>Випускник загальноосвітнього навчального закла...</td>\n",
       "      <td>село</td>\n",
       "      <td>Інший</td>\n",
       "      <td>...</td>\n",
       "      <td>NaN</td>\n",
       "      <td>NaN</td>\n",
       "      <td>NaN</td>\n",
       "      <td>NaN</td>\n",
       "      <td>NaN</td>\n",
       "      <td>NaN</td>\n",
       "      <td>NaN</td>\n",
       "      <td>NaN</td>\n",
       "      <td>2017</td>\n",
       "      <td>17</td>\n",
       "    </tr>\n",
       "  </tbody>\n",
       "</table>\n",
       "<p>240889 rows × 121 columns</p>\n",
       "</div>"
      ],
      "text/plain": [
       "                                       outid   \n",
       "0       EDDDC0A3-C615-4101-96B3-9F1A4C654A2C  \\\n",
       "1       3528FBEB-5ABE-4956-B715-68FABAE0A566   \n",
       "2       1BA2DD60-B125-4DB0-875A-9AB8E54B4411   \n",
       "3       29BD1575-16B2-4EAD-B2AB-DC2A3365DE1E   \n",
       "4       FF8BFD9C-837B-4F38-A321-C9AC264F83E6   \n",
       "...                                      ...   \n",
       "240884  D7D5DDD6-473F-4047-B673-88AC5922BCFB   \n",
       "240885  678C3946-388B-4921-8679-C0788F21AAD4   \n",
       "240886  9C4F308A-1A47-46A4-A192-CAFC3DF0A726   \n",
       "240887  DECAE4A3-0782-4565-9A00-95393AA7FCD9   \n",
       "240888  AC4821DA-34AB-4AF4-B518-3765F1F4B26C   \n",
       "\n",
       "                                        stid  birth sextypename   \n",
       "0       14809269-9F28-454C-8B3B-01DE067C91F3   1999      жіноча  \\\n",
       "1       C5B85614-D95B-4029-B3E4-920246DA7B17   1999    чоловіча   \n",
       "2       E1BB0166-3FFE-4BA0-BFB7-D60EC8E8CD8E   1991    чоловіча   \n",
       "3       574350E1-DDA9-47A8-ADAA-6F8915BD2A05   2000    чоловіча   \n",
       "4       4E01CF4C-3596-4178-A44D-556197D73E7B   2000    чоловіча   \n",
       "...                                      ...    ...         ...   \n",
       "240884  EA2E4E4D-9672-48BA-A4BF-E77DD3A83EC4   1999      жіноча   \n",
       "240885  97B6798B-B6BB-42B9-B971-91CD92053041   1999      жіноча   \n",
       "240886  A84568A5-DFA5-45D2-ADD3-5196E1A7A72E   2000    чоловіча   \n",
       "240887  A1113632-D542-43B8-BB44-E56FE6446951   1998      жіноча   \n",
       "240888  3617062A-A353-479F-98E2-B928C27A8309   2000    чоловіча   \n",
       "\n",
       "                          regname                      areaname   \n",
       "0             Житомирська область     Новоград-Волинський район  \\\n",
       "1                 Сумська область               Сумська область   \n",
       "2            Миколаївська область                    м.Миколаїв   \n",
       "3                Донецька область              Донецька область   \n",
       "4       Івано-Франківська область     Івано-Франківська область   \n",
       "...                           ...                           ...   \n",
       "240884                     м.Київ                        м.Київ   \n",
       "240885         Харківська область                      м.Харків   \n",
       "240886         Херсонська область  Великоолександрівський район   \n",
       "240887         Рівненська область              Гощанський район   \n",
       "240888         Запорізька область            Вільнянський район   \n",
       "\n",
       "                           tername   \n",
       "0                    смт Городниця  \\\n",
       "1                        м.Лебедин   \n",
       "2          Корабельний район міста   \n",
       "3                      м.Покровськ   \n",
       "4               м.Івано-Франківськ   \n",
       "...                            ...   \n",
       "240884  Шевченківський район міста   \n",
       "240885     Московський район міста   \n",
       "240886                   с.Чарівне   \n",
       "240887                     с.Бабин   \n",
       "240888                    с.Солоне   \n",
       "\n",
       "                                              regtypename tertypename   \n",
       "0                                 Випускник минулих років       місто  \\\n",
       "1       Учень (слухач, студент) професійно-технічного,...       місто   \n",
       "2                                 Випускник минулих років       місто   \n",
       "3       Випускник загальноосвітнього навчального закла...       місто   \n",
       "4       Учень (слухач, студент) професійно-технічного,...       місто   \n",
       "...                                                   ...         ...   \n",
       "240884  Випускник загальноосвітнього навчального закла...       місто   \n",
       "240885  Випускник загальноосвітнього навчального закла...       місто   \n",
       "240886  Випускник загальноосвітнього навчального закла...        село   \n",
       "240887                            Випускник минулих років        село   \n",
       "240888  Випускник загальноосвітнього навчального закла...        село   \n",
       "\n",
       "                  classprofilename  ... rustest rusteststatus rusball100   \n",
       "0                              NaN  ...     NaN           NaN        NaN  \\\n",
       "1                              NaN  ...     NaN           NaN        NaN   \n",
       "2                              NaN  ...     NaN           NaN        NaN   \n",
       "3              Фізико-математичний  ...     NaN           NaN        NaN   \n",
       "4                              NaN  ...     NaN           NaN        NaN   \n",
       "...                            ...  ...     ...           ...        ...   \n",
       "240884  Інформаційно-технологічний  ...     NaN           NaN        NaN   \n",
       "240885                       Інший  ...     NaN           NaN        NaN   \n",
       "240886               Універсальний  ...     NaN           NaN        NaN   \n",
       "240887                         NaN  ...     NaN           NaN        NaN   \n",
       "240888                       Інший  ...     NaN           NaN        NaN   \n",
       "\n",
       "       rusball12 rusptname rusptregname rusptareaname ruspttername  year  age  \n",
       "0            NaN       NaN          NaN           NaN          NaN  2017   18  \n",
       "1            NaN       NaN          NaN           NaN          NaN  2017   18  \n",
       "2            NaN       NaN          NaN           NaN          NaN  2017   26  \n",
       "3            NaN       NaN          NaN           NaN          NaN  2017   17  \n",
       "4            NaN       NaN          NaN           NaN          NaN  2017   17  \n",
       "...          ...       ...          ...           ...          ...   ...  ...  \n",
       "240884       NaN       NaN          NaN           NaN          NaN  2017   18  \n",
       "240885       NaN       NaN          NaN           NaN          NaN  2017   18  \n",
       "240886       NaN       NaN          NaN           NaN          NaN  2017   17  \n",
       "240887       NaN       NaN          NaN           NaN          NaN  2017   19  \n",
       "240888       NaN       NaN          NaN           NaN          NaN  2017   17  \n",
       "\n",
       "[240889 rows x 121 columns]"
      ]
     },
     "execution_count": 17,
     "metadata": {},
     "output_type": "execute_result"
    }
   ],
   "source": [
    "datasets[1]"
   ]
  },
  {
   "cell_type": "code",
   "execution_count": 18,
   "metadata": {},
   "outputs": [
    {
     "data": {
      "text/plain": [
       "{'rusball100',\n",
       " 'rusball12',\n",
       " 'rusptareaname',\n",
       " 'rusptname',\n",
       " 'rusptregname',\n",
       " 'ruspttername',\n",
       " 'rustest',\n",
       " 'rusteststatus',\n",
       " 'stid'}"
      ]
     },
     "execution_count": 18,
     "metadata": {},
     "output_type": "execute_result"
    }
   ],
   "source": [
    "set(datasets[1].columns)-set(datasets[2].columns)"
   ]
  },
  {
   "cell_type": "code",
   "execution_count": 19,
   "metadata": {},
   "outputs": [
    {
     "data": {
      "text/plain": [
       "{'bioball',\n",
       " 'chemball',\n",
       " 'deuball',\n",
       " 'deudpalevel',\n",
       " 'engball',\n",
       " 'engdpalevel',\n",
       " 'fraball',\n",
       " 'fradpalevel',\n",
       " 'geoball',\n",
       " 'histball',\n",
       " 'mathball',\n",
       " 'physball',\n",
       " 'spaball',\n",
       " 'spadpalevel',\n",
       " 'ukrball'}"
      ]
     },
     "execution_count": 19,
     "metadata": {},
     "output_type": "execute_result"
    }
   ],
   "source": [
    "set(datasets[2].columns)-set(datasets[1].columns)"
   ]
  },
  {
   "attachments": {},
   "cell_type": "markdown",
   "metadata": {},
   "source": [
    "compare 2018 and 2022"
   ]
  },
  {
   "cell_type": "code",
   "execution_count": 24,
   "metadata": {},
   "outputs": [
    {
     "data": {
      "text/plain": [
       "{'block1',\n",
       " 'block1ball',\n",
       " 'block1ball100',\n",
       " 'block2',\n",
       " 'block2ball',\n",
       " 'block2ball100',\n",
       " 'block3',\n",
       " 'block3ball',\n",
       " 'block3ball100',\n",
       " 'ptareaname',\n",
       " 'ptregname',\n",
       " 'pttername',\n",
       " 'test',\n",
       " 'testdate',\n",
       " 'teststatus'}"
      ]
     },
     "execution_count": 24,
     "metadata": {},
     "output_type": "execute_result"
    }
   ],
   "source": [
    "set(datasets[6].columns)-set(datasets[2].columns)"
   ]
  },
  {
   "cell_type": "code",
   "execution_count": 26,
   "metadata": {},
   "outputs": [
    {
     "data": {
      "text/plain": [
       "array(['Українська мова'], dtype=object)"
      ]
     },
     "execution_count": 26,
     "metadata": {},
     "output_type": "execute_result"
    }
   ],
   "source": [
    "datasets[6].block1.unique()"
   ]
  },
  {
   "cell_type": "code",
   "execution_count": 27,
   "metadata": {},
   "outputs": [
    {
     "data": {
      "text/plain": [
       "array(['Українська мова і література', nan], dtype=object)"
      ]
     },
     "execution_count": 27,
     "metadata": {},
     "output_type": "execute_result"
    }
   ],
   "source": [
    "datasets[2].ukrtest.unique()"
   ]
  },
  {
   "cell_type": "code",
   "execution_count": null,
   "metadata": {},
   "outputs": [],
   "source": [
    "datasets[6].rename(columns = {'block1'})"
   ]
  },
  {
   "cell_type": "code",
   "execution_count": 20,
   "metadata": {},
   "outputs": [],
   "source": [
    "datasets[1] = datasets[1].drop(columns=['stid'])"
   ]
  },
  {
   "attachments": {},
   "cell_type": "markdown",
   "metadata": {},
   "source": [
    "Finally, we can concatenate all datasets."
   ]
  },
  {
   "cell_type": "code",
   "execution_count": 21,
   "metadata": {},
   "outputs": [],
   "source": [
    "# concat datasets\n",
    "df_all = pd.concat(datasets)"
   ]
  },
  {
   "attachments": {},
   "cell_type": "markdown",
   "metadata": {},
   "source": [
    "Save datasets to csv format."
   ]
  },
  {
   "cell_type": "code",
   "execution_count": null,
   "metadata": {},
   "outputs": [],
   "source": [
    "df_all.to_csv('zno_all.csv',index=False)"
   ]
  },
  {
   "attachments": {},
   "cell_type": "markdown",
   "metadata": {},
   "source": [
    "Having created a dataset once, we can load it immediately in the future"
   ]
  },
  {
   "cell_type": "code",
   "execution_count": null,
   "metadata": {},
   "outputs": [],
   "source": [
    "df_all = pd.read_csv('zno_all.csv')"
   ]
  },
  {
   "attachments": {},
   "cell_type": "markdown",
   "metadata": {},
   "source": [
    "## Exploring dataset"
   ]
  },
  {
   "cell_type": "code",
   "execution_count": null,
   "metadata": {},
   "outputs": [],
   "source": [
    "df_all.head()"
   ]
  },
  {
   "cell_type": "code",
   "execution_count": null,
   "metadata": {},
   "outputs": [],
   "source": [
    "df_all.info()"
   ]
  },
  {
   "cell_type": "code",
   "execution_count": null,
   "metadata": {},
   "outputs": [],
   "source": [
    "dict(df_all.dtypes)"
   ]
  },
  {
   "cell_type": "code",
   "execution_count": null,
   "metadata": {},
   "outputs": [],
   "source": [
    "df_all.dropna(how = 'all', inplace = True)"
   ]
  },
  {
   "cell_type": "code",
   "execution_count": null,
   "metadata": {},
   "outputs": [],
   "source": [
    "df_all"
   ]
  },
  {
   "cell_type": "code",
   "execution_count": null,
   "metadata": {},
   "outputs": [],
   "source": [
    "for col in df_all.columns:\n",
    "    if '100' in col:\n",
    "        df_all[col] = pd.to_numeric(df_all[col].map(lambda x: str(x).replace(',','.') if pd.notna(x) else None))"
   ]
  },
  {
   "cell_type": "code",
   "execution_count": null,
   "metadata": {},
   "outputs": [],
   "source": [
    "df_all['ukrteststatus'].unique()"
   ]
  },
  {
   "cell_type": "code",
   "execution_count": null,
   "metadata": {},
   "outputs": [],
   "source": [
    "for col in df_all.columns:\n",
    "    if 'teststatus' in col:\n",
    "        df_all[col] = df_all[col].str.replace('’', \"'\")\n",
    "        df_all[col] = df_all[col].replace('Не зареєстровано для проходження основної сесії', np.nan)\n",
    "        df_all[col] = df_all[col].replace('Не склав', 'Не подолав поріг')\n",
    "        df_all[col] = df_all[col].replace('Отримав результат', 'Зараховано')"
   ]
  },
  {
   "cell_type": "code",
   "execution_count": null,
   "metadata": {},
   "outputs": [],
   "source": [
    "dict(df_all.dtypes)"
   ]
  },
  {
   "attachments": {},
   "cell_type": "markdown",
   "metadata": {},
   "source": [
    "## Unifying 'tertypename' feature"
   ]
  },
  {
   "attachments": {},
   "cell_type": "markdown",
   "metadata": {},
   "source": [
    "Since in 2021 'tertypename' has 3 territory types: city (місто), town (селище міського типу) and village (селище, село), and before we had only 2: city (місто) and village (селище, село), we reconstruct the correct type for 2018-2020 period."
   ]
  },
  {
   "cell_type": "code",
   "execution_count": null,
   "metadata": {},
   "outputs": [],
   "source": [
    "def encode_tertypename(x):\n",
    "    if x['tername'].startswith('м.'):\n",
    "        return 'місто'\n",
    "    elif x['tername'].startswith('смт'):\n",
    "        return 'селище міського типу'\n",
    "    elif x['tername'].startswith('с.'):\n",
    "        return 'селище, село'\n",
    "    elif x['tername'].startswith('с-ще'):\n",
    "         return 'селище, село'\n",
    "    elif x['areaname'].startswith('м.'):\n",
    "        return 'місто'\n",
    "    return None\n",
    "        \n",
    "df_all['tertypename'] = df_all.apply(encode_tertypename,axis=1)"
   ]
  },
  {
   "cell_type": "code",
   "execution_count": null,
   "metadata": {},
   "outputs": [],
   "source": [
    "df_all.tertypename.value_counts()"
   ]
  },
  {
   "attachments": {},
   "cell_type": "markdown",
   "metadata": {},
   "source": [
    "## Unifying 'regtypename' feature"
   ]
  },
  {
   "cell_type": "code",
   "execution_count": null,
   "metadata": {},
   "outputs": [],
   "source": [
    "regtypename_unique = df_all.regtypename.unique()\n",
    "sorted(regtypename_unique)"
   ]
  },
  {
   "cell_type": "code",
   "execution_count": null,
   "metadata": {},
   "outputs": [],
   "source": [
    "regtypename_dict = {\n",
    "    'Випускник української школи поточного року': ['Випускник загальноосвітнього навчального закладу 2016 року','Випускник загальноосвітнього навчального закладу 2017 року',\n",
    "                         'Випускник загальноосвітнього навчального закладу 2021 року', 'Випускник закладу загальної середньої освіти 2018 року',\n",
    "                         'Випускник закладу загальної середньої освіти 2019 року', 'випускник закладу загальної середньої освіти 2020 року'],\n",
    "    'Випускник іноземної школи': ['Випускник, який здобуде в 2016 році повну загальну середню освіту в навчальному закладі іншої держави', 'Випускник, який здобуде в 2017 році повну загальну середню освіту в навчальному закладі іншої держави',\n",
    "                                  'Випускник, який здобуде в 2018 році повну загальну середню освіту в навчальному закладі іншої держави', 'Випускник, який здобуде в 2019 році повну загальну середню освіту в закордонному закладі освіти',\n",
    "                                  'Випускник, який здобуде в 2020 році повну загальну середню освіту в закордонному закладі освіти', 'Випускник, який здобуде в 2021 році повну загальну середню освіту в навчальному закладі іншої держави'],\n",
    "    'Учень коледжу закладу професійної (професійно-технічної) або вищої освіти': ['Учень (слухач) закладу професійної (професійно-технічної) освіти', 'Учень (слухач, студент) професійно-технічного, вищого навчального закладу', 'Студент закладу вищої освіти'],\n",
    "    'Випускник минулих років': ['Випускник минулих років'],\n",
    "    'Установа виконання покарань':['Установа виконання покарань']\n",
    "}"
   ]
  },
  {
   "cell_type": "code",
   "execution_count": null,
   "metadata": {},
   "outputs": [],
   "source": [
    "def encode_regtypename(x):\n",
    "    for type, possible_types in regtypename_dict.items():\n",
    "        if x in possible_types:\n",
    "            return type\n",
    "    return None\n",
    "\n",
    "df_all.regtypename = df_all.regtypename.map(encode_regtypename)"
   ]
  },
  {
   "cell_type": "code",
   "execution_count": null,
   "metadata": {},
   "outputs": [],
   "source": [
    "df_all.regtypename.unique()"
   ]
  },
  {
   "attachments": {},
   "cell_type": "markdown",
   "metadata": {},
   "source": [
    "## Drop Math Standard test and UkrsubTest"
   ]
  },
  {
   "attachments": {},
   "cell_type": "markdown",
   "metadata": {},
   "source": [
    "It was new experiment in 2021, that failed since due to COVID, it was cancelled."
   ]
  },
  {
   "cell_type": "code",
   "execution_count": null,
   "metadata": {},
   "outputs": [],
   "source": [
    "df_all = df_all.drop(columns=[col for col in df_all.columns if col.startswith('mathst')])"
   ]
  },
  {
   "cell_type": "code",
   "execution_count": null,
   "metadata": {},
   "outputs": [],
   "source": [
    "df_all = df_all.drop(columns=['ukrsubtest'])"
   ]
  },
  {
   "attachments": {},
   "cell_type": "markdown",
   "metadata": {},
   "source": [
    "## Change UML in 2021"
   ]
  },
  {
   "attachments": {},
   "cell_type": "markdown",
   "metadata": {},
   "source": [
    "In 2021 Ukrtest was renamed to UMLtest, and was created the new test only with Ukrainian language"
   ]
  },
  {
   "cell_type": "code",
   "execution_count": null,
   "metadata": {},
   "outputs": [],
   "source": [
    "def prep_ukr_uml(x, name):\n",
    "    if x['year']<2021:\n",
    "        return x[name]\n",
    "    return x[name.replace('ukr','uml')]\n",
    "\n",
    "for name in [col for col in df_all.columns if col.startswith('ukr')]:\n",
    "    df_all[name] = df_all.apply(prep_ukr_uml,axis=1,args=[name])"
   ]
  },
  {
   "cell_type": "code",
   "execution_count": null,
   "metadata": {},
   "outputs": [],
   "source": [
    "df_all = df_all.drop(columns=[col for col in df_all.columns if col.startswith('uml')])"
   ]
  },
  {
   "attachments": {},
   "cell_type": "markdown",
   "metadata": {},
   "source": [
    "## Drop Ball12"
   ]
  },
  {
   "attachments": {},
   "cell_type": "markdown",
   "metadata": {},
   "source": [
    "They are ranking scores for different scales."
   ]
  },
  {
   "cell_type": "code",
   "execution_count": null,
   "metadata": {},
   "outputs": [],
   "source": [
    "df_all = df_all.drop(columns=[col for col in df_all.columns if '12' in col])"
   ]
  },
  {
   "cell_type": "code",
   "execution_count": null,
   "metadata": {},
   "outputs": [],
   "source": [
    "df_all = df_all.drop(columns = 'birth')"
   ]
  },
  {
   "cell_type": "code",
   "execution_count": null,
   "metadata": {},
   "outputs": [],
   "source": [
    "df_all = df_all.drop(columns=[col for col in df_all.columns if 'dpalevel' in col])"
   ]
  },
  {
   "cell_type": "code",
   "execution_count": null,
   "metadata": {},
   "outputs": [],
   "source": [
    "list(df_all.columns)"
   ]
  },
  {
   "cell_type": "code",
   "execution_count": null,
   "metadata": {},
   "outputs": [],
   "source": [
    "df_all.to_csv('zno_preprocessed.csv', index=False)"
   ]
  },
  {
   "cell_type": "code",
   "execution_count": null,
   "metadata": {},
   "outputs": [],
   "source": [
    "df_all.shape"
   ]
  }
 ],
 "metadata": {
  "kernelspec": {
   "display_name": "base",
   "language": "python",
   "name": "python3"
  },
  "language_info": {
   "codemirror_mode": {
    "name": "ipython",
    "version": 3
   },
   "file_extension": ".py",
   "mimetype": "text/x-python",
   "name": "python",
   "nbconvert_exporter": "python",
   "pygments_lexer": "ipython3",
   "version": "3.11.2"
  },
  "orig_nbformat": 4,
  "vscode": {
   "interpreter": {
    "hash": "4f853a0d2b585de4edb47060fc84479f3f1f6082e8f24b6609fba2d6e0a3d1ca"
   }
  }
 },
 "nbformat": 4,
 "nbformat_minor": 2
}
