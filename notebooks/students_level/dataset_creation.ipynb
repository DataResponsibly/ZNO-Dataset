{
 "cells": [
  {
   "attachments": {},
   "cell_type": "markdown",
   "metadata": {},
   "source": [
    "# Motivation"
   ]
  },
  {
   "attachments": {},
   "cell_type": "markdown",
   "metadata": {},
   "source": [
    "The motivation for creating prediction and ranking tasks for EIE datasets was to extend the dataset ecosystem available for algorithmic fairness research in two directions: the education domain and the dataset from Eastern Europe (Ukraine). We obtained the data from publicly available Open Data resource https://zno.testportal.com.ua/opendata.\n",
    "\n",
    "\n",
    "The tasks were created by Dr. Julia Stoyanovich and Andrew Bell from the Center for Responsible AI, New York University, and Tetiana Zakharchenko, Nazarii Drushchak, Oleksandra Konopatska, and Olha Liuba from Ukrainian Catholic University.\n",
    "\n",
    "\n",
    "The creation of the dataset was funded by the Center for Responsible AI, New York University."
   ]
  },
  {
   "attachments": {},
   "cell_type": "markdown",
   "metadata": {},
   "source": [
    "# Composition of Dataset"
   ]
  },
  {
   "cell_type": "code",
   "execution_count": 59,
   "metadata": {},
   "outputs": [],
   "source": [
    "import numpy as np\n",
    "import pandas as pd\n",
    "import matplotlib.pyplot as plt\n",
    "from datasets import load_dataset"
   ]
  },
  {
   "attachments": {},
   "cell_type": "markdown",
   "metadata": {},
   "source": [
    "We will load and work with datasets from 2018 to 2021 since they have a comparable structure. We downloadedoriginal datasets from Open Data Resource and uploaded to HuggingFace for easiness of usage."
   ]
  },
  {
   "cell_type": "code",
   "execution_count": 17,
   "metadata": {},
   "outputs": [],
   "source": [
    "years = [2018,2019,2020,2021]\n",
    "base_file_nams = \"OpenData{year}.csv\"\n",
    "dataset_id = \"DSRL/zno\""
   ]
  },
  {
   "attachments": {},
   "cell_type": "markdown",
   "metadata": {},
   "source": [
    "## Loading and merging"
   ]
  },
  {
   "attachments": {},
   "cell_type": "markdown",
   "metadata": {},
   "source": [
    "Load datasets from hugging face"
   ]
  },
  {
   "cell_type": "code",
   "execution_count": null,
   "metadata": {},
   "outputs": [],
   "source": [
    "# load datasets\n",
    "datasets = []\n",
    "for year in years:\n",
    "    print(f\"ZNO {year} Loading...\")\n",
    "    hf_dataset = load_dataset(dataset_id, data_files=base_file_nams.format(year=year),keep_default_na=False, use_auth_token=True)\n",
    "    datasets.append(pd.DataFrame(hf_dataset['train']))"
   ]
  },
  {
   "attachments": {},
   "cell_type": "markdown",
   "metadata": {},
   "source": [
    "Names of all features are the same across all years, but can have some difference with capital and lower cases. That's why we lower all of them. Also, we add a new column – a corresponding year."
   ]
  },
  {
   "cell_type": "code",
   "execution_count": null,
   "metadata": {},
   "outputs": [],
   "source": [
    "#lowercase all columns and add year as attribute\n",
    "for year, dataset in zip(years, datasets):\n",
    "    dataset.columns = [col.lower() for col in dataset.columns]\n",
    "    dataset['year'] = year"
   ]
  },
  {
   "attachments": {},
   "cell_type": "markdown",
   "metadata": {},
   "source": [
    "Finally, we can concatenate all datasets."
   ]
  },
  {
   "cell_type": "code",
   "execution_count": null,
   "metadata": {},
   "outputs": [],
   "source": [
    "# concat datasets\n",
    "df_all = pd.concat(datasets)"
   ]
  },
  {
   "attachments": {},
   "cell_type": "markdown",
   "metadata": {},
   "source": [
    "For further research we add the column with age."
   ]
  },
  {
   "attachments": {},
   "cell_type": "markdown",
   "metadata": {},
   "source": [
    "Save datasets to csv format."
   ]
  },
  {
   "cell_type": "code",
   "execution_count": 43,
   "metadata": {},
   "outputs": [],
   "source": [
    "df_all.to_csv('zno_all.csv',index=False)"
   ]
  },
  {
   "attachments": {},
   "cell_type": "markdown",
   "metadata": {},
   "source": [
    "Having created a dataset once, we can load it immediately in the future"
   ]
  },
  {
   "cell_type": "code",
   "execution_count": 79,
   "metadata": {},
   "outputs": [
    {
     "name": "stderr",
     "output_type": "stream",
     "text": [
      "/var/folders/cz/wq9d8j_11fx3b8pjjbk7z8br0000gn/T/ipykernel_22446/2055058606.py:1: DtypeWarning: Columns (18,28,38,48,58,68,78,87,97,99,107,115,116,117,119,121,122,123,124,127,128,129,133,134,135,136,137,138,139,140,141,144,145,146,147) have mixed types. Specify dtype option on import or set low_memory=False.\n",
      "  df_all = pd.read_csv('zno_all.csv')\n"
     ]
    }
   ],
   "source": [
    "df_all = pd.read_csv('zno_all.csv')"
   ]
  },
  {
   "attachments": {},
   "cell_type": "markdown",
   "metadata": {},
   "source": [
    "## Exploring dataset"
   ]
  },
  {
   "cell_type": "code",
   "execution_count": 80,
   "metadata": {},
   "outputs": [
    {
     "data": {
      "text/html": [
       "<div>\n",
       "<style scoped>\n",
       "    .dataframe tbody tr th:only-of-type {\n",
       "        vertical-align: middle;\n",
       "    }\n",
       "\n",
       "    .dataframe tbody tr th {\n",
       "        vertical-align: top;\n",
       "    }\n",
       "\n",
       "    .dataframe thead th {\n",
       "        text-align: right;\n",
       "    }\n",
       "</style>\n",
       "<table border=\"1\" class=\"dataframe\">\n",
       "  <thead>\n",
       "    <tr style=\"text-align: right;\">\n",
       "      <th></th>\n",
       "      <th>outid</th>\n",
       "      <th>birth</th>\n",
       "      <th>sextypename</th>\n",
       "      <th>regname</th>\n",
       "      <th>areaname</th>\n",
       "      <th>tername</th>\n",
       "      <th>regtypename</th>\n",
       "      <th>tertypename</th>\n",
       "      <th>classprofilename</th>\n",
       "      <th>classlangname</th>\n",
       "      <th>...</th>\n",
       "      <th>mathdpalevel</th>\n",
       "      <th>mathsttest</th>\n",
       "      <th>mathstlang</th>\n",
       "      <th>mathstteststatus</th>\n",
       "      <th>mathstball12</th>\n",
       "      <th>mathstball</th>\n",
       "      <th>mathstptname</th>\n",
       "      <th>mathstptregname</th>\n",
       "      <th>mathstptareaname</th>\n",
       "      <th>mathstpttername</th>\n",
       "    </tr>\n",
       "  </thead>\n",
       "  <tbody>\n",
       "    <tr>\n",
       "      <th>0</th>\n",
       "      <td>a4e039d0-07ef-4a3d-820d-106dcaf01b96</td>\n",
       "      <td>2001</td>\n",
       "      <td>чоловіча</td>\n",
       "      <td>Закарпатська область</td>\n",
       "      <td>Берегівський район</td>\n",
       "      <td>с.Косонь</td>\n",
       "      <td>Випускник закладу загальної середньої освіти 2...</td>\n",
       "      <td>село</td>\n",
       "      <td>Фізико-математичний</td>\n",
       "      <td>угорська</td>\n",
       "      <td>...</td>\n",
       "      <td>NaN</td>\n",
       "      <td>NaN</td>\n",
       "      <td>NaN</td>\n",
       "      <td>NaN</td>\n",
       "      <td>NaN</td>\n",
       "      <td>NaN</td>\n",
       "      <td>NaN</td>\n",
       "      <td>NaN</td>\n",
       "      <td>NaN</td>\n",
       "      <td>NaN</td>\n",
       "    </tr>\n",
       "    <tr>\n",
       "      <th>1</th>\n",
       "      <td>c1fa1ed0-d2af-4964-9a88-3c138008304b</td>\n",
       "      <td>2001</td>\n",
       "      <td>жіноча</td>\n",
       "      <td>Київська область</td>\n",
       "      <td>Київська область</td>\n",
       "      <td>м.Бровари</td>\n",
       "      <td>Випускник закладу загальної середньої освіти 2...</td>\n",
       "      <td>місто</td>\n",
       "      <td>Іноземної філології</td>\n",
       "      <td>українська</td>\n",
       "      <td>...</td>\n",
       "      <td>NaN</td>\n",
       "      <td>NaN</td>\n",
       "      <td>NaN</td>\n",
       "      <td>NaN</td>\n",
       "      <td>NaN</td>\n",
       "      <td>NaN</td>\n",
       "      <td>NaN</td>\n",
       "      <td>NaN</td>\n",
       "      <td>NaN</td>\n",
       "      <td>NaN</td>\n",
       "    </tr>\n",
       "    <tr>\n",
       "      <th>2</th>\n",
       "      <td>6504a7f3-7dfd-4a64-a2d9-4d49f5021303</td>\n",
       "      <td>2000</td>\n",
       "      <td>жіноча</td>\n",
       "      <td>Харківська область</td>\n",
       "      <td>м.Харків</td>\n",
       "      <td>Червонозаводський район міста</td>\n",
       "      <td>Випускник закладу загальної середньої освіти 2...</td>\n",
       "      <td>місто</td>\n",
       "      <td>Іноземної філології</td>\n",
       "      <td>українська</td>\n",
       "      <td>...</td>\n",
       "      <td>NaN</td>\n",
       "      <td>NaN</td>\n",
       "      <td>NaN</td>\n",
       "      <td>NaN</td>\n",
       "      <td>NaN</td>\n",
       "      <td>NaN</td>\n",
       "      <td>NaN</td>\n",
       "      <td>NaN</td>\n",
       "      <td>NaN</td>\n",
       "      <td>NaN</td>\n",
       "    </tr>\n",
       "    <tr>\n",
       "      <th>3</th>\n",
       "      <td>5cbcd343-2e63-48b8-b36d-48797a76be31</td>\n",
       "      <td>2000</td>\n",
       "      <td>чоловіча</td>\n",
       "      <td>Рівненська область</td>\n",
       "      <td>Млинівський район</td>\n",
       "      <td>смт Млинів</td>\n",
       "      <td>Випускник закладу загальної середньої освіти 2...</td>\n",
       "      <td>місто</td>\n",
       "      <td>Фізико-математичний</td>\n",
       "      <td>українська</td>\n",
       "      <td>...</td>\n",
       "      <td>NaN</td>\n",
       "      <td>NaN</td>\n",
       "      <td>NaN</td>\n",
       "      <td>NaN</td>\n",
       "      <td>NaN</td>\n",
       "      <td>NaN</td>\n",
       "      <td>NaN</td>\n",
       "      <td>NaN</td>\n",
       "      <td>NaN</td>\n",
       "      <td>NaN</td>\n",
       "    </tr>\n",
       "    <tr>\n",
       "      <th>4</th>\n",
       "      <td>063c6498-7345-492c-b567-174938bac671</td>\n",
       "      <td>1999</td>\n",
       "      <td>чоловіча</td>\n",
       "      <td>Рівненська область</td>\n",
       "      <td>Рівненська область</td>\n",
       "      <td>м.Острог</td>\n",
       "      <td>Учень (слухач) закладу професійної (професійно...</td>\n",
       "      <td>місто</td>\n",
       "      <td>NaN</td>\n",
       "      <td>NaN</td>\n",
       "      <td>...</td>\n",
       "      <td>NaN</td>\n",
       "      <td>NaN</td>\n",
       "      <td>NaN</td>\n",
       "      <td>NaN</td>\n",
       "      <td>NaN</td>\n",
       "      <td>NaN</td>\n",
       "      <td>NaN</td>\n",
       "      <td>NaN</td>\n",
       "      <td>NaN</td>\n",
       "      <td>NaN</td>\n",
       "    </tr>\n",
       "  </tbody>\n",
       "</table>\n",
       "<p>5 rows × 148 columns</p>\n",
       "</div>"
      ],
      "text/plain": [
       "                                  outid  birth sextypename   \n",
       "0  a4e039d0-07ef-4a3d-820d-106dcaf01b96   2001    чоловіча  \\\n",
       "1  c1fa1ed0-d2af-4964-9a88-3c138008304b   2001      жіноча   \n",
       "2  6504a7f3-7dfd-4a64-a2d9-4d49f5021303   2000      жіноча   \n",
       "3  5cbcd343-2e63-48b8-b36d-48797a76be31   2000    чоловіча   \n",
       "4  063c6498-7345-492c-b567-174938bac671   1999    чоловіча   \n",
       "\n",
       "                regname            areaname                        tername   \n",
       "0  Закарпатська область  Берегівський район                       с.Косонь  \\\n",
       "1      Київська область    Київська область                      м.Бровари   \n",
       "2    Харківська область            м.Харків  Червонозаводський район міста   \n",
       "3    Рівненська область   Млинівський район                     смт Млинів   \n",
       "4    Рівненська область  Рівненська область                       м.Острог   \n",
       "\n",
       "                                         regtypename tertypename   \n",
       "0  Випускник закладу загальної середньої освіти 2...        село  \\\n",
       "1  Випускник закладу загальної середньої освіти 2...       місто   \n",
       "2  Випускник закладу загальної середньої освіти 2...       місто   \n",
       "3  Випускник закладу загальної середньої освіти 2...       місто   \n",
       "4  Учень (слухач) закладу професійної (професійно...       місто   \n",
       "\n",
       "      classprofilename classlangname  ... mathdpalevel mathsttest mathstlang   \n",
       "0  Фізико-математичний      угорська  ...          NaN        NaN        NaN  \\\n",
       "1  Іноземної філології    українська  ...          NaN        NaN        NaN   \n",
       "2  Іноземної філології    українська  ...          NaN        NaN        NaN   \n",
       "3  Фізико-математичний    українська  ...          NaN        NaN        NaN   \n",
       "4                  NaN           NaN  ...          NaN        NaN        NaN   \n",
       "\n",
       "  mathstteststatus mathstball12 mathstball mathstptname mathstptregname   \n",
       "0              NaN          NaN        NaN          NaN             NaN  \\\n",
       "1              NaN          NaN        NaN          NaN             NaN   \n",
       "2              NaN          NaN        NaN          NaN             NaN   \n",
       "3              NaN          NaN        NaN          NaN             NaN   \n",
       "4              NaN          NaN        NaN          NaN             NaN   \n",
       "\n",
       "  mathstptareaname  mathstpttername  \n",
       "0              NaN              NaN  \n",
       "1              NaN              NaN  \n",
       "2              NaN              NaN  \n",
       "3              NaN              NaN  \n",
       "4              NaN              NaN  \n",
       "\n",
       "[5 rows x 148 columns]"
      ]
     },
     "execution_count": 80,
     "metadata": {},
     "output_type": "execute_result"
    }
   ],
   "source": [
    "df_all.head()"
   ]
  },
  {
   "cell_type": "code",
   "execution_count": 81,
   "metadata": {},
   "outputs": [
    {
     "name": "stdout",
     "output_type": "stream",
     "text": [
      "<class 'pandas.core.frame.DataFrame'>\n",
      "RangeIndex: 1458122 entries, 0 to 1458121\n",
      "Columns: 148 entries, outid to mathstpttername\n",
      "dtypes: float64(28), int64(2), object(118)\n",
      "memory usage: 1.6+ GB\n"
     ]
    }
   ],
   "source": [
    "df_all.info()"
   ]
  },
  {
   "cell_type": "code",
   "execution_count": 82,
   "metadata": {},
   "outputs": [
    {
     "name": "stdout",
     "output_type": "stream",
     "text": [
      "['outid', 'birth', 'sextypename', 'regname', 'areaname', 'tername', 'regtypename', 'tertypename', 'classprofilename', 'classlangname', 'eoname', 'eotypename', 'eoregname', 'eoareaname', 'eotername', 'eoparent', 'ukrtest', 'ukrteststatus', 'ukrball100', 'ukrball12', 'ukrball', 'ukrptname', 'ukrptregname', 'ukrptareaname', 'ukrpttername', 'histtest', 'histlang', 'histteststatus', 'histball100', 'histball12', 'histball', 'histptname', 'histptregname', 'histptareaname', 'histpttername', 'mathtest', 'mathlang', 'mathteststatus', 'mathball100', 'mathball12', 'mathball', 'mathptname', 'mathptregname', 'mathptareaname', 'mathpttername', 'phystest', 'physlang', 'physteststatus', 'physball100', 'physball12', 'physball', 'physptname', 'physptregname', 'physptareaname', 'physpttername', 'chemtest', 'chemlang', 'chemteststatus', 'chemball100', 'chemball12', 'chemball', 'chemptname', 'chemptregname', 'chemptareaname', 'chempttername', 'biotest', 'biolang', 'bioteststatus', 'bioball100', 'bioball12', 'bioball', 'bioptname', 'bioptregname', 'bioptareaname', 'biopttername', 'geotest', 'geolang', 'geoteststatus', 'geoball100', 'geoball12', 'geoball', 'geoptname', 'geoptregname', 'geoptareaname', 'geopttername', 'engtest', 'engteststatus', 'engball100', 'engball12', 'engdpalevel', 'engball', 'engptname', 'engptregname', 'engptareaname', 'engpttername', 'fratest', 'frateststatus', 'fraball100', 'fraball12', 'fradpalevel', 'fraball', 'fraptname', 'fraptregname', 'fraptareaname', 'frapttername', 'deutest', 'deuteststatus', 'deuball100', 'deuball12', 'deudpalevel', 'deuball', 'deuptname', 'deuptregname', 'deuptareaname', 'deupttername', 'spatest', 'spateststatus', 'spaball100', 'spaball12', 'spadpalevel', 'spaball', 'spaptname', 'spaptregname', 'spaptareaname', 'spapttername', 'year', 'ukradaptscale', 'umltest', 'umlteststatus', 'umlball100', 'umlball12', 'umlball', 'umladaptscale', 'umlptname', 'umlptregname', 'umlptareaname', 'umlpttername', 'ukrsubtest', 'mathdpalevel', 'mathsttest', 'mathstlang', 'mathstteststatus', 'mathstball12', 'mathstball', 'mathstptname', 'mathstptregname', 'mathstptareaname', 'mathstpttername']\n"
     ]
    }
   ],
   "source": [
    "print(list(df_all.columns))"
   ]
  },
  {
   "attachments": {},
   "cell_type": "markdown",
   "metadata": {},
   "source": [
    "## Unifying 'tertypename' feature"
   ]
  },
  {
   "attachments": {},
   "cell_type": "markdown",
   "metadata": {},
   "source": [
    "Since in 2021 'tertypename' has 3 territory types: city (місто), town (селище міського типу) and village (селище, село), and before we had only 2: city (місто) and village (селище, село), we reconstruct the correct type for 2018-2020 period."
   ]
  },
  {
   "cell_type": "code",
   "execution_count": 83,
   "metadata": {},
   "outputs": [],
   "source": [
    "def encode_tertypename(x):\n",
    "    if x['tername'].startswith('м.'):\n",
    "        return 'місто'\n",
    "    elif x['tername'].startswith('смт'):\n",
    "        return 'селище міського типу'\n",
    "    elif x['tername'].startswith('с.'):\n",
    "        return 'селище, село'\n",
    "    elif x['tername'].startswith('с-ще'):\n",
    "         return 'селище, село'\n",
    "    elif x['areaname'].startswith('м.'):\n",
    "        return 'місто'\n",
    "    return None\n",
    "        \n",
    "df_all['tertypename'] = df_all.apply(encode_tertypename,axis=1)"
   ]
  },
  {
   "cell_type": "code",
   "execution_count": 84,
   "metadata": {},
   "outputs": [
    {
     "data": {
      "text/plain": [
       "tertypename\n",
       "місто                   1070663\n",
       "селище, село             270811\n",
       "селище міського типу     116648\n",
       "Name: count, dtype: int64"
      ]
     },
     "execution_count": 84,
     "metadata": {},
     "output_type": "execute_result"
    }
   ],
   "source": [
    "df_all.tertypename.value_counts()"
   ]
  },
  {
   "attachments": {},
   "cell_type": "markdown",
   "metadata": {},
   "source": [
    "## Unifying 'regtypename' feature"
   ]
  },
  {
   "cell_type": "code",
   "execution_count": 85,
   "metadata": {},
   "outputs": [
    {
     "data": {
      "text/plain": [
       "['Випускник загальноосвітнього навчального закладу 2021 року',\n",
       " 'Випускник закладу загальної середньої освіти 2018 року',\n",
       " 'Випускник закладу загальної середньої освіти 2019 року',\n",
       " 'Випускник минулих років',\n",
       " 'Випускник, який здобуде в 2018 році повну загальну середню освіту в навчальному закладі іншої держави',\n",
       " 'Випускник, який здобуде в 2019 році повну загальну середню освіту в закордонному закладі освіти',\n",
       " 'Випускник, який здобуде в 2020 році повну загальну середню освіту в закордонному закладі освіти',\n",
       " 'Випускник, який здобуде в 2021 році повну загальну середню освіту в навчальному закладі іншої держави',\n",
       " 'Студент закладу вищої освіти',\n",
       " 'Учень (слухач) закладу професійної (професійно-технічної) освіти',\n",
       " 'випускник закладу загальної середньої освіти 2020 року']"
      ]
     },
     "execution_count": 85,
     "metadata": {},
     "output_type": "execute_result"
    }
   ],
   "source": [
    "regtypename_unique = df_all.regtypename.unique()\n",
    "sorted(regtypename_unique)"
   ]
  },
  {
   "cell_type": "code",
   "execution_count": 86,
   "metadata": {},
   "outputs": [],
   "source": [
    "regtypename_dict = {\n",
    "    'Випускник української школи поточного року': ['Випускник загальноосвітнього навчального закладу 2016 року','Випускник загальноосвітнього навчального закладу 2017 року',\n",
    "                         'Випускник загальноосвітнього навчального закладу 2021 року', 'Випускник закладу загальної середньої освіти 2018 року',\n",
    "                         'Випускник закладу загальної середньої освіти 2019 року', 'випускник закладу загальної середньої освіти 2020 року'],\n",
    "    'Випускник іноземної школи': ['Випускник, який здобуде в 2016 році повну загальну середню освіту в навчальному закладі іншої держави', 'Випускник, який здобуде в 2017 році повну загальну середню освіту в навчальному закладі іншої держави',\n",
    "                                  'Випускник, який здобуде в 2018 році повну загальну середню освіту в навчальному закладі іншої держави', 'Випускник, який здобуде в 2019 році повну загальну середню освіту в закордонному закладі освіти',\n",
    "                                  'Випускник, який здобуде в 2020 році повну загальну середню освіту в закордонному закладі освіти', 'Випускник, який здобуде в 2021 році повну загальну середню освіту в навчальному закладі іншої держави'],\n",
    "    'Випускник коледжу': ['Учень (слухач) закладу професійної (професійно-технічної) освіти', 'Учень (слухач, студент) професійно-технічного, вищого навчального закладу'],\n",
    "    'Студент закладу вищої освіти': ['Студент закладу вищої освіти'],\n",
    "    'Випускник минулих років': ['Випускник минулих років']\n",
    "}"
   ]
  },
  {
   "cell_type": "code",
   "execution_count": 87,
   "metadata": {},
   "outputs": [],
   "source": [
    "def encode_regtypename(x):\n",
    "    for type, possible_types in regtypename_dict.items():\n",
    "        if x in possible_types:\n",
    "            return type\n",
    "    return None\n",
    "\n",
    "df_all.regtypename = df_all.regtypename.map(encode_regtypename)"
   ]
  },
  {
   "cell_type": "code",
   "execution_count": 88,
   "metadata": {},
   "outputs": [
    {
     "data": {
      "text/plain": [
       "array(['Випускник української школи поточного року', 'Випускник коледжу',\n",
       "       'Студент закладу вищої освіти', 'Випускник минулих років',\n",
       "       'Випускник іноземної школи'], dtype=object)"
      ]
     },
     "execution_count": 88,
     "metadata": {},
     "output_type": "execute_result"
    }
   ],
   "source": [
    "df_all.regtypename.unique()"
   ]
  },
  {
   "attachments": {},
   "cell_type": "markdown",
   "metadata": {},
   "source": [
    "## Drop Math Standard test and UkrsubTest"
   ]
  },
  {
   "attachments": {},
   "cell_type": "markdown",
   "metadata": {},
   "source": [
    "It was new experiment in 2021, that failed since due to COVID, it was cancelled."
   ]
  },
  {
   "cell_type": "code",
   "execution_count": 89,
   "metadata": {},
   "outputs": [],
   "source": [
    "df_all = df_all.drop(columns=['mathsttest', 'mathstlang', 'mathstteststatus', 'mathstball12', \n",
    "                              'mathstball','mathstptname','mathstptregname', 'mathstptareaname', 'mathstpttername', 'mathdpalevel'])"
   ]
  },
  {
   "cell_type": "code",
   "execution_count": 92,
   "metadata": {},
   "outputs": [],
   "source": [
    "df_all = df_all.drop(columns=['ukrsubtest'])"
   ]
  },
  {
   "attachments": {},
   "cell_type": "markdown",
   "metadata": {},
   "source": [
    "## Change UML in 2021"
   ]
  },
  {
   "attachments": {},
   "cell_type": "markdown",
   "metadata": {},
   "source": [
    "In 2021 Ukrtest was renamed to UMLtest"
   ]
  },
  {
   "cell_type": "code",
   "execution_count": 93,
   "metadata": {},
   "outputs": [],
   "source": [
    "def prep_ukr_uml(x, name):\n",
    "    if x['year']<2021:\n",
    "        return x[name]\n",
    "    return x[name.replace('ukr','uml')]\n",
    "\n",
    "for name in [col for col in df_all.columns if col.startswith('ukr')]:\n",
    "    df_all[name] = df_all.apply(prep_ukr_uml,axis=1,args=[name])"
   ]
  },
  {
   "cell_type": "code",
   "execution_count": 94,
   "metadata": {},
   "outputs": [],
   "source": [
    "df_all = df_all.drop(columns=[col for col in df_all.columns if col.startswith('uml')])"
   ]
  },
  {
   "attachments": {},
   "cell_type": "markdown",
   "metadata": {},
   "source": [
    "## Drop Ball12 and Ball100"
   ]
  },
  {
   "attachments": {},
   "cell_type": "markdown",
   "metadata": {},
   "source": [
    "They are ranking scores for different scales."
   ]
  },
  {
   "cell_type": "code",
   "execution_count": 97,
   "metadata": {},
   "outputs": [],
   "source": [
    "df_all = df_all.drop(columns=[col for col in df_all.columns if '12' in col or '100' in col])"
   ]
  },
  {
   "cell_type": "code",
   "execution_count": 99,
   "metadata": {},
   "outputs": [
    {
     "data": {
      "text/plain": [
       "['outid',\n",
       " 'birth',\n",
       " 'sextypename',\n",
       " 'regname',\n",
       " 'areaname',\n",
       " 'tername',\n",
       " 'regtypename',\n",
       " 'tertypename',\n",
       " 'classprofilename',\n",
       " 'classlangname',\n",
       " 'eoname',\n",
       " 'eotypename',\n",
       " 'eoregname',\n",
       " 'eoareaname',\n",
       " 'eotername',\n",
       " 'eoparent',\n",
       " 'ukrtest',\n",
       " 'ukrteststatus',\n",
       " 'ukrball',\n",
       " 'ukrptname',\n",
       " 'ukrptregname',\n",
       " 'ukrptareaname',\n",
       " 'ukrpttername',\n",
       " 'histtest',\n",
       " 'histlang',\n",
       " 'histteststatus',\n",
       " 'histball',\n",
       " 'histptname',\n",
       " 'histptregname',\n",
       " 'histptareaname',\n",
       " 'histpttername',\n",
       " 'mathtest',\n",
       " 'mathlang',\n",
       " 'mathteststatus',\n",
       " 'mathball',\n",
       " 'mathptname',\n",
       " 'mathptregname',\n",
       " 'mathptareaname',\n",
       " 'mathpttername',\n",
       " 'phystest',\n",
       " 'physlang',\n",
       " 'physteststatus',\n",
       " 'physball',\n",
       " 'physptname',\n",
       " 'physptregname',\n",
       " 'physptareaname',\n",
       " 'physpttername',\n",
       " 'chemtest',\n",
       " 'chemlang',\n",
       " 'chemteststatus',\n",
       " 'chemball',\n",
       " 'chemptname',\n",
       " 'chemptregname',\n",
       " 'chemptareaname',\n",
       " 'chempttername',\n",
       " 'biotest',\n",
       " 'biolang',\n",
       " 'bioteststatus',\n",
       " 'bioball',\n",
       " 'bioptname',\n",
       " 'bioptregname',\n",
       " 'bioptareaname',\n",
       " 'biopttername',\n",
       " 'geotest',\n",
       " 'geolang',\n",
       " 'geoteststatus',\n",
       " 'geoball',\n",
       " 'geoptname',\n",
       " 'geoptregname',\n",
       " 'geoptareaname',\n",
       " 'geopttername',\n",
       " 'engtest',\n",
       " 'engteststatus',\n",
       " 'engdpalevel',\n",
       " 'engball',\n",
       " 'engptname',\n",
       " 'engptregname',\n",
       " 'engptareaname',\n",
       " 'engpttername',\n",
       " 'fratest',\n",
       " 'frateststatus',\n",
       " 'fradpalevel',\n",
       " 'fraball',\n",
       " 'fraptname',\n",
       " 'fraptregname',\n",
       " 'fraptareaname',\n",
       " 'frapttername',\n",
       " 'deutest',\n",
       " 'deuteststatus',\n",
       " 'deudpalevel',\n",
       " 'deuball',\n",
       " 'deuptname',\n",
       " 'deuptregname',\n",
       " 'deuptareaname',\n",
       " 'deupttername',\n",
       " 'spatest',\n",
       " 'spateststatus',\n",
       " 'spadpalevel',\n",
       " 'spaball',\n",
       " 'spaptname',\n",
       " 'spaptregname',\n",
       " 'spaptareaname',\n",
       " 'spapttername',\n",
       " 'year',\n",
       " 'ukradaptscale']"
      ]
     },
     "execution_count": 99,
     "metadata": {},
     "output_type": "execute_result"
    }
   ],
   "source": [
    "list(df_all.columns)"
   ]
  },
  {
   "cell_type": "code",
   "execution_count": 100,
   "metadata": {},
   "outputs": [],
   "source": [
    "df_all.to_csv('zno_preprocessed.csv', index=False)"
   ]
  }
 ],
 "metadata": {
  "kernelspec": {
   "display_name": "base",
   "language": "python",
   "name": "python3"
  },
  "language_info": {
   "codemirror_mode": {
    "name": "ipython",
    "version": 3
   },
   "file_extension": ".py",
   "mimetype": "text/x-python",
   "name": "python",
   "nbconvert_exporter": "python",
   "pygments_lexer": "ipython3",
   "version": "3.11.2"
  },
  "orig_nbformat": 4,
  "vscode": {
   "interpreter": {
    "hash": "4f853a0d2b585de4edb47060fc84479f3f1f6082e8f24b6609fba2d6e0a3d1ca"
   }
  }
 },
 "nbformat": 4,
 "nbformat_minor": 2
}
