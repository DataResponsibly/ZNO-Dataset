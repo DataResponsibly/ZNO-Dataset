{
 "cells": [
  {
   "attachments": {},
   "cell_type": "markdown",
   "metadata": {},
   "source": [
    "# Motivation"
   ]
  },
  {
   "attachments": {},
   "cell_type": "markdown",
   "metadata": {},
   "source": [
    "The motivation for creating prediction and ranking tasks for EIE datasets was to extend the dataset ecosystem available for algorithmic fairness research in two directions: the education domain and the dataset from Eastern Europe (Ukraine). We obtained the data from publicly available Open Data resource https://zno.testportal.com.ua/opendata.\n",
    "\n",
    "\n",
    "The tasks were created by Dr. Julia Stoyanovich and Andrew Bell from the Center for Responsible AI, New York University, and Tetiana Zakharchenko, Nazarii Drushchak, Oleksandra Konopatska, and Olha Liuba from Ukrainian Catholic University.\n",
    "\n",
    "\n",
    "The creation of the dataset was funded by the Center for Responsible AI, New York University."
   ]
  },
  {
   "attachments": {},
   "cell_type": "markdown",
   "metadata": {},
   "source": [
    "# Composition of Dataset"
   ]
  },
  {
   "cell_type": "code",
   "execution_count": 1,
   "metadata": {},
   "outputs": [],
   "source": [
    "import numpy as np\n",
    "import pandas as pd\n",
    "import matplotlib.pyplot as plt\n",
    "import itertools"
   ]
  },
  {
   "attachments": {},
   "cell_type": "markdown",
   "metadata": {},
   "source": [
    "We will load and work with datasets from 2016 to 2021 since they have a comparable structure. We downloadedoriginal datasets from Open Data Resource and uploaded to HuggingFace for easiness of usage."
   ]
  },
  {
   "attachments": {},
   "cell_type": "markdown",
   "metadata": {},
   "source": [
    "## Loading"
   ]
  },
  {
   "attachments": {},
   "cell_type": "markdown",
   "metadata": {},
   "source": [
    "Load datasets from hugging face"
   ]
  },
  {
   "cell_type": "code",
   "execution_count": 2,
   "metadata": {},
   "outputs": [
    {
     "name": "stdout",
     "output_type": "stream",
     "text": [
      "EIE 2016 Loading...\n",
      "success\n",
      "EIE 2017 Loading...\n",
      "success\n",
      "EIE 2018 Loading...\n"
     ]
    },
    {
     "name": "stderr",
     "output_type": "stream",
     "text": [
      "/var/folders/cz/wq9d8j_11fx3b8pjjbk7z8br0000gn/T/ipykernel_37537/3686568105.py:11: DtypeWarning: Columns (119) have mixed types. Specify dtype option on import or set low_memory=False.\n",
      "  dataset = pd.read_csv(f\"../../zno/{year}/{file_name}\", sep=\";\", encoding='utf-8')\n"
     ]
    },
    {
     "name": "stdout",
     "output_type": "stream",
     "text": [
      "success\n",
      "EIE 2019 Loading...\n"
     ]
    },
    {
     "name": "stderr",
     "output_type": "stream",
     "text": [
      "/var/folders/cz/wq9d8j_11fx3b8pjjbk7z8br0000gn/T/ipykernel_37537/3686568105.py:13: DtypeWarning: Columns (100,116,117,118,120,122,123,124,125) have mixed types. Specify dtype option on import or set low_memory=False.\n",
      "  dataset = pd.read_csv(f\"../../zno/{year}/{file_name}\", sep=\";\", encoding='Windows 1251')\n"
     ]
    },
    {
     "name": "stdout",
     "output_type": "stream",
     "text": [
      "success\n",
      "EIE 2020 Loading...\n"
     ]
    },
    {
     "name": "stderr",
     "output_type": "stream",
     "text": [
      "/var/folders/cz/wq9d8j_11fx3b8pjjbk7z8br0000gn/T/ipykernel_37537/3686568105.py:13: DtypeWarning: Columns (96,97,98,100,102,103,104,105,116,117,118,120,122,123,124,125) have mixed types. Specify dtype option on import or set low_memory=False.\n",
      "  dataset = pd.read_csv(f\"../../zno/{year}/{file_name}\", sep=\";\", encoding='Windows 1251')\n"
     ]
    },
    {
     "name": "stdout",
     "output_type": "stream",
     "text": [
      "success\n",
      "EIE 2021 Loading...\n"
     ]
    },
    {
     "name": "stderr",
     "output_type": "stream",
     "text": [
      "/var/folders/cz/wq9d8j_11fx3b8pjjbk7z8br0000gn/T/ipykernel_37537/3686568105.py:11: DtypeWarning: Columns (117,118,119,121,123,124,125,126,137,138,139,141,143,144,145,146) have mixed types. Specify dtype option on import or set low_memory=False.\n",
      "  dataset = pd.read_csv(f\"../../zno/{year}/{file_name}\", sep=\";\", encoding='utf-8')\n"
     ]
    },
    {
     "name": "stdout",
     "output_type": "stream",
     "text": [
      "success\n",
      "EIE 2022 Loading...\n",
      "success\n"
     ]
    }
   ],
   "source": [
    "# load datasets\n",
    "datasets = {}\n",
    "years = range(2016, 2023)\n",
    "for year in years:\n",
    "    print(f\"EIE {year} Loading...\")\n",
    "    if int(year) >= 2019:\n",
    "        file_name = f'Odata{year}File.csv'\n",
    "    else:\n",
    "        file_name = f'OpenData{year}.csv'\n",
    "    try:           \n",
    "        dataset = pd.read_csv(f\"../../zno/{year}/{file_name}\", sep=\";\", encoding='utf-8')\n",
    "    except:\n",
    "        dataset = pd.read_csv(f\"../../zno/{year}/{file_name}\", sep=\";\", encoding='Windows 1251')\n",
    "    datasets.update({year:dataset})\n",
    "    print(\"success\")"
   ]
  },
  {
   "attachments": {},
   "cell_type": "markdown",
   "metadata": {},
   "source": [
    "Names of all features are the same across all years, but can have some difference with capital and lower cases. That's why we lower all of them. Also, we add new columns – a corresponding year and age for the further research. "
   ]
  },
  {
   "cell_type": "code",
   "execution_count": 3,
   "metadata": {},
   "outputs": [],
   "source": [
    "for year, dataset in datasets.items():\n",
    "    #lowercase all columns and add year as attribute\n",
    "    dataset.columns = [col.lower() for col in dataset.columns]\n",
    "    #add year before merging datasets\n",
    "    dataset['year'] = year\n",
    "    #add age at the moment of registration for the exam before merging datasets\n",
    "    dataset['age'] = year - dataset['birth']"
   ]
  },
  {
   "cell_type": "code",
   "execution_count": 4,
   "metadata": {},
   "outputs": [
    {
     "name": "stdout",
     "output_type": "stream",
     "text": [
      "2016 (268003, 108)\n",
      "2017 (240889, 121)\n",
      "2018 (335687, 127)\n",
      "2019 (353813, 128)\n",
      "2020 (379299, 128)\n",
      "2021 (389323, 149)\n",
      "2022 (234104, 31)\n"
     ]
    }
   ],
   "source": [
    "for year, dataset in datasets.items():\n",
    "    print(year, dataset.shape)"
   ]
  },
  {
   "attachments": {},
   "cell_type": "markdown",
   "metadata": {},
   "source": [
    "## Unifiying column names"
   ]
  },
  {
   "attachments": {},
   "cell_type": "markdown",
   "metadata": {},
   "source": [
    "Find datasets that have the maximum common list of columns."
   ]
  },
  {
   "cell_type": "code",
   "execution_count": 5,
   "metadata": {},
   "outputs": [],
   "source": [
    "def find_dataframes_with_most_common_columns(dataframes):\n",
    "    max_common_columns = 0\n",
    "    dataframes_with_max_common_columns = []\n",
    "\n",
    "    # Find all combinations of dataframes\n",
    "    combinations = list(itertools.combinations(dataframes, 3))\n",
    "\n",
    "    for df1, df2, df3 in combinations:\n",
    "        common_columns = list(set(df1.columns) & set(df2.columns) & set(df3.columns))\n",
    "        num_common_columns = len(common_columns)\n",
    "\n",
    "        if num_common_columns > max_common_columns:\n",
    "            max_common_columns = num_common_columns\n",
    "            dataframes_with_max_common_columns = [(df1, df2, df3)]\n",
    "        elif num_common_columns == max_common_columns:\n",
    "            dataframes_with_max_common_columns.append((df1, df2, df3))\n",
    "\n",
    "    return max_common_columns, dataframes_with_max_common_columns\n"
   ]
  },
  {
   "cell_type": "code",
   "execution_count": 6,
   "metadata": {},
   "outputs": [
    {
     "name": "stdout",
     "output_type": "stream",
     "text": [
      "128 common columns\n",
      "Dataframes with the most common columns: [2019], [2020], [2021]\n"
     ]
    }
   ],
   "source": [
    "result = find_dataframes_with_most_common_columns(datasets.values())\n",
    "print(f'{result[0]} common columns')\n",
    "print(f\"Dataframes with the most common columns: {result[1][0][0].year.unique()}, {result[1][0][1].year.unique()}, {result[1][0][2].year.unique()}\")"
   ]
  },
  {
   "attachments": {},
   "cell_type": "markdown",
   "metadata": {},
   "source": [
    "For 2019 and 2020 we have exactly the same list of columns, which will be our base"
   ]
  },
  {
   "cell_type": "code",
   "execution_count": 7,
   "metadata": {},
   "outputs": [
    {
     "data": {
      "text/plain": [
       "set()"
      ]
     },
     "execution_count": 7,
     "metadata": {},
     "output_type": "execute_result"
    }
   ],
   "source": [
    "set(datasets[2019].columns) ^ set(datasets[2020].columns)"
   ]
  },
  {
   "attachments": {},
   "cell_type": "markdown",
   "metadata": {},
   "source": [
    "### Check for 2021 and 2020"
   ]
  },
  {
   "cell_type": "code",
   "execution_count": 8,
   "metadata": {},
   "outputs": [
    {
     "data": {
      "text/plain": [
       "{'mathdpalevel',\n",
       " 'mathstball',\n",
       " 'mathstball12',\n",
       " 'mathstlang',\n",
       " 'mathstptareaname',\n",
       " 'mathstptname',\n",
       " 'mathstptregname',\n",
       " 'mathstpttername',\n",
       " 'mathsttest',\n",
       " 'mathstteststatus',\n",
       " 'ukrsubtest',\n",
       " 'umladaptscale',\n",
       " 'umlball',\n",
       " 'umlball100',\n",
       " 'umlball12',\n",
       " 'umlptareaname',\n",
       " 'umlptname',\n",
       " 'umlptregname',\n",
       " 'umlpttername',\n",
       " 'umltest',\n",
       " 'umlteststatus'}"
      ]
     },
     "execution_count": 8,
     "metadata": {},
     "output_type": "execute_result"
    }
   ],
   "source": [
    "set(datasets[2021].columns) - set(datasets[2020].columns)"
   ]
  },
  {
   "attachments": {},
   "cell_type": "markdown",
   "metadata": {},
   "source": [
    "It was a new experiment in 2021 with standard level of Mathematics and ukrsubtest, that failed since it was cancelled due to Covid."
   ]
  },
  {
   "cell_type": "code",
   "execution_count": 9,
   "metadata": {},
   "outputs": [],
   "source": [
    "datasets[2021].drop(columns=[col for col in datasets[2021].columns if col.startswith('mathst')], inplace = True)"
   ]
  },
  {
   "cell_type": "code",
   "execution_count": 10,
   "metadata": {},
   "outputs": [],
   "source": [
    "datasets[2021].drop(columns=['ukrsubtest'], inplace = True)"
   ]
  },
  {
   "cell_type": "code",
   "execution_count": 11,
   "metadata": {},
   "outputs": [
    {
     "data": {
      "text/plain": [
       "{'mathdpalevel',\n",
       " 'umladaptscale',\n",
       " 'umlball',\n",
       " 'umlball100',\n",
       " 'umlball12',\n",
       " 'umlptareaname',\n",
       " 'umlptname',\n",
       " 'umlptregname',\n",
       " 'umlpttername',\n",
       " 'umltest',\n",
       " 'umlteststatus'}"
      ]
     },
     "execution_count": 11,
     "metadata": {},
     "output_type": "execute_result"
    }
   ],
   "source": [
    "set(datasets[2021].columns) - set(datasets[2020].columns)"
   ]
  },
  {
   "attachments": {},
   "cell_type": "markdown",
   "metadata": {},
   "source": [
    "Before 2021 there was UKRtest, that corresponds to Ukrainian language and literature, and it was obligatory for all participants who wants to pursue the high level education. \n",
    "\n",
    "In 2021 it was decided to create separate test for Ukrainian language only, make it obligatory and leave the previous version with literature as a possible choise. Thus, Ukrtest was renamed to UMLtest (for Ukrainian language and Ukrainian literature), and the new test with Ukrainian language only got name UKRtest, that was before. \n",
    "\n",
    "To avoid confusion with the subjects in merged dataframe we rename 'uml' by 'ukr', and 'ukr' for 2021 rename as 'ukrlang', since it is a new subject.\n"
   ]
  },
  {
   "cell_type": "code",
   "execution_count": 12,
   "metadata": {},
   "outputs": [],
   "source": [
    "datasets[2021].rename(columns=lambda x: 'ukrlang' + x[3:] if x.startswith('ukr') else x, inplace = True)\n",
    "datasets[2021].rename(columns=lambda x: 'ukr' + x[3:] if x.startswith('uml') else x, inplace = True)"
   ]
  },
  {
   "cell_type": "code",
   "execution_count": 13,
   "metadata": {},
   "outputs": [
    {
     "data": {
      "text/plain": [
       "{'mathdpalevel',\n",
       " 'ukrlangadaptscale',\n",
       " 'ukrlangball',\n",
       " 'ukrlangball100',\n",
       " 'ukrlangball12',\n",
       " 'ukrlangptareaname',\n",
       " 'ukrlangptname',\n",
       " 'ukrlangptregname',\n",
       " 'ukrlangpttername',\n",
       " 'ukrlangtest',\n",
       " 'ukrlangteststatus'}"
      ]
     },
     "execution_count": 13,
     "metadata": {},
     "output_type": "execute_result"
    }
   ],
   "source": [
    "set(datasets[2021].columns) - set(datasets[2020].columns)"
   ]
  },
  {
   "attachments": {},
   "cell_type": "markdown",
   "metadata": {},
   "source": [
    "### 2016 and 2019"
   ]
  },
  {
   "attachments": {},
   "cell_type": "markdown",
   "metadata": {},
   "source": [
    "compare 2016 and 2019 structure"
   ]
  },
  {
   "cell_type": "code",
   "execution_count": 14,
   "metadata": {},
   "outputs": [
    {
     "data": {
      "text/plain": [
       "{'frball100',\n",
       " 'frptareaname',\n",
       " 'frptname',\n",
       " 'frptregname',\n",
       " 'frpttername',\n",
       " 'frtest',\n",
       " 'frteststatus',\n",
       " 'rusball100',\n",
       " 'rusptareaname',\n",
       " 'rusptname',\n",
       " 'rusptregname',\n",
       " 'ruspttername',\n",
       " 'rustest',\n",
       " 'rusteststatus',\n",
       " 'spball100',\n",
       " 'spptareaname',\n",
       " 'spptname',\n",
       " 'spptregname',\n",
       " 'sppttername',\n",
       " 'sptest',\n",
       " 'spteststatus'}"
      ]
     },
     "execution_count": 14,
     "metadata": {},
     "output_type": "execute_result"
    }
   ],
   "source": [
    "set(datasets[2016].columns)-set(datasets[2019].columns)"
   ]
  },
  {
   "attachments": {},
   "cell_type": "markdown",
   "metadata": {},
   "source": [
    "Fix the issue with 'fr' and 'fra' for French language test and 'sp' and 'spa' with Spanish language test"
   ]
  },
  {
   "cell_type": "code",
   "execution_count": 15,
   "metadata": {},
   "outputs": [],
   "source": [
    "datasets[2016].columns = [col[:2]+'a'+col[2:] if col.startswith('fr') or col.startswith('sp') else col for col in datasets[2016].columns]"
   ]
  },
  {
   "cell_type": "code",
   "execution_count": 16,
   "metadata": {},
   "outputs": [
    {
     "data": {
      "text/plain": [
       "{'rusball100',\n",
       " 'rusptareaname',\n",
       " 'rusptname',\n",
       " 'rusptregname',\n",
       " 'ruspttername',\n",
       " 'rustest',\n",
       " 'rusteststatus'}"
      ]
     },
     "execution_count": 16,
     "metadata": {},
     "output_type": "execute_result"
    }
   ],
   "source": [
    "set(datasets[2016].columns)-set(datasets[2019].columns)"
   ]
  },
  {
   "attachments": {},
   "cell_type": "markdown",
   "metadata": {},
   "source": [
    "In 2016 and 2017 Ukraine had Russian test, but from 2018 it was cancelled."
   ]
  },
  {
   "attachments": {},
   "cell_type": "markdown",
   "metadata": {},
   "source": [
    "### Compare 2017 and 2019"
   ]
  },
  {
   "cell_type": "code",
   "execution_count": 17,
   "metadata": {},
   "outputs": [
    {
     "data": {
      "text/plain": [
       "{'rusball100',\n",
       " 'rusball12',\n",
       " 'rusptareaname',\n",
       " 'rusptname',\n",
       " 'rusptregname',\n",
       " 'ruspttername',\n",
       " 'rustest',\n",
       " 'rusteststatus',\n",
       " 'stid'}"
      ]
     },
     "execution_count": 17,
     "metadata": {},
     "output_type": "execute_result"
    }
   ],
   "source": [
    "set(datasets[2017].columns)-set(datasets[2019].columns)"
   ]
  },
  {
   "cell_type": "code",
   "execution_count": 18,
   "metadata": {},
   "outputs": [
    {
     "data": {
      "text/html": [
       "<div>\n",
       "<style scoped>\n",
       "    .dataframe tbody tr th:only-of-type {\n",
       "        vertical-align: middle;\n",
       "    }\n",
       "\n",
       "    .dataframe tbody tr th {\n",
       "        vertical-align: top;\n",
       "    }\n",
       "\n",
       "    .dataframe thead th {\n",
       "        text-align: right;\n",
       "    }\n",
       "</style>\n",
       "<table border=\"1\" class=\"dataframe\">\n",
       "  <thead>\n",
       "    <tr style=\"text-align: right;\">\n",
       "      <th></th>\n",
       "      <th>outid</th>\n",
       "      <th>stid</th>\n",
       "      <th>birth</th>\n",
       "      <th>sextypename</th>\n",
       "      <th>regname</th>\n",
       "      <th>areaname</th>\n",
       "      <th>tername</th>\n",
       "      <th>regtypename</th>\n",
       "      <th>tertypename</th>\n",
       "      <th>classprofilename</th>\n",
       "      <th>...</th>\n",
       "      <th>rustest</th>\n",
       "      <th>rusteststatus</th>\n",
       "      <th>rusball100</th>\n",
       "      <th>rusball12</th>\n",
       "      <th>rusptname</th>\n",
       "      <th>rusptregname</th>\n",
       "      <th>rusptareaname</th>\n",
       "      <th>ruspttername</th>\n",
       "      <th>year</th>\n",
       "      <th>age</th>\n",
       "    </tr>\n",
       "  </thead>\n",
       "  <tbody>\n",
       "    <tr>\n",
       "      <th>0</th>\n",
       "      <td>EDDDC0A3-C615-4101-96B3-9F1A4C654A2C</td>\n",
       "      <td>14809269-9F28-454C-8B3B-01DE067C91F3</td>\n",
       "      <td>1999</td>\n",
       "      <td>жіноча</td>\n",
       "      <td>Житомирська область</td>\n",
       "      <td>Новоград-Волинський район</td>\n",
       "      <td>смт Городниця</td>\n",
       "      <td>Випускник минулих років</td>\n",
       "      <td>місто</td>\n",
       "      <td>NaN</td>\n",
       "      <td>...</td>\n",
       "      <td>NaN</td>\n",
       "      <td>NaN</td>\n",
       "      <td>NaN</td>\n",
       "      <td>NaN</td>\n",
       "      <td>NaN</td>\n",
       "      <td>NaN</td>\n",
       "      <td>NaN</td>\n",
       "      <td>NaN</td>\n",
       "      <td>2017</td>\n",
       "      <td>18</td>\n",
       "    </tr>\n",
       "    <tr>\n",
       "      <th>1</th>\n",
       "      <td>3528FBEB-5ABE-4956-B715-68FABAE0A566</td>\n",
       "      <td>C5B85614-D95B-4029-B3E4-920246DA7B17</td>\n",
       "      <td>1999</td>\n",
       "      <td>чоловіча</td>\n",
       "      <td>Сумська область</td>\n",
       "      <td>Сумська область</td>\n",
       "      <td>м.Лебедин</td>\n",
       "      <td>Учень (слухач, студент) професійно-технічного,...</td>\n",
       "      <td>місто</td>\n",
       "      <td>NaN</td>\n",
       "      <td>...</td>\n",
       "      <td>NaN</td>\n",
       "      <td>NaN</td>\n",
       "      <td>NaN</td>\n",
       "      <td>NaN</td>\n",
       "      <td>NaN</td>\n",
       "      <td>NaN</td>\n",
       "      <td>NaN</td>\n",
       "      <td>NaN</td>\n",
       "      <td>2017</td>\n",
       "      <td>18</td>\n",
       "    </tr>\n",
       "    <tr>\n",
       "      <th>2</th>\n",
       "      <td>1BA2DD60-B125-4DB0-875A-9AB8E54B4411</td>\n",
       "      <td>E1BB0166-3FFE-4BA0-BFB7-D60EC8E8CD8E</td>\n",
       "      <td>1991</td>\n",
       "      <td>чоловіча</td>\n",
       "      <td>Миколаївська область</td>\n",
       "      <td>м.Миколаїв</td>\n",
       "      <td>Корабельний район міста</td>\n",
       "      <td>Випускник минулих років</td>\n",
       "      <td>місто</td>\n",
       "      <td>NaN</td>\n",
       "      <td>...</td>\n",
       "      <td>NaN</td>\n",
       "      <td>NaN</td>\n",
       "      <td>NaN</td>\n",
       "      <td>NaN</td>\n",
       "      <td>NaN</td>\n",
       "      <td>NaN</td>\n",
       "      <td>NaN</td>\n",
       "      <td>NaN</td>\n",
       "      <td>2017</td>\n",
       "      <td>26</td>\n",
       "    </tr>\n",
       "    <tr>\n",
       "      <th>3</th>\n",
       "      <td>29BD1575-16B2-4EAD-B2AB-DC2A3365DE1E</td>\n",
       "      <td>574350E1-DDA9-47A8-ADAA-6F8915BD2A05</td>\n",
       "      <td>2000</td>\n",
       "      <td>чоловіча</td>\n",
       "      <td>Донецька область</td>\n",
       "      <td>Донецька область</td>\n",
       "      <td>м.Покровськ</td>\n",
       "      <td>Випускник загальноосвітнього навчального закла...</td>\n",
       "      <td>місто</td>\n",
       "      <td>Фізико-математичний</td>\n",
       "      <td>...</td>\n",
       "      <td>NaN</td>\n",
       "      <td>NaN</td>\n",
       "      <td>NaN</td>\n",
       "      <td>NaN</td>\n",
       "      <td>NaN</td>\n",
       "      <td>NaN</td>\n",
       "      <td>NaN</td>\n",
       "      <td>NaN</td>\n",
       "      <td>2017</td>\n",
       "      <td>17</td>\n",
       "    </tr>\n",
       "    <tr>\n",
       "      <th>4</th>\n",
       "      <td>FF8BFD9C-837B-4F38-A321-C9AC264F83E6</td>\n",
       "      <td>4E01CF4C-3596-4178-A44D-556197D73E7B</td>\n",
       "      <td>2000</td>\n",
       "      <td>чоловіча</td>\n",
       "      <td>Івано-Франківська область</td>\n",
       "      <td>Івано-Франківська область</td>\n",
       "      <td>м.Івано-Франківськ</td>\n",
       "      <td>Учень (слухач, студент) професійно-технічного,...</td>\n",
       "      <td>місто</td>\n",
       "      <td>NaN</td>\n",
       "      <td>...</td>\n",
       "      <td>NaN</td>\n",
       "      <td>NaN</td>\n",
       "      <td>NaN</td>\n",
       "      <td>NaN</td>\n",
       "      <td>NaN</td>\n",
       "      <td>NaN</td>\n",
       "      <td>NaN</td>\n",
       "      <td>NaN</td>\n",
       "      <td>2017</td>\n",
       "      <td>17</td>\n",
       "    </tr>\n",
       "  </tbody>\n",
       "</table>\n",
       "<p>5 rows × 121 columns</p>\n",
       "</div>"
      ],
      "text/plain": [
       "                                  outid                                  stid   \n",
       "0  EDDDC0A3-C615-4101-96B3-9F1A4C654A2C  14809269-9F28-454C-8B3B-01DE067C91F3  \\\n",
       "1  3528FBEB-5ABE-4956-B715-68FABAE0A566  C5B85614-D95B-4029-B3E4-920246DA7B17   \n",
       "2  1BA2DD60-B125-4DB0-875A-9AB8E54B4411  E1BB0166-3FFE-4BA0-BFB7-D60EC8E8CD8E   \n",
       "3  29BD1575-16B2-4EAD-B2AB-DC2A3365DE1E  574350E1-DDA9-47A8-ADAA-6F8915BD2A05   \n",
       "4  FF8BFD9C-837B-4F38-A321-C9AC264F83E6  4E01CF4C-3596-4178-A44D-556197D73E7B   \n",
       "\n",
       "   birth sextypename                    regname                   areaname   \n",
       "0   1999      жіноча        Житомирська область  Новоград-Волинський район  \\\n",
       "1   1999    чоловіча            Сумська область            Сумська область   \n",
       "2   1991    чоловіча       Миколаївська область                 м.Миколаїв   \n",
       "3   2000    чоловіча           Донецька область           Донецька область   \n",
       "4   2000    чоловіча  Івано-Франківська область  Івано-Франківська область   \n",
       "\n",
       "                   tername                                        regtypename   \n",
       "0            смт Городниця                            Випускник минулих років  \\\n",
       "1                м.Лебедин  Учень (слухач, студент) професійно-технічного,...   \n",
       "2  Корабельний район міста                            Випускник минулих років   \n",
       "3              м.Покровськ  Випускник загальноосвітнього навчального закла...   \n",
       "4       м.Івано-Франківськ  Учень (слухач, студент) професійно-технічного,...   \n",
       "\n",
       "  tertypename     classprofilename  ... rustest rusteststatus rusball100   \n",
       "0       місто                  NaN  ...     NaN           NaN        NaN  \\\n",
       "1       місто                  NaN  ...     NaN           NaN        NaN   \n",
       "2       місто                  NaN  ...     NaN           NaN        NaN   \n",
       "3       місто  Фізико-математичний  ...     NaN           NaN        NaN   \n",
       "4       місто                  NaN  ...     NaN           NaN        NaN   \n",
       "\n",
       "  rusball12 rusptname rusptregname rusptareaname ruspttername  year  age  \n",
       "0       NaN       NaN          NaN           NaN          NaN  2017   18  \n",
       "1       NaN       NaN          NaN           NaN          NaN  2017   18  \n",
       "2       NaN       NaN          NaN           NaN          NaN  2017   26  \n",
       "3       NaN       NaN          NaN           NaN          NaN  2017   17  \n",
       "4       NaN       NaN          NaN           NaN          NaN  2017   17  \n",
       "\n",
       "[5 rows x 121 columns]"
      ]
     },
     "execution_count": 18,
     "metadata": {},
     "output_type": "execute_result"
    }
   ],
   "source": [
    "datasets[2017].head(5)"
   ]
  },
  {
   "attachments": {},
   "cell_type": "markdown",
   "metadata": {},
   "source": [
    "Drop stid from 2017"
   ]
  },
  {
   "cell_type": "code",
   "execution_count": 19,
   "metadata": {},
   "outputs": [],
   "source": [
    "datasets[2017].drop(columns = 'stid', inplace=True)"
   ]
  },
  {
   "attachments": {},
   "cell_type": "markdown",
   "metadata": {},
   "source": [
    "### Compare 2018 and 2019"
   ]
  },
  {
   "cell_type": "code",
   "execution_count": 20,
   "metadata": {},
   "outputs": [
    {
     "data": {
      "text/plain": [
       "set()"
      ]
     },
     "execution_count": 20,
     "metadata": {},
     "output_type": "execute_result"
    }
   ],
   "source": [
    "set(datasets[2018].columns)-set(datasets[2019].columns)"
   ]
  },
  {
   "attachments": {},
   "cell_type": "markdown",
   "metadata": {},
   "source": [
    "### compare 2019 and 2022"
   ]
  },
  {
   "attachments": {},
   "cell_type": "markdown",
   "metadata": {},
   "source": [
    "In 2022 because of the war it was provided different test. It was computerbased, tested only 3 subjects, the level of tasks were as a half of the previous level, and it was provided in one day. Everyone should be veru careful with interpretation of thed data for 2022"
   ]
  },
  {
   "cell_type": "code",
   "execution_count": 21,
   "metadata": {},
   "outputs": [
    {
     "data": {
      "text/plain": [
       "{'block1',\n",
       " 'block1ball',\n",
       " 'block1ball100',\n",
       " 'block2',\n",
       " 'block2ball',\n",
       " 'block2ball100',\n",
       " 'block3',\n",
       " 'block3ball',\n",
       " 'block3ball100',\n",
       " 'ptareaname',\n",
       " 'ptregname',\n",
       " 'pttername',\n",
       " 'test',\n",
       " 'testdate',\n",
       " 'teststatus'}"
      ]
     },
     "execution_count": 21,
     "metadata": {},
     "output_type": "execute_result"
    }
   ],
   "source": [
    "set(datasets[2022].columns)-set(datasets[2019].columns)"
   ]
  },
  {
   "attachments": {},
   "cell_type": "markdown",
   "metadata": {},
   "source": [
    "block1, block2, block3 are names of the corresponding subjects"
   ]
  },
  {
   "cell_type": "code",
   "execution_count": 22,
   "metadata": {},
   "outputs": [
    {
     "name": "stdout",
     "output_type": "stream",
     "text": [
      "['Українська мова']\n",
      "['Історія України']\n",
      "['Математика']\n"
     ]
    }
   ],
   "source": [
    "print(datasets[2022].block1.unique())\n",
    "print(datasets[2022].block2.unique())\n",
    "print(datasets[2022].block3.unique())"
   ]
  },
  {
   "attachments": {},
   "cell_type": "markdown",
   "metadata": {},
   "source": [
    "So, block1 tested Ukrainian language, block2 History of Ukraine, and block3 Mathematics."
   ]
  },
  {
   "cell_type": "code",
   "execution_count": 23,
   "metadata": {},
   "outputs": [
    {
     "data": {
      "text/plain": [
       "array(['Українська мова', nan], dtype=object)"
      ]
     },
     "execution_count": 23,
     "metadata": {},
     "output_type": "execute_result"
    }
   ],
   "source": [
    "datasets[2021].ukrlangtest.unique()"
   ]
  },
  {
   "cell_type": "code",
   "execution_count": 24,
   "metadata": {},
   "outputs": [
    {
     "data": {
      "text/plain": [
       "array(['Математика', nan], dtype=object)"
      ]
     },
     "execution_count": 24,
     "metadata": {},
     "output_type": "execute_result"
    }
   ],
   "source": [
    "datasets[2021].mathtest.unique()"
   ]
  },
  {
   "cell_type": "code",
   "execution_count": 25,
   "metadata": {},
   "outputs": [
    {
     "data": {
      "text/plain": [
       "array(['Історія України', nan], dtype=object)"
      ]
     },
     "execution_count": 25,
     "metadata": {},
     "output_type": "execute_result"
    }
   ],
   "source": [
    "datasets[2021].histtest.unique()"
   ]
  },
  {
   "cell_type": "code",
   "execution_count": 26,
   "metadata": {},
   "outputs": [],
   "source": [
    "#rename columns\n",
    "datasets[2022].rename(columns = {'block1':'ukrlangtest', 'block2':'mathtest', 'block3': 'histtest'},inplace = True)\n",
    "datasets[2022].rename(columns=lambda x: 'ukrlang' + x[6:] if x.startswith('block1') else x, inplace = True)\n",
    "datasets[2022].rename(columns=lambda x: 'hist' + x[6:] if x.startswith('block2') else x, inplace = True)\n",
    "datasets[2022].rename(columns=lambda x: 'math' + x[6:] if x.startswith('block3') else x, inplace = True)"
   ]
  },
  {
   "cell_type": "code",
   "execution_count": 27,
   "metadata": {},
   "outputs": [
    {
     "data": {
      "text/plain": [
       "{'ptareaname',\n",
       " 'ptregname',\n",
       " 'pttername',\n",
       " 'test',\n",
       " 'testdate',\n",
       " 'teststatus',\n",
       " 'ukrlangball',\n",
       " 'ukrlangball100',\n",
       " 'ukrlangtest'}"
      ]
     },
     "execution_count": 27,
     "metadata": {},
     "output_type": "execute_result"
    }
   ],
   "source": [
    "set(datasets[2022].columns)-set(datasets[2019].columns)"
   ]
  },
  {
   "attachments": {},
   "cell_type": "markdown",
   "metadata": {},
   "source": [
    "Before 2022, each subject test was provided in different days and location. In 2022 it was one test for 3 subjects simultaneously, so the location for all of them is equal."
   ]
  },
  {
   "cell_type": "code",
   "execution_count": 28,
   "metadata": {},
   "outputs": [],
   "source": [
    "subj = ['ukrlang', 'hist', 'math']\n",
    "\n",
    "for sub in subj:\n",
    "    datasets[2022][sub+'ptareaname'] = datasets[2022]['ptareaname']\n",
    "    datasets[2022][sub+'ptregname'] = datasets[2022]['ptregname']\n",
    "    datasets[2022][sub+'pttername'] = datasets[2022]['pttername']\n",
    "    datasets[2022][sub+'teststatus'] = datasets[2022]['teststatus']\n"
   ]
  },
  {
   "cell_type": "code",
   "execution_count": 29,
   "metadata": {},
   "outputs": [],
   "source": [
    "datasets[2022].drop(columns = ['ptareaname', 'ptregname','pttername','teststatus'] , inplace = True)"
   ]
  },
  {
   "cell_type": "code",
   "execution_count": 30,
   "metadata": {},
   "outputs": [
    {
     "data": {
      "text/plain": [
       "{'test', 'testdate'}"
      ]
     },
     "execution_count": 30,
     "metadata": {},
     "output_type": "execute_result"
    }
   ],
   "source": [
    "set(datasets[2022].columns)-set(datasets[2021].columns)"
   ]
  },
  {
   "attachments": {},
   "cell_type": "markdown",
   "metadata": {},
   "source": [
    "A 'test' feature is used to name the new test."
   ]
  },
  {
   "cell_type": "code",
   "execution_count": 31,
   "metadata": {},
   "outputs": [
    {
     "data": {
      "text/plain": [
       "array(['НМТ '], dtype=object)"
      ]
     },
     "execution_count": 31,
     "metadata": {},
     "output_type": "execute_result"
    }
   ],
   "source": [
    "datasets[2022].test.unique()"
   ]
  },
  {
   "cell_type": "code",
   "execution_count": 32,
   "metadata": {},
   "outputs": [],
   "source": [
    "datasets[2022].test.replace('НМТ ', 'NMT', inplace = True)"
   ]
  },
  {
   "cell_type": "code",
   "execution_count": null,
   "metadata": {},
   "outputs": [],
   "source": [
    "dataset[2022].rename(columns={'test':'test_type'}, inplace=True)"
   ]
  },
  {
   "attachments": {},
   "cell_type": "markdown",
   "metadata": {},
   "source": [
    "There is no such a feature for previous years, so let's create it."
   ]
  },
  {
   "cell_type": "code",
   "execution_count": 33,
   "metadata": {},
   "outputs": [],
   "source": [
    "for year in datasets:\n",
    "    if year<2022:\n",
    "        datasets[year]['test_type'] = 'EIE'"
   ]
  },
  {
   "cell_type": "code",
   "execution_count": 34,
   "metadata": {},
   "outputs": [
    {
     "data": {
      "text/html": [
       "<div>\n",
       "<style scoped>\n",
       "    .dataframe tbody tr th:only-of-type {\n",
       "        vertical-align: middle;\n",
       "    }\n",
       "\n",
       "    .dataframe tbody tr th {\n",
       "        vertical-align: top;\n",
       "    }\n",
       "\n",
       "    .dataframe thead th {\n",
       "        text-align: right;\n",
       "    }\n",
       "</style>\n",
       "<table border=\"1\" class=\"dataframe\">\n",
       "  <thead>\n",
       "    <tr style=\"text-align: right;\">\n",
       "      <th></th>\n",
       "      <th>outid</th>\n",
       "      <th>birth</th>\n",
       "      <th>sextypename</th>\n",
       "      <th>regname</th>\n",
       "      <th>areaname</th>\n",
       "      <th>tername</th>\n",
       "      <th>regtypename</th>\n",
       "      <th>eoname</th>\n",
       "      <th>eotypename</th>\n",
       "      <th>eoregname</th>\n",
       "      <th>...</th>\n",
       "      <th>rustest</th>\n",
       "      <th>rusteststatus</th>\n",
       "      <th>rusball100</th>\n",
       "      <th>rusptname</th>\n",
       "      <th>rusptregname</th>\n",
       "      <th>rusptareaname</th>\n",
       "      <th>ruspttername</th>\n",
       "      <th>year</th>\n",
       "      <th>age</th>\n",
       "      <th>test_type</th>\n",
       "    </tr>\n",
       "  </thead>\n",
       "  <tbody>\n",
       "    <tr>\n",
       "      <th>0</th>\n",
       "      <td>a99c6c63-aa70-4aec-ba42-370f7261e857</td>\n",
       "      <td>1998</td>\n",
       "      <td>чоловіча</td>\n",
       "      <td>Запорізька область</td>\n",
       "      <td>Мелітопольський район</td>\n",
       "      <td>с.Терпіння</td>\n",
       "      <td>Випускник загальноосвітнього навчального закла...</td>\n",
       "      <td>Терпіннівський колегіум \"Джерело\" Мелітопольсь...</td>\n",
       "      <td>колегіум</td>\n",
       "      <td>Запорізька область</td>\n",
       "      <td>...</td>\n",
       "      <td>NaN</td>\n",
       "      <td>Не зареєстровано для проходження основної сесії</td>\n",
       "      <td>NaN</td>\n",
       "      <td>NaN</td>\n",
       "      <td>NaN</td>\n",
       "      <td>NaN</td>\n",
       "      <td>NaN</td>\n",
       "      <td>2016</td>\n",
       "      <td>18</td>\n",
       "      <td>EIE</td>\n",
       "    </tr>\n",
       "    <tr>\n",
       "      <th>1</th>\n",
       "      <td>c3136421-569e-422e-ae8f-41c4c931fd70</td>\n",
       "      <td>1998</td>\n",
       "      <td>жіноча</td>\n",
       "      <td>Хмельницька область</td>\n",
       "      <td>Красилівський район</td>\n",
       "      <td>м.Красилів</td>\n",
       "      <td>Випускник загальноосвітнього навчального закла...</td>\n",
       "      <td>Красилівська загальноосвітня школа I-III ступе...</td>\n",
       "      <td>середня загальноосвітня школа</td>\n",
       "      <td>Хмельницька область</td>\n",
       "      <td>...</td>\n",
       "      <td>NaN</td>\n",
       "      <td>Не зареєстровано для проходження основної сесії</td>\n",
       "      <td>NaN</td>\n",
       "      <td>NaN</td>\n",
       "      <td>NaN</td>\n",
       "      <td>NaN</td>\n",
       "      <td>NaN</td>\n",
       "      <td>2016</td>\n",
       "      <td>18</td>\n",
       "      <td>EIE</td>\n",
       "    </tr>\n",
       "    <tr>\n",
       "      <th>2</th>\n",
       "      <td>fbd0e280-4b77-4f34-942d-00bc850c2992</td>\n",
       "      <td>1995</td>\n",
       "      <td>жіноча</td>\n",
       "      <td>Дніпропетровська область</td>\n",
       "      <td>Петропавлівський район</td>\n",
       "      <td>с.Дмитрівка</td>\n",
       "      <td>Випускник минулих років</td>\n",
       "      <td>NaN</td>\n",
       "      <td>NaN</td>\n",
       "      <td>NaN</td>\n",
       "      <td>...</td>\n",
       "      <td>NaN</td>\n",
       "      <td>Не зареєстровано для проходження основної сесії</td>\n",
       "      <td>NaN</td>\n",
       "      <td>NaN</td>\n",
       "      <td>NaN</td>\n",
       "      <td>NaN</td>\n",
       "      <td>NaN</td>\n",
       "      <td>2016</td>\n",
       "      <td>21</td>\n",
       "      <td>EIE</td>\n",
       "    </tr>\n",
       "    <tr>\n",
       "      <th>3</th>\n",
       "      <td>30de395e-7a74-452a-8370-6856d240fbfb</td>\n",
       "      <td>1999</td>\n",
       "      <td>чоловіча</td>\n",
       "      <td>Чернівецька область</td>\n",
       "      <td>м.Чернівці</td>\n",
       "      <td>Шевченківський район міста</td>\n",
       "      <td>Випускник загальноосвітнього навчального закла...</td>\n",
       "      <td>Чернівецька спеціалізована школа І-ІІІ ступені...</td>\n",
       "      <td>спеціалізована школа</td>\n",
       "      <td>Чернівецька область</td>\n",
       "      <td>...</td>\n",
       "      <td>NaN</td>\n",
       "      <td>Не зареєстровано для проходження основної сесії</td>\n",
       "      <td>NaN</td>\n",
       "      <td>NaN</td>\n",
       "      <td>NaN</td>\n",
       "      <td>NaN</td>\n",
       "      <td>NaN</td>\n",
       "      <td>2016</td>\n",
       "      <td>17</td>\n",
       "      <td>EIE</td>\n",
       "    </tr>\n",
       "    <tr>\n",
       "      <th>4</th>\n",
       "      <td>52a40c74-374e-4744-bd6f-938ab7a4a641</td>\n",
       "      <td>1997</td>\n",
       "      <td>чоловіча</td>\n",
       "      <td>Миколаївська область</td>\n",
       "      <td>Врадіївський район</td>\n",
       "      <td>с.Кумарі</td>\n",
       "      <td>Учень (слухач, студент) професійно-технічного,...</td>\n",
       "      <td>NaN</td>\n",
       "      <td>NaN</td>\n",
       "      <td>NaN</td>\n",
       "      <td>...</td>\n",
       "      <td>NaN</td>\n",
       "      <td>Не зареєстровано для проходження основної сесії</td>\n",
       "      <td>NaN</td>\n",
       "      <td>NaN</td>\n",
       "      <td>NaN</td>\n",
       "      <td>NaN</td>\n",
       "      <td>NaN</td>\n",
       "      <td>2016</td>\n",
       "      <td>19</td>\n",
       "      <td>EIE</td>\n",
       "    </tr>\n",
       "    <tr>\n",
       "      <th>...</th>\n",
       "      <td>...</td>\n",
       "      <td>...</td>\n",
       "      <td>...</td>\n",
       "      <td>...</td>\n",
       "      <td>...</td>\n",
       "      <td>...</td>\n",
       "      <td>...</td>\n",
       "      <td>...</td>\n",
       "      <td>...</td>\n",
       "      <td>...</td>\n",
       "      <td>...</td>\n",
       "      <td>...</td>\n",
       "      <td>...</td>\n",
       "      <td>...</td>\n",
       "      <td>...</td>\n",
       "      <td>...</td>\n",
       "      <td>...</td>\n",
       "      <td>...</td>\n",
       "      <td>...</td>\n",
       "      <td>...</td>\n",
       "      <td>...</td>\n",
       "    </tr>\n",
       "    <tr>\n",
       "      <th>267998</th>\n",
       "      <td>7ac30c16-091a-4d22-9a1c-ec868b4c2c66</td>\n",
       "      <td>1998</td>\n",
       "      <td>жіноча</td>\n",
       "      <td>Дніпропетровська область</td>\n",
       "      <td>Дніпропетровська область</td>\n",
       "      <td>м.Орджонікідзе</td>\n",
       "      <td>Випускник загальноосвітнього навчального закла...</td>\n",
       "      <td>Комунальний заклад \"Середня загальноосвітня шк...</td>\n",
       "      <td>середня загальноосвітня школа</td>\n",
       "      <td>Дніпропетровська область</td>\n",
       "      <td>...</td>\n",
       "      <td>NaN</td>\n",
       "      <td>Не зареєстровано для проходження основної сесії</td>\n",
       "      <td>NaN</td>\n",
       "      <td>NaN</td>\n",
       "      <td>NaN</td>\n",
       "      <td>NaN</td>\n",
       "      <td>NaN</td>\n",
       "      <td>2016</td>\n",
       "      <td>18</td>\n",
       "      <td>EIE</td>\n",
       "    </tr>\n",
       "    <tr>\n",
       "      <th>267999</th>\n",
       "      <td>6437b74b-50bf-43f9-a5e7-a5118b4b003e</td>\n",
       "      <td>1998</td>\n",
       "      <td>жіноча</td>\n",
       "      <td>Дніпропетровська область</td>\n",
       "      <td>Нікопольський район</td>\n",
       "      <td>с.Капулівка (Покровська сільрада)</td>\n",
       "      <td>Випускник минулих років</td>\n",
       "      <td>NaN</td>\n",
       "      <td>NaN</td>\n",
       "      <td>NaN</td>\n",
       "      <td>...</td>\n",
       "      <td>NaN</td>\n",
       "      <td>Не зареєстровано для проходження основної сесії</td>\n",
       "      <td>NaN</td>\n",
       "      <td>NaN</td>\n",
       "      <td>NaN</td>\n",
       "      <td>NaN</td>\n",
       "      <td>NaN</td>\n",
       "      <td>2016</td>\n",
       "      <td>18</td>\n",
       "      <td>EIE</td>\n",
       "    </tr>\n",
       "    <tr>\n",
       "      <th>268000</th>\n",
       "      <td>0e6bf6cd-fd2c-41f6-bae2-b867e3e65095</td>\n",
       "      <td>1999</td>\n",
       "      <td>жіноча</td>\n",
       "      <td>Хмельницька область</td>\n",
       "      <td>Ярмолинецький район</td>\n",
       "      <td>с.Томашівка</td>\n",
       "      <td>Випускник загальноосвітнього навчального закла...</td>\n",
       "      <td>Ярмолинецький технологічний ліцей</td>\n",
       "      <td>ліцей</td>\n",
       "      <td>Хмельницька область</td>\n",
       "      <td>...</td>\n",
       "      <td>NaN</td>\n",
       "      <td>Не зареєстровано для проходження основної сесії</td>\n",
       "      <td>NaN</td>\n",
       "      <td>NaN</td>\n",
       "      <td>NaN</td>\n",
       "      <td>NaN</td>\n",
       "      <td>NaN</td>\n",
       "      <td>2016</td>\n",
       "      <td>17</td>\n",
       "      <td>EIE</td>\n",
       "    </tr>\n",
       "    <tr>\n",
       "      <th>268001</th>\n",
       "      <td>7c94eec3-4f4b-4f46-abde-da1a6a0d3ddc</td>\n",
       "      <td>1998</td>\n",
       "      <td>жіноча</td>\n",
       "      <td>Луганська область</td>\n",
       "      <td>Старобільський район</td>\n",
       "      <td>с.Чмирівка</td>\n",
       "      <td>Випускник загальноосвітнього навчального закла...</td>\n",
       "      <td>Чмирівський навчально-виховний комплекс «Школа...</td>\n",
       "      <td>навчально-виховний комплекс</td>\n",
       "      <td>Луганська область</td>\n",
       "      <td>...</td>\n",
       "      <td>NaN</td>\n",
       "      <td>Не зареєстровано для проходження основної сесії</td>\n",
       "      <td>NaN</td>\n",
       "      <td>NaN</td>\n",
       "      <td>NaN</td>\n",
       "      <td>NaN</td>\n",
       "      <td>NaN</td>\n",
       "      <td>2016</td>\n",
       "      <td>18</td>\n",
       "      <td>EIE</td>\n",
       "    </tr>\n",
       "    <tr>\n",
       "      <th>268002</th>\n",
       "      <td>453b153a-a0c9-4577-a97b-02892a291596</td>\n",
       "      <td>1998</td>\n",
       "      <td>чоловіча</td>\n",
       "      <td>Миколаївська область</td>\n",
       "      <td>Вознесенський район</td>\n",
       "      <td>с.Щербані</td>\n",
       "      <td>Випускник загальноосвітнього навчального закла...</td>\n",
       "      <td>Щербанівська загальноосвітня школа I-III ступе...</td>\n",
       "      <td>середня загальноосвітня школа</td>\n",
       "      <td>Миколаївська область</td>\n",
       "      <td>...</td>\n",
       "      <td>NaN</td>\n",
       "      <td>Не зареєстровано для проходження основної сесії</td>\n",
       "      <td>NaN</td>\n",
       "      <td>NaN</td>\n",
       "      <td>NaN</td>\n",
       "      <td>NaN</td>\n",
       "      <td>NaN</td>\n",
       "      <td>2016</td>\n",
       "      <td>18</td>\n",
       "      <td>EIE</td>\n",
       "    </tr>\n",
       "  </tbody>\n",
       "</table>\n",
       "<p>268003 rows × 109 columns</p>\n",
       "</div>"
      ],
      "text/plain": [
       "                                       outid  birth sextypename   \n",
       "0       a99c6c63-aa70-4aec-ba42-370f7261e857   1998    чоловіча  \\\n",
       "1       c3136421-569e-422e-ae8f-41c4c931fd70   1998      жіноча   \n",
       "2       fbd0e280-4b77-4f34-942d-00bc850c2992   1995      жіноча   \n",
       "3       30de395e-7a74-452a-8370-6856d240fbfb   1999    чоловіча   \n",
       "4       52a40c74-374e-4744-bd6f-938ab7a4a641   1997    чоловіча   \n",
       "...                                      ...    ...         ...   \n",
       "267998  7ac30c16-091a-4d22-9a1c-ec868b4c2c66   1998      жіноча   \n",
       "267999  6437b74b-50bf-43f9-a5e7-a5118b4b003e   1998      жіноча   \n",
       "268000  0e6bf6cd-fd2c-41f6-bae2-b867e3e65095   1999      жіноча   \n",
       "268001  7c94eec3-4f4b-4f46-abde-da1a6a0d3ddc   1998      жіноча   \n",
       "268002  453b153a-a0c9-4577-a97b-02892a291596   1998    чоловіча   \n",
       "\n",
       "                         regname                  areaname   \n",
       "0             Запорізька область     Мелітопольський район  \\\n",
       "1            Хмельницька область       Красилівський район   \n",
       "2       Дніпропетровська область    Петропавлівський район   \n",
       "3            Чернівецька область                м.Чернівці   \n",
       "4           Миколаївська область        Врадіївський район   \n",
       "...                          ...                       ...   \n",
       "267998  Дніпропетровська область  Дніпропетровська область   \n",
       "267999  Дніпропетровська область       Нікопольський район   \n",
       "268000       Хмельницька область       Ярмолинецький район   \n",
       "268001         Луганська область      Старобільський район   \n",
       "268002      Миколаївська область       Вознесенський район   \n",
       "\n",
       "                                  tername   \n",
       "0                              с.Терпіння  \\\n",
       "1                              м.Красилів   \n",
       "2                             с.Дмитрівка   \n",
       "3              Шевченківський район міста   \n",
       "4                                с.Кумарі   \n",
       "...                                   ...   \n",
       "267998                     м.Орджонікідзе   \n",
       "267999  с.Капулівка (Покровська сільрада)   \n",
       "268000                        с.Томашівка   \n",
       "268001                         с.Чмирівка   \n",
       "268002                          с.Щербані   \n",
       "\n",
       "                                              regtypename   \n",
       "0       Випускник загальноосвітнього навчального закла...  \\\n",
       "1       Випускник загальноосвітнього навчального закла...   \n",
       "2                                 Випускник минулих років   \n",
       "3       Випускник загальноосвітнього навчального закла...   \n",
       "4       Учень (слухач, студент) професійно-технічного,...   \n",
       "...                                                   ...   \n",
       "267998  Випускник загальноосвітнього навчального закла...   \n",
       "267999                            Випускник минулих років   \n",
       "268000  Випускник загальноосвітнього навчального закла...   \n",
       "268001  Випускник загальноосвітнього навчального закла...   \n",
       "268002  Випускник загальноосвітнього навчального закла...   \n",
       "\n",
       "                                                   eoname   \n",
       "0       Терпіннівський колегіум \"Джерело\" Мелітопольсь...  \\\n",
       "1       Красилівська загальноосвітня школа I-III ступе...   \n",
       "2                                                     NaN   \n",
       "3       Чернівецька спеціалізована школа І-ІІІ ступені...   \n",
       "4                                                     NaN   \n",
       "...                                                   ...   \n",
       "267998  Комунальний заклад \"Середня загальноосвітня шк...   \n",
       "267999                                                NaN   \n",
       "268000                  Ярмолинецький технологічний ліцей   \n",
       "268001  Чмирівський навчально-виховний комплекс «Школа...   \n",
       "268002  Щербанівська загальноосвітня школа I-III ступе...   \n",
       "\n",
       "                           eotypename                 eoregname  ... rustest   \n",
       "0                            колегіум        Запорізька область  ...     NaN  \\\n",
       "1       середня загальноосвітня школа       Хмельницька область  ...     NaN   \n",
       "2                                 NaN                       NaN  ...     NaN   \n",
       "3                спеціалізована школа       Чернівецька область  ...     NaN   \n",
       "4                                 NaN                       NaN  ...     NaN   \n",
       "...                               ...                       ...  ...     ...   \n",
       "267998  середня загальноосвітня школа  Дніпропетровська область  ...     NaN   \n",
       "267999                            NaN                       NaN  ...     NaN   \n",
       "268000                          ліцей       Хмельницька область  ...     NaN   \n",
       "268001    навчально-виховний комплекс         Луганська область  ...     NaN   \n",
       "268002  середня загальноосвітня школа      Миколаївська область  ...     NaN   \n",
       "\n",
       "                                          rusteststatus rusball100 rusptname   \n",
       "0       Не зареєстровано для проходження основної сесії        NaN       NaN  \\\n",
       "1       Не зареєстровано для проходження основної сесії        NaN       NaN   \n",
       "2       Не зареєстровано для проходження основної сесії        NaN       NaN   \n",
       "3       Не зареєстровано для проходження основної сесії        NaN       NaN   \n",
       "4       Не зареєстровано для проходження основної сесії        NaN       NaN   \n",
       "...                                                 ...        ...       ...   \n",
       "267998  Не зареєстровано для проходження основної сесії        NaN       NaN   \n",
       "267999  Не зареєстровано для проходження основної сесії        NaN       NaN   \n",
       "268000  Не зареєстровано для проходження основної сесії        NaN       NaN   \n",
       "268001  Не зареєстровано для проходження основної сесії        NaN       NaN   \n",
       "268002  Не зареєстровано для проходження основної сесії        NaN       NaN   \n",
       "\n",
       "       rusptregname rusptareaname  ruspttername  year age test_type  \n",
       "0               NaN           NaN           NaN  2016  18       EIE  \n",
       "1               NaN           NaN           NaN  2016  18       EIE  \n",
       "2               NaN           NaN           NaN  2016  21       EIE  \n",
       "3               NaN           NaN           NaN  2016  17       EIE  \n",
       "4               NaN           NaN           NaN  2016  19       EIE  \n",
       "...             ...           ...           ...   ...  ..       ...  \n",
       "267998          NaN           NaN           NaN  2016  18       EIE  \n",
       "267999          NaN           NaN           NaN  2016  18       EIE  \n",
       "268000          NaN           NaN           NaN  2016  17       EIE  \n",
       "268001          NaN           NaN           NaN  2016  18       EIE  \n",
       "268002          NaN           NaN           NaN  2016  18       EIE  \n",
       "\n",
       "[268003 rows x 109 columns]"
      ]
     },
     "execution_count": 34,
     "metadata": {},
     "output_type": "execute_result"
    }
   ],
   "source": [
    "datasets[2016]"
   ]
  },
  {
   "attachments": {},
   "cell_type": "markdown",
   "metadata": {},
   "source": [
    "The only one new feature that we have is a testdate."
   ]
  },
  {
   "cell_type": "code",
   "execution_count": 35,
   "metadata": {},
   "outputs": [
    {
     "data": {
      "text/plain": [
       "{'test', 'testdate'}"
      ]
     },
     "execution_count": 35,
     "metadata": {},
     "output_type": "execute_result"
    }
   ],
   "source": [
    "set(datasets[2022].columns)-set(datasets[2021].columns)"
   ]
  },
  {
   "attachments": {},
   "cell_type": "markdown",
   "metadata": {},
   "source": [
    "## Merging datasets"
   ]
  },
  {
   "cell_type": "code",
   "execution_count": 36,
   "metadata": {},
   "outputs": [],
   "source": [
    "# concat datasets\n",
    "df_all = pd.concat(datasets.values())"
   ]
  },
  {
   "cell_type": "code",
   "execution_count": 37,
   "metadata": {},
   "outputs": [
    {
     "data": {
      "text/plain": [
       "(2201118, 150)"
      ]
     },
     "execution_count": 37,
     "metadata": {},
     "output_type": "execute_result"
    }
   ],
   "source": [
    "df_all.shape"
   ]
  },
  {
   "cell_type": "code",
   "execution_count": 38,
   "metadata": {},
   "outputs": [
    {
     "data": {
      "text/plain": [
       "['outid',\n",
       " 'birth',\n",
       " 'sextypename',\n",
       " 'regname',\n",
       " 'areaname',\n",
       " 'tername',\n",
       " 'regtypename',\n",
       " 'eoname',\n",
       " 'eotypename',\n",
       " 'eoregname',\n",
       " 'eoareaname',\n",
       " 'eotername',\n",
       " 'eoparent',\n",
       " 'ukrtest',\n",
       " 'ukrteststatus',\n",
       " 'ukrball100',\n",
       " 'ukrball12',\n",
       " 'ukrptname',\n",
       " 'ukrptregname',\n",
       " 'ukrptareaname',\n",
       " 'ukrpttername',\n",
       " 'histtest',\n",
       " 'histlang',\n",
       " 'histteststatus',\n",
       " 'histball100',\n",
       " 'histball12',\n",
       " 'histptname',\n",
       " 'histptregname',\n",
       " 'histptareaname',\n",
       " 'histpttername',\n",
       " 'mathtest',\n",
       " 'mathlang',\n",
       " 'mathteststatus',\n",
       " 'mathball100',\n",
       " 'mathball12',\n",
       " 'mathptname',\n",
       " 'mathptregname',\n",
       " 'mathptareaname',\n",
       " 'mathpttername',\n",
       " 'phystest',\n",
       " 'physlang',\n",
       " 'physteststatus',\n",
       " 'physball100',\n",
       " 'physptname',\n",
       " 'physptregname',\n",
       " 'physptareaname',\n",
       " 'physpttername',\n",
       " 'chemtest',\n",
       " 'chemlang',\n",
       " 'chemteststatus',\n",
       " 'chemball100',\n",
       " 'chemptname',\n",
       " 'chemptregname',\n",
       " 'chemptareaname',\n",
       " 'chempttername',\n",
       " 'biotest',\n",
       " 'biolang',\n",
       " 'bioteststatus',\n",
       " 'bioball100',\n",
       " 'bioptname',\n",
       " 'bioptregname',\n",
       " 'bioptareaname',\n",
       " 'biopttername',\n",
       " 'geotest',\n",
       " 'geolang',\n",
       " 'geoteststatus',\n",
       " 'geoball100',\n",
       " 'geoptname',\n",
       " 'geoptregname',\n",
       " 'geoptareaname',\n",
       " 'geopttername',\n",
       " 'engtest',\n",
       " 'engteststatus',\n",
       " 'engball100',\n",
       " 'engptname',\n",
       " 'engptregname',\n",
       " 'engptareaname',\n",
       " 'engpttername',\n",
       " 'fratest',\n",
       " 'frateststatus',\n",
       " 'fraball100',\n",
       " 'fraptname',\n",
       " 'fraptregname',\n",
       " 'fraptareaname',\n",
       " 'frapttername',\n",
       " 'deutest',\n",
       " 'deuteststatus',\n",
       " 'deuball100',\n",
       " 'deuptname',\n",
       " 'deuptregname',\n",
       " 'deuptareaname',\n",
       " 'deupttername',\n",
       " 'spatest',\n",
       " 'spateststatus',\n",
       " 'spaball100',\n",
       " 'spaptname',\n",
       " 'spaptregname',\n",
       " 'spaptareaname',\n",
       " 'spapttername',\n",
       " 'rustest',\n",
       " 'rusteststatus',\n",
       " 'rusball100',\n",
       " 'rusptname',\n",
       " 'rusptregname',\n",
       " 'rusptareaname',\n",
       " 'ruspttername',\n",
       " 'year',\n",
       " 'age',\n",
       " 'test_type',\n",
       " 'tertypename',\n",
       " 'classprofilename',\n",
       " 'classlangname',\n",
       " 'physball12',\n",
       " 'chemball12',\n",
       " 'bioball12',\n",
       " 'geoball12',\n",
       " 'engball12',\n",
       " 'fraball12',\n",
       " 'deuball12',\n",
       " 'spaball12',\n",
       " 'rusball12',\n",
       " 'ukrball',\n",
       " 'histball',\n",
       " 'mathball',\n",
       " 'physball',\n",
       " 'chemball',\n",
       " 'bioball',\n",
       " 'geoball',\n",
       " 'engdpalevel',\n",
       " 'engball',\n",
       " 'fradpalevel',\n",
       " 'fraball',\n",
       " 'deudpalevel',\n",
       " 'deuball',\n",
       " 'spadpalevel',\n",
       " 'spaball',\n",
       " 'ukradaptscale',\n",
       " 'ukrlangtest',\n",
       " 'ukrlangteststatus',\n",
       " 'ukrlangball100',\n",
       " 'ukrlangball12',\n",
       " 'ukrlangball',\n",
       " 'ukrlangadaptscale',\n",
       " 'ukrlangptname',\n",
       " 'ukrlangptregname',\n",
       " 'ukrlangptareaname',\n",
       " 'ukrlangpttername',\n",
       " 'mathdpalevel',\n",
       " 'test',\n",
       " 'testdate']"
      ]
     },
     "execution_count": 38,
     "metadata": {},
     "output_type": "execute_result"
    }
   ],
   "source": [
    "list(df_all.columns)"
   ]
  },
  {
   "attachments": {},
   "cell_type": "markdown",
   "metadata": {},
   "source": [
    "Save datasets to csv format."
   ]
  },
  {
   "cell_type": "code",
   "execution_count": 39,
   "metadata": {},
   "outputs": [],
   "source": [
    "df_all.to_csv('eie_all.csv',index=False)"
   ]
  },
  {
   "attachments": {},
   "cell_type": "markdown",
   "metadata": {},
   "source": [
    "Having created a dataset once, we can load it immediately in the future"
   ]
  },
  {
   "cell_type": "code",
   "execution_count": null,
   "metadata": {},
   "outputs": [],
   "source": [
    "df_all = pd.read_csv('eie_all.csv')"
   ]
  },
  {
   "attachments": {},
   "cell_type": "markdown",
   "metadata": {},
   "source": [
    "## Exploring dataset and unifying values of some columns"
   ]
  },
  {
   "cell_type": "code",
   "execution_count": null,
   "metadata": {},
   "outputs": [],
   "source": [
    "df_all.head()"
   ]
  },
  {
   "cell_type": "code",
   "execution_count": null,
   "metadata": {},
   "outputs": [],
   "source": [
    "df_all[df_all.regtypename.isna()]"
   ]
  },
  {
   "cell_type": "code",
   "execution_count": null,
   "metadata": {},
   "outputs": [],
   "source": [
    "df_all.info()"
   ]
  },
  {
   "cell_type": "code",
   "execution_count": null,
   "metadata": {},
   "outputs": [],
   "source": [
    "dict(df_all.dtypes)"
   ]
  },
  {
   "attachments": {},
   "cell_type": "markdown",
   "metadata": {},
   "source": [
    "In Ukraine we use ',' to write a decimals, so sometimes it lead to confusion. Let's fix it"
   ]
  },
  {
   "cell_type": "code",
   "execution_count": null,
   "metadata": {},
   "outputs": [],
   "source": [
    "for col in df_all.columns:\n",
    "    if '100' in col:\n",
    "        df_all[col] = pd.to_numeric(df_all[col].map(lambda x: str(x).replace(',','.') if pd.notna(x) else None))"
   ]
  },
  {
   "cell_type": "code",
   "execution_count": null,
   "metadata": {},
   "outputs": [],
   "source": [
    "dict(df_all.dtypes)"
   ]
  },
  {
   "cell_type": "code",
   "execution_count": null,
   "metadata": {},
   "outputs": [],
   "source": [
    "df_all['ukrteststatus'].unique()"
   ]
  },
  {
   "attachments": {},
   "cell_type": "markdown",
   "metadata": {},
   "source": [
    "In 2016 and 2019 we have different phrases for the same status."
   ]
  },
  {
   "cell_type": "code",
   "execution_count": null,
   "metadata": {},
   "outputs": [],
   "source": [
    "for col in df_all.columns:\n",
    "    if 'teststatus' in col:\n",
    "        df_all[col] = df_all[col].str.replace('’', \"'\")\n",
    "        df_all[col] = df_all[col].replace('Не зареєстровано для проходження основної сесії', np.nan)\n",
    "        df_all[col] = df_all[col].replace('Не склав', 'Не подолав поріг')\n",
    "        df_all[col] = df_all[col].replace('Отримав результат', 'Зараховано')"
   ]
  },
  {
   "cell_type": "code",
   "execution_count": null,
   "metadata": {},
   "outputs": [],
   "source": [
    "df_all['ukrteststatus'].unique()"
   ]
  },
  {
   "attachments": {},
   "cell_type": "markdown",
   "metadata": {},
   "source": [
    "## Unifying 'tertypename' feature"
   ]
  },
  {
   "attachments": {},
   "cell_type": "markdown",
   "metadata": {},
   "source": [
    "Since in 2021 'tertypename' has 3 territory types: city (місто), town (селище міського типу) and village (селище, село), and before we had only 2: city (місто) and village (селище, село), we reconstruct the correct type for 2018-2020 period."
   ]
  },
  {
   "cell_type": "code",
   "execution_count": null,
   "metadata": {},
   "outputs": [],
   "source": [
    "def encode_tertypename(x):\n",
    "    if x['tername'].startswith('м.'):\n",
    "        return 'місто'\n",
    "    elif x['tername'].startswith('смт'):\n",
    "        return 'селище міського типу'\n",
    "    elif x['tername'].startswith('с.'):\n",
    "        return 'селище, село'\n",
    "    elif x['tername'].startswith('с-ще'):\n",
    "         return 'селище, село'\n",
    "    elif x['areaname'].startswith('м.'):\n",
    "        return 'місто'\n",
    "    return None\n",
    "        \n",
    "df_all['tertypename'] = df_all.apply(encode_tertypename,axis=1)"
   ]
  },
  {
   "cell_type": "code",
   "execution_count": null,
   "metadata": {},
   "outputs": [],
   "source": [
    "df_all.tertypename.unique()"
   ]
  },
  {
   "cell_type": "code",
   "execution_count": null,
   "metadata": {},
   "outputs": [],
   "source": [
    "df_all[df_all.tertypename.isna()]"
   ]
  },
  {
   "cell_type": "code",
   "execution_count": null,
   "metadata": {},
   "outputs": [],
   "source": [
    "df_all.drop(df_all.loc[df_all['outid']=='3b07c9d4-067c-47fa-8cf4-8e2097ade009'].index, inplace=True)"
   ]
  },
  {
   "cell_type": "code",
   "execution_count": null,
   "metadata": {},
   "outputs": [],
   "source": [
    "df_all.shape"
   ]
  },
  {
   "cell_type": "code",
   "execution_count": null,
   "metadata": {},
   "outputs": [],
   "source": [
    "df_all.tail()"
   ]
  },
  {
   "attachments": {},
   "cell_type": "markdown",
   "metadata": {},
   "source": [
    "## Unifying 'regtypename' feature"
   ]
  },
  {
   "cell_type": "code",
   "execution_count": null,
   "metadata": {},
   "outputs": [],
   "source": [
    "df_all.regtypename.unique()"
   ]
  },
  {
   "cell_type": "code",
   "execution_count": null,
   "metadata": {},
   "outputs": [],
   "source": [
    "regtypename_dict = {\n",
    "    'Випускник української школи поточного року': ['Випускник загальноосвітнього навчального закладу 2016 року',\n",
    "                                                    'Випускник загальноосвітнього навчального закладу 2017 року',\n",
    "                                                    'Випускник закладу загальної середньої освіти 2018 року',\n",
    "                                                    'Випускник закладу загальної середньої освіти 2019 року',\n",
    "                                                    'випускник закладу загальної середньої освіти 2020 року',\n",
    "                                                    'Випускник загальноосвітнього навчального закладу 2021 року',\n",
    "                                                    'Випускник закладу загальної середньої освіти 2022 року'],\n",
    "    'Випускник іноземної школи': ['Випускник, який здобуде в 2016 році повну загальну середню освіту в навчальному закладі іншої держави', \n",
    "                                    'Випускник, який здобуде в 2017 році повну загальну середню освіту в навчальному закладі іншої держави',\n",
    "                                    'Випускник, який здобуде в 2018 році повну загальну середню освіту в навчальному закладі іншої держави', \n",
    "                                    'Випускник, який здобуде в 2019 році повну загальну середню освіту в закордонному закладі освіти',\n",
    "                                    'Випускник, який здобуде в 2020 році повну загальну середню освіту в закордонному закладі освіти', \n",
    "                                    'Випускник, який здобуде в 2021 році повну загальну середню освіту в навчальному закладі іншої держави',\n",
    "                                    'Випускник, який здобуде в 2022 році повну загальну середню освіту в закордонному закладі освіти'],\n",
    "    'Учень коледжу закладу професійної (професійно-технічної) або вищої освіти': ['Учень (слухач) закладу професійної (професійно-технічної) освіти', \n",
    "                                                                                    'Учень (слухач, студент) професійно-технічного, вищого навчального закладу', \n",
    "                                                                                    'Студент закладу вищої/фахової передвищої освіти',\n",
    "                                                                                    'Студент закладу вищої освіти'],\n",
    "    'Випускник минулих років': ['Випускник минулих років'],\n",
    "    'Установа виконання покарань':['Установа виконання покарань']\n",
    "}\n"
   ]
  },
  {
   "cell_type": "code",
   "execution_count": null,
   "metadata": {},
   "outputs": [],
   "source": [
    "df_all[df_all.year == 2017].regtypename.unique()"
   ]
  },
  {
   "cell_type": "code",
   "execution_count": null,
   "metadata": {},
   "outputs": [],
   "source": [
    "regtypename_detailed_dict = {\n",
    "    'Випускник української школи поточного року': ['Випускник загальноосвітнього навчального закладу 2016 року',\n",
    "                                                    'Випускник загальноосвітнього навчального закладу 2017 року',\n",
    "                                                    'Випускник закладу загальної середньої освіти 2018 року',\n",
    "                                                    'Випускник закладу загальної середньої освіти 2019 року',\n",
    "                                                    'випускник закладу загальної середньої освіти 2020 року',\n",
    "                                                    'Випускник загальноосвітнього навчального закладу 2021 року',\n",
    "                                                    'Випускник закладу загальної середньої освіти 2022 року'],\n",
    "    'Випускник іноземної школи': ['Випускник, який здобуде в 2016 році повну загальну середню освіту в навчальному закладі іншої держави', \n",
    "                                    'Випускник, який здобуде в 2017 році повну загальну середню освіту в навчальному закладі іншої держави',\n",
    "                                    'Випускник, який здобуде в 2018 році повну загальну середню освіту в навчальному закладі іншої держави', \n",
    "                                    'Випускник, який здобуде в 2019 році повну загальну середню освіту в закордонному закладі освіти',\n",
    "                                    'Випускник, який здобуде в 2020 році повну загальну середню освіту в закордонному закладі освіти', \n",
    "                                    'Випускник, який здобуде в 2021 році повну загальну середню освіту в навчальному закладі іншої держави',\n",
    "                                    'Випускник, який здобуде в 2022 році повну загальну середню освіту в закордонному закладі освіти'],\n",
    "    None : ['Учень (слухач, студент) професійно-технічного, вищого навчального закладу'],\n",
    "    'Студент закладу вищої освіти': ['Студент закладу вищої освіти', \n",
    "                                      'Студент закладу вищої/фахової передвищої освіти'],\n",
    "    'Учень (слухач) закладу професійної (професійно-технічної) освіти':['Учень (слухач) закладу професійної (професійно-технічної) освіти'],\n",
    "    'Випускник минулих років': ['Випускник минулих років'],\n",
    "    'Установа виконання покарань':['Установа виконання покарань']\n",
    "}"
   ]
  },
  {
   "cell_type": "code",
   "execution_count": null,
   "metadata": {},
   "outputs": [],
   "source": [
    "def encode_regtypename_detailed(x):\n",
    "    for type, possible_types in regtypename_detailed_dict.items():\n",
    "        if x in possible_types:\n",
    "            return type\n",
    "    return None\n",
    "\n",
    "def encode_regtypename(x):\n",
    "    for type, possible_types in regtypename_dict.items():\n",
    "        if x in possible_types:\n",
    "            return type\n",
    "    return None\n",
    "\n",
    "df_all['regtypename_detailed'] = df_all.regtypename.map(encode_regtypename_detailed)\n",
    "df_all.regtypename = df_all.regtypename.map(encode_regtypename)"
   ]
  },
  {
   "cell_type": "code",
   "execution_count": null,
   "metadata": {},
   "outputs": [],
   "source": [
    "df_all.regtypename.unique()"
   ]
  },
  {
   "cell_type": "code",
   "execution_count": null,
   "metadata": {},
   "outputs": [],
   "source": [
    "df_all['regtypename_detailed'].unique()"
   ]
  },
  {
   "cell_type": "code",
   "execution_count": null,
   "metadata": {},
   "outputs": [],
   "source": [
    "list(df_all.columns)"
   ]
  },
  {
   "cell_type": "code",
   "execution_count": null,
   "metadata": {},
   "outputs": [],
   "source": [
    "df_all.shape"
   ]
  },
  {
   "cell_type": "code",
   "execution_count": null,
   "metadata": {},
   "outputs": [],
   "source": [
    "df_all.to_csv('eie_preprocessed.csv', index=False)"
   ]
  }
 ],
 "metadata": {
  "kernelspec": {
   "display_name": "base",
   "language": "python",
   "name": "python3"
  },
  "language_info": {
   "codemirror_mode": {
    "name": "ipython",
    "version": 3
   },
   "file_extension": ".py",
   "mimetype": "text/x-python",
   "name": "python",
   "nbconvert_exporter": "python",
   "pygments_lexer": "ipython3",
   "version": "3.11.2"
  },
  "orig_nbformat": 4,
  "vscode": {
   "interpreter": {
    "hash": "4f853a0d2b585de4edb47060fc84479f3f1f6082e8f24b6609fba2d6e0a3d1ca"
   }
  }
 },
 "nbformat": 4,
 "nbformat_minor": 2
}
