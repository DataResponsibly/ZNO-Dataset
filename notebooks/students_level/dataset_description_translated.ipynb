{
 "cells": [
  {
   "cell_type": "code",
   "execution_count": 1,
   "metadata": {},
   "outputs": [],
   "source": [
    "import numpy as np\n",
    "import pandas as pd\n",
    "import matplotlib.pyplot as plt\n",
    "from datasets import load_dataset"
   ]
  },
  {
   "cell_type": "code",
   "execution_count": 2,
   "metadata": {},
   "outputs": [
    {
     "name": "stderr",
     "output_type": "stream",
     "text": [
      "/var/folders/cz/wq9d8j_11fx3b8pjjbk7z8br0000gn/T/ipykernel_55856/2814263813.py:1: DtypeWarning: Columns (83,84,85,86,87,88,102) have mixed types. Specify dtype option on import or set low_memory=False.\n",
      "  dataset = pd.read_csv('zno_translated.csv')\n"
     ]
    }
   ],
   "source": [
    "dataset = pd.read_csv('zno_translated.csv')"
   ]
  },
  {
   "cell_type": "code",
   "execution_count": 3,
   "metadata": {},
   "outputs": [
    {
     "data": {
      "text/html": [
       "<div>\n",
       "<style scoped>\n",
       "    .dataframe tbody tr th:only-of-type {\n",
       "        vertical-align: middle;\n",
       "    }\n",
       "\n",
       "    .dataframe tbody tr th {\n",
       "        vertical-align: top;\n",
       "    }\n",
       "\n",
       "    .dataframe thead th {\n",
       "        text-align: right;\n",
       "    }\n",
       "</style>\n",
       "<table border=\"1\" class=\"dataframe\">\n",
       "  <thead>\n",
       "    <tr style=\"text-align: right;\">\n",
       "      <th></th>\n",
       "      <th>outid</th>\n",
       "      <th>birth</th>\n",
       "      <th>sextypename</th>\n",
       "      <th>regname</th>\n",
       "      <th>areaname</th>\n",
       "      <th>tername</th>\n",
       "      <th>regtypename</th>\n",
       "      <th>eoname</th>\n",
       "      <th>eotypename</th>\n",
       "      <th>eoregname</th>\n",
       "      <th>...</th>\n",
       "      <th>engdpalevel</th>\n",
       "      <th>engball</th>\n",
       "      <th>fradpalevel</th>\n",
       "      <th>fraball</th>\n",
       "      <th>deudpalevel</th>\n",
       "      <th>deuball</th>\n",
       "      <th>spadpalevel</th>\n",
       "      <th>spaball</th>\n",
       "      <th>ukradaptscale</th>\n",
       "      <th>age</th>\n",
       "    </tr>\n",
       "  </thead>\n",
       "  <tbody>\n",
       "    <tr>\n",
       "      <th>0</th>\n",
       "      <td>a4e039d0-07ef-4a3d-820d-106dcaf01b96</td>\n",
       "      <td>2001</td>\n",
       "      <td>Male</td>\n",
       "      <td>Zakarpattia Oblast</td>\n",
       "      <td>Berehiv district</td>\n",
       "      <td>the village of Koson</td>\n",
       "      <td>A graduate of an Ukrainian school of the curre...</td>\n",
       "      <td>Kosonsk comprehensive school of grades I-III w...</td>\n",
       "      <td>Secondary general education school</td>\n",
       "      <td>Zakarpattia Oblast</td>\n",
       "      <td>...</td>\n",
       "      <td>NaN</td>\n",
       "      <td>NaN</td>\n",
       "      <td>NaN</td>\n",
       "      <td>NaN</td>\n",
       "      <td>NaN</td>\n",
       "      <td>NaN</td>\n",
       "      <td>NaN</td>\n",
       "      <td>NaN</td>\n",
       "      <td>NaN</td>\n",
       "      <td>17</td>\n",
       "    </tr>\n",
       "    <tr>\n",
       "      <th>1</th>\n",
       "      <td>c1fa1ed0-d2af-4964-9a88-3c138008304b</td>\n",
       "      <td>2001</td>\n",
       "      <td>Female</td>\n",
       "      <td>Kyiv Oblast</td>\n",
       "      <td>Kyiv region</td>\n",
       "      <td>Brovary</td>\n",
       "      <td>A graduate of an Ukrainian school of the curre...</td>\n",
       "      <td>Brovary specialized school of grades I-III #7 ...</td>\n",
       "      <td>Specialized school</td>\n",
       "      <td>Kyiv Oblast</td>\n",
       "      <td>...</td>\n",
       "      <td>Profile</td>\n",
       "      <td>63.0</td>\n",
       "      <td>NaN</td>\n",
       "      <td>NaN</td>\n",
       "      <td>NaN</td>\n",
       "      <td>NaN</td>\n",
       "      <td>NaN</td>\n",
       "      <td>NaN</td>\n",
       "      <td>NaN</td>\n",
       "      <td>17</td>\n",
       "    </tr>\n",
       "    <tr>\n",
       "      <th>2</th>\n",
       "      <td>6504a7f3-7dfd-4a64-a2d9-4d49f5021303</td>\n",
       "      <td>2000</td>\n",
       "      <td>Female</td>\n",
       "      <td>Kharkiv Oblast</td>\n",
       "      <td>Kharkiv</td>\n",
       "      <td>Chervonozavod district of the city</td>\n",
       "      <td>A graduate of an Ukrainian school of the curre...</td>\n",
       "      <td>Kharkiv Gymnasium No. 12 of Kharkiv City Counc...</td>\n",
       "      <td>Gymnasium</td>\n",
       "      <td>Kharkiv Oblast</td>\n",
       "      <td>...</td>\n",
       "      <td>Profile</td>\n",
       "      <td>55.0</td>\n",
       "      <td>NaN</td>\n",
       "      <td>NaN</td>\n",
       "      <td>NaN</td>\n",
       "      <td>NaN</td>\n",
       "      <td>NaN</td>\n",
       "      <td>NaN</td>\n",
       "      <td>NaN</td>\n",
       "      <td>18</td>\n",
       "    </tr>\n",
       "    <tr>\n",
       "      <th>3</th>\n",
       "      <td>5cbcd343-2e63-48b8-b36d-48797a76be31</td>\n",
       "      <td>2000</td>\n",
       "      <td>Male</td>\n",
       "      <td>Rivne Oblast</td>\n",
       "      <td>Mlynivskyi district</td>\n",
       "      <td>the village of Mlyniv</td>\n",
       "      <td>A graduate of an Ukrainian school of the curre...</td>\n",
       "      <td>Mlyniv secondary school of grades I-III #1 of ...</td>\n",
       "      <td>Secondary general education school</td>\n",
       "      <td>Rivne Oblast</td>\n",
       "      <td>...</td>\n",
       "      <td>NaN</td>\n",
       "      <td>NaN</td>\n",
       "      <td>NaN</td>\n",
       "      <td>NaN</td>\n",
       "      <td>NaN</td>\n",
       "      <td>NaN</td>\n",
       "      <td>NaN</td>\n",
       "      <td>NaN</td>\n",
       "      <td>NaN</td>\n",
       "      <td>18</td>\n",
       "    </tr>\n",
       "    <tr>\n",
       "      <th>4</th>\n",
       "      <td>063c6498-7345-492c-b567-174938bac671</td>\n",
       "      <td>1999</td>\n",
       "      <td>Male</td>\n",
       "      <td>Rivne Oblast</td>\n",
       "      <td>Rivne region</td>\n",
       "      <td>Ostrog</td>\n",
       "      <td>College graduate</td>\n",
       "      <td>State Vocational and Technical Educational Ins...</td>\n",
       "      <td>Higher vocational school</td>\n",
       "      <td>Rivne Oblast</td>\n",
       "      <td>...</td>\n",
       "      <td>NaN</td>\n",
       "      <td>NaN</td>\n",
       "      <td>NaN</td>\n",
       "      <td>NaN</td>\n",
       "      <td>NaN</td>\n",
       "      <td>NaN</td>\n",
       "      <td>NaN</td>\n",
       "      <td>NaN</td>\n",
       "      <td>NaN</td>\n",
       "      <td>19</td>\n",
       "    </tr>\n",
       "  </tbody>\n",
       "</table>\n",
       "<p>5 rows × 106 columns</p>\n",
       "</div>"
      ],
      "text/plain": [
       "                                  outid  birth sextypename   \n",
       "0  a4e039d0-07ef-4a3d-820d-106dcaf01b96   2001        Male  \\\n",
       "1  c1fa1ed0-d2af-4964-9a88-3c138008304b   2001      Female   \n",
       "2  6504a7f3-7dfd-4a64-a2d9-4d49f5021303   2000      Female   \n",
       "3  5cbcd343-2e63-48b8-b36d-48797a76be31   2000        Male   \n",
       "4  063c6498-7345-492c-b567-174938bac671   1999        Male   \n",
       "\n",
       "              regname             areaname   \n",
       "0  Zakarpattia Oblast     Berehiv district  \\\n",
       "1         Kyiv Oblast          Kyiv region   \n",
       "2      Kharkiv Oblast              Kharkiv   \n",
       "3        Rivne Oblast  Mlynivskyi district   \n",
       "4        Rivne Oblast         Rivne region   \n",
       "\n",
       "                              tername   \n",
       "0                the village of Koson  \\\n",
       "1                             Brovary   \n",
       "2  Chervonozavod district of the city   \n",
       "3               the village of Mlyniv   \n",
       "4                              Ostrog   \n",
       "\n",
       "                                         regtypename   \n",
       "0  A graduate of an Ukrainian school of the curre...  \\\n",
       "1  A graduate of an Ukrainian school of the curre...   \n",
       "2  A graduate of an Ukrainian school of the curre...   \n",
       "3  A graduate of an Ukrainian school of the curre...   \n",
       "4                                   College graduate   \n",
       "\n",
       "                                              eoname   \n",
       "0  Kosonsk comprehensive school of grades I-III w...  \\\n",
       "1  Brovary specialized school of grades I-III #7 ...   \n",
       "2  Kharkiv Gymnasium No. 12 of Kharkiv City Counc...   \n",
       "3  Mlyniv secondary school of grades I-III #1 of ...   \n",
       "4  State Vocational and Technical Educational Ins...   \n",
       "\n",
       "                           eotypename           eoregname  ... engdpalevel   \n",
       "0  Secondary general education school  Zakarpattia Oblast  ...         NaN  \\\n",
       "1                  Specialized school         Kyiv Oblast  ...     Profile   \n",
       "2                           Gymnasium      Kharkiv Oblast  ...     Profile   \n",
       "3  Secondary general education school        Rivne Oblast  ...         NaN   \n",
       "4            Higher vocational school        Rivne Oblast  ...         NaN   \n",
       "\n",
       "  engball fradpalevel fraball deudpalevel deuball spadpalevel spaball   \n",
       "0     NaN         NaN     NaN         NaN     NaN         NaN     NaN  \\\n",
       "1    63.0         NaN     NaN         NaN     NaN         NaN     NaN   \n",
       "2    55.0         NaN     NaN         NaN     NaN         NaN     NaN   \n",
       "3     NaN         NaN     NaN         NaN     NaN         NaN     NaN   \n",
       "4     NaN         NaN     NaN         NaN     NaN         NaN     NaN   \n",
       "\n",
       "  ukradaptscale age  \n",
       "0           NaN  17  \n",
       "1           NaN  17  \n",
       "2           NaN  18  \n",
       "3           NaN  18  \n",
       "4           NaN  19  \n",
       "\n",
       "[5 rows x 106 columns]"
      ]
     },
     "execution_count": 3,
     "metadata": {},
     "output_type": "execute_result"
    }
   ],
   "source": [
    "dataset.head()"
   ]
  },
  {
   "cell_type": "code",
   "execution_count": 4,
   "metadata": {},
   "outputs": [
    {
     "name": "stdout",
     "output_type": "stream",
     "text": [
      "['outid', 'birth', 'sextypename', 'regname', 'areaname', 'tername', 'regtypename', 'eoname', 'eotypename', 'eoregname', 'eoareaname', 'eotername', 'eoparent', 'ukrtest', 'ukrteststatus', 'ukrptname', 'ukrptregname', 'ukrptareaname', 'ukrpttername', 'histtest', 'histlang', 'histteststatus', 'histptname', 'histptregname', 'histptareaname', 'histpttername', 'mathtest', 'mathlang', 'mathteststatus', 'mathptname', 'mathptregname', 'mathptareaname', 'mathpttername', 'phystest', 'physlang', 'physteststatus', 'physptname', 'physptregname', 'physptareaname', 'physpttername', 'chemtest', 'chemlang', 'chemteststatus', 'chemptname', 'chemptregname', 'chemptareaname', 'chempttername', 'biotest', 'biolang', 'bioteststatus', 'bioptname', 'bioptregname', 'bioptareaname', 'biopttername', 'geotest', 'geolang', 'geoteststatus', 'geoptname', 'geoptregname', 'geoptareaname', 'geopttername', 'engtest', 'engteststatus', 'engptname', 'engptregname', 'engptareaname', 'engpttername', 'deutest', 'deuteststatus', 'deuptname', 'deuptregname', 'deuptareaname', 'deupttername', 'year', 'tertypename', 'classprofilename', 'classlangname', 'fratest', 'frateststatus', 'fraptname', 'fraptregname', 'fraptareaname', 'frapttername', 'spatest', 'spateststatus', 'spaptname', 'spaptregname', 'spaptareaname', 'spapttername', 'ukrball', 'histball', 'mathball', 'physball', 'chemball', 'bioball', 'geoball', 'engdpalevel', 'engball', 'fradpalevel', 'fraball', 'deudpalevel', 'deuball', 'spadpalevel', 'spaball', 'ukradaptscale', 'age']\n"
     ]
    }
   ],
   "source": [
    "print(list(dataset.columns))"
   ]
  },
  {
   "cell_type": "code",
   "execution_count": 5,
   "metadata": {},
   "outputs": [
    {
     "data": {
      "text/plain": [
       "(1458122, 106)"
      ]
     },
     "execution_count": 5,
     "metadata": {},
     "output_type": "execute_result"
    }
   ],
   "source": [
    "dataset.shape"
   ]
  },
  {
   "attachments": {},
   "cell_type": "markdown",
   "metadata": {},
   "source": [
    "# Feature Description"
   ]
  },
  {
   "attachments": {},
   "cell_type": "markdown",
   "metadata": {},
   "source": [
    "Dataset contains 1,458,122 individuals and 105 features (general and test performance)"
   ]
  },
  {
   "attachments": {},
   "cell_type": "markdown",
   "metadata": {},
   "source": [
    "## General features (demographic, educational etc.)"
   ]
  },
  {
   "attachments": {},
   "cell_type": "markdown",
   "metadata": {},
   "source": [
    "`outid` – unique identifier of the participant\n",
    "\n",
    "`birth` – year of birth of the participant (1944-2007)\n",
    "\n",
    "`sextypename` – gender of the participant ('Male' 'Female')\n",
    "\n",
    "`regname` – region of registration/residence of the participant in Ukraine (24 oblasts and Kyiv, the capital of the country)\n",
    "\n",
    "`areaname` – district/city of registration/residence of the participant\n",
    "\n",
    "`tername` – place of registration/residence of the participant\n",
    "\n",
    "`regtypename` – status of the participant (5 types: 'A graduate of an Ukrainian school of the current year', 'College graduate', 'A student of a higher education institution', 'A graduate of a school of the previous years', 'A graduate of a foreign school')\n",
    "\n",
    "`tertypename` – type of territory (3 types: 'Village', 'City', 'Urban-type settlement')\n",
    "\n",
    "`classprofilename`– profile of the participant's training class (24 types and two specific types: 'Junior specialit' for students and 'Skilled worker' for graduated people). Full information for the graduates of a Ukrainian school of the current year, partially for college graduates and students of a higher education institution. For else the values are NaN.\n",
    "\n",
    "`classlangname` – participant's language of study (6 types and 'other' category). Full information for the graduates of a Ukrainian school of the current year, partially for college graduates and students of a higher education institution. For else the values are NaN.\n",
    "\n",
    "`eoname` – the name of participant's institution of education. Full information for the graduates of a Ukrainian school of the current year, partially for college graduates and students of a higher education institution. For else the values are NaN.\n",
    "\n",
    "`eotypename` – type of educational institution (30 types: 'Lyceum', 'Gymnasium', etc). Full information for the graduates of a Ukrainian school of the current year, partially for college graduates and students of a higher education institution. For else the values are NaN.\n",
    "\n",
    "`eoregname` – region where the educational institution is located (same list as in regname). Full information for the graduates of a Ukrainian school of the current year, partially for college graduates and students of a higher education institution. For else the values are NaN.\n",
    "\n",
    "`eoareaname` – district/city where the educational institution is located (same list as areaname). Full information for the graduates of a Ukrainian school of the current year, partially for college graduates and students of a higher education institution. For else the values are NaN.\n",
    "\n",
    "`eotername` – place where the educational institution is located (same list as tername). Full information for the graduates of a Ukrainian school of the current year, partially for college graduates and students of a higher education institution. For else the values are NaN.\n",
    "\n",
    "`eoparent` – the authority to which the educational institution is subordinated. Full information for the graduates of a Ukrainian school of the current year (except 2021), partially for college graduates and students of a higher education institution. For else the values are NaN.\n",
    "\n",
    "`year` - individual's participation year\n",
    "\n",
    "`age` - individual's age at the moment of the participation"
   ]
  },
  {
   "attachments": {},
   "cell_type": "markdown",
   "metadata": {},
   "source": [
    "## Test performance features "
   ]
  },
  {
   "attachments": {},
   "cell_type": "markdown",
   "metadata": {},
   "source": [
    "There are several subjects to choose from:\n",
    "- ukr (ukrainian language and literature)\n",
    "- hist (Ukrainian history)\n",
    "- math (Mathematics)\n",
    "- phys (Physics)\n",
    "- chem (Chemistry)\n",
    "- bio (biology)\n",
    "- geo (geography)\n",
    "- eng (English language)\n",
    "- fr (French language)\n",
    "- deu (Deutch language)\n",
    "- sp (Spanish language)\n",
    "\n",
    "We will decode one of them as `subj` instead of one of the 11 subjects mentioned above."
   ]
  },
  {
   "attachments": {},
   "cell_type": "markdown",
   "metadata": {},
   "source": [
    "So, for each subject we have the following features:\n",
    "\n",
    "`subjtest` - the name of the subject (corresponding name or nan if the participant didn't choose to take it)\n",
    "\n",
    "`subjteststatus` – the result of the test ('The score threshold wasn't reached', 'Test passed', 'No attendance',\n",
    " 'Test results were cancelled', '100-200 wasn't selected', or NaN if the participant didn't choose to take it)\n",
    "       \n",
    "`subjball`– raw score of the corresponding subject for participants with statuses: 'Test passed' and 'The score threshold wasn't reached' by subjteststatus (for else is NaN).\n",
    "\n",
    "`subjptname`– the place of conducting the ZNO (corresponding name or nan if the participant didn't choose to take it)\n",
    "\n",
    "`subjptregname` – the region where the ZNO is conducted (corresponding name, similar to regname, or nan if the participant didn't choose to take it)\n",
    "\n",
    "`subjptareaname` – district/city where the ZNO testing center is located (corresponding name, similar to areaname, or nan if the participant didn't choose to take it)\n",
    "\n",
    "`subjpttername` – place where the ZNO testing center is located (corresponding name, similar to tername, or nan if the participant didn't choose to take it)"
   ]
  },
  {
   "cell_type": "code",
   "execution_count": 9,
   "metadata": {},
   "outputs": [
    {
     "name": "stdout",
     "output_type": "stream",
     "text": [
      "outid : { number: 1458122 , nan: 0 }\n",
      "birth : { number: 58 , nan: 0 }\n",
      "sextypename : ['Male' 'Female'] , nan: 0\n",
      "regname : { number: 25 , nan: 0 }\n",
      "areaname : { number: 561 , nan: 0 }\n",
      "tername : { number: 9366 , nan: 0 }\n",
      "regtypename : ['A graduate of an Ukrainian school of the current year'\n",
      " 'College graduate' 'A student of a higher education institution'\n",
      " 'A graduate of a school of the previous years'\n",
      " 'A graduate of a foreign school'] , nan: 0\n",
      "eoname : { number: 18016 , nan: 160630 }\n",
      "eotypename : { number: 29 , nan: 160630 }\n",
      "eoregname : { number: 26 , nan: 160630 }\n",
      "eoareaname : { number: 686 , nan: 160630 }\n",
      "eotername : { number: 5447 , nan: 160630 }\n",
      "eoparent : { number: 2508 , nan: 164292 }\n",
      "ukrtest : ['Ukrainian language and literature' nan] , nan: 155349\n",
      "ukrteststatus : [\"The score threshold wasn't reached\" 'Test passed' 'No attendance' nan\n",
      " 'Test results were cancelled' \"100-200 wasn't selected\"] , nan: 155349\n",
      "ukrptname : { number: 2388 , nan: 155349 }\n",
      "ukrptregname : { number: 26 , nan: 155349 }\n",
      "ukrptareaname : { number: 388 , nan: 155349 }\n",
      "ukrpttername : { number: 396 , nan: 155349 }\n",
      "histtest : ['History of Ukraine' nan] , nan: 494350\n",
      "histlang : { number: 7 , nan: 494350 }\n",
      "histteststatus : [\"The score threshold wasn't reached\" 'Test passed' nan 'No attendance'\n",
      " 'Test results were cancelled' \"100-200 wasn't selected\"] , nan: 494350\n",
      "histptname : { number: 2037 , nan: 494350 }\n",
      "histptregname : { number: 26 , nan: 494350 }\n",
      "histptareaname : { number: 364 , nan: 494350 }\n",
      "histpttername : { number: 367 , nan: 494350 }\n",
      "mathtest : [nan 'Mathematics'] , nan: 707456\n",
      "mathlang : { number: 7 , nan: 707456 }\n",
      "mathteststatus : [nan 'Test passed' \"The score threshold wasn't reached\" 'No attendance'\n",
      " 'Test results were cancelled' \"100-200 wasn't selected\"] , nan: 707456\n",
      "mathptname : { number: 1850 , nan: 707456 }\n",
      "mathptregname : { number: 26 , nan: 707456 }\n",
      "mathptareaname : { number: 371 , nan: 707456 }\n",
      "mathpttername : { number: 366 , nan: 707456 }\n",
      "phystest : [nan 'Physics'] , nan: 1351033\n",
      "physlang : { number: 7 , nan: 1351033 }\n",
      "physteststatus : [nan \"The score threshold wasn't reached\" 'No attendance' 'Test passed'\n",
      " 'Test results were cancelled' \"100-200 wasn't selected\"] , nan: 1351033\n",
      "physptname : { number: 321 , nan: 1351033 }\n",
      "physptregname : { number: 26 , nan: 1351033 }\n",
      "physptareaname : { number: 98 , nan: 1351033 }\n",
      "physpttername : { number: 83 , nan: 1351033 }\n",
      "chemtest : [nan 'Chemistry'] , nan: 1393819\n",
      "chemlang : { number: 7 , nan: 1393819 }\n",
      "chemteststatus : [nan 'Test passed' \"The score threshold wasn't reached\" 'No attendance'\n",
      " 'Test results were cancelled' \"100-200 wasn't selected\"] , nan: 1393819\n",
      "chemptname : { number: 206 , nan: 1393819 }\n",
      "chemptregname : { number: 26 , nan: 1393819 }\n",
      "chemptareaname : { number: 77 , nan: 1393819 }\n",
      "chempttername : { number: 66 , nan: 1393819 }\n",
      "biotest : ['Biology' nan] , nan: 1053432\n",
      "biolang : { number: 7 , nan: 1053432 }\n",
      "bioteststatus : ['Test passed' nan \"The score threshold wasn't reached\" 'No attendance'\n",
      " 'Test results were cancelled' \"100-200 wasn't selected\"] , nan: 1053432\n",
      "bioptname : { number: 1045 , nan: 1053432 }\n",
      "bioptregname : { number: 26 , nan: 1053432 }\n",
      "bioptareaname : { number: 237 , nan: 1053432 }\n",
      "biopttername : { number: 220 , nan: 1053432 }\n",
      "geotest : [nan 'Geography'] , nan: 991733\n",
      "geolang : [nan 'Ukrainian' 'Russian' 'Hungarian' 'Moldovan' 'Romanian'] , nan: 991733\n",
      "geoteststatus : [nan 'Test passed' 'No attendance' \"The score threshold wasn't reached\"\n",
      " 'Test results were cancelled' \"100-200 wasn't selected\"] , nan: 991733\n",
      "geoptname : { number: 1209 , nan: 991733 }\n",
      "geoptregname : { number: 26 , nan: 991733 }\n",
      "geoptareaname : { number: 254 , nan: 991733 }\n",
      "geopttername : { number: 242 , nan: 991733 }\n",
      "engtest : [nan 'English language'] , nan: 1008593\n",
      "engteststatus : [nan 'Test passed' 'No attendance' \"The score threshold wasn't reached\"\n",
      " 'Test results were cancelled' \"100-200 wasn't selected\"] , nan: 1008593\n",
      "engptname : { number: 818 , nan: 1008593 }\n",
      "engptregname : { number: 26 , nan: 1008593 }\n",
      "engptareaname : { number: 206 , nan: 1008593 }\n",
      "engpttername : { number: 189 , nan: 1008593 }\n",
      "deutest : [nan 'German language'] , nan: 1449002\n",
      "deuteststatus : [nan \"The score threshold wasn't reached\" 'Test passed' 'No attendance'\n",
      " 'Test results were cancelled' \"100-200 wasn't selected\"] , nan: 1449002\n",
      "deuptname : { number: 54 , nan: 1449002 }\n",
      "deuptregname : { number: 23 , nan: 1449002 }\n",
      "deuptareaname : { number: 38 , nan: 1449002 }\n",
      "deupttername : { number: 35 , nan: 1449002 }\n",
      "year : [2018 2019 2020 2021] , nan: 0\n",
      "tertypename : ['Village' 'City' 'Urban-type settlement'] , nan: 0\n",
      "classprofilename : { number: 27 , nan: 278837 }\n",
      "classlangname : { number: 8 , nan: 278837 }\n",
      "fratest : [nan 'French language'] , nan: 1455828\n",
      "frateststatus : [nan 'Test passed' 'No attendance' \"The score threshold wasn't reached\"\n",
      " \"100-200 wasn't selected\"] , nan: 1455828\n",
      "fraptname : { number: 51 , nan: 1455828 }\n",
      "fraptregname : { number: 23 , nan: 1455828 }\n",
      "fraptareaname : { number: 35 , nan: 1455828 }\n",
      "frapttername : { number: 32 , nan: 1455828 }\n",
      "spatest : [nan 'Spanish language'] , nan: 1457412\n",
      "spateststatus : [nan 'Test passed' \"The score threshold wasn't reached\" 'No attendance'\n",
      " 'Test results were cancelled' \"100-200 wasn't selected\"] , nan: 1457412\n",
      "spaptname : { number: 42 , nan: 1457412 }\n",
      "spaptregname : { number: 23 , nan: 1457412 }\n",
      "spaptareaname : { number: 34 , nan: 1457412 }\n",
      "spapttername : { number: 31 , nan: 1457412 }\n",
      "ukrball : { number: 118 , nan: 299531 }\n",
      "histball : { number: 96 , nan: 698260 }\n",
      "mathball : { number: 69 , nan: 800298 }\n",
      "physball : { number: 66 , nan: 1370469 }\n",
      "chemball : { number: 81 , nan: 1403846 }\n",
      "bioball : { number: 84 , nan: 1149792 }\n",
      "geoball : { number: 96 , nan: 1102381 }\n",
      "engdpalevel : [nan 'Profile' 'Standard (academic)'] , nan: 1149185\n",
      "engball : { number: 74 , nan: 1050592 }\n",
      "fradpalevel : [nan 'Profile' 'Standard (academic)'] , nan: 1456928\n",
      "fraball : { number: 68 , nan: 1456191 }\n",
      "deudpalevel : [nan 'Standard (academic)' 'Profile'] , nan: 1453929\n",
      "deuball : { number: 70 , nan: 1450450 }\n",
      "spadpalevel : [nan 'Profile' 'Standard (academic)'] , nan: 1457988\n",
      "spaball : { number: 68 , nan: 1457603 }\n",
      "ukradaptscale : [nan  0.  3.  7.  4.] , nan: 474329\n",
      "age : { number: 59 , nan: 0 }\n"
     ]
    }
   ],
   "source": [
    "for cols in dataset.columns:\n",
    "    print(cols, ':', end=' ')\n",
    "    if len(dataset[cols].unique())>6:\n",
    "        print('{ number:', len(dataset[cols].unique()), ', nan:', dataset[cols].isnull().sum(),'}')\n",
    "    else:\n",
    "        print(dataset[cols].unique(), ', nan:', dataset[cols].isnull().sum())"
   ]
  },
  {
   "cell_type": "code",
   "execution_count": 8,
   "metadata": {},
   "outputs": [
    {
     "data": {
      "text/plain": [
       "eotypename\n",
       "Secondary general education school                                443436\n",
       "Higher educational institution                                    185117\n",
       "Educational complex                                               105778\n",
       "Lyceum                                                            103975\n",
       "Higher educational institution of I-II levels of accreditation     75987\n",
       "Gymnasium                                                          64320\n",
       "Specialized school                                                 63684\n",
       "Professional lyceum of the relevant profile                        48754\n",
       "Institution of vocational education                                48714\n",
       "Institution of professional preliminary higher education           46341\n",
       "Higher vocational school                                           41481\n",
       "Vocational school of the relevant profile                          24808\n",
       "Center of professional and technical education                     12987\n",
       "Educational association                                             8143\n",
       "Center of professional education                                    6266\n",
       "Specialized boarding school                                         3536\n",
       "Collegium                                                           3118\n",
       "Boarding secondary general education school                         2496\n",
       "Night (shift) school                                                1893\n",
       "Higher vocational school of art                                     1837\n",
       "Sanatorium general education school                                 1491\n",
       "Collegium/college                                                    878\n",
       "College                                                              788\n",
       "Center for training and retraining of working personnel              705\n",
       "Special general education school                                     586\n",
       "Special boarding general education school                            328\n",
       "Educational and rehabilitation center                                 41\n",
       "School of social rehabilitation                                        4\n",
       "Name: count, dtype: int64"
      ]
     },
     "execution_count": 8,
     "metadata": {},
     "output_type": "execute_result"
    }
   ],
   "source": [
    "dataset['eotypename'].value_counts()"
   ]
  },
  {
   "cell_type": "code",
   "execution_count": 16,
   "metadata": {},
   "outputs": [
    {
     "data": {
      "text/plain": [
       "array(['College graduate', 'A student of a higher education institution',\n",
       "       'A graduate of a school of the previous years',\n",
       "       'A graduate of a foreign school'], dtype=object)"
      ]
     },
     "execution_count": 16,
     "metadata": {},
     "output_type": "execute_result"
    }
   ],
   "source": [
    "dataset[dataset['classlangname'].isnull()].regtypename.unique()"
   ]
  },
  {
   "cell_type": "code",
   "execution_count": 15,
   "metadata": {},
   "outputs": [
    {
     "data": {
      "text/plain": [
       "array(['A graduate of an Ukrainian school of the current year',\n",
       "       'A student of a higher education institution', 'College graduate'],\n",
       "      dtype=object)"
      ]
     },
     "execution_count": 15,
     "metadata": {},
     "output_type": "execute_result"
    }
   ],
   "source": [
    "dataset[dataset['classlangname'].notnull()].regtypename.unique()"
   ]
  },
  {
   "cell_type": "code",
   "execution_count": 14,
   "metadata": {},
   "outputs": [
    {
     "data": {
      "text/plain": [
       "array(['Physics and mathematics', 'Foreign philology', nan, 'Universal',\n",
       "       'Ukrainian philology', 'Technology', 'Biology and physics',\n",
       "       'Information technology', 'Biotechnology', 'Biology and chemistry',\n",
       "       'Economics', 'History', 'Sports', 'Mathematics', 'Law',\n",
       "       'Other (multi-profile)', 'Military and sports', 'Philosophy',\n",
       "       'Ecology', 'Art and aesthetics', 'Geography', 'Physics',\n",
       "       'Chemical technologies and agrochemistry', 'Biology',\n",
       "       'Physics and chemistry', 'Junior specialist', 'Skilled worker'],\n",
       "      dtype=object)"
      ]
     },
     "execution_count": 14,
     "metadata": {},
     "output_type": "execute_result"
    }
   ],
   "source": [
    "dataset['classprofilename'].unique()"
   ]
  },
  {
   "cell_type": "code",
   "execution_count": 11,
   "metadata": {},
   "outputs": [
    {
     "data": {
      "text/plain": [
       "classprofilename\n",
       "Junior specialist                          227506\n",
       "Ukrainian philology                        187661\n",
       "Universal                                  180839\n",
       "Skilled worker                             147912\n",
       "Foreign philology                           92907\n",
       "Mathematics                                 65655\n",
       "History                                     49086\n",
       "Technology                                  42557\n",
       "Other (multi-profile)                       37815\n",
       "Information technology                      28526\n",
       "Biology and chemistry                       18513\n",
       "Physics and mathematics                     17838\n",
       "Economics                                   16904\n",
       "Law                                         14755\n",
       "Military and sports                          9678\n",
       "Sports                                       9122\n",
       "Biology                                      6953\n",
       "Biotechnology                                6471\n",
       "Ecology                                      5601\n",
       "Geography                                    5121\n",
       "Art and aesthetics                           4115\n",
       "Physics                                      1086\n",
       "Biology and physics                          1042\n",
       "Chemical technologies and agrochemistry      1015\n",
       "Philosophy                                    434\n",
       "Physics and chemistry                         173\n",
       "Name: count, dtype: int64"
      ]
     },
     "execution_count": 11,
     "metadata": {},
     "output_type": "execute_result"
    }
   ],
   "source": [
    "dataset.classprofilename.value_counts()"
   ]
  },
  {
   "cell_type": "code",
   "execution_count": 10,
   "metadata": {},
   "outputs": [
    {
     "data": {
      "text/plain": [
       "classlangname\n",
       "Ukrainian    1117557\n",
       "Russian        53948\n",
       "Romanian        3778\n",
       "Hungarian       2912\n",
       "Moldovan         633\n",
       "Polish           366\n",
       "Other             91\n",
       "Name: count, dtype: int64"
      ]
     },
     "execution_count": 10,
     "metadata": {},
     "output_type": "execute_result"
    }
   ],
   "source": [
    "dataset.classlangname.value_counts()"
   ]
  }
 ],
 "metadata": {
  "kernelspec": {
   "display_name": "Python 3",
   "language": "python",
   "name": "python3"
  },
  "language_info": {
   "codemirror_mode": {
    "name": "ipython",
    "version": 3
   },
   "file_extension": ".py",
   "mimetype": "text/x-python",
   "name": "python",
   "nbconvert_exporter": "python",
   "pygments_lexer": "ipython3",
   "version": "3.11.2"
  },
  "orig_nbformat": 4
 },
 "nbformat": 4,
 "nbformat_minor": 2
}
