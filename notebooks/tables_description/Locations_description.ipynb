{
 "cells": [
  {
   "cell_type": "markdown",
   "metadata": {},
   "source": [
    "# Description of `Locations` table"
   ]
  },
  {
   "cell_type": "code",
   "execution_count": 1,
   "metadata": {},
   "outputs": [],
   "source": [
    "import pandas as pd\n",
    "import seaborn as sns"
   ]
  },
  {
   "cell_type": "code",
   "execution_count": 2,
   "metadata": {},
   "outputs": [
    {
     "data": {
      "text/html": [
       "<div>\n",
       "<style scoped>\n",
       "    .dataframe tbody tr th:only-of-type {\n",
       "        vertical-align: middle;\n",
       "    }\n",
       "\n",
       "    .dataframe tbody tr th {\n",
       "        vertical-align: top;\n",
       "    }\n",
       "\n",
       "    .dataframe thead th {\n",
       "        text-align: right;\n",
       "    }\n",
       "</style>\n",
       "<table border=\"1\" class=\"dataframe\">\n",
       "  <thead>\n",
       "    <tr style=\"text-align: right;\">\n",
       "      <th></th>\n",
       "      <th>regname</th>\n",
       "      <th>areaname</th>\n",
       "      <th>tername</th>\n",
       "      <th>KOATUU_2020</th>\n",
       "      <th>KATOTTG_2023</th>\n",
       "      <th>category</th>\n",
       "      <th>region_name</th>\n",
       "    </tr>\n",
       "  </thead>\n",
       "  <tbody>\n",
       "    <tr>\n",
       "      <th>0</th>\n",
       "      <td>Запорізька область</td>\n",
       "      <td>Мелітопольський район</td>\n",
       "      <td>с.Терпіння</td>\n",
       "      <td>2323085101</td>\n",
       "      <td>UA23080270010078454</td>\n",
       "      <td>village</td>\n",
       "      <td>Zaporizka</td>\n",
       "    </tr>\n",
       "    <tr>\n",
       "      <th>1</th>\n",
       "      <td>Хмельницька область</td>\n",
       "      <td>Красилівський район</td>\n",
       "      <td>м.Красилів</td>\n",
       "      <td>6822710100</td>\n",
       "      <td>UA68040210010032567</td>\n",
       "      <td>town</td>\n",
       "      <td>Khmelnytska</td>\n",
       "    </tr>\n",
       "    <tr>\n",
       "      <th>2</th>\n",
       "      <td>Дніпропетровська область</td>\n",
       "      <td>Петропавлівський район</td>\n",
       "      <td>с.Дмитрівка</td>\n",
       "      <td>1223881501</td>\n",
       "      <td>UA12140170040016918</td>\n",
       "      <td>village</td>\n",
       "      <td>Dnipropetrovska</td>\n",
       "    </tr>\n",
       "    <tr>\n",
       "      <th>3</th>\n",
       "      <td>Чернівецька область</td>\n",
       "      <td>м.Чернівці</td>\n",
       "      <td>Шевченківський район міста</td>\n",
       "      <td>7310100000</td>\n",
       "      <td>UA73060610010033137</td>\n",
       "      <td>town</td>\n",
       "      <td>Chernivetska</td>\n",
       "    </tr>\n",
       "    <tr>\n",
       "      <th>4</th>\n",
       "      <td>Миколаївська область</td>\n",
       "      <td>Врадіївський район</td>\n",
       "      <td>с.Кумарі</td>\n",
       "      <td>4822383001</td>\n",
       "      <td>UA48080050190079797</td>\n",
       "      <td>village</td>\n",
       "      <td>Mykolaivska</td>\n",
       "    </tr>\n",
       "  </tbody>\n",
       "</table>\n",
       "</div>"
      ],
      "text/plain": [
       "                    regname                areaname  \\\n",
       "0        Запорізька область   Мелітопольський район   \n",
       "1       Хмельницька область     Красилівський район   \n",
       "2  Дніпропетровська область  Петропавлівський район   \n",
       "3       Чернівецька область              м.Чернівці   \n",
       "4      Миколаївська область      Врадіївський район   \n",
       "\n",
       "                      tername  KOATUU_2020         KATOTTG_2023 category  \\\n",
       "0                  с.Терпіння   2323085101  UA23080270010078454  village   \n",
       "1                  м.Красилів   6822710100  UA68040210010032567     town   \n",
       "2                 с.Дмитрівка   1223881501  UA12140170040016918  village   \n",
       "3  Шевченківський район міста   7310100000  UA73060610010033137     town   \n",
       "4                    с.Кумарі   4822383001  UA48080050190079797  village   \n",
       "\n",
       "       region_name  \n",
       "0        Zaporizka  \n",
       "1      Khmelnytska  \n",
       "2  Dnipropetrovska  \n",
       "3     Chernivetska  \n",
       "4      Mykolaivska  "
      ]
     },
     "execution_count": 2,
     "metadata": {},
     "output_type": "execute_result"
    }
   ],
   "source": [
    "df = pd.read_csv('../tables_creation/final_tables/locations.csv')\n",
    "df.head()"
   ]
  },
  {
   "cell_type": "code",
   "execution_count": 3,
   "metadata": {},
   "outputs": [
    {
     "name": "stdout",
     "output_type": "stream",
     "text": [
      "<class 'pandas.core.frame.DataFrame'>\n",
      "RangeIndex: 29219 entries, 0 to 29218\n",
      "Data columns (total 7 columns):\n",
      " #   Column        Non-Null Count  Dtype \n",
      "---  ------        --------------  ----- \n",
      " 0   regname       29219 non-null  object\n",
      " 1   areaname      29219 non-null  object\n",
      " 2   tername       29219 non-null  object\n",
      " 3   KOATUU_2020   29219 non-null  int64 \n",
      " 4   KATOTTG_2023  29219 non-null  object\n",
      " 5   category      29219 non-null  object\n",
      " 6   region_name   29219 non-null  object\n",
      "dtypes: int64(1), object(6)\n",
      "memory usage: 1.6+ MB\n"
     ]
    }
   ],
   "source": [
    "df.info()"
   ]
  },
  {
   "cell_type": "code",
   "execution_count": 4,
   "metadata": {},
   "outputs": [
    {
     "name": "stdout",
     "output_type": "stream",
     "text": [
      "Unique length in  regname:\t 58\n",
      "Unique length in  areaname:\t 985\n",
      "Unique length in  tername:\t 18706\n",
      "Unique length in  KOATUU_2020:\t 18542\n",
      "Unique length in  KATOTTG_2023:\t 18542\n",
      "Unique length in  category:\t 6\n",
      "Unique length in  region_name:\t 59\n"
     ]
    }
   ],
   "source": [
    "# print unique values for each column\n",
    "for col in df.columns:\n",
    "    print('Unique length in ', col+':\\t', len(df[col].unique()))"
   ]
  },
  {
   "cell_type": "markdown",
   "metadata": {},
   "source": [
    "Features:\n",
    "- regname (Region name): 58 unique Region names: region, city of Kyiv, other countries names. This column can contain duplicates due to mistakes in the data, better to use only codes.\n",
    "- areaname (Area name): 985 unique Area names: area, city, other countries city. This column can contain duplicates due to mistakes in the data, better to use only codes.\n",
    "- tername (Territory name): 18706 unique Territory names: territory, city area, other countries city. This column can contain duplicates due to mistakes in the data, better to use only codes.\n",
    "- KOATUU_2020 (KOATUU code): 18542 unique codes(a unique digital code for each administrative-territorial entity of Ukraine, used from January 1998 till January 2021): territory, city area, other countries city. KOATUU codes in Ukraine follow a six-digit format. The first two digits signify the region, the next two represent the district, and the following two denote the city or municipality.\n",
    "- KATOTTG_2023 (KATOTTG code): 18542 unique KATOTTG codes(a unique digital code for each administrative-territorial entity of Ukraine, used from January 2021 after decentralization): territory, city area, other countries city.\n",
    "- category (type of the settlement). Range of values:\n",
    "    - city\n",
    "    - town\n",
    "    - settlement\n",
    "    - urban village\n",
    "    - village\n",
    "    - abroad\n",
    "- region_name (English name of the region): 59 unique Region names in English: region, city of Kyiv, other countries names. This column can contain duplicates due to mistakes in the data, better to use only codes."
   ]
  },
  {
   "cell_type": "code",
   "execution_count": null,
   "metadata": {},
   "outputs": [],
   "source": []
  }
 ],
 "metadata": {
  "kernelspec": {
   "display_name": "Python 3 (ipykernel)",
   "language": "python",
   "name": "python3"
  },
  "language_info": {
   "codemirror_mode": {
    "name": "ipython",
    "version": 3
   },
   "file_extension": ".py",
   "mimetype": "text/x-python",
   "name": "python",
   "nbconvert_exporter": "python",
   "pygments_lexer": "ipython3",
   "version": "3.11.3"
  }
 },
 "nbformat": 4,
 "nbformat_minor": 2
}
