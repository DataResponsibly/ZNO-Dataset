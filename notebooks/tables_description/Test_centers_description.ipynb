{
 "cells": [
  {
   "cell_type": "markdown",
   "metadata": {},
   "source": [
    "# Description of `Test centers` table"
   ]
  },
  {
   "cell_type": "code",
   "execution_count": 1,
   "metadata": {},
   "outputs": [],
   "source": [
    "import pandas as pd\n",
    "import seaborn as sns"
   ]
  },
  {
   "cell_type": "code",
   "execution_count": 2,
   "metadata": {},
   "outputs": [
    {
     "data": {
      "text/html": [
       "<div>\n",
       "<style scoped>\n",
       "    .dataframe tbody tr th:only-of-type {\n",
       "        vertical-align: middle;\n",
       "    }\n",
       "\n",
       "    .dataframe tbody tr th {\n",
       "        vertical-align: top;\n",
       "    }\n",
       "\n",
       "    .dataframe thead th {\n",
       "        text-align: right;\n",
       "    }\n",
       "</style>\n",
       "<table border=\"1\" class=\"dataframe\">\n",
       "  <thead>\n",
       "    <tr style=\"text-align: right;\">\n",
       "      <th></th>\n",
       "      <th>ptname</th>\n",
       "      <th>KOATUU_2020</th>\n",
       "      <th>year</th>\n",
       "      <th>EDRPOU</th>\n",
       "    </tr>\n",
       "  </thead>\n",
       "  <tbody>\n",
       "    <tr>\n",
       "      <th>0</th>\n",
       "      <td>Вище професійне училище №11 м. Вінниці</td>\n",
       "      <td>510100000</td>\n",
       "      <td>[2018, 2019, 2020, 2021]</td>\n",
       "      <td>3065891</td>\n",
       "    </tr>\n",
       "    <tr>\n",
       "      <th>1</th>\n",
       "      <td>Відокремлений структурний підрозділ \"Вінницьки...</td>\n",
       "      <td>510100000</td>\n",
       "      <td>[2021]</td>\n",
       "      <td>35725833</td>\n",
       "    </tr>\n",
       "    <tr>\n",
       "      <th>2</th>\n",
       "      <td>Відокремлений структурний підрозділ Вінницький...</td>\n",
       "      <td>510100000</td>\n",
       "      <td>[2021]</td>\n",
       "      <td>38814461</td>\n",
       "    </tr>\n",
       "    <tr>\n",
       "      <th>3</th>\n",
       "      <td>Вінницький коледж Національного університету х...</td>\n",
       "      <td>510100000</td>\n",
       "      <td>[2018, 2019, 2020]</td>\n",
       "      <td>35725833</td>\n",
       "    </tr>\n",
       "    <tr>\n",
       "      <th>4</th>\n",
       "      <td>Вінницький коледж будівництва і архітектури Ки...</td>\n",
       "      <td>510100000</td>\n",
       "      <td>[2016, 2017, 2018, 2019, 2020]</td>\n",
       "      <td>38814461</td>\n",
       "    </tr>\n",
       "    <tr>\n",
       "      <th>...</th>\n",
       "      <td>...</td>\n",
       "      <td>...</td>\n",
       "      <td>...</td>\n",
       "      <td>...</td>\n",
       "    </tr>\n",
       "    <tr>\n",
       "      <th>3353</th>\n",
       "      <td>Школа №199 І-ІІІ ступенів Шевченківського райо...</td>\n",
       "      <td>8039100000</td>\n",
       "      <td>[2016]</td>\n",
       "      <td>22881923</td>\n",
       "    </tr>\n",
       "    <tr>\n",
       "      <th>3354</th>\n",
       "      <td>Школа №25 І-ІІІ ступенів Шевченківського район...</td>\n",
       "      <td>8039100000</td>\n",
       "      <td>[2018, 2019, 2020, 2021]</td>\n",
       "      <td>22880786</td>\n",
       "    </tr>\n",
       "    <tr>\n",
       "      <th>3355</th>\n",
       "      <td>Школа №70 І-ІІІ ступенів Шевченківського район...</td>\n",
       "      <td>8039100000</td>\n",
       "      <td>[2016]</td>\n",
       "      <td>22881828</td>\n",
       "    </tr>\n",
       "    <tr>\n",
       "      <th>3356</th>\n",
       "      <td>Школа №95 І-ІІІ ступенів Шевченківського район...</td>\n",
       "      <td>8039100000</td>\n",
       "      <td>[2017]</td>\n",
       "      <td>26125905</td>\n",
       "    </tr>\n",
       "    <tr>\n",
       "      <th>3357</th>\n",
       "      <td>школа І-ІІІ ступенів №175 ім.В Марченка Шевчен...</td>\n",
       "      <td>8039100000</td>\n",
       "      <td>[2021]</td>\n",
       "      <td>26125940</td>\n",
       "    </tr>\n",
       "  </tbody>\n",
       "</table>\n",
       "<p>3358 rows × 4 columns</p>\n",
       "</div>"
      ],
      "text/plain": [
       "                                                 ptname  KOATUU_2020  \\\n",
       "0                Вище професійне училище №11 м. Вінниці    510100000   \n",
       "1     Відокремлений структурний підрозділ \"Вінницьки...    510100000   \n",
       "2     Відокремлений структурний підрозділ Вінницький...    510100000   \n",
       "3     Вінницький коледж Національного університету х...    510100000   \n",
       "4     Вінницький коледж будівництва і архітектури Ки...    510100000   \n",
       "...                                                 ...          ...   \n",
       "3353  Школа №199 І-ІІІ ступенів Шевченківського райо...   8039100000   \n",
       "3354  Школа №25 І-ІІІ ступенів Шевченківського район...   8039100000   \n",
       "3355  Школа №70 І-ІІІ ступенів Шевченківського район...   8039100000   \n",
       "3356  Школа №95 І-ІІІ ступенів Шевченківського район...   8039100000   \n",
       "3357  школа І-ІІІ ступенів №175 ім.В Марченка Шевчен...   8039100000   \n",
       "\n",
       "                                year    EDRPOU  \n",
       "0           [2018, 2019, 2020, 2021]   3065891  \n",
       "1                             [2021]  35725833  \n",
       "2                             [2021]  38814461  \n",
       "3                 [2018, 2019, 2020]  35725833  \n",
       "4     [2016, 2017, 2018, 2019, 2020]  38814461  \n",
       "...                              ...       ...  \n",
       "3353                          [2016]  22881923  \n",
       "3354        [2018, 2019, 2020, 2021]  22880786  \n",
       "3355                          [2016]  22881828  \n",
       "3356                          [2017]  26125905  \n",
       "3357                          [2021]  26125940  \n",
       "\n",
       "[3358 rows x 4 columns]"
      ]
     },
     "execution_count": 2,
     "metadata": {},
     "output_type": "execute_result"
    }
   ],
   "source": [
    "df = pd.read_csv('../tables_creation/final_tables/test_centers_edrpou.csv')\n",
    "df"
   ]
  },
  {
   "cell_type": "code",
   "execution_count": 3,
   "metadata": {},
   "outputs": [
    {
     "name": "stdout",
     "output_type": "stream",
     "text": [
      "<class 'pandas.core.frame.DataFrame'>\n",
      "RangeIndex: 3358 entries, 0 to 3357\n",
      "Data columns (total 4 columns):\n",
      " #   Column       Non-Null Count  Dtype \n",
      "---  ------       --------------  ----- \n",
      " 0   ptname       3358 non-null   object\n",
      " 1   KOATUU_2020  3358 non-null   int64 \n",
      " 2   year         3358 non-null   object\n",
      " 3   EDRPOU       3358 non-null   int64 \n",
      "dtypes: int64(2), object(2)\n",
      "memory usage: 105.1+ KB\n"
     ]
    }
   ],
   "source": [
    "df.info()"
   ]
  },
  {
   "cell_type": "code",
   "execution_count": 4,
   "metadata": {},
   "outputs": [
    {
     "name": "stdout",
     "output_type": "stream",
     "text": [
      "Unique length in ptname:\t 3339\n",
      "Unique length in KOATUU_2020:\t 507\n",
      "Unique length in EDRPOU:\t 2111\n"
     ]
    }
   ],
   "source": [
    "# unique value count in ptname, KOATUU_2020, EDRPOU\n",
    "print('Unique length in ptname:\\t', len(df['ptname'].unique()))\n",
    "print('Unique length in KOATUU_2020:\\t', len(df['KOATUU_2020'].unique()))\n",
    "print('Unique length in EDRPOU:\\t', len(df['EDRPOU'].unique()))"
   ]
  },
  {
   "cell_type": "markdown",
   "metadata": {},
   "source": [
    "Features:\n",
    "- ptname (name of the test center): 3339 unique test centeres names, where students can pass EIE or NMT. It can be duplicates of test centers names due to mistakes in the data, better to use only EDRPOU.\n",
    "- KOATUU_2020 (KOATUU code): 507 unique location code, where located test center(a unique digital code for each administrative-territorial entity of Ukraine, used from January 1998 till January 2021): territory, city area, other countries city. The first two digits signify the region, the next two represent the district, and the following two denote the city or municipality.\n",
    "- EDRPOU (unique code of the legal entity or physical person): 2110 unique codes of legal entities, who are owners of test centers(unique test centers code)."
   ]
  },
  {
   "cell_type": "markdown",
   "metadata": {},
   "source": []
  }
 ],
 "metadata": {
  "kernelspec": {
   "display_name": "my_conda_env_with_py311",
   "language": "python",
   "name": "python3"
  },
  "language_info": {
   "codemirror_mode": {
    "name": "ipython",
    "version": 3
   },
   "file_extension": ".py",
   "mimetype": "text/x-python",
   "name": "python",
   "nbconvert_exporter": "python",
   "pygments_lexer": "ipython3",
   "version": "3.11.5"
  },
  "orig_nbformat": 4
 },
 "nbformat": 4,
 "nbformat_minor": 2
}
