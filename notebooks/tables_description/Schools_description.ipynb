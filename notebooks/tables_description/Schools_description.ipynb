{
 "cells": [
  {
   "cell_type": "markdown",
   "metadata": {},
   "source": [
    "# Description of `Schools` table"
   ]
  },
  {
   "cell_type": "code",
   "execution_count": 9,
   "metadata": {},
   "outputs": [],
   "source": [
    "import pandas as pd\n",
    "import seaborn as sns\n",
    "sns.set_theme()"
   ]
  },
  {
   "cell_type": "code",
   "execution_count": 6,
   "metadata": {},
   "outputs": [
    {
     "data": {
      "text/html": [
       "<div>\n",
       "<style scoped>\n",
       "    .dataframe tbody tr th:only-of-type {\n",
       "        vertical-align: middle;\n",
       "    }\n",
       "\n",
       "    .dataframe tbody tr th {\n",
       "        vertical-align: top;\n",
       "    }\n",
       "\n",
       "    .dataframe thead th {\n",
       "        text-align: right;\n",
       "    }\n",
       "</style>\n",
       "<table border=\"1\" class=\"dataframe\">\n",
       "  <thead>\n",
       "    <tr style=\"text-align: right;\">\n",
       "      <th></th>\n",
       "      <th>eoname</th>\n",
       "      <th>KOATUU_2020</th>\n",
       "      <th>KOATUU_2020_reg</th>\n",
       "      <th>year</th>\n",
       "      <th>id</th>\n",
       "      <th>EDRPOU</th>\n",
       "    </tr>\n",
       "  </thead>\n",
       "  <tbody>\n",
       "    <tr>\n",
       "      <th>0</th>\n",
       "      <td>Вiдокремлений структурний пiдроздiл \"Краматорс...</td>\n",
       "      <td>510100000</td>\n",
       "      <td>5</td>\n",
       "      <td>[2023]</td>\n",
       "      <td>краматорськийколеджпромисловостнформацйнихтехн...</td>\n",
       "      <td>04601943</td>\n",
       "    </tr>\n",
       "    <tr>\n",
       "      <th>1</th>\n",
       "      <td>ВСП \"Технологічно-промисловий фаховий коледж В...</td>\n",
       "      <td>510100000</td>\n",
       "      <td>5</td>\n",
       "      <td>[2022]</td>\n",
       "      <td>технологчнопромисловийколеджвницькогонацональн...</td>\n",
       "      <td>00419667</td>\n",
       "    </tr>\n",
       "    <tr>\n",
       "      <th>2</th>\n",
       "      <td>Вище професійне училище №11 м. Вінниці</td>\n",
       "      <td>510100000</td>\n",
       "      <td>5</td>\n",
       "      <td>[2018, 2019, 2020, 2021, 2022, 2023]</td>\n",
       "      <td>вищепрофесйнеучилище11мвниц</td>\n",
       "      <td>03065891</td>\n",
       "    </tr>\n",
       "    <tr>\n",
       "      <th>3</th>\n",
       "      <td>Вище художнє професійно-технічне училище № 5 м...</td>\n",
       "      <td>510100000</td>\n",
       "      <td>5</td>\n",
       "      <td>[2023]</td>\n",
       "      <td>вищехудожнпрофесйнотехнчнеучилище5мвниц</td>\n",
       "      <td>02539890</td>\n",
       "    </tr>\n",
       "    <tr>\n",
       "      <th>4</th>\n",
       "      <td>Вище художнє професійно-технічне училище №5 м....</td>\n",
       "      <td>510100000</td>\n",
       "      <td>5</td>\n",
       "      <td>[2018, 2019, 2020, 2021, 2022]</td>\n",
       "      <td>вищехудожнпрофесйнотехнчнеучилище5мвниц</td>\n",
       "      <td>02539890</td>\n",
       "    </tr>\n",
       "  </tbody>\n",
       "</table>\n",
       "</div>"
      ],
      "text/plain": [
       "                                              eoname  KOATUU_2020  \\\n",
       "0  Вiдокремлений структурний пiдроздiл \"Краматорс...    510100000   \n",
       "1  ВСП \"Технологічно-промисловий фаховий коледж В...    510100000   \n",
       "2             Вище професійне училище №11 м. Вінниці    510100000   \n",
       "3  Вище художнє професійно-технічне училище № 5 м...    510100000   \n",
       "4  Вище художнє професійно-технічне училище №5 м....    510100000   \n",
       "\n",
       "   KOATUU_2020_reg                                  year  \\\n",
       "0                5                                [2023]   \n",
       "1                5                                [2022]   \n",
       "2                5  [2018, 2019, 2020, 2021, 2022, 2023]   \n",
       "3                5                                [2023]   \n",
       "4                5        [2018, 2019, 2020, 2021, 2022]   \n",
       "\n",
       "                                                  id    EDRPOU  \n",
       "0  краматорськийколеджпромисловостнформацйнихтехн...  04601943  \n",
       "1  технологчнопромисловийколеджвницькогонацональн...  00419667  \n",
       "2                        вищепрофесйнеучилище11мвниц  03065891  \n",
       "3            вищехудожнпрофесйнотехнчнеучилище5мвниц  02539890  \n",
       "4            вищехудожнпрофесйнотехнчнеучилище5мвниц  02539890  "
      ]
     },
     "execution_count": 6,
     "metadata": {},
     "output_type": "execute_result"
    }
   ],
   "source": [
    "df = pd.read_csv('../tables_creation/final_tables/schools_edrpou.csv')\n",
    "df.drop(columns=['to_change'], inplace=True)\n",
    "df.head()"
   ]
  },
  {
   "cell_type": "code",
   "execution_count": 7,
   "metadata": {},
   "outputs": [
    {
     "name": "stdout",
     "output_type": "stream",
     "text": [
      "<class 'pandas.core.frame.DataFrame'>\n",
      "RangeIndex: 32057 entries, 0 to 32056\n",
      "Data columns (total 6 columns):\n",
      " #   Column           Non-Null Count  Dtype \n",
      "---  ------           --------------  ----- \n",
      " 0   eoname           32057 non-null  object\n",
      " 1   KOATUU_2020      32057 non-null  int64 \n",
      " 2   KOATUU_2020_reg  32057 non-null  int64 \n",
      " 3   year             32057 non-null  object\n",
      " 4   id               32057 non-null  object\n",
      " 5   EDRPOU           32057 non-null  object\n",
      "dtypes: int64(2), object(4)\n",
      "memory usage: 1.5+ MB\n"
     ]
    }
   ],
   "source": [
    "df.info()"
   ]
  },
  {
   "cell_type": "code",
   "execution_count": 8,
   "metadata": {},
   "outputs": [
    {
     "name": "stdout",
     "output_type": "stream",
     "text": [
      "Unique length in  eoname:\t 31903\n",
      "Unique length in  KOATUU_2020:\t 7165\n",
      "Unique length in  KOATUU_2020_reg:\t 25\n",
      "Unique length in  year:\t 165\n",
      "Unique length in  id:\t 26346\n",
      "Unique length in  EDRPOU:\t 12884\n"
     ]
    }
   ],
   "source": [
    "# print unique values for each column\n",
    "for col in df.columns:\n",
    "    print('Unique length in ', col+':\\t', len(df[col].unique()))"
   ]
  },
  {
   "cell_type": "code",
   "execution_count": 10,
   "metadata": {},
   "outputs": [
    {
     "data": {
      "image/png": "[encoded data removed]",
      "text/plain": [
       "<Figure size 640x480 with 1 Axes>"
      ]
     },
     "metadata": {},
     "output_type": "display_data"
    }
   ],
   "source": [
    "plot = sns.countplot(df, x=\"KOATUU_2020_reg\")\n",
    "None"
   ]
  },
  {
   "cell_type": "markdown",
   "metadata": {},
   "source": [
    "Features:\n",
    "- eoname (Name of school): 31903 unique values of the school names which are used\n",
    "- KOATUU_2020 (KOATUU code): 7165 unique codes (a unique digital code for each administrative-territorial entity of Ukraine, used from January 1998 till January 2021) of the schools territories\n",
    "- KOATUU_2020_reg (regional KOATUU code): 25 unique codes of the regions - the upper level of territory codes\n",
    "- year: lists of years in which certain school names (eoname) are used (one school can have different school names in different years). Range of values in lists:\n",
    "    - 2016-2023 (list of integers)\n",
    "- EDRPOU (unique code of the legal entity or physical person): 12884 unique codes of schools, which uniquely define the schools"
   ]
  }
 ],
 "metadata": {
  "kernelspec": {
   "display_name": "Python 3 (ipykernel)",
   "language": "python",
   "name": "python3"
  },
  "language_info": {
   "codemirror_mode": {
    "name": "ipython",
    "version": 3
   },
   "file_extension": ".py",
   "mimetype": "text/x-python",
   "name": "python",
   "nbconvert_exporter": "python",
   "pygments_lexer": "ipython3",
   "version": "3.11.3"
  }
 },
 "nbformat": 4,
 "nbformat_minor": 2
}
