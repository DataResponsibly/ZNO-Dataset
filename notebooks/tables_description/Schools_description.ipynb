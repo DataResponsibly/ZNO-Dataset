{
 "cells": [
  {
   "cell_type": "markdown",
   "metadata": {},
   "source": [
    "# Description of `Schools` table"
   ]
  },
  {
   "cell_type": "code",
   "execution_count": 1,
   "metadata": {},
   "outputs": [],
   "source": [
    "import pandas as pd\n",
    "import seaborn as sns\n",
    "sns.set_theme()"
   ]
  },
  {
   "cell_type": "code",
   "execution_count": 3,
   "metadata": {},
   "outputs": [
    {
     "data": {
      "text/html": [
       "<div>\n",
       "<style scoped>\n",
       "    .dataframe tbody tr th:only-of-type {\n",
       "        vertical-align: middle;\n",
       "    }\n",
       "\n",
       "    .dataframe tbody tr th {\n",
       "        vertical-align: top;\n",
       "    }\n",
       "\n",
       "    .dataframe thead th {\n",
       "        text-align: right;\n",
       "    }\n",
       "</style>\n",
       "<table border=\"1\" class=\"dataframe\">\n",
       "  <thead>\n",
       "    <tr style=\"text-align: right;\">\n",
       "      <th></th>\n",
       "      <th>eoname</th>\n",
       "      <th>KOATUU_2020</th>\n",
       "      <th>year</th>\n",
       "      <th>EDRPOU</th>\n",
       "    </tr>\n",
       "  </thead>\n",
       "  <tbody>\n",
       "    <tr>\n",
       "      <th>0</th>\n",
       "      <td>Вiдокремлений структурний пiдроздiл \"Краматорс...</td>\n",
       "      <td>510100000</td>\n",
       "      <td>[2023]</td>\n",
       "      <td>04601943</td>\n",
       "    </tr>\n",
       "    <tr>\n",
       "      <th>1</th>\n",
       "      <td>ВСП \"Технологічно-промисловий фаховий коледж В...</td>\n",
       "      <td>510100000</td>\n",
       "      <td>[2022]</td>\n",
       "      <td>00419667</td>\n",
       "    </tr>\n",
       "    <tr>\n",
       "      <th>2</th>\n",
       "      <td>Вище професійне училище №11 м. Вінниці</td>\n",
       "      <td>510100000</td>\n",
       "      <td>[2018, 2019, 2020, 2021, 2022, 2023]</td>\n",
       "      <td>03065891</td>\n",
       "    </tr>\n",
       "    <tr>\n",
       "      <th>3</th>\n",
       "      <td>Вище художнє професійно-технічне училище № 5 м...</td>\n",
       "      <td>510100000</td>\n",
       "      <td>[2023]</td>\n",
       "      <td>02539890</td>\n",
       "    </tr>\n",
       "    <tr>\n",
       "      <th>4</th>\n",
       "      <td>Вище художнє професійно-технічне училище №5 м....</td>\n",
       "      <td>510100000</td>\n",
       "      <td>[2018, 2019, 2020, 2021, 2022]</td>\n",
       "      <td>02539890</td>\n",
       "    </tr>\n",
       "  </tbody>\n",
       "</table>\n",
       "</div>"
      ],
      "text/plain": [
       "                                              eoname  KOATUU_2020  \\\n",
       "0  Вiдокремлений структурний пiдроздiл \"Краматорс...    510100000   \n",
       "1  ВСП \"Технологічно-промисловий фаховий коледж В...    510100000   \n",
       "2             Вище професійне училище №11 м. Вінниці    510100000   \n",
       "3  Вище художнє професійно-технічне училище № 5 м...    510100000   \n",
       "4  Вище художнє професійно-технічне училище №5 м....    510100000   \n",
       "\n",
       "                                   year    EDRPOU  \n",
       "0                                [2023]  04601943  \n",
       "1                                [2022]  00419667  \n",
       "2  [2018, 2019, 2020, 2021, 2022, 2023]  03065891  \n",
       "3                                [2023]  02539890  \n",
       "4        [2018, 2019, 2020, 2021, 2022]  02539890  "
      ]
     },
     "execution_count": 3,
     "metadata": {},
     "output_type": "execute_result"
    }
   ],
   "source": [
    "df = pd.read_csv('../tables_creation/final_tables/schools_edrpou.csv')\n",
    "df.head()"
   ]
  },
  {
   "cell_type": "code",
   "execution_count": 4,
   "metadata": {},
   "outputs": [
    {
     "name": "stdout",
     "output_type": "stream",
     "text": [
      "<class 'pandas.core.frame.DataFrame'>\n",
      "RangeIndex: 32060 entries, 0 to 32059\n",
      "Data columns (total 4 columns):\n",
      " #   Column       Non-Null Count  Dtype \n",
      "---  ------       --------------  ----- \n",
      " 0   eoname       32060 non-null  object\n",
      " 1   KOATUU_2020  32060 non-null  int64 \n",
      " 2   year         32060 non-null  object\n",
      " 3   EDRPOU       32060 non-null  object\n",
      "dtypes: int64(1), object(3)\n",
      "memory usage: 1002.0+ KB\n"
     ]
    }
   ],
   "source": [
    "df.info()"
   ]
  },
  {
   "cell_type": "code",
   "execution_count": 5,
   "metadata": {},
   "outputs": [
    {
     "name": "stdout",
     "output_type": "stream",
     "text": [
      "Unique length in  eoname:\t 31904\n",
      "Unique length in  KOATUU_2020:\t 7165\n",
      "Unique length in  year:\t 165\n",
      "Unique length in  EDRPOU:\t 12885\n"
     ]
    }
   ],
   "source": [
    "# print unique values for each column\n",
    "for col in df.columns:\n",
    "    print('Unique length in ', col+':\\t', len(df[col].unique()))"
   ]
  },
  {
   "cell_type": "markdown",
   "metadata": {},
   "source": [
    "Features:\n",
    "- eoname (Name of school): 31904 unique values of the school names which are used. It can be duplicates of schools due to mistakes in the data, better to use only EDRPOU.\n",
    "- KOATUU_2020 (KOATUU code): 7165 unique codes (a unique digital code for each administrative-territorial entity of Ukraine, used from January 1998 till January 2021) of the schools territories. KOATUU codes in Ukraine follow a six-digit format. The first two digits signify the region, the next two represent the district, and the following two denote the city or municipality.\n",
    "- year: lists of years in which certain school names (eoname) are used (one school can have different school names in different years). Range of values in lists:\n",
    "    - 2016-2023 (list of integers)\n",
    "- EDRPOU (unique code of the legal entity or physical person): 12885 unique codes of schools, which uniquely define the schools."
   ]
  }
 ],
 "metadata": {
  "kernelspec": {
   "display_name": "Python 3 (ipykernel)",
   "language": "python",
   "name": "python3"
  },
  "language_info": {
   "codemirror_mode": {
    "name": "ipython",
    "version": 3
   },
   "file_extension": ".py",
   "mimetype": "text/x-python",
   "name": "python",
   "nbconvert_exporter": "python",
   "pygments_lexer": "ipython3",
   "version": "3.11.5"
  }
 },
 "nbformat": 4,
 "nbformat_minor": 2
}
