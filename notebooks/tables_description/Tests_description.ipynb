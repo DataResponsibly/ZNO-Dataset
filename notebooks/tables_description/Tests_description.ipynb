{
 "cells": [
  {
   "cell_type": "markdown",
   "id": "8e10455b",
   "metadata": {},
   "source": [
    "# Description of `Tests` table"
   ]
  },
  {
   "cell_type": "code",
   "execution_count": 1,
   "id": "0029821c",
   "metadata": {},
   "outputs": [],
   "source": [
    "import pandas as pd\n",
    "import seaborn as sns"
   ]
  },
  {
   "cell_type": "code",
   "execution_count": 2,
   "id": "800ebfc0",
   "metadata": {},
   "outputs": [
    {
     "data": {
      "text/html": [
       "<div>\n",
       "<style scoped>\n",
       "    .dataframe tbody tr th:only-of-type {\n",
       "        vertical-align: middle;\n",
       "    }\n",
       "\n",
       "    .dataframe tbody tr th {\n",
       "        vertical-align: top;\n",
       "    }\n",
       "\n",
       "    .dataframe thead th {\n",
       "        text-align: right;\n",
       "    }\n",
       "</style>\n",
       "<table border=\"1\" class=\"dataframe\">\n",
       "  <thead>\n",
       "    <tr style=\"text-align: right;\">\n",
       "      <th></th>\n",
       "      <th>test_type</th>\n",
       "      <th>test_subject</th>\n",
       "    </tr>\n",
       "  </thead>\n",
       "  <tbody>\n",
       "    <tr>\n",
       "      <th>0</th>\n",
       "      <td>EIE</td>\n",
       "      <td>ukrtest</td>\n",
       "    </tr>\n",
       "    <tr>\n",
       "      <th>1</th>\n",
       "      <td>EIE</td>\n",
       "      <td>phystest</td>\n",
       "    </tr>\n",
       "    <tr>\n",
       "      <th>2</th>\n",
       "      <td>EIE</td>\n",
       "      <td>mathtest</td>\n",
       "    </tr>\n",
       "    <tr>\n",
       "      <th>3</th>\n",
       "      <td>EIE</td>\n",
       "      <td>chemtest</td>\n",
       "    </tr>\n",
       "    <tr>\n",
       "      <th>4</th>\n",
       "      <td>EIE</td>\n",
       "      <td>ukrsubtest</td>\n",
       "    </tr>\n",
       "    <tr>\n",
       "      <th>5</th>\n",
       "      <td>EIE</td>\n",
       "      <td>geotest</td>\n",
       "    </tr>\n",
       "    <tr>\n",
       "      <th>6</th>\n",
       "      <td>EIE</td>\n",
       "      <td>engtest</td>\n",
       "    </tr>\n",
       "    <tr>\n",
       "      <th>7</th>\n",
       "      <td>EIE</td>\n",
       "      <td>mathsttest</td>\n",
       "    </tr>\n",
       "    <tr>\n",
       "      <th>8</th>\n",
       "      <td>EIE</td>\n",
       "      <td>deutest</td>\n",
       "    </tr>\n",
       "    <tr>\n",
       "      <th>9</th>\n",
       "      <td>EIE</td>\n",
       "      <td>rustest</td>\n",
       "    </tr>\n",
       "    <tr>\n",
       "      <th>10</th>\n",
       "      <td>EIE</td>\n",
       "      <td>fratest</td>\n",
       "    </tr>\n",
       "    <tr>\n",
       "      <th>11</th>\n",
       "      <td>EIE</td>\n",
       "      <td>biotest</td>\n",
       "    </tr>\n",
       "    <tr>\n",
       "      <th>12</th>\n",
       "      <td>EIE</td>\n",
       "      <td>spatest</td>\n",
       "    </tr>\n",
       "    <tr>\n",
       "      <th>13</th>\n",
       "      <td>EIE</td>\n",
       "      <td>umltest</td>\n",
       "    </tr>\n",
       "    <tr>\n",
       "      <th>14</th>\n",
       "      <td>EIE</td>\n",
       "      <td>histtest</td>\n",
       "    </tr>\n",
       "    <tr>\n",
       "      <th>15</th>\n",
       "      <td>NMT</td>\n",
       "      <td>ukrtest</td>\n",
       "    </tr>\n",
       "    <tr>\n",
       "      <th>16</th>\n",
       "      <td>NMT</td>\n",
       "      <td>histtest</td>\n",
       "    </tr>\n",
       "    <tr>\n",
       "      <th>17</th>\n",
       "      <td>NMT</td>\n",
       "      <td>mathtest</td>\n",
       "    </tr>\n",
       "    <tr>\n",
       "      <th>18</th>\n",
       "      <td>NMT</td>\n",
       "      <td>phystest</td>\n",
       "    </tr>\n",
       "    <tr>\n",
       "      <th>19</th>\n",
       "      <td>NMT</td>\n",
       "      <td>chemtest</td>\n",
       "    </tr>\n",
       "    <tr>\n",
       "      <th>20</th>\n",
       "      <td>NMT</td>\n",
       "      <td>biotest</td>\n",
       "    </tr>\n",
       "    <tr>\n",
       "      <th>21</th>\n",
       "      <td>NMT</td>\n",
       "      <td>engtest</td>\n",
       "    </tr>\n",
       "    <tr>\n",
       "      <th>22</th>\n",
       "      <td>NMT</td>\n",
       "      <td>fratest</td>\n",
       "    </tr>\n",
       "    <tr>\n",
       "      <th>23</th>\n",
       "      <td>NMT</td>\n",
       "      <td>deutest</td>\n",
       "    </tr>\n",
       "    <tr>\n",
       "      <th>24</th>\n",
       "      <td>NMT</td>\n",
       "      <td>spatest</td>\n",
       "    </tr>\n",
       "  </tbody>\n",
       "</table>\n",
       "</div>"
      ],
      "text/plain": [
       "   test_type test_subject\n",
       "0        EIE      ukrtest\n",
       "1        EIE     phystest\n",
       "2        EIE     mathtest\n",
       "3        EIE     chemtest\n",
       "4        EIE   ukrsubtest\n",
       "5        EIE      geotest\n",
       "6        EIE      engtest\n",
       "7        EIE   mathsttest\n",
       "8        EIE      deutest\n",
       "9        EIE      rustest\n",
       "10       EIE      fratest\n",
       "11       EIE      biotest\n",
       "12       EIE      spatest\n",
       "13       EIE      umltest\n",
       "14       EIE     histtest\n",
       "15       NMT      ukrtest\n",
       "16       NMT     histtest\n",
       "17       NMT     mathtest\n",
       "18       NMT     phystest\n",
       "19       NMT     chemtest\n",
       "20       NMT      biotest\n",
       "21       NMT      engtest\n",
       "22       NMT      fratest\n",
       "23       NMT      deutest\n",
       "24       NMT      spatest"
      ]
     },
     "execution_count": 2,
     "metadata": {},
     "output_type": "execute_result"
    }
   ],
   "source": [
    "df = pd.read_csv('../tables_creation/final_tables/subjects.csv')\n",
    "df"
   ]
  },
  {
   "cell_type": "code",
   "execution_count": 3,
   "id": "63d4459d",
   "metadata": {},
   "outputs": [
    {
     "data": {
      "text/plain": [
       "test_type        2\n",
       "test_subject    15\n",
       "dtype: int64"
      ]
     },
     "execution_count": 3,
     "metadata": {},
     "output_type": "execute_result"
    }
   ],
   "source": [
    "df.nunique()"
   ]
  },
  {
   "cell_type": "code",
   "execution_count": 4,
   "id": "eae69b1e",
   "metadata": {},
   "outputs": [
    {
     "data": {
      "text/plain": [
       "['EIE', 'NMT']"
      ]
     },
     "execution_count": 4,
     "metadata": {},
     "output_type": "execute_result"
    }
   ],
   "source": [
    "df['test_type'].unique().tolist()"
   ]
  },
  {
   "cell_type": "code",
   "execution_count": 5,
   "id": "3ae9ea0f",
   "metadata": {},
   "outputs": [
    {
     "data": {
      "text/plain": [
       "['ukrtest',\n",
       " 'phystest',\n",
       " 'mathtest',\n",
       " 'chemtest',\n",
       " 'ukrsubtest',\n",
       " 'geotest',\n",
       " 'engtest',\n",
       " 'mathsttest',\n",
       " 'deutest',\n",
       " 'rustest',\n",
       " 'fratest',\n",
       " 'biotest',\n",
       " 'spatest',\n",
       " 'umltest',\n",
       " 'histtest']"
      ]
     },
     "execution_count": 5,
     "metadata": {},
     "output_type": "execute_result"
    }
   ],
   "source": [
    "df['test_subject'].unique().tolist()"
   ]
  },
  {
   "cell_type": "markdown",
   "id": "adbbf709",
   "metadata": {},
   "source": [
    "Features:\n",
    "\n",
    "- test_type (type of test): Range of values:\n",
    "    - EIE: test which was held in 2016-2021 years\n",
    "    - NMT: test which was held in 2022-2023 years\n",
    "- test_subject (name of test subject): Range of values:\n",
    "    - umltest: Ukrainian language and literature test\n",
    "    - ukrsubtest (це що?)\n",
    "    - ukrtest (і це, в чому різниця?)\n",
    "    - mathsttest: standard math test (а в роки в які немає рівнів??)\n",
    "    - mathtest: math test\n",
    "    - histtest: history test\n",
    "    - biotest: biology test\n",
    "    - geotest: geography test\n",
    "    - chemtest: chemistry test\n",
    "    - phystest: physics test\n",
    "    - engtest: English language test\n",
    "    - fratest: French language test\n",
    "    - deutest: German language test\n",
    "    - spatest: Spanish language test\n",
    "    - rustest: russian language test"
   ]
  }
 ],
 "metadata": {
  "kernelspec": {
   "display_name": "Python 3 (ipykernel)",
   "language": "python",
   "name": "python3"
  },
  "language_info": {
   "codemirror_mode": {
    "name": "ipython",
    "version": 3
   },
   "file_extension": ".py",
   "mimetype": "text/x-python",
   "name": "python",
   "nbconvert_exporter": "python",
   "pygments_lexer": "ipython3",
   "version": "3.11.5"
  }
 },
 "nbformat": 4,
 "nbformat_minor": 5
}
