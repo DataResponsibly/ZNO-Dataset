{
 "cells": [
  {
   "cell_type": "markdown",
   "metadata": {},
   "source": [
    "# Description of `Students_Take_Tests` table"
   ]
  },
  {
   "cell_type": "code",
   "execution_count": 1,
   "metadata": {},
   "outputs": [],
   "source": [
    "import pandas as pd\n",
    "import seaborn as sns"
   ]
  },
  {
   "cell_type": "code",
   "execution_count": 2,
   "metadata": {},
   "outputs": [
    {
     "data": {
      "text/html": [
       "<div>\n",
       "<style scoped>\n",
       "    .dataframe tbody tr th:only-of-type {\n",
       "        vertical-align: middle;\n",
       "    }\n",
       "\n",
       "    .dataframe tbody tr th {\n",
       "        vertical-align: top;\n",
       "    }\n",
       "\n",
       "    .dataframe thead th {\n",
       "        text-align: right;\n",
       "    }\n",
       "</style>\n",
       "<table border=\"1\" class=\"dataframe\">\n",
       "  <thead>\n",
       "    <tr style=\"text-align: right;\">\n",
       "      <th></th>\n",
       "      <th>outid</th>\n",
       "      <th>year</th>\n",
       "      <th>score100</th>\n",
       "      <th>score12</th>\n",
       "      <th>score</th>\n",
       "      <th>test_status</th>\n",
       "      <th>test_subject</th>\n",
       "      <th>test_type</th>\n",
       "      <th>KOATUU_2020</th>\n",
       "      <th>EDRPOU_test_centers</th>\n",
       "    </tr>\n",
       "  </thead>\n",
       "  <tbody>\n",
       "    <tr>\n",
       "      <th>0</th>\n",
       "      <td>00000AC7-CDDE-4C77-B979-8B0351AF1305</td>\n",
       "      <td>2017</td>\n",
       "      <td>161.0</td>\n",
       "      <td>9.0</td>\n",
       "      <td>NaN</td>\n",
       "      <td>Accepted</td>\n",
       "      <td>ukrtest</td>\n",
       "      <td>EIE</td>\n",
       "      <td>5.110137e+09</td>\n",
       "      <td>20995060.0</td>\n",
       "    </tr>\n",
       "    <tr>\n",
       "      <th>1</th>\n",
       "      <td>00000dce-36de-4d58-9dc2-7ffc824f597a</td>\n",
       "      <td>2021</td>\n",
       "      <td>NaN</td>\n",
       "      <td>NaN</td>\n",
       "      <td>NaN</td>\n",
       "      <td>Absent</td>\n",
       "      <td>ukrtest</td>\n",
       "      <td>EIE</td>\n",
       "      <td>1.810700e+09</td>\n",
       "      <td>22061344.0</td>\n",
       "    </tr>\n",
       "    <tr>\n",
       "      <th>2</th>\n",
       "      <td>00001a8d-fff5-4c7c-bea2-b0157f7c5655</td>\n",
       "      <td>2021</td>\n",
       "      <td>128.0</td>\n",
       "      <td>6.0</td>\n",
       "      <td>31.0</td>\n",
       "      <td>Accepted</td>\n",
       "      <td>ukrtest</td>\n",
       "      <td>EIE</td>\n",
       "      <td>7.110136e+09</td>\n",
       "      <td>25922746.0</td>\n",
       "    </tr>\n",
       "    <tr>\n",
       "      <th>3</th>\n",
       "      <td>0000268f-9fdd-49b2-9ee2-422778c9c4f1</td>\n",
       "      <td>2016</td>\n",
       "      <td>160.0</td>\n",
       "      <td>8.0</td>\n",
       "      <td>NaN</td>\n",
       "      <td>Received results</td>\n",
       "      <td>ukrtest</td>\n",
       "      <td>EIE</td>\n",
       "      <td>6.310137e+09</td>\n",
       "      <td>24486622.0</td>\n",
       "    </tr>\n",
       "    <tr>\n",
       "      <th>4</th>\n",
       "      <td>0000324e-f525-49c4-a963-8df0cc02d6d5</td>\n",
       "      <td>2018</td>\n",
       "      <td>166.0</td>\n",
       "      <td>9.0</td>\n",
       "      <td>69.0</td>\n",
       "      <td>Accepted</td>\n",
       "      <td>ukrtest</td>\n",
       "      <td>EIE</td>\n",
       "      <td>4.611200e+09</td>\n",
       "      <td>34387362.0</td>\n",
       "    </tr>\n",
       "  </tbody>\n",
       "</table>\n",
       "</div>"
      ],
      "text/plain": [
       "                                  outid  year  score100  score12  score  \\\n",
       "0  00000AC7-CDDE-4C77-B979-8B0351AF1305  2017     161.0      9.0    NaN   \n",
       "1  00000dce-36de-4d58-9dc2-7ffc824f597a  2021       NaN      NaN    NaN   \n",
       "2  00001a8d-fff5-4c7c-bea2-b0157f7c5655  2021     128.0      6.0   31.0   \n",
       "3  0000268f-9fdd-49b2-9ee2-422778c9c4f1  2016     160.0      8.0    NaN   \n",
       "4  0000324e-f525-49c4-a963-8df0cc02d6d5  2018     166.0      9.0   69.0   \n",
       "\n",
       "        test_status test_subject test_type   KOATUU_2020  EDRPOU_test_centers  \n",
       "0          Accepted      ukrtest       EIE  5.110137e+09           20995060.0  \n",
       "1            Absent      ukrtest       EIE  1.810700e+09           22061344.0  \n",
       "2          Accepted      ukrtest       EIE  7.110136e+09           25922746.0  \n",
       "3  Received results      ukrtest       EIE  6.310137e+09           24486622.0  \n",
       "4          Accepted      ukrtest       EIE  4.611200e+09           34387362.0  "
      ]
     },
     "execution_count": 2,
     "metadata": {},
     "output_type": "execute_result"
    }
   ],
   "source": [
    "df = pd.read_csv('../tables_creation/final_tables/students_take_tests.csv')\n",
    "df.rename(columns = {'EDRPOU':'EDRPOU_test_centers'}, inplace=True)\n",
    "df.head()"
   ]
  },
  {
   "cell_type": "code",
   "execution_count": 3,
   "metadata": {},
   "outputs": [
    {
     "name": "stdout",
     "output_type": "stream",
     "text": [
      "<class 'pandas.core.frame.DataFrame'>\n",
      "RangeIndex: 10597976 entries, 0 to 10597975\n",
      "Data columns (total 10 columns):\n",
      " #   Column               Dtype  \n",
      "---  ------               -----  \n",
      " 0   outid                object \n",
      " 1   year                 int64  \n",
      " 2   score100             float64\n",
      " 3   score12              float64\n",
      " 4   score                float64\n",
      " 5   test_status          object \n",
      " 6   test_subject         object \n",
      " 7   test_type            object \n",
      " 8   KOATUU_2020          float64\n",
      " 9   EDRPOU_test_centers  float64\n",
      "dtypes: float64(5), int64(1), object(4)\n",
      "memory usage: 808.6+ MB\n"
     ]
    }
   ],
   "source": [
    "df.info()"
   ]
  },
  {
   "cell_type": "code",
   "execution_count": 4,
   "metadata": {},
   "outputs": [
    {
     "name": "stdout",
     "output_type": "stream",
     "text": [
      "Unique length in  outid:\t 2490052\n",
      "Unique length in  year:\t 8\n",
      "Unique length in  score100:\t 117\n",
      "Unique length in  score12:\t 13\n",
      "Unique length in  score:\t 106\n",
      "Unique length in  test_status:\t 8\n",
      "Unique length in  test_subject:\t 14\n",
      "Unique length in  test_type:\t 2\n",
      "Unique length in  KOATUU_2020:\t 634\n",
      "Unique length in  EDRPOU_test_centers:\t 2111\n"
     ]
    }
   ],
   "source": [
    "# print unique values for each column\n",
    "for col in df.columns:\n",
    "    print('Unique length in ', col+':\\t', len(df[col].unique()))"
   ]
  },
  {
   "cell_type": "code",
   "execution_count": 5,
   "metadata": {},
   "outputs": [
    {
     "name": "stdout",
     "output_type": "stream",
     "text": [
      "score100 \t 0.0 \t 127.51 \t 200.0\n",
      "score12 \t 1.0 \t 6.67 \t 12.0\n",
      "score \t 0.0 \t 32.49 \t 104.0\n"
     ]
    }
   ],
   "source": [
    "# min, mean and max values for scores columns\n",
    "for col in df.columns:\n",
    "    if 'score' in col:\n",
    "        print(col, '\\t', df[col].min(), '\\t', round(df[col].mean(),2), '\\t', df[col].max())"
   ]
  },
  {
   "cell_type": "markdown",
   "metadata": {},
   "source": [
    "Features:\n",
    "- outid (Student ID): 2490052 unique  students identifiers\n",
    "- year (Year): year when student pass test. Range of values:\n",
    "    - 2018-2023 (integer)\n",
    "- score100 (Test score): 117 unique score of student in 100-point scale. Range of values:\n",
    "    - N/A: when student didn't pass this test\n",
    "    - 100-200 (integer)\n",
    "- score12 (Test Score in school 12-point scale): 13 unique score of student in 12-point scale. Range of values:\n",
    "    - N/A: when student didn't pass this test\n",
    "    - 1-12 (integer)\n",
    "- score (Raw test score). 106 unique scores values. Different scale for each subject. Range of values:\n",
    "    - N/A: when student didn't pass this test\n",
    "    - 0-104 (integer)\n",
    "- test_status:\n",
    "    - Accepted: when student passed the test\n",
    "    - Absent: when student didn't appear on the test\n",
    "    - Received results: when student passed the test and received results\n",
    "    - Did not pass the threshold: when student passed the test, but didn't pass the threshold\n",
    "    - Failed: when student passed the test, but failed\n",
    "    - Canceled: when student passed the test, but canceled the results\n",
    "    - Not selected 100-200: when student passed the test, but didn't get 100-200 points\n",
    "    - Not registered for the main session: when student didn't appear on the test\n",
    "- test_type (type of test): Range of values:\n",
    "    - EIE: test which was held in 2016-2021 years\n",
    "    - NMT: test which was held in 2022-2023 years\n",
    "- test_subject (name of test subject): Range of values:\n",
    "    - umltest: Ukrainian language and literature test\n",
    "    - ukrsubtest: Ukrainian language test only for school graduates\n",
    "    - ukrtest: Ukrainian language test \n",
    "    - mathsttest: Standard math test \n",
    "    - mathtest: Math test\n",
    "    - histtest: History test\n",
    "    - biotest: Biology test\n",
    "    - geotest: Geography test\n",
    "    - chemtest: Chemistry test\n",
    "    - phystest: Physics test\n",
    "    - engtest: English language test\n",
    "    - fratest: French language test\n",
    "    - deutest: German language test\n",
    "    - spatest: Spanish language test\n",
    "    - rustest: russian language test\n",
    "- KOATUU_2020 (KOATUU code): 634 unique codes(a unique digital code for each administrative-territorial entity of Ukraine, used from January 1998 till January 2021): territory, city area, other countries city for test centers. The first two digits signify the region, the next two represent the district, and the following two denote the city or municipality.\n",
    "- EDRPOU(unique code of the legal entity or physical person): 2111 unique codes of legal entities, who are owners of test centers(unique test centers code)."
   ]
  },
  {
   "cell_type": "markdown",
   "metadata": {},
   "source": []
  }
 ],
 "metadata": {
  "kernelspec": {
   "display_name": "my_conda_env_with_py311",
   "language": "python",
   "name": "python3"
  },
  "language_info": {
   "codemirror_mode": {
    "name": "ipython",
    "version": 3
   },
   "file_extension": ".py",
   "mimetype": "text/x-python",
   "name": "python",
   "nbconvert_exporter": "python",
   "pygments_lexer": "ipython3",
   "version": "3.11.5"
  },
  "orig_nbformat": 4
 },
 "nbformat": 4,
 "nbformat_minor": 2
}
