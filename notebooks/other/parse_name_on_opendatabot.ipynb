{
 "cells": [
  {
   "cell_type": "code",
   "execution_count": 1,
   "metadata": {},
   "outputs": [],
   "source": [
    "import pandas as pd\n",
    "import requests\n",
    "from bs4 import BeautifulSoup"
   ]
  },
  {
   "cell_type": "code",
   "execution_count": 3,
   "metadata": {},
   "outputs": [
    {
     "data": {
      "text/html": [
       "<div>\n",
       "<style scoped>\n",
       "    .dataframe tbody tr th:only-of-type {\n",
       "        vertical-align: middle;\n",
       "    }\n",
       "\n",
       "    .dataframe tbody tr th {\n",
       "        vertical-align: top;\n",
       "    }\n",
       "\n",
       "    .dataframe thead th {\n",
       "        text-align: right;\n",
       "    }\n",
       "</style>\n",
       "<table border=\"1\" class=\"dataframe\">\n",
       "  <thead>\n",
       "    <tr style=\"text-align: right;\">\n",
       "      <th></th>\n",
       "      <th>eoname</th>\n",
       "      <th>KOATUU_2020</th>\n",
       "      <th>id</th>\n",
       "      <th>Код ЄДРПОУ</th>\n",
       "      <th>url</th>\n",
       "    </tr>\n",
       "  </thead>\n",
       "  <tbody>\n",
       "    <tr>\n",
       "      <th>0</th>\n",
       "      <td>Кулевчанська загальноосвітня школа I-III ступе...</td>\n",
       "      <td>5124581730</td>\n",
       "      <td>кулевчанськазагальноосвтняшкола3ступенвсаратсь...</td>\n",
       "      <td>NaN</td>\n",
       "      <td>https://opendatabot.ua/c/25814353</td>\n",
       "    </tr>\n",
       "    <tr>\n",
       "      <th>1</th>\n",
       "      <td>Комунальний заклад \"Середня загальноосвітня шк...</td>\n",
       "      <td>1210436600</td>\n",
       "      <td>комунальнийзакладсереднязагальноосвтняшкола№30...</td>\n",
       "      <td>NaN</td>\n",
       "      <td>https://opendatabot.ua/c/20291034</td>\n",
       "    </tr>\n",
       "    <tr>\n",
       "      <th>2</th>\n",
       "      <td>Ковалівська загальноосвітня школа І-ІІІ ступенів</td>\n",
       "      <td>2623282601</td>\n",
       "      <td>ковалвськазагальноосвтняшкола3ступенв</td>\n",
       "      <td>NaN</td>\n",
       "      <td>https://opendatabot.ua/c/23588837</td>\n",
       "    </tr>\n",
       "    <tr>\n",
       "      <th>3</th>\n",
       "      <td>Кам'янське вище професійне училище</td>\n",
       "      <td>1210436900</td>\n",
       "      <td>камянськевищепрофесйнеучилище</td>\n",
       "      <td>NaN</td>\n",
       "      <td>https://opendatabot.ua/c/02541496</td>\n",
       "    </tr>\n",
       "    <tr>\n",
       "      <th>4</th>\n",
       "      <td>Іллінецька загальноосвітня школа I-III ступені...</td>\n",
       "      <td>521210100</td>\n",
       "      <td>ллнецьказагальноосвтняшкола3ступенв№1ллнецьком...</td>\n",
       "      <td>NaN</td>\n",
       "      <td>https://opendatabot.ua/c/13307208</td>\n",
       "    </tr>\n",
       "    <tr>\n",
       "      <th>...</th>\n",
       "      <td>...</td>\n",
       "      <td>...</td>\n",
       "      <td>...</td>\n",
       "      <td>...</td>\n",
       "      <td>...</td>\n",
       "    </tr>\n",
       "    <tr>\n",
       "      <th>4465</th>\n",
       "      <td>Комунальний заклад освіти \"Дніпропетровський н...</td>\n",
       "      <td>1210137800</td>\n",
       "      <td>комунальнийзакладосвтиднпропетровськийнавчальн...</td>\n",
       "      <td>NaN</td>\n",
       "      <td>https://opendatabot.ua/c/21929243</td>\n",
       "    </tr>\n",
       "    <tr>\n",
       "      <th>4466</th>\n",
       "      <td>Федорівський заклад загальної середньої освіти...</td>\n",
       "      <td>6524484501</td>\n",
       "      <td>федорвськийзакладзагальносередньоосвтиновотроц...</td>\n",
       "      <td>NaN</td>\n",
       "      <td>https://opendatabot.ua/c/24750935</td>\n",
       "    </tr>\n",
       "    <tr>\n",
       "      <th>4467</th>\n",
       "      <td>Волицька загальноосвітня школа І-ІІІ ступенів ...</td>\n",
       "      <td>4624881101</td>\n",
       "      <td>волицьказагальноосвтняшкола3ступенвсокальськор...</td>\n",
       "      <td>NaN</td>\n",
       "      <td>https://opendatabot.ua/c/25548733</td>\n",
       "    </tr>\n",
       "    <tr>\n",
       "      <th>4468</th>\n",
       "      <td>Броварська загальноосвітня школа І-ІІІ ступені...</td>\n",
       "      <td>3210600000</td>\n",
       "      <td>броварськазагальноосвтняшкола3ступенв№9броварс...</td>\n",
       "      <td>NaN</td>\n",
       "      <td>https://opendatabot.ua/c/22208830</td>\n",
       "    </tr>\n",
       "    <tr>\n",
       "      <th>4469</th>\n",
       "      <td>Вільхівецький навчально-виховний комплекс \"Заг...</td>\n",
       "      <td>3220685301</td>\n",
       "      <td>вльхвецькийнавчальновиховнийкомплексзагальноос...</td>\n",
       "      <td>NaN</td>\n",
       "      <td>https://opendatabot.ua/c/25300312</td>\n",
       "    </tr>\n",
       "  </tbody>\n",
       "</table>\n",
       "<p>4470 rows × 5 columns</p>\n",
       "</div>"
      ],
      "text/plain": [
       "                                                 eoname  KOATUU_2020  \\\n",
       "0     Кулевчанська загальноосвітня школа I-III ступе...   5124581730   \n",
       "1     Комунальний заклад \"Середня загальноосвітня шк...   1210436600   \n",
       "2      Ковалівська загальноосвітня школа І-ІІІ ступенів   2623282601   \n",
       "3                    Кам'янське вище професійне училище   1210436900   \n",
       "4     Іллінецька загальноосвітня школа I-III ступені...    521210100   \n",
       "...                                                 ...          ...   \n",
       "4465  Комунальний заклад освіти \"Дніпропетровський н...   1210137800   \n",
       "4466  Федорівський заклад загальної середньої освіти...   6524484501   \n",
       "4467  Волицька загальноосвітня школа І-ІІІ ступенів ...   4624881101   \n",
       "4468  Броварська загальноосвітня школа І-ІІІ ступені...   3210600000   \n",
       "4469  Вільхівецький навчально-виховний комплекс \"Заг...   3220685301   \n",
       "\n",
       "                                                     id  Код ЄДРПОУ  \\\n",
       "0     кулевчанськазагальноосвтняшкола3ступенвсаратсь...         NaN   \n",
       "1     комунальнийзакладсереднязагальноосвтняшкола№30...         NaN   \n",
       "2                 ковалвськазагальноосвтняшкола3ступенв         NaN   \n",
       "3                         камянськевищепрофесйнеучилище         NaN   \n",
       "4     ллнецьказагальноосвтняшкола3ступенв№1ллнецьком...         NaN   \n",
       "...                                                 ...         ...   \n",
       "4465  комунальнийзакладосвтиднпропетровськийнавчальн...         NaN   \n",
       "4466  федорвськийзакладзагальносередньоосвтиновотроц...         NaN   \n",
       "4467  волицьказагальноосвтняшкола3ступенвсокальськор...         NaN   \n",
       "4468  броварськазагальноосвтняшкола3ступенв№9броварс...         NaN   \n",
       "4469  вльхвецькийнавчальновиховнийкомплексзагальноос...         NaN   \n",
       "\n",
       "                                    url  \n",
       "0     https://opendatabot.ua/c/25814353  \n",
       "1     https://opendatabot.ua/c/20291034  \n",
       "2     https://opendatabot.ua/c/23588837  \n",
       "3     https://opendatabot.ua/c/02541496  \n",
       "4     https://opendatabot.ua/c/13307208  \n",
       "...                                 ...  \n",
       "4465  https://opendatabot.ua/c/21929243  \n",
       "4466  https://opendatabot.ua/c/24750935  \n",
       "4467  https://opendatabot.ua/c/25548733  \n",
       "4468  https://opendatabot.ua/c/22208830  \n",
       "4469  https://opendatabot.ua/c/25300312  \n",
       "\n",
       "[4470 rows x 5 columns]"
      ]
     },
     "execution_count": 3,
     "metadata": {},
     "output_type": "execute_result"
    }
   ],
   "source": [
    "df = pd.read_csv('../tables_creation/unmatched_link_test_sample.csv')\n",
    "df"
   ]
  },
  {
   "cell_type": "code",
   "execution_count": 33,
   "metadata": {},
   "outputs": [
    {
     "name": "stderr",
     "output_type": "stream",
     "text": [
      "  0%|          | 7/4470 [00:02<31:41,  2.35it/s]"
     ]
    },
    {
     "name": "stdout",
     "output_type": "stream",
     "text": [
      "Link: https://opendatabot.ua/c/21729076 .Counter: 0\n"
     ]
    },
    {
     "name": "stderr",
     "output_type": "stream",
     "text": [
      "  0%|          | 20/4470 [01:18<54:32,  1.36it/s]   "
     ]
    },
    {
     "name": "stdout",
     "output_type": "stream",
     "text": [
      "Link: https://opendatabot.ua/c/26461945 .Counter: 0\n"
     ]
    },
    {
     "name": "stderr",
     "output_type": "stream",
     "text": [
      "  1%|          | 34/4470 [02:42<1:44:08,  1.41s/it] "
     ]
    },
    {
     "name": "stdout",
     "output_type": "stream",
     "text": [
      "Link: https://opendatabot.ua/c/33351492 .Counter: 0\n"
     ]
    },
    {
     "name": "stderr",
     "output_type": "stream",
     "text": [
      "  1%|          | 48/4470 [04:08<1:13:52,  1.00s/it] "
     ]
    },
    {
     "name": "stdout",
     "output_type": "stream",
     "text": [
      "Link: https://opendatabot.ua/c/21064961 .Counter: 0\n"
     ]
    },
    {
     "name": "stderr",
     "output_type": "stream",
     "text": [
      "  1%|▏         | 60/4470 [05:21<2:12:41,  1.81s/it] "
     ]
    },
    {
     "name": "stdout",
     "output_type": "stream",
     "text": [
      "Link: https://opendatabot.ua/c/22385928 .Counter: 0\n"
     ]
    },
    {
     "name": "stderr",
     "output_type": "stream",
     "text": [
      "  2%|▏         | 77/4470 [07:04<1:16:34,  1.05s/it] "
     ]
    },
    {
     "name": "stdout",
     "output_type": "stream",
     "text": [
      "Link: https://opendatabot.ua/c/22606909 .Counter: 0\n"
     ]
    },
    {
     "name": "stderr",
     "output_type": "stream",
     "text": [
      "  2%|▏         | 89/4470 [08:16<1:25:54,  1.18s/it] "
     ]
    },
    {
     "name": "stdout",
     "output_type": "stream",
     "text": [
      "Link: https://opendatabot.ua/c/21389195 .Counter: 0\n"
     ]
    },
    {
     "name": "stderr",
     "output_type": "stream",
     "text": [
      "  2%|▏         | 96/4470 [08:58<3:17:22,  2.71s/it] "
     ]
    },
    {
     "name": "stdout",
     "output_type": "stream",
     "text": [
      "Link: https://opendatabot.ua/c/25428006 .Counter: 0\n"
     ]
    },
    {
     "name": "stderr",
     "output_type": "stream",
     "text": [
      "  2%|▏         | 109/4470 [10:16<2:40:24,  2.21s/it]"
     ]
    },
    {
     "name": "stdout",
     "output_type": "stream",
     "text": [
      "Link: https://opendatabot.ua/c/23550588 .Counter: 0\n"
     ]
    },
    {
     "name": "stderr",
     "output_type": "stream",
     "text": [
      "  3%|▎         | 121/4470 [11:32<3:04:40,  2.55s/it] "
     ]
    },
    {
     "name": "stdout",
     "output_type": "stream",
     "text": [
      "Link: https://opendatabot.ua/c/24767522 .Counter: 0\n"
     ]
    },
    {
     "name": "stderr",
     "output_type": "stream",
     "text": [
      "  3%|▎         | 139/4470 [13:19<2:08:17,  1.78s/it] "
     ]
    },
    {
     "name": "stdout",
     "output_type": "stream",
     "text": [
      "Link: https://opendatabot.ua/c/20555378 .Counter: 0\n"
     ]
    },
    {
     "name": "stderr",
     "output_type": "stream",
     "text": [
      "  3%|▎         | 152/4470 [14:33<1:45:30,  1.47s/it] "
     ]
    },
    {
     "name": "stdout",
     "output_type": "stream",
     "text": [
      "Link: https://opendatabot.ua/c/22344958 .Counter: 0\n"
     ]
    },
    {
     "name": "stderr",
     "output_type": "stream",
     "text": [
      "  4%|▎         | 157/4470 [15:06<4:01:22,  3.36s/it] "
     ]
    },
    {
     "name": "stdout",
     "output_type": "stream",
     "text": [
      "Link: https://opendatabot.ua/c/00193430 .Counter: 0\n"
     ]
    },
    {
     "name": "stderr",
     "output_type": "stream",
     "text": [
      "  4%|▎         | 165/4470 [15:56<3:50:43,  3.22s/it] "
     ]
    },
    {
     "name": "stdout",
     "output_type": "stream",
     "text": [
      "Link: https://opendatabot.ua/c/25702476 .Counter: 0\n"
     ]
    },
    {
     "name": "stderr",
     "output_type": "stream",
     "text": [
      "  4%|▍         | 186/4470 [18:02<2:14:43,  1.89s/it] "
     ]
    },
    {
     "name": "stdout",
     "output_type": "stream",
     "text": [
      "Link: https://opendatabot.ua/c/02570575 .Counter: 0\n"
     ]
    },
    {
     "name": "stderr",
     "output_type": "stream",
     "text": [
      "  5%|▍         | 207/4470 [20:07<1:42:28,  1.44s/it] "
     ]
    },
    {
     "name": "stdout",
     "output_type": "stream",
     "text": [
      "Link: https://opendatabot.ua/c/24342892 .Counter: 0\n"
     ]
    },
    {
     "name": "stderr",
     "output_type": "stream",
     "text": [
      "  5%|▌         | 224/4470 [21:49<1:31:35,  1.29s/it] "
     ]
    },
    {
     "name": "stdout",
     "output_type": "stream",
     "text": [
      "Link: https://opendatabot.ua/c/20553132 .Counter: 0\n"
     ]
    },
    {
     "name": "stderr",
     "output_type": "stream",
     "text": [
      "  5%|▌         | 238/4470 [23:14<1:39:53,  1.42s/it] "
     ]
    },
    {
     "name": "stdout",
     "output_type": "stream",
     "text": [
      "Link: https://opendatabot.ua/c/02542194 .Counter: 0\n"
     ]
    },
    {
     "name": "stderr",
     "output_type": "stream",
     "text": [
      "  6%|▌         | 256/4470 [25:05<1:25:24,  1.22s/it] "
     ]
    },
    {
     "name": "stdout",
     "output_type": "stream",
     "text": [
      "Link: https://opendatabot.ua/c/22398428 .Counter: 0\n"
     ]
    },
    {
     "name": "stderr",
     "output_type": "stream",
     "text": [
      "  6%|▌         | 273/4470 [26:47<1:38:47,  1.41s/it] "
     ]
    },
    {
     "name": "stdout",
     "output_type": "stream",
     "text": [
      "Link: https://opendatabot.ua/c/40798856 .Counter: 0\n"
     ]
    },
    {
     "name": "stderr",
     "output_type": "stream",
     "text": [
      "  6%|▌         | 277/4470 [27:09<3:33:23,  3.05s/it]"
     ]
    },
    {
     "name": "stdout",
     "output_type": "stream",
     "text": [
      "Link: https://opendatabot.ua/c/23545179 .Counter: 0\n"
     ]
    },
    {
     "name": "stderr",
     "output_type": "stream",
     "text": [
      "  6%|▋         | 287/4470 [28:08<2:14:26,  1.93s/it] "
     ]
    },
    {
     "name": "stdout",
     "output_type": "stream",
     "text": [
      "Link: https://opendatabot.ua/c/22066471 .Counter: 0\n"
     ]
    },
    {
     "name": "stderr",
     "output_type": "stream",
     "text": [
      "  6%|▋         | 289/4470 [28:24<5:17:46,  4.56s/it]"
     ]
    },
    {
     "name": "stdout",
     "output_type": "stream",
     "text": [
      "Link: https://opendatabot.ua/c/22365044 .Counter: 0\n"
     ]
    },
    {
     "name": "stderr",
     "output_type": "stream",
     "text": [
      "  7%|▋         | 292/4470 [28:41<5:08:06,  4.42s/it]"
     ]
    },
    {
     "name": "stdout",
     "output_type": "stream",
     "text": [
      "Link: https://opendatabot.ua/c/24620902 .Counter: 0\n"
     ]
    },
    {
     "name": "stderr",
     "output_type": "stream",
     "text": [
      "  7%|▋         | 295/4470 [28:59<4:54:51,  4.24s/it]"
     ]
    },
    {
     "name": "stdout",
     "output_type": "stream",
     "text": [
      "Link: https://opendatabot.ua/c/33355350 .Counter: 0\n"
     ]
    },
    {
     "name": "stderr",
     "output_type": "stream",
     "text": [
      "  7%|▋         | 306/4470 [30:03<1:31:14,  1.31s/it] "
     ]
    },
    {
     "name": "stdout",
     "output_type": "stream",
     "text": [
      "Link: https://opendatabot.ua/c/22115703 .Counter: 0\n"
     ]
    },
    {
     "name": "stderr",
     "output_type": "stream",
     "text": [
      "  7%|▋         | 308/4470 [30:17<4:16:55,  3.70s/it]"
     ]
    },
    {
     "name": "stdout",
     "output_type": "stream",
     "text": [
      "Link: https://opendatabot.ua/c/21723694 .Counter: 0\n"
     ]
    },
    {
     "name": "stderr",
     "output_type": "stream",
     "text": [
      "  7%|▋         | 314/4470 [30:53<3:05:57,  2.68s/it] "
     ]
    },
    {
     "name": "stdout",
     "output_type": "stream",
     "text": [
      "Link: https://opendatabot.ua/c/23145830 .Counter: 0\n"
     ]
    },
    {
     "name": "stderr",
     "output_type": "stream",
     "text": [
      "  7%|▋         | 322/4470 [31:42<3:01:17,  2.62s/it] "
     ]
    },
    {
     "name": "stdout",
     "output_type": "stream",
     "text": [
      "Link: https://opendatabot.ua/c/26372992 .Counter: 0\n"
     ]
    },
    {
     "name": "stderr",
     "output_type": "stream",
     "text": [
      "  8%|▊         | 340/4470 [33:31<2:04:39,  1.81s/it] "
     ]
    },
    {
     "name": "stdout",
     "output_type": "stream",
     "text": [
      "Link: https://opendatabot.ua/c/23016541 .Counter: 0\n"
     ]
    },
    {
     "name": "stderr",
     "output_type": "stream",
     "text": [
      "  8%|▊         | 353/4470 [34:48<2:04:37,  1.82s/it] "
     ]
    },
    {
     "name": "stdout",
     "output_type": "stream",
     "text": [
      "Link: https://opendatabot.ua/c/21147629 .Counter: 0\n"
     ]
    },
    {
     "name": "stderr",
     "output_type": "stream",
     "text": [
      "  8%|▊         | 363/4470 [35:49<2:19:53,  2.04s/it] "
     ]
    },
    {
     "name": "stdout",
     "output_type": "stream",
     "text": [
      "Link: https://opendatabot.ua/c/22054628 .Counter: 0\n"
     ]
    },
    {
     "name": "stderr",
     "output_type": "stream",
     "text": [
      "  8%|▊         | 367/4470 [36:14<3:54:04,  3.42s/it]"
     ]
    },
    {
     "name": "stdout",
     "output_type": "stream",
     "text": [
      "Link: https://opendatabot.ua/c/04591423 .Counter: 0\n"
     ]
    },
    {
     "name": "stderr",
     "output_type": "stream",
     "text": [
      "  8%|▊         | 379/4470 [37:26<1:12:07,  1.06s/it] "
     ]
    },
    {
     "name": "stdout",
     "output_type": "stream",
     "text": [
      "Link: https://opendatabot.ua/c/26337866 .Counter: 0\n"
     ]
    },
    {
     "name": "stderr",
     "output_type": "stream",
     "text": [
      "  9%|▊         | 389/4470 [38:22<1:24:27,  1.24s/it] "
     ]
    },
    {
     "name": "stdout",
     "output_type": "stream",
     "text": [
      "Link: https://opendatabot.ua/c/21402033 .Counter: 0\n"
     ]
    },
    {
     "name": "stderr",
     "output_type": "stream",
     "text": [
      "  9%|▉         | 403/4470 [39:49<2:15:50,  2.00s/it] "
     ]
    },
    {
     "name": "stdout",
     "output_type": "stream",
     "text": [
      "Link: https://opendatabot.ua/c/25888512 .Counter: 0\n"
     ]
    },
    {
     "name": "stderr",
     "output_type": "stream",
     "text": [
      "  9%|▉         | 406/4470 [40:07<4:19:22,  3.83s/it]"
     ]
    },
    {
     "name": "stdout",
     "output_type": "stream",
     "text": [
      "Link: https://opendatabot.ua/c/32806301 .Counter: 0\n"
     ]
    },
    {
     "name": "stderr",
     "output_type": "stream",
     "text": [
      "  9%|▉         | 422/4470 [41:42<1:06:11,  1.02it/s] "
     ]
    },
    {
     "name": "stdout",
     "output_type": "stream",
     "text": [
      "Link: https://opendatabot.ua/c/23551702 .Counter: 0\n"
     ]
    },
    {
     "name": "stderr",
     "output_type": "stream",
     "text": [
      " 10%|▉         | 435/4470 [43:02<1:38:15,  1.46s/it] "
     ]
    },
    {
     "name": "stdout",
     "output_type": "stream",
     "text": [
      "Link: https://opendatabot.ua/c/24354872 .Counter: 0\n"
     ]
    },
    {
     "name": "stderr",
     "output_type": "stream",
     "text": [
      " 11%|█         | 472/4470 [46:47<2:02:17,  1.84s/it] "
     ]
    },
    {
     "name": "stdout",
     "output_type": "stream",
     "text": [
      "Link: https://opendatabot.ua/c/23887299 .Counter: 0\n"
     ]
    },
    {
     "name": "stderr",
     "output_type": "stream",
     "text": [
      " 11%|█         | 484/4470 [47:59<2:47:15,  2.52s/it] "
     ]
    },
    {
     "name": "stdout",
     "output_type": "stream",
     "text": [
      "Link: https://opendatabot.ua/c/25667165 .Counter: 0\n"
     ]
    },
    {
     "name": "stderr",
     "output_type": "stream",
     "text": [
      " 11%|█▏        | 503/4470 [49:52<1:37:48,  1.48s/it] "
     ]
    },
    {
     "name": "stdout",
     "output_type": "stream",
     "text": [
      "Link: https://opendatabot.ua/c/24830539 .Counter: 0\n"
     ]
    },
    {
     "name": "stderr",
     "output_type": "stream",
     "text": [
      " 12%|█▏        | 516/4470 [51:08<1:59:53,  1.82s/it] "
     ]
    },
    {
     "name": "stdout",
     "output_type": "stream",
     "text": [
      "Link: https://opendatabot.ua/c/34804384 .Counter: 0\n"
     ]
    },
    {
     "name": "stderr",
     "output_type": "stream",
     "text": [
      " 12%|█▏        | 520/4470 [51:31<3:16:18,  2.98s/it]"
     ]
    },
    {
     "name": "stdout",
     "output_type": "stream",
     "text": [
      "Link: https://opendatabot.ua/c/22781268 .Counter: 0\n"
     ]
    },
    {
     "name": "stderr",
     "output_type": "stream",
     "text": [
      " 12%|█▏        | 531/4470 [52:38<1:04:41,  1.01it/s] "
     ]
    },
    {
     "name": "stdout",
     "output_type": "stream",
     "text": [
      "Link: https://opendatabot.ua/c/24135526 .Counter: 0\n"
     ]
    },
    {
     "name": "stderr",
     "output_type": "stream",
     "text": [
      " 12%|█▏        | 534/4470 [53:00<4:30:32,  4.12s/it]"
     ]
    },
    {
     "name": "stdout",
     "output_type": "stream",
     "text": [
      "Link: https://opendatabot.ua/c/25667248 .Counter: 0\n"
     ]
    },
    {
     "name": "stderr",
     "output_type": "stream",
     "text": [
      " 12%|█▏        | 546/4470 [54:13<1:55:50,  1.77s/it] "
     ]
    },
    {
     "name": "stdout",
     "output_type": "stream",
     "text": [
      "Link: https://opendatabot.ua/c/02541602 .Counter: 0\n"
     ]
    },
    {
     "name": "stderr",
     "output_type": "stream",
     "text": [
      " 13%|█▎        | 561/4470 [55:42<2:10:59,  2.01s/it] "
     ]
    },
    {
     "name": "stdout",
     "output_type": "stream",
     "text": [
      "Link: https://opendatabot.ua/c/37788298 .Counter: 0\n"
     ]
    },
    {
     "name": "stderr",
     "output_type": "stream",
     "text": [
      " 13%|█▎        | 571/4470 [56:43<1:33:13,  1.43s/it] "
     ]
    },
    {
     "name": "stdout",
     "output_type": "stream",
     "text": [
      "Link: https://opendatabot.ua/c/34254068 .Counter: 0\n"
     ]
    },
    {
     "name": "stderr",
     "output_type": "stream",
     "text": [
      " 13%|█▎        | 598/4470 [59:25<59:41,  1.08it/s]   "
     ]
    },
    {
     "name": "stdout",
     "output_type": "stream",
     "text": [
      "Link: https://opendatabot.ua/c/21438203 .Counter: 0\n"
     ]
    },
    {
     "name": "stderr",
     "output_type": "stream",
     "text": [
      " 14%|█▎        | 610/4470 [1:00:36<1:45:01,  1.63s/it] "
     ]
    },
    {
     "name": "stdout",
     "output_type": "stream",
     "text": [
      "Link: https://opendatabot.ua/c/21439834 .Counter: 0\n"
     ]
    },
    {
     "name": "stderr",
     "output_type": "stream",
     "text": [
      " 14%|█▍        | 627/4470 [1:02:18<1:47:45,  1.68s/it] "
     ]
    },
    {
     "name": "stdout",
     "output_type": "stream",
     "text": [
      "Link: https://opendatabot.ua/c/35809635 .Counter: 0\n"
     ]
    },
    {
     "name": "stderr",
     "output_type": "stream",
     "text": [
      " 14%|█▍        | 633/4470 [1:02:54<3:01:10,  2.83s/it] "
     ]
    },
    {
     "name": "stdout",
     "output_type": "stream",
     "text": [
      "Link: https://opendatabot.ua/c/41878172 .Counter: 0\n"
     ]
    },
    {
     "name": "stderr",
     "output_type": "stream",
     "text": [
      " 14%|█▍        | 641/4470 [1:03:40<2:12:17,  2.07s/it] "
     ]
    },
    {
     "name": "stdout",
     "output_type": "stream",
     "text": [
      "Link: https://opendatabot.ua/c/34855848 .Counter: 0\n"
     ]
    },
    {
     "name": "stderr",
     "output_type": "stream",
     "text": [
      " 15%|█▍        | 657/4470 [1:05:20<1:18:31,  1.24s/it] "
     ]
    },
    {
     "name": "stdout",
     "output_type": "stream",
     "text": [
      "Link: https://opendatabot.ua/c/20562912 .Counter: 0\n"
     ]
    },
    {
     "name": "stderr",
     "output_type": "stream",
     "text": [
      " 15%|█▌        | 673/4470 [1:06:56<1:19:29,  1.26s/it] "
     ]
    },
    {
     "name": "stdout",
     "output_type": "stream",
     "text": [
      "Link: https://opendatabot.ua/c/02544224 .Counter: 0\n"
     ]
    },
    {
     "name": "stderr",
     "output_type": "stream",
     "text": [
      " 15%|█▌        | 685/4470 [1:08:09<2:17:37,  2.18s/it] "
     ]
    },
    {
     "name": "stdout",
     "output_type": "stream",
     "text": [
      "Link: https://opendatabot.ua/c/41841032 .Counter: 0\n"
     ]
    },
    {
     "name": "stderr",
     "output_type": "stream",
     "text": [
      " 16%|█▌        | 702/4470 [1:09:53<55:03,  1.14it/s]   "
     ]
    },
    {
     "name": "stdout",
     "output_type": "stream",
     "text": [
      "Link: https://opendatabot.ua/c/21064563 .Counter: 0\n"
     ]
    },
    {
     "name": "stderr",
     "output_type": "stream",
     "text": [
      " 16%|█▌        | 714/4470 [1:11:02<1:11:29,  1.14s/it] "
     ]
    },
    {
     "name": "stdout",
     "output_type": "stream",
     "text": [
      "Link: https://opendatabot.ua/c/20830206 .Counter: 0\n"
     ]
    },
    {
     "name": "stderr",
     "output_type": "stream",
     "text": [
      " 16%|█▋        | 732/4470 [1:12:53<1:28:42,  1.42s/it] "
     ]
    },
    {
     "name": "stdout",
     "output_type": "stream",
     "text": [
      "Link: https://opendatabot.ua/c/25300192 .Counter: 0\n"
     ]
    },
    {
     "name": "stderr",
     "output_type": "stream",
     "text": [
      " 16%|█▋        | 736/4470 [1:13:17<3:32:11,  3.41s/it]"
     ]
    },
    {
     "name": "stdout",
     "output_type": "stream",
     "text": [
      "Link: https://opendatabot.ua/c/23591044 .Counter: 0\n"
     ]
    },
    {
     "name": "stderr",
     "output_type": "stream",
     "text": [
      " 17%|█▋        | 749/4470 [1:14:36<1:10:38,  1.14s/it] "
     ]
    },
    {
     "name": "stdout",
     "output_type": "stream",
     "text": [
      "Link: https://opendatabot.ua/c/22057325 .Counter: 0\n"
     ]
    },
    {
     "name": "stderr",
     "output_type": "stream",
     "text": [
      " 17%|█▋        | 757/4470 [1:15:21<1:55:38,  1.87s/it] "
     ]
    },
    {
     "name": "stdout",
     "output_type": "stream",
     "text": [
      "Link: https://opendatabot.ua/c/26228338 .Counter: 0\n"
     ]
    },
    {
     "name": "stderr",
     "output_type": "stream",
     "text": [
      " 17%|█▋        | 765/4470 [1:16:11<2:41:59,  2.62s/it] "
     ]
    },
    {
     "name": "stdout",
     "output_type": "stream",
     "text": [
      "Link: https://opendatabot.ua/c/25703926 .Counter: 0\n"
     ]
    },
    {
     "name": "stderr",
     "output_type": "stream",
     "text": [
      " 18%|█▊        | 784/4470 [1:18:07<52:32,  1.17it/s]   "
     ]
    },
    {
     "name": "stdout",
     "output_type": "stream",
     "text": [
      "Link: https://opendatabot.ua/c/25930177 .Counter: 0\n"
     ]
    },
    {
     "name": "stderr",
     "output_type": "stream",
     "text": [
      " 18%|█▊        | 797/4470 [1:19:25<1:17:08,  1.26s/it] "
     ]
    },
    {
     "name": "stdout",
     "output_type": "stream",
     "text": [
      "Link: https://opendatabot.ua/c/23405076 .Counter: 0\n"
     ]
    },
    {
     "name": "stderr",
     "output_type": "stream",
     "text": [
      " 18%|█▊        | 814/4470 [1:21:06<1:17:38,  1.27s/it] "
     ]
    },
    {
     "name": "stdout",
     "output_type": "stream",
     "text": [
      "Link: https://opendatabot.ua/c/24439321 .Counter: 0\n"
     ]
    },
    {
     "name": "stderr",
     "output_type": "stream",
     "text": [
      " 19%|█▊        | 829/4470 [1:22:38<1:12:17,  1.19s/it] "
     ]
    },
    {
     "name": "stdout",
     "output_type": "stream",
     "text": [
      "Link: https://opendatabot.ua/c/21930973 .Counter: 0\n"
     ]
    },
    {
     "name": "stderr",
     "output_type": "stream",
     "text": [
      " 19%|█▊        | 834/4470 [1:23:09<2:50:40,  2.82s/it]"
     ]
    },
    {
     "name": "stdout",
     "output_type": "stream",
     "text": [
      "Link: https://opendatabot.ua/c/23804735 .Counter: 0\n"
     ]
    },
    {
     "name": "stderr",
     "output_type": "stream",
     "text": [
      " 19%|█▊        | 837/4470 [1:23:22<3:11:30,  3.16s/it]"
     ]
    },
    {
     "name": "stdout",
     "output_type": "stream",
     "text": [
      "Link: https://opendatabot.ua/c/26368430 .Counter: 0\n"
     ]
    },
    {
     "name": "stderr",
     "output_type": "stream",
     "text": [
      " 19%|█▉        | 850/4470 [1:24:43<1:26:22,  1.43s/it] "
     ]
    },
    {
     "name": "stdout",
     "output_type": "stream",
     "text": [
      "Link: https://opendatabot.ua/c/33410018 .Counter: 0\n"
     ]
    },
    {
     "name": "stderr",
     "output_type": "stream",
     "text": [
      " 19%|█▉        | 865/4470 [1:26:15<1:37:53,  1.63s/it] "
     ]
    },
    {
     "name": "stdout",
     "output_type": "stream",
     "text": [
      "Link: https://opendatabot.ua/c/26086772 .Counter: 0\n"
     ]
    },
    {
     "name": "stderr",
     "output_type": "stream",
     "text": [
      " 20%|█▉        | 878/4470 [1:27:34<1:06:20,  1.11s/it] "
     ]
    },
    {
     "name": "stdout",
     "output_type": "stream",
     "text": [
      "Link: https://opendatabot.ua/c/26316396 .Counter: 0\n"
     ]
    },
    {
     "name": "stderr",
     "output_type": "stream",
     "text": [
      " 20%|█▉        | 893/4470 [1:29:02<1:07:03,  1.12s/it] "
     ]
    },
    {
     "name": "stdout",
     "output_type": "stream",
     "text": [
      "Link: https://opendatabot.ua/c/01788094 .Counter: 0\n"
     ]
    },
    {
     "name": "stderr",
     "output_type": "stream",
     "text": [
      " 20%|██        | 903/4470 [1:30:03<1:53:08,  1.90s/it] "
     ]
    },
    {
     "name": "stdout",
     "output_type": "stream",
     "text": [
      "Link: https://opendatabot.ua/c/31544969 .Counter: 0\n"
     ]
    },
    {
     "name": "stderr",
     "output_type": "stream",
     "text": [
      " 21%|██        | 917/4470 [1:31:28<46:34,  1.27it/s]   "
     ]
    },
    {
     "name": "stdout",
     "output_type": "stream",
     "text": [
      "Link: https://opendatabot.ua/c/26367821 .Counter: 0\n"
     ]
    },
    {
     "name": "stderr",
     "output_type": "stream",
     "text": [
      " 21%|██        | 921/4470 [1:31:50<3:03:07,  3.10s/it]"
     ]
    },
    {
     "name": "stdout",
     "output_type": "stream",
     "text": [
      "Link: https://opendatabot.ua/c/23593184 .Counter: 0\n"
     ]
    },
    {
     "name": "stderr",
     "output_type": "stream",
     "text": [
      " 21%|██        | 936/4470 [1:33:21<1:36:27,  1.64s/it] "
     ]
    },
    {
     "name": "stdout",
     "output_type": "stream",
     "text": [
      "Link: https://opendatabot.ua/c/23998998 .Counter: 0\n"
     ]
    },
    {
     "name": "stderr",
     "output_type": "stream",
     "text": [
      " 21%|██        | 946/4470 [1:34:19<1:18:37,  1.34s/it] "
     ]
    },
    {
     "name": "stdout",
     "output_type": "stream",
     "text": [
      "Link: https://opendatabot.ua/c/25452619 .Counter: 0\n"
     ]
    },
    {
     "name": "stderr",
     "output_type": "stream",
     "text": [
      " 21%|██▏       | 958/4470 [1:35:32<1:22:00,  1.40s/it] "
     ]
    },
    {
     "name": "stdout",
     "output_type": "stream",
     "text": [
      "Link: https://opendatabot.ua/c/24892823 .Counter: 0\n"
     ]
    },
    {
     "name": "stderr",
     "output_type": "stream",
     "text": [
      " 22%|██▏       | 973/4470 [1:37:04<1:44:42,  1.80s/it] "
     ]
    },
    {
     "name": "stdout",
     "output_type": "stream",
     "text": [
      "Link: https://opendatabot.ua/c/26290969 .Counter: 0\n"
     ]
    },
    {
     "name": "stderr",
     "output_type": "stream",
     "text": [
      " 22%|██▏       | 983/4470 [1:38:06<1:44:10,  1.79s/it] "
     ]
    },
    {
     "name": "stdout",
     "output_type": "stream",
     "text": [
      "Link: https://opendatabot.ua/c/25702387 .Counter: 0\n"
     ]
    },
    {
     "name": "stderr",
     "output_type": "stream",
     "text": [
      " 22%|██▏       | 994/4470 [1:39:12<2:03:29,  2.13s/it] "
     ]
    },
    {
     "name": "stdout",
     "output_type": "stream",
     "text": [
      "Link: https://opendatabot.ua/c/33453821 .Counter: 0\n"
     ]
    },
    {
     "name": "stderr",
     "output_type": "stream",
     "text": [
      " 22%|██▏       | 999/4470 [1:39:42<3:04:38,  3.19s/it]"
     ]
    },
    {
     "name": "stdout",
     "output_type": "stream",
     "text": [
      "Link: https://opendatabot.ua/c/21437866 .Counter: 0\n"
     ]
    },
    {
     "name": "stderr",
     "output_type": "stream",
     "text": [
      " 23%|██▎       | 1019/4470 [1:41:39<42:15,  1.36it/s]   "
     ]
    },
    {
     "name": "stdout",
     "output_type": "stream",
     "text": [
      "Link: https://opendatabot.ua/c/02011506 .Counter: 0\n"
     ]
    },
    {
     "name": "stderr",
     "output_type": "stream",
     "text": [
      " 23%|██▎       | 1022/4470 [1:41:59<3:11:21,  3.33s/it]"
     ]
    },
    {
     "name": "stdout",
     "output_type": "stream",
     "text": [
      "Link: https://opendatabot.ua/c/22377662 .Counter: 0\n"
     ]
    },
    {
     "name": "stderr",
     "output_type": "stream",
     "text": [
      " 23%|██▎       | 1026/4470 [1:42:25<3:45:41,  3.93s/it]"
     ]
    },
    {
     "name": "stdout",
     "output_type": "stream",
     "text": [
      "Link: https://opendatabot.ua/c/34849483 .Counter: 0\n"
     ]
    },
    {
     "name": "stderr",
     "output_type": "stream",
     "text": [
      " 23%|██▎       | 1039/4470 [1:43:44<1:40:31,  1.76s/it] "
     ]
    },
    {
     "name": "stdout",
     "output_type": "stream",
     "text": [
      "Link: https://opendatabot.ua/c/34919749 .Counter: 0\n"
     ]
    },
    {
     "name": "stderr",
     "output_type": "stream",
     "text": [
      " 24%|██▎       | 1051/4470 [1:44:55<56:52,  1.00it/s]   "
     ]
    },
    {
     "name": "stdout",
     "output_type": "stream",
     "text": [
      "Link: https://opendatabot.ua/c/33355350 .Counter: 0\n"
     ]
    },
    {
     "name": "stderr",
     "output_type": "stream",
     "text": [
      " 24%|██▎       | 1055/4470 [1:45:18<2:35:55,  2.74s/it]"
     ]
    },
    {
     "name": "stdout",
     "output_type": "stream",
     "text": [
      "Link: https://opendatabot.ua/c/23563071 .Counter: 0\n"
     ]
    },
    {
     "name": "stderr",
     "output_type": "stream",
     "text": [
      " 24%|██▍       | 1086/4470 [1:48:28<1:18:29,  1.39s/it] "
     ]
    },
    {
     "name": "stdout",
     "output_type": "stream",
     "text": [
      "Link: https://opendatabot.ua/c/33334152 .Counter: 0\n"
     ]
    },
    {
     "name": "stderr",
     "output_type": "stream",
     "text": [
      " 24%|██▍       | 1090/4470 [1:48:47<2:26:41,  2.60s/it]"
     ]
    },
    {
     "name": "stdout",
     "output_type": "stream",
     "text": [
      "Link: https://opendatabot.ua/c/22849730 .Counter: 0\n"
     ]
    },
    {
     "name": "stderr",
     "output_type": "stream",
     "text": [
      " 25%|██▍       | 1099/4470 [1:49:46<1:50:57,  1.98s/it] "
     ]
    },
    {
     "name": "stdout",
     "output_type": "stream",
     "text": [
      "Link: https://opendatabot.ua/c/34379110 .Counter: 0\n"
     ]
    },
    {
     "name": "stderr",
     "output_type": "stream",
     "text": [
      " 25%|██▍       | 1116/4470 [1:51:28<1:41:49,  1.82s/it] "
     ]
    },
    {
     "name": "stdout",
     "output_type": "stream",
     "text": [
      "Link: https://opendatabot.ua/c/25429342 .Counter: 0\n"
     ]
    },
    {
     "name": "stderr",
     "output_type": "stream",
     "text": [
      " 25%|██▌       | 1121/4470 [1:51:57<2:49:29,  3.04s/it]"
     ]
    },
    {
     "name": "stdout",
     "output_type": "stream",
     "text": [
      "Link: https://opendatabot.ua/c/26425398 .Counter: 0\n"
     ]
    },
    {
     "name": "stderr",
     "output_type": "stream",
     "text": [
      " 25%|██▌       | 1133/4470 [1:53:09<1:04:52,  1.17s/it] "
     ]
    },
    {
     "name": "stdout",
     "output_type": "stream",
     "text": [
      "Link: https://opendatabot.ua/c/02547470 .Counter: 0\n"
     ]
    },
    {
     "name": "stderr",
     "output_type": "stream",
     "text": [
      " 26%|██▌       | 1143/4470 [1:54:11<2:06:03,  2.27s/it] "
     ]
    },
    {
     "name": "stdout",
     "output_type": "stream",
     "text": [
      "Link: https://opendatabot.ua/c/26108893 .Counter: 0\n"
     ]
    },
    {
     "name": "stderr",
     "output_type": "stream",
     "text": [
      " 26%|██▌       | 1157/4470 [1:55:35<47:03,  1.17it/s]   "
     ]
    },
    {
     "name": "stdout",
     "output_type": "stream",
     "text": [
      "Link: https://opendatabot.ua/c/25169007 .Counter: 0\n"
     ]
    },
    {
     "name": "stderr",
     "output_type": "stream",
     "text": [
      " 26%|██▌       | 1162/4470 [1:56:01<2:05:50,  2.28s/it]"
     ]
    },
    {
     "name": "stdout",
     "output_type": "stream",
     "text": [
      "Link: https://opendatabot.ua/c/21440594 .Counter: 0\n"
     ]
    },
    {
     "name": "stderr",
     "output_type": "stream",
     "text": [
      " 26%|██▌       | 1164/4470 [1:56:16<4:05:01,  4.45s/it]"
     ]
    },
    {
     "name": "stdout",
     "output_type": "stream",
     "text": [
      "Link: https://opendatabot.ua/c/34379105 .Counter: 0\n"
     ]
    },
    {
     "name": "stderr",
     "output_type": "stream",
     "text": [
      " 26%|██▌       | 1168/4470 [1:56:38<3:19:37,  3.63s/it]"
     ]
    },
    {
     "name": "stdout",
     "output_type": "stream",
     "text": [
      "Link: https://opendatabot.ua/c/26292371 .Counter: 0\n"
     ]
    },
    {
     "name": "stderr",
     "output_type": "stream",
     "text": [
      " 26%|██▋       | 1178/4470 [1:57:38<1:49:05,  1.99s/it] "
     ]
    },
    {
     "name": "stdout",
     "output_type": "stream",
     "text": [
      "Link: https://opendatabot.ua/c/22418148 .Counter: 0\n"
     ]
    },
    {
     "name": "stderr",
     "output_type": "stream",
     "text": [
      " 27%|██▋       | 1189/4470 [1:58:46<1:47:41,  1.97s/it] "
     ]
    },
    {
     "name": "stdout",
     "output_type": "stream",
     "text": [
      "Link: https://opendatabot.ua/c/33775772 .Counter: 0\n"
     ]
    },
    {
     "name": "stderr",
     "output_type": "stream",
     "text": [
      " 27%|██▋       | 1201/4470 [2:00:00<46:45,  1.17it/s]   "
     ]
    },
    {
     "name": "stdout",
     "output_type": "stream",
     "text": [
      "Link: https://opendatabot.ua/c/24781172 .Counter: 0\n"
     ]
    },
    {
     "name": "stderr",
     "output_type": "stream",
     "text": [
      " 27%|██▋       | 1218/4470 [2:01:41<1:08:20,  1.26s/it] "
     ]
    },
    {
     "name": "stdout",
     "output_type": "stream",
     "text": [
      "Link: https://opendatabot.ua/c/21443078 .Counter: 0\n"
     ]
    },
    {
     "name": "stderr",
     "output_type": "stream",
     "text": [
      " 28%|██▊       | 1237/4470 [2:03:37<47:39,  1.13it/s]   "
     ]
    },
    {
     "name": "stdout",
     "output_type": "stream",
     "text": [
      "Link: https://opendatabot.ua/c/24330601 .Counter: 0\n"
     ]
    },
    {
     "name": "stderr",
     "output_type": "stream",
     "text": [
      " 28%|██▊       | 1252/4470 [2:05:08<52:10,  1.03it/s]   "
     ]
    },
    {
     "name": "stdout",
     "output_type": "stream",
     "text": [
      "Link: https://opendatabot.ua/c/24892144 .Counter: 0\n"
     ]
    },
    {
     "name": "stderr",
     "output_type": "stream",
     "text": [
      " 28%|██▊       | 1265/4470 [2:06:27<46:27,  1.15it/s]   "
     ]
    },
    {
     "name": "stdout",
     "output_type": "stream",
     "text": [
      "Link: https://opendatabot.ua/c/00208736 .Counter: 0\n"
     ]
    },
    {
     "name": "stderr",
     "output_type": "stream",
     "text": [
      " 28%|██▊       | 1269/4470 [2:06:50<2:23:49,  2.70s/it]"
     ]
    },
    {
     "name": "stdout",
     "output_type": "stream",
     "text": [
      "Link: https://opendatabot.ua/c/02125119 .Counter: 0\n"
     ]
    },
    {
     "name": "stderr",
     "output_type": "stream",
     "text": [
      " 29%|██▊       | 1279/4470 [2:07:46<1:15:46,  1.42s/it] "
     ]
    },
    {
     "name": "stdout",
     "output_type": "stream",
     "text": [
      "Link: https://opendatabot.ua/c/00727742 .Counter: 0\n"
     ]
    },
    {
     "name": "stderr",
     "output_type": "stream",
     "text": [
      " 29%|██▉       | 1289/4470 [2:08:47<1:00:17,  1.14s/it] "
     ]
    },
    {
     "name": "stdout",
     "output_type": "stream",
     "text": [
      "Link: https://opendatabot.ua/c/24953957 .Counter: 0\n"
     ]
    },
    {
     "name": "stderr",
     "output_type": "stream",
     "text": [
      " 29%|██▉       | 1304/4470 [2:10:20<1:22:23,  1.56s/it] "
     ]
    },
    {
     "name": "stdout",
     "output_type": "stream",
     "text": [
      "Link: https://opendatabot.ua/c/24116475 .Counter: 0\n"
     ]
    },
    {
     "name": "stderr",
     "output_type": "stream",
     "text": [
      " 30%|██▉       | 1320/4470 [2:11:58<1:30:57,  1.73s/it] "
     ]
    },
    {
     "name": "stdout",
     "output_type": "stream",
     "text": [
      "Link: https://opendatabot.ua/c/25218549 .Counter: 0\n"
     ]
    },
    {
     "name": "stderr",
     "output_type": "stream",
     "text": [
      " 30%|██▉       | 1333/4470 [2:13:15<1:19:27,  1.52s/it] "
     ]
    },
    {
     "name": "stdout",
     "output_type": "stream",
     "text": [
      "Link: https://opendatabot.ua/c/23086607 .Counter: 0\n"
     ]
    },
    {
     "name": "stderr",
     "output_type": "stream",
     "text": [
      " 30%|███       | 1346/4470 [2:14:32<1:10:13,  1.35s/it] "
     ]
    },
    {
     "name": "stdout",
     "output_type": "stream",
     "text": [
      "Link: https://opendatabot.ua/c/31529043 .Counter: 0\n"
     ]
    },
    {
     "name": "stderr",
     "output_type": "stream",
     "text": [
      " 30%|███       | 1350/4470 [2:14:54<2:24:46,  2.78s/it]"
     ]
    },
    {
     "name": "stdout",
     "output_type": "stream",
     "text": [
      "Link: https://opendatabot.ua/c/20564549 .Counter: 0\n"
     ]
    },
    {
     "name": "stderr",
     "output_type": "stream",
     "text": [
      " 31%|███       | 1367/4470 [2:16:36<42:15,  1.22it/s]   "
     ]
    },
    {
     "name": "stdout",
     "output_type": "stream",
     "text": [
      "Link: https://opendatabot.ua/c/24484113 .Counter: 0\n"
     ]
    },
    {
     "name": "stderr",
     "output_type": "stream",
     "text": [
      " 31%|███       | 1379/4470 [2:17:48<51:42,  1.00s/it]   "
     ]
    },
    {
     "name": "stdout",
     "output_type": "stream",
     "text": [
      "Link: https://opendatabot.ua/c/23547215 .Counter: 0\n"
     ]
    },
    {
     "name": "stderr",
     "output_type": "stream",
     "text": [
      " 31%|███       | 1382/4470 [2:18:11<3:13:47,  3.77s/it]"
     ]
    },
    {
     "name": "stdout",
     "output_type": "stream",
     "text": [
      "Link: https://opendatabot.ua/c/20410444 .Counter: 0\n"
     ]
    },
    {
     "name": "stderr",
     "output_type": "stream",
     "text": [
      " 31%|███▏      | 1401/4470 [2:20:02<52:35,  1.03s/it]   "
     ]
    },
    {
     "name": "stdout",
     "output_type": "stream",
     "text": [
      "Link: https://opendatabot.ua/c/25168215 .Counter: 0\n"
     ]
    },
    {
     "name": "stderr",
     "output_type": "stream",
     "text": [
      " 32%|███▏      | 1411/4470 [2:21:04<1:17:57,  1.53s/it] "
     ]
    },
    {
     "name": "stdout",
     "output_type": "stream",
     "text": [
      "Link: https://opendatabot.ua/c/26067272 .Counter: 0\n"
     ]
    },
    {
     "name": "stderr",
     "output_type": "stream",
     "text": [
      " 32%|███▏      | 1431/4470 [2:23:03<40:28,  1.25it/s]   "
     ]
    },
    {
     "name": "stdout",
     "output_type": "stream",
     "text": [
      "Link: https://opendatabot.ua/c/26322882 .Counter: 0\n"
     ]
    },
    {
     "name": "stderr",
     "output_type": "stream",
     "text": [
      " 32%|███▏      | 1437/4470 [2:23:40<2:24:58,  2.87s/it]"
     ]
    },
    {
     "name": "stdout",
     "output_type": "stream",
     "text": [
      "Link: https://opendatabot.ua/c/25814560 .Counter: 0\n"
     ]
    },
    {
     "name": "stderr",
     "output_type": "stream",
     "text": [
      " 32%|███▏      | 1449/4470 [2:24:53<1:06:53,  1.33s/it] "
     ]
    },
    {
     "name": "stdout",
     "output_type": "stream",
     "text": [
      "Link: https://opendatabot.ua/c/33319113 .Counter: 0\n"
     ]
    },
    {
     "name": "stderr",
     "output_type": "stream",
     "text": [
      " 33%|███▎      | 1463/4470 [2:26:17<59:28,  1.19s/it]   "
     ]
    },
    {
     "name": "stdout",
     "output_type": "stream",
     "text": [
      "Link: https://opendatabot.ua/c/20141234 .Counter: 0\n"
     ]
    },
    {
     "name": "stderr",
     "output_type": "stream",
     "text": [
      " 33%|███▎      | 1481/4470 [2:28:05<1:07:31,  1.36s/it] "
     ]
    },
    {
     "name": "stdout",
     "output_type": "stream",
     "text": [
      "Link: https://opendatabot.ua/c/26117165 .Counter: 0\n"
     ]
    },
    {
     "name": "stderr",
     "output_type": "stream",
     "text": [
      " 33%|███▎      | 1484/4470 [2:28:22<2:37:45,  3.17s/it]"
     ]
    },
    {
     "name": "stdout",
     "output_type": "stream",
     "text": [
      "Link: https://opendatabot.ua/c/23546530 .Counter: 0\n"
     ]
    },
    {
     "name": "stderr",
     "output_type": "stream",
     "text": [
      " 33%|███▎      | 1490/4470 [2:29:01<2:12:25,  2.67s/it] "
     ]
    },
    {
     "name": "stdout",
     "output_type": "stream",
     "text": [
      "Link: https://opendatabot.ua/c/23231943 .Counter: 0\n"
     ]
    },
    {
     "name": "stderr",
     "output_type": "stream",
     "text": [
      " 33%|███▎      | 1492/4470 [2:29:15<3:31:48,  4.27s/it]"
     ]
    },
    {
     "name": "stdout",
     "output_type": "stream",
     "text": [
      "Link: https://opendatabot.ua/c/24135609 .Counter: 0\n"
     ]
    },
    {
     "name": "stderr",
     "output_type": "stream",
     "text": [
      " 34%|███▎      | 1501/4470 [2:30:06<1:38:43,  2.00s/it] "
     ]
    },
    {
     "name": "stdout",
     "output_type": "stream",
     "text": [
      "Link: https://opendatabot.ua/c/23946665 .Counter: 0\n"
     ]
    },
    {
     "name": "stderr",
     "output_type": "stream",
     "text": [
      " 34%|███▍      | 1512/4470 [2:31:14<1:43:35,  2.10s/it] "
     ]
    },
    {
     "name": "stdout",
     "output_type": "stream",
     "text": [
      "Link: https://opendatabot.ua/c/22850526 .Counter: 0\n"
     ]
    },
    {
     "name": "stderr",
     "output_type": "stream",
     "text": [
      " 34%|███▍      | 1529/4470 [2:32:55<1:17:57,  1.59s/it] "
     ]
    },
    {
     "name": "stdout",
     "output_type": "stream",
     "text": [
      "Link: https://opendatabot.ua/c/22373829 .Counter: 0\n"
     ]
    },
    {
     "name": "stderr",
     "output_type": "stream",
     "text": [
      " 35%|███▍      | 1544/4470 [2:34:26<56:05,  1.15s/it]   "
     ]
    },
    {
     "name": "stdout",
     "output_type": "stream",
     "text": [
      "Link: https://opendatabot.ua/c/26229065 .Counter: 0\n"
     ]
    },
    {
     "name": "stderr",
     "output_type": "stream",
     "text": [
      " 35%|███▍      | 1548/4470 [2:34:48<2:15:53,  2.79s/it]"
     ]
    },
    {
     "name": "stdout",
     "output_type": "stream",
     "text": [
      "Link: https://opendatabot.ua/c/33361579 .Counter: 0\n"
     ]
    },
    {
     "name": "stderr",
     "output_type": "stream",
     "text": [
      " 35%|███▍      | 1559/4470 [2:35:56<1:13:57,  1.52s/it] "
     ]
    },
    {
     "name": "stdout",
     "output_type": "stream",
     "text": [
      "Link: https://opendatabot.ua/c/26495312 .Counter: 0\n"
     ]
    },
    {
     "name": "stderr",
     "output_type": "stream",
     "text": [
      " 35%|███▍      | 1563/4470 [2:36:21<2:41:27,  3.33s/it]"
     ]
    },
    {
     "name": "stdout",
     "output_type": "stream",
     "text": [
      "Link: https://opendatabot.ua/c/22832327 .Counter: 0\n"
     ]
    },
    {
     "name": "stderr",
     "output_type": "stream",
     "text": [
      " 35%|███▌      | 1575/4470 [2:37:32<1:04:41,  1.34s/it] "
     ]
    },
    {
     "name": "stdout",
     "output_type": "stream",
     "text": [
      "Link: https://opendatabot.ua/c/21436701 .Counter: 0\n"
     ]
    },
    {
     "name": "stderr",
     "output_type": "stream",
     "text": [
      " 35%|███▌      | 1584/4470 [2:38:25<1:17:02,  1.60s/it] "
     ]
    },
    {
     "name": "stdout",
     "output_type": "stream",
     "text": [
      "Link: https://opendatabot.ua/c/23548462 .Counter: 0\n"
     ]
    },
    {
     "name": "stderr",
     "output_type": "stream",
     "text": [
      " 36%|███▌      | 1590/4470 [2:39:03<1:54:07,  2.38s/it]"
     ]
    },
    {
     "name": "stdout",
     "output_type": "stream",
     "text": [
      "Link: https://opendatabot.ua/c/23594812 .Counter: 0\n"
     ]
    },
    {
     "name": "stderr",
     "output_type": "stream",
     "text": [
      " 36%|███▌      | 1594/4470 [2:39:29<2:58:48,  3.73s/it]"
     ]
    },
    {
     "name": "stdout",
     "output_type": "stream",
     "text": [
      "Link: https://opendatabot.ua/c/32888729 .Counter: 0\n"
     ]
    },
    {
     "name": "stderr",
     "output_type": "stream",
     "text": [
      " 36%|███▌      | 1604/4470 [2:40:25<1:09:30,  1.46s/it] "
     ]
    },
    {
     "name": "stdout",
     "output_type": "stream",
     "text": [
      "Link: https://opendatabot.ua/c/26249346 .Counter: 0\n"
     ]
    },
    {
     "name": "stderr",
     "output_type": "stream",
     "text": [
      " 36%|███▋      | 1623/4470 [2:42:22<1:02:05,  1.31s/it] "
     ]
    },
    {
     "name": "stdout",
     "output_type": "stream",
     "text": [
      "Link: https://opendatabot.ua/c/33460598 .Counter: 0\n"
     ]
    },
    {
     "name": "stderr",
     "output_type": "stream",
     "text": [
      " 37%|███▋      | 1634/4470 [2:43:26<1:10:25,  1.49s/it] "
     ]
    },
    {
     "name": "stdout",
     "output_type": "stream",
     "text": [
      "Link: https://opendatabot.ua/c/24010859 .Counter: 0\n"
     ]
    },
    {
     "name": "stderr",
     "output_type": "stream",
     "text": [
      " 37%|███▋      | 1640/4470 [2:44:04<2:11:31,  2.79s/it]"
     ]
    },
    {
     "name": "stdout",
     "output_type": "stream",
     "text": [
      "Link: https://opendatabot.ua/c/22389719 .Counter: 0\n"
     ]
    },
    {
     "name": "stderr",
     "output_type": "stream",
     "text": [
      " 37%|███▋      | 1657/4470 [2:45:45<56:44,  1.21s/it]   "
     ]
    },
    {
     "name": "stdout",
     "output_type": "stream",
     "text": [
      "Link: https://opendatabot.ua/c/26237580 .Counter: 0\n"
     ]
    },
    {
     "name": "stderr",
     "output_type": "stream",
     "text": [
      " 37%|███▋      | 1667/4470 [2:46:50<1:26:03,  1.84s/it] "
     ]
    },
    {
     "name": "stdout",
     "output_type": "stream",
     "text": [
      "Link: https://opendatabot.ua/c/24883010 .Counter: 0\n"
     ]
    },
    {
     "name": "stderr",
     "output_type": "stream",
     "text": [
      " 38%|███▊      | 1677/4470 [2:47:46<59:41,  1.28s/it]   "
     ]
    },
    {
     "name": "stdout",
     "output_type": "stream",
     "text": [
      "Link: https://opendatabot.ua/c/24963312 .Counter: 0\n"
     ]
    },
    {
     "name": "stderr",
     "output_type": "stream",
     "text": [
      " 38%|███▊      | 1683/4470 [2:48:25<1:49:58,  2.37s/it]"
     ]
    },
    {
     "name": "stdout",
     "output_type": "stream",
     "text": [
      "Link: https://opendatabot.ua/c/21440401 .Counter: 0\n"
     ]
    },
    {
     "name": "stderr",
     "output_type": "stream",
     "text": [
      " 38%|███▊      | 1699/4470 [2:50:01<55:35,  1.20s/it]   "
     ]
    },
    {
     "name": "stdout",
     "output_type": "stream",
     "text": [
      "Link: https://opendatabot.ua/c/20553126 .Counter: 0\n"
     ]
    },
    {
     "name": "stderr",
     "output_type": "stream",
     "text": [
      " 38%|███▊      | 1714/4470 [2:51:31<33:12,  1.38it/s]   "
     ]
    },
    {
     "name": "stdout",
     "output_type": "stream",
     "text": [
      "Link: https://opendatabot.ua/c/32764073 .Counter: 0\n"
     ]
    },
    {
     "name": "stderr",
     "output_type": "stream",
     "text": [
      " 38%|███▊      | 1719/4470 [2:51:58<2:01:23,  2.65s/it]"
     ]
    },
    {
     "name": "stdout",
     "output_type": "stream",
     "text": [
      "Link: https://opendatabot.ua/c/25168404 .Counter: 0\n"
     ]
    },
    {
     "name": "stderr",
     "output_type": "stream",
     "text": [
      " 39%|███▊      | 1728/4470 [2:52:52<1:15:24,  1.65s/it] "
     ]
    },
    {
     "name": "stdout",
     "output_type": "stream",
     "text": [
      "Link: https://opendatabot.ua/c/25566458 .Counter: 0\n"
     ]
    },
    {
     "name": "stderr",
     "output_type": "stream",
     "text": [
      " 39%|███▊      | 1731/4470 [2:53:10<2:26:23,  3.21s/it]"
     ]
    },
    {
     "name": "stdout",
     "output_type": "stream",
     "text": [
      "Link: https://opendatabot.ua/c/25689439 .Counter: 0\n"
     ]
    },
    {
     "name": "stderr",
     "output_type": "stream",
     "text": [
      " 39%|███▉      | 1744/4470 [2:54:33<1:17:04,  1.70s/it] "
     ]
    },
    {
     "name": "stdout",
     "output_type": "stream",
     "text": [
      "Link: https://opendatabot.ua/c/20259007 .Counter: 0\n"
     ]
    },
    {
     "name": "stderr",
     "output_type": "stream",
     "text": [
      " 39%|███▉      | 1752/4470 [2:55:18<1:49:34,  2.42s/it]"
     ]
    },
    {
     "name": "stdout",
     "output_type": "stream",
     "text": [
      "Link: https://opendatabot.ua/c/26117159 .Counter: 0\n"
     ]
    },
    {
     "name": "stderr",
     "output_type": "stream",
     "text": [
      " 39%|███▉      | 1756/4470 [2:55:44<2:35:54,  3.45s/it]"
     ]
    },
    {
     "name": "stdout",
     "output_type": "stream",
     "text": [
      "Link: https://opendatabot.ua/c/25427946 .Counter: 0\n"
     ]
    },
    {
     "name": "stderr",
     "output_type": "stream",
     "text": [
      " 39%|███▉      | 1762/4470 [2:56:21<2:04:40,  2.76s/it]"
     ]
    },
    {
     "name": "stdout",
     "output_type": "stream",
     "text": [
      "Link: https://opendatabot.ua/c/22879470 .Counter: 0\n"
     ]
    },
    {
     "name": "stderr",
     "output_type": "stream",
     "text": [
      " 40%|███▉      | 1778/4470 [2:57:54<58:19,  1.30s/it]   "
     ]
    },
    {
     "name": "stdout",
     "output_type": "stream",
     "text": [
      "Link: https://opendatabot.ua/c/25664190 .Counter: 0\n"
     ]
    },
    {
     "name": "stderr",
     "output_type": "stream",
     "text": [
      " 40%|████      | 1790/4470 [2:59:07<1:05:50,  1.47s/it] "
     ]
    },
    {
     "name": "stdout",
     "output_type": "stream",
     "text": [
      "Link: https://opendatabot.ua/c/25698728 .Counter: 0\n"
     ]
    },
    {
     "name": "stderr",
     "output_type": "stream",
     "text": [
      " 40%|████      | 1797/4470 [2:59:53<1:30:32,  2.03s/it] "
     ]
    },
    {
     "name": "stdout",
     "output_type": "stream",
     "text": [
      "Link: https://opendatabot.ua/c/25003063 .Counter: 0\n"
     ]
    },
    {
     "name": "stderr",
     "output_type": "stream",
     "text": [
      " 41%|████      | 1814/4470 [3:01:34<1:05:13,  1.47s/it] "
     ]
    },
    {
     "name": "stdout",
     "output_type": "stream",
     "text": [
      "Link: https://opendatabot.ua/c/34887712 .Counter: 0\n"
     ]
    },
    {
     "name": "stderr",
     "output_type": "stream",
     "text": [
      " 41%|████      | 1830/4470 [3:03:09<45:09,  1.03s/it]   "
     ]
    },
    {
     "name": "stdout",
     "output_type": "stream",
     "text": [
      "Link: https://opendatabot.ua/c/34169287 .Counter: 0\n"
     ]
    },
    {
     "name": "stderr",
     "output_type": "stream",
     "text": [
      " 41%|████▏     | 1847/4470 [3:04:53<49:30,  1.13s/it]   "
     ]
    },
    {
     "name": "stdout",
     "output_type": "stream",
     "text": [
      "Link: https://opendatabot.ua/c/22432875 .Counter: 0\n"
     ]
    },
    {
     "name": "stderr",
     "output_type": "stream",
     "text": [
      " 42%|████▏     | 1861/4470 [3:06:16<1:07:09,  1.54s/it] "
     ]
    },
    {
     "name": "stdout",
     "output_type": "stream",
     "text": [
      "Link: https://opendatabot.ua/c/26117538 .Counter: 0\n"
     ]
    },
    {
     "name": "stderr",
     "output_type": "stream",
     "text": [
      " 42%|████▏     | 1878/4470 [3:07:59<37:18,  1.16it/s]   "
     ]
    },
    {
     "name": "stdout",
     "output_type": "stream",
     "text": [
      "Link: https://opendatabot.ua/c/03072081 .Counter: 0\n"
     ]
    },
    {
     "name": "stderr",
     "output_type": "stream",
     "text": [
      " 42%|████▏     | 1886/4470 [3:08:48<1:55:39,  2.69s/it]"
     ]
    },
    {
     "name": "stdout",
     "output_type": "stream",
     "text": [
      "Link: https://opendatabot.ua/c/24767522 .Counter: 0\n"
     ]
    },
    {
     "name": "stderr",
     "output_type": "stream",
     "text": [
      " 42%|████▏     | 1894/4470 [3:09:35<1:36:20,  2.24s/it]"
     ]
    },
    {
     "name": "stdout",
     "output_type": "stream",
     "text": [
      "Link: https://opendatabot.ua/c/22375491 .Counter: 0\n"
     ]
    },
    {
     "name": "stderr",
     "output_type": "stream",
     "text": [
      " 43%|████▎     | 1910/4470 [3:11:09<30:57,  1.38it/s]   "
     ]
    },
    {
     "name": "stdout",
     "output_type": "stream",
     "text": [
      "Link: https://opendatabot.ua/c/20561597 .Counter: 0\n"
     ]
    },
    {
     "name": "stderr",
     "output_type": "stream",
     "text": [
      " 43%|████▎     | 1915/4470 [3:11:43<2:01:39,  2.86s/it]"
     ]
    },
    {
     "name": "stdout",
     "output_type": "stream",
     "text": [
      "Link: https://opendatabot.ua/c/23548315 .Counter: 0\n"
     ]
    },
    {
     "name": "stderr",
     "output_type": "stream",
     "text": [
      " 43%|████▎     | 1928/4470 [3:12:57<1:00:12,  1.42s/it] "
     ]
    },
    {
     "name": "stdout",
     "output_type": "stream",
     "text": [
      "Link: https://opendatabot.ua/c/33376365 .Counter: 0\n"
     ]
    },
    {
     "name": "stderr",
     "output_type": "stream",
     "text": [
      " 43%|████▎     | 1939/4470 [3:14:06<1:11:59,  1.71s/it] "
     ]
    },
    {
     "name": "stdout",
     "output_type": "stream",
     "text": [
      "Link: https://opendatabot.ua/c/04590636 .Counter: 0\n"
     ]
    },
    {
     "name": "stderr",
     "output_type": "stream",
     "text": [
      " 44%|████▎     | 1949/4470 [3:15:07<50:09,  1.19s/it]   "
     ]
    },
    {
     "name": "stdout",
     "output_type": "stream",
     "text": [
      "Link: https://opendatabot.ua/c/33384973 .Counter: 0\n"
     ]
    },
    {
     "name": "stderr",
     "output_type": "stream",
     "text": [
      " 44%|████▎     | 1952/4470 [3:15:25<2:15:05,  3.22s/it]"
     ]
    },
    {
     "name": "stdout",
     "output_type": "stream",
     "text": [
      "Link: https://opendatabot.ua/c/22831813 .Counter: 0\n"
     ]
    },
    {
     "name": "stderr",
     "output_type": "stream",
     "text": [
      " 44%|████▍     | 1960/4470 [3:16:12<1:41:29,  2.43s/it]"
     ]
    },
    {
     "name": "stdout",
     "output_type": "stream",
     "text": [
      "Link: https://opendatabot.ua/c/24022549 .Counter: 0\n"
     ]
    },
    {
     "name": "stderr",
     "output_type": "stream",
     "text": [
      " 44%|████▍     | 1972/4470 [3:17:26<57:13,  1.37s/it]   "
     ]
    },
    {
     "name": "stdout",
     "output_type": "stream",
     "text": [
      "Link: https://opendatabot.ua/c/21389226 .Counter: 0\n"
     ]
    },
    {
     "name": "stderr",
     "output_type": "stream",
     "text": [
      " 44%|████▍     | 1985/4470 [3:18:44<1:01:02,  1.47s/it] "
     ]
    },
    {
     "name": "stdout",
     "output_type": "stream",
     "text": [
      "Link: https://opendatabot.ua/c/24898253 .Counter: 0\n"
     ]
    },
    {
     "name": "stderr",
     "output_type": "stream",
     "text": [
      " 45%|████▍     | 1997/4470 [3:19:54<42:51,  1.04s/it]   "
     ]
    },
    {
     "name": "stdout",
     "output_type": "stream",
     "text": [
      "Link: https://opendatabot.ua/c/34377328 .Counter: 0\n"
     ]
    },
    {
     "name": "stderr",
     "output_type": "stream",
     "text": [
      " 45%|████▍     | 2008/4470 [3:21:00<1:21:48,  1.99s/it] "
     ]
    },
    {
     "name": "stdout",
     "output_type": "stream",
     "text": [
      "Link: https://opendatabot.ua/c/02548498 .Counter: 0\n"
     ]
    },
    {
     "name": "stderr",
     "output_type": "stream",
     "text": [
      " 45%|████▌     | 2012/4470 [3:21:26<2:14:41,  3.29s/it]"
     ]
    },
    {
     "name": "stdout",
     "output_type": "stream",
     "text": [
      "Link: https://opendatabot.ua/c/25814362 .Counter: 0\n"
     ]
    },
    {
     "name": "stderr",
     "output_type": "stream",
     "text": [
      " 45%|████▌     | 2014/4470 [3:21:37<2:43:12,  3.99s/it]"
     ]
    },
    {
     "name": "stdout",
     "output_type": "stream",
     "text": [
      "Link: https://opendatabot.ua/c/38996220 .Counter: 0\n"
     ]
    },
    {
     "name": "stderr",
     "output_type": "stream",
     "text": [
      " 45%|████▌     | 2025/4470 [3:22:43<1:03:29,  1.56s/it] "
     ]
    },
    {
     "name": "stdout",
     "output_type": "stream",
     "text": [
      "Link: https://opendatabot.ua/c/25814436 .Counter: 0\n"
     ]
    },
    {
     "name": "stderr",
     "output_type": "stream",
     "text": [
      " 46%|████▌     | 2039/4470 [3:24:10<37:27,  1.08it/s]   "
     ]
    },
    {
     "name": "stdout",
     "output_type": "stream",
     "text": [
      "Link: https://opendatabot.ua/c/25707213 .Counter: 0\n"
     ]
    },
    {
     "name": "stderr",
     "output_type": "stream",
     "text": [
      " 46%|████▌     | 2043/4470 [3:24:34<1:56:00,  2.87s/it]"
     ]
    },
    {
     "name": "stdout",
     "output_type": "stream",
     "text": [
      "Link: https://opendatabot.ua/c/26373566 .Counter: 0\n"
     ]
    },
    {
     "name": "stderr",
     "output_type": "stream",
     "text": [
      " 46%|████▌     | 2054/4470 [3:25:41<1:03:10,  1.57s/it] "
     ]
    },
    {
     "name": "stdout",
     "output_type": "stream",
     "text": [
      "Link: https://opendatabot.ua/c/21736231 .Counter: 0\n"
     ]
    },
    {
     "name": "stderr",
     "output_type": "stream",
     "text": [
      " 46%|████▋     | 2068/4470 [3:27:06<53:52,  1.35s/it]   "
     ]
    },
    {
     "name": "stdout",
     "output_type": "stream",
     "text": [
      "Link: https://opendatabot.ua/c/20382334 .Counter: 0\n"
     ]
    },
    {
     "name": "stderr",
     "output_type": "stream",
     "text": [
      " 46%|████▋     | 2075/4470 [3:27:48<1:23:40,  2.10s/it]"
     ]
    },
    {
     "name": "stdout",
     "output_type": "stream",
     "text": [
      "Link: https://opendatabot.ua/c/23018994 .Counter: 0\n"
     ]
    },
    {
     "name": "stderr",
     "output_type": "stream",
     "text": [
      " 47%|████▋     | 2088/4470 [3:29:04<35:01,  1.13it/s]   "
     ]
    },
    {
     "name": "stdout",
     "output_type": "stream",
     "text": [
      "Link: https://opendatabot.ua/c/33355350 .Counter: 0\n"
     ]
    },
    {
     "name": "stderr",
     "output_type": "stream",
     "text": [
      " 47%|████▋     | 2098/4470 [3:30:04<1:20:04,  2.03s/it]"
     ]
    },
    {
     "name": "stdout",
     "output_type": "stream",
     "text": [
      "Link: https://opendatabot.ua/c/39167153 .Counter: 0\n"
     ]
    },
    {
     "name": "stderr",
     "output_type": "stream",
     "text": [
      " 47%|████▋     | 2101/4470 [3:30:25<2:49:39,  4.30s/it]"
     ]
    },
    {
     "name": "stdout",
     "output_type": "stream",
     "text": [
      "Link: https://opendatabot.ua/c/26326515 .Counter: 0\n"
     ]
    },
    {
     "name": "stderr",
     "output_type": "stream",
     "text": [
      " 47%|████▋     | 2120/4470 [3:32:16<37:08,  1.05it/s]   "
     ]
    },
    {
     "name": "stdout",
     "output_type": "stream",
     "text": [
      "Link: https://opendatabot.ua/c/08562950 .Counter: 0\n"
     ]
    },
    {
     "name": "stderr",
     "output_type": "stream",
     "text": [
      " 48%|████▊     | 2135/4470 [3:33:49<32:50,  1.19it/s]   "
     ]
    },
    {
     "name": "stdout",
     "output_type": "stream",
     "text": [
      "Link: https://opendatabot.ua/c/41280903 .Counter: 0\n"
     ]
    },
    {
     "name": "stderr",
     "output_type": "stream",
     "text": [
      " 48%|████▊     | 2154/4470 [3:35:43<53:06,  1.38s/it]   "
     ]
    },
    {
     "name": "stdout",
     "output_type": "stream",
     "text": [
      "Link: https://opendatabot.ua/c/30829898 .Counter: 0\n"
     ]
    },
    {
     "name": "stderr",
     "output_type": "stream",
     "text": [
      " 48%|████▊     | 2167/4470 [3:37:02<50:23,  1.31s/it]   "
     ]
    },
    {
     "name": "stdout",
     "output_type": "stream",
     "text": [
      "Link: https://opendatabot.ua/c/34302053 .Counter: 0\n"
     ]
    },
    {
     "name": "stderr",
     "output_type": "stream",
     "text": [
      " 49%|████▊     | 2176/4470 [3:37:55<1:03:03,  1.65s/it]"
     ]
    },
    {
     "name": "stdout",
     "output_type": "stream",
     "text": [
      "Link: https://opendatabot.ua/c/24359711 .Counter: 0\n"
     ]
    },
    {
     "name": "stderr",
     "output_type": "stream",
     "text": [
      " 49%|████▉     | 2182/4470 [3:38:32<2:02:35,  3.21s/it]"
     ]
    },
    {
     "name": "stdout",
     "output_type": "stream",
     "text": [
      "Link: https://opendatabot.ua/c/39303706 .Counter: 0\n"
     ]
    },
    {
     "name": "stderr",
     "output_type": "stream",
     "text": [
      " 49%|████▉     | 2187/4470 [3:38:59<2:02:53,  3.23s/it]"
     ]
    },
    {
     "name": "stdout",
     "output_type": "stream",
     "text": [
      "Link: https://opendatabot.ua/c/24352258 .Counter: 0\n"
     ]
    },
    {
     "name": "stderr",
     "output_type": "stream",
     "text": [
      " 49%|████▉     | 2204/4470 [3:40:45<58:32,  1.55s/it]   "
     ]
    },
    {
     "name": "stdout",
     "output_type": "stream",
     "text": [
      "Link: https://opendatabot.ua/c/22272621 .Counter: 0\n"
     ]
    },
    {
     "name": "stderr",
     "output_type": "stream",
     "text": [
      " 50%|████▉     | 2222/4470 [3:42:33<30:20,  1.23it/s]   "
     ]
    },
    {
     "name": "stdout",
     "output_type": "stream",
     "text": [
      "Link: https://opendatabot.ua/c/24953957 .Counter: 0\n"
     ]
    },
    {
     "name": "stderr",
     "output_type": "stream",
     "text": [
      " 50%|█████     | 2235/4470 [3:43:49<33:39,  1.11it/s]   "
     ]
    },
    {
     "name": "stdout",
     "output_type": "stream",
     "text": [
      "Link: https://opendatabot.ua/c/24171628 .Counter: 0\n"
     ]
    },
    {
     "name": "stderr",
     "output_type": "stream",
     "text": [
      " 50%|█████     | 2241/4470 [3:44:25<1:36:45,  2.60s/it]"
     ]
    },
    {
     "name": "stdout",
     "output_type": "stream",
     "text": [
      "Link: https://opendatabot.ua/c/26373603 .Counter: 0\n"
     ]
    },
    {
     "name": "stderr",
     "output_type": "stream",
     "text": [
      " 50%|█████     | 2254/4470 [3:45:45<1:23:58,  2.27s/it] "
     ]
    },
    {
     "name": "stdout",
     "output_type": "stream",
     "text": [
      "Link: https://opendatabot.ua/c/26223080 .Counter: 0\n"
     ]
    },
    {
     "name": "stderr",
     "output_type": "stream",
     "text": [
      " 51%|█████     | 2270/4470 [3:47:21<58:26,  1.59s/it]   "
     ]
    },
    {
     "name": "stdout",
     "output_type": "stream",
     "text": [
      "Link: https://opendatabot.ua/c/34203909 .Counter: 0\n"
     ]
    },
    {
     "name": "stderr",
     "output_type": "stream",
     "text": [
      " 51%|█████     | 2285/4470 [3:48:54<1:00:24,  1.66s/it] "
     ]
    },
    {
     "name": "stdout",
     "output_type": "stream",
     "text": [
      "Link: https://opendatabot.ua/c/33126043 .Counter: 0\n"
     ]
    },
    {
     "name": "stderr",
     "output_type": "stream",
     "text": [
      " 51%|█████▏    | 2295/4470 [3:49:54<56:03,  1.55s/it]  "
     ]
    },
    {
     "name": "stdout",
     "output_type": "stream",
     "text": [
      "Link: https://opendatabot.ua/c/02539909 .Counter: 0\n"
     ]
    },
    {
     "name": "stderr",
     "output_type": "stream",
     "text": [
      " 51%|█████▏    | 2302/4470 [3:50:34<1:19:07,  2.19s/it]"
     ]
    },
    {
     "name": "stdout",
     "output_type": "stream",
     "text": [
      "Link: https://opendatabot.ua/c/23548367 .Counter: 0\n"
     ]
    },
    {
     "name": "stderr",
     "output_type": "stream",
     "text": [
      " 52%|█████▏    | 2307/4470 [3:51:02<1:34:59,  2.63s/it]"
     ]
    },
    {
     "name": "stdout",
     "output_type": "stream",
     "text": [
      "Link: https://opendatabot.ua/c/21929243 .Counter: 0\n"
     ]
    },
    {
     "name": "stderr",
     "output_type": "stream",
     "text": [
      " 52%|█████▏    | 2322/4470 [3:52:35<45:11,  1.26s/it]   "
     ]
    },
    {
     "name": "stdout",
     "output_type": "stream",
     "text": [
      "Link: https://opendatabot.ua/c/20566117 .Counter: 0\n"
     ]
    },
    {
     "name": "stderr",
     "output_type": "stream",
     "text": [
      " 52%|█████▏    | 2336/4470 [3:54:01<37:17,  1.05s/it]   "
     ]
    },
    {
     "name": "stdout",
     "output_type": "stream",
     "text": [
      "Link: https://opendatabot.ua/c/34323754 .Counter: 0\n"
     ]
    },
    {
     "name": "stderr",
     "output_type": "stream",
     "text": [
      " 53%|█████▎    | 2349/4470 [3:55:19<48:32,  1.37s/it]   "
     ]
    },
    {
     "name": "stdout",
     "output_type": "stream",
     "text": [
      "Link: https://opendatabot.ua/c/23018184 .Counter: 0\n"
     ]
    },
    {
     "name": "stderr",
     "output_type": "stream",
     "text": [
      " 53%|█████▎    | 2361/4470 [3:56:32<30:42,  1.14it/s]   "
     ]
    },
    {
     "name": "stdout",
     "output_type": "stream",
     "text": [
      "Link: https://opendatabot.ua/c/05537975 .Counter: 0\n"
     ]
    },
    {
     "name": "stderr",
     "output_type": "stream",
     "text": [
      " 53%|█████▎    | 2366/4470 [3:57:01<1:31:14,  2.60s/it]"
     ]
    },
    {
     "name": "stdout",
     "output_type": "stream",
     "text": [
      "Link: https://opendatabot.ua/c/20559962 .Counter: 0\n"
     ]
    },
    {
     "name": "stderr",
     "output_type": "stream",
     "text": [
      " 53%|█████▎    | 2382/4470 [3:58:39<58:32,  1.68s/it]   "
     ]
    },
    {
     "name": "stdout",
     "output_type": "stream",
     "text": [
      "Link: https://opendatabot.ua/c/20141458 .Counter: 0\n"
     ]
    },
    {
     "name": "stderr",
     "output_type": "stream",
     "text": [
      " 54%|█████▎    | 2396/4470 [3:59:59<45:03,  1.30s/it]   "
     ]
    },
    {
     "name": "stdout",
     "output_type": "stream",
     "text": [
      "Link: https://opendatabot.ua/c/02010899 .Counter: 0\n"
     ]
    },
    {
     "name": "stderr",
     "output_type": "stream",
     "text": [
      " 54%|█████▎    | 2399/4470 [4:00:19<2:01:01,  3.51s/it]"
     ]
    },
    {
     "name": "stdout",
     "output_type": "stream",
     "text": [
      "Link: https://opendatabot.ua/c/13797632 .Counter: 0\n"
     ]
    },
    {
     "name": "stderr",
     "output_type": "stream",
     "text": [
      " 54%|█████▍    | 2404/4470 [4:00:51<1:50:21,  3.21s/it]"
     ]
    },
    {
     "name": "stdout",
     "output_type": "stream",
     "text": [
      "Link: https://opendatabot.ua/c/22094622 .Counter: 0\n"
     ]
    },
    {
     "name": "stderr",
     "output_type": "stream",
     "text": [
      " 54%|█████▍    | 2409/4470 [4:01:18<1:40:12,  2.92s/it]"
     ]
    },
    {
     "name": "stdout",
     "output_type": "stream",
     "text": [
      "Link: https://opendatabot.ua/c/05536975 .Counter: 0\n"
     ]
    },
    {
     "name": "stderr",
     "output_type": "stream",
     "text": [
      " 54%|█████▍    | 2423/4470 [4:02:43<51:08,  1.50s/it]   "
     ]
    },
    {
     "name": "stdout",
     "output_type": "stream",
     "text": [
      "Link: https://opendatabot.ua/c/25313970 .Counter: 0\n"
     ]
    },
    {
     "name": "stderr",
     "output_type": "stream",
     "text": [
      " 55%|█████▍    | 2437/4470 [4:04:08<38:28,  1.14s/it]   "
     ]
    },
    {
     "name": "stdout",
     "output_type": "stream",
     "text": [
      "Link: https://opendatabot.ua/c/26108491 .Counter: 0\n"
     ]
    },
    {
     "name": "stderr",
     "output_type": "stream",
     "text": [
      " 55%|█████▍    | 2445/4470 [4:04:58<1:01:11,  1.81s/it]"
     ]
    },
    {
     "name": "stdout",
     "output_type": "stream",
     "text": [
      "Link: https://opendatabot.ua/c/33468314 .Counter: 0\n"
     ]
    },
    {
     "name": "stderr",
     "output_type": "stream",
     "text": [
      " 55%|█████▌    | 2460/4470 [4:06:24<30:50,  1.09it/s]   "
     ]
    },
    {
     "name": "stdout",
     "output_type": "stream",
     "text": [
      "Link: https://opendatabot.ua/c/24015420 .Counter: 0\n"
     ]
    },
    {
     "name": "stderr",
     "output_type": "stream",
     "text": [
      " 55%|█████▌    | 2464/4470 [4:06:52<2:08:07,  3.83s/it]"
     ]
    },
    {
     "name": "stdout",
     "output_type": "stream",
     "text": [
      "Link: https://opendatabot.ua/c/25964325 .Counter: 0\n"
     ]
    },
    {
     "name": "stderr",
     "output_type": "stream",
     "text": [
      " 55%|█████▌    | 2475/4470 [4:07:59<57:18,  1.72s/it]   "
     ]
    },
    {
     "name": "stdout",
     "output_type": "stream",
     "text": [
      "Link: https://opendatabot.ua/c/21149806 .Counter: 0\n"
     ]
    },
    {
     "name": "stderr",
     "output_type": "stream",
     "text": [
      " 56%|█████▌    | 2481/4470 [4:08:34<1:12:54,  2.20s/it]"
     ]
    },
    {
     "name": "stdout",
     "output_type": "stream",
     "text": [
      "Link: https://opendatabot.ua/c/25689646 .Counter: 0\n"
     ]
    },
    {
     "name": "stderr",
     "output_type": "stream",
     "text": [
      " 56%|█████▌    | 2487/4470 [4:09:10<1:29:17,  2.70s/it]"
     ]
    },
    {
     "name": "stdout",
     "output_type": "stream",
     "text": [
      "Link: https://opendatabot.ua/c/22557648 .Counter: 0\n"
     ]
    },
    {
     "name": "stderr",
     "output_type": "stream",
     "text": [
      " 56%|█████▌    | 2497/4470 [4:10:09<48:44,  1.48s/it]  "
     ]
    },
    {
     "name": "stdout",
     "output_type": "stream",
     "text": [
      "Link: https://opendatabot.ua/c/33158955 .Counter: 0\n"
     ]
    },
    {
     "name": "stderr",
     "output_type": "stream",
     "text": [
      " 56%|█████▌    | 2508/4470 [4:11:16<1:00:25,  1.85s/it] "
     ]
    },
    {
     "name": "stdout",
     "output_type": "stream",
     "text": [
      "Link: https://opendatabot.ua/c/25678341 .Counter: 0\n"
     ]
    },
    {
     "name": "stderr",
     "output_type": "stream",
     "text": [
      " 56%|█████▋    | 2523/4470 [4:12:48<39:01,  1.20s/it]   "
     ]
    },
    {
     "name": "stdout",
     "output_type": "stream",
     "text": [
      "Link: https://opendatabot.ua/c/24490196 .Counter: 0\n"
     ]
    },
    {
     "name": "stderr",
     "output_type": "stream",
     "text": [
      " 57%|█████▋    | 2532/4470 [4:13:42<1:05:53,  2.04s/it]"
     ]
    },
    {
     "name": "stdout",
     "output_type": "stream",
     "text": [
      "Link: https://opendatabot.ua/c/26223217 .Counter: 0\n"
     ]
    },
    {
     "name": "stderr",
     "output_type": "stream",
     "text": [
      " 57%|█████▋    | 2538/4470 [4:14:17<1:17:58,  2.42s/it]"
     ]
    },
    {
     "name": "stdout",
     "output_type": "stream",
     "text": [
      "Link: https://opendatabot.ua/c/06670635 .Counter: 0\n"
     ]
    },
    {
     "name": "stderr",
     "output_type": "stream",
     "text": [
      " 57%|█████▋    | 2543/4470 [4:14:48<2:01:58,  3.80s/it]"
     ]
    },
    {
     "name": "stdout",
     "output_type": "stream",
     "text": [
      "Link: https://opendatabot.ua/c/25814376 .Counter: 0\n"
     ]
    },
    {
     "name": "stderr",
     "output_type": "stream",
     "text": [
      " 57%|█████▋    | 2557/4470 [4:16:13<1:00:19,  1.89s/it] "
     ]
    },
    {
     "name": "stdout",
     "output_type": "stream",
     "text": [
      "Link: https://opendatabot.ua/c/22330519 .Counter: 0\n"
     ]
    },
    {
     "name": "stderr",
     "output_type": "stream",
     "text": [
      " 58%|█████▊    | 2571/4470 [4:17:34<34:20,  1.08s/it]   "
     ]
    },
    {
     "name": "stdout",
     "output_type": "stream",
     "text": [
      "Link: https://opendatabot.ua/c/22545332 .Counter: 0\n"
     ]
    },
    {
     "name": "stderr",
     "output_type": "stream",
     "text": [
      " 58%|█████▊    | 2586/4470 [4:19:03<45:41,  1.46s/it]   "
     ]
    },
    {
     "name": "stdout",
     "output_type": "stream",
     "text": [
      "Link: https://opendatabot.ua/c/23553948 .Counter: 0\n"
     ]
    },
    {
     "name": "stderr",
     "output_type": "stream",
     "text": [
      " 58%|█████▊    | 2602/4470 [4:20:41<25:25,  1.22it/s]   "
     ]
    },
    {
     "name": "stdout",
     "output_type": "stream",
     "text": [
      "Link: https://opendatabot.ua/c/02539714 .Counter: 0\n"
     ]
    },
    {
     "name": "stderr",
     "output_type": "stream",
     "text": [
      " 59%|█████▊    | 2619/4470 [4:22:25<1:04:18,  2.08s/it] "
     ]
    },
    {
     "name": "stdout",
     "output_type": "stream",
     "text": [
      "Link: https://opendatabot.ua/c/22579242 .Counter: 0\n"
     ]
    },
    {
     "name": "stderr",
     "output_type": "stream",
     "text": [
      " 59%|█████▊    | 2624/4470 [4:22:55<1:40:51,  3.28s/it]"
     ]
    },
    {
     "name": "stdout",
     "output_type": "stream",
     "text": [
      "Link: https://opendatabot.ua/c/23593043 .Counter: 0\n"
     ]
    },
    {
     "name": "stderr",
     "output_type": "stream",
     "text": [
      " 59%|█████▉    | 2641/4470 [4:24:37<41:04,  1.35s/it]   "
     ]
    },
    {
     "name": "stdout",
     "output_type": "stream",
     "text": [
      "Link: https://opendatabot.ua/c/26395645 .Counter: 0\n"
     ]
    },
    {
     "name": "stderr",
     "output_type": "stream",
     "text": [
      " 59%|█████▉    | 2650/4470 [4:25:31<42:00,  1.38s/it]  "
     ]
    },
    {
     "name": "stdout",
     "output_type": "stream",
     "text": [
      "Link: https://opendatabot.ua/c/43345459 .Counter: 0\n"
     ]
    },
    {
     "name": "stderr",
     "output_type": "stream",
     "text": [
      " 60%|█████▉    | 2666/4470 [4:27:08<18:19,  1.64it/s]   "
     ]
    },
    {
     "name": "stdout",
     "output_type": "stream",
     "text": [
      "Link: https://opendatabot.ua/c/22373925 .Counter: 0\n"
     ]
    },
    {
     "name": "stderr",
     "output_type": "stream",
     "text": [
      " 60%|██████    | 2684/4470 [4:28:55<23:59,  1.24it/s]   "
     ]
    },
    {
     "name": "stdout",
     "output_type": "stream",
     "text": [
      "Link: https://opendatabot.ua/c/24010931 .Counter: 0\n"
     ]
    },
    {
     "name": "stderr",
     "output_type": "stream",
     "text": [
      " 60%|██████    | 2689/4470 [4:29:27<1:23:45,  2.82s/it]"
     ]
    },
    {
     "name": "stdout",
     "output_type": "stream",
     "text": [
      "Link: https://opendatabot.ua/c/26086915 .Counter: 0\n"
     ]
    },
    {
     "name": "stderr",
     "output_type": "stream",
     "text": [
      " 60%|██████    | 2696/4470 [4:30:06<1:12:39,  2.46s/it]"
     ]
    },
    {
     "name": "stdout",
     "output_type": "stream",
     "text": [
      "Link: https://opendatabot.ua/c/33249675 .Counter: 0\n"
     ]
    },
    {
     "name": "stderr",
     "output_type": "stream",
     "text": [
      " 60%|██████    | 2703/4470 [4:30:52<1:07:05,  2.28s/it]"
     ]
    },
    {
     "name": "stdout",
     "output_type": "stream",
     "text": [
      "Link: https://opendatabot.ua/c/34227228 .Counter: 0\n"
     ]
    },
    {
     "name": "stderr",
     "output_type": "stream",
     "text": [
      " 61%|██████    | 2719/4470 [4:32:30<30:07,  1.03s/it]   "
     ]
    },
    {
     "name": "stdout",
     "output_type": "stream",
     "text": [
      "Link: https://opendatabot.ua/c/22720686 .Counter: 0\n"
     ]
    },
    {
     "name": "stderr",
     "output_type": "stream",
     "text": [
      " 61%|██████    | 2722/4470 [4:32:44<1:14:36,  2.56s/it]"
     ]
    },
    {
     "name": "stdout",
     "output_type": "stream",
     "text": [
      "Link: https://opendatabot.ua/c/24114760 .Counter: 0\n"
     ]
    },
    {
     "name": "stderr",
     "output_type": "stream",
     "text": [
      " 61%|██████    | 2735/4470 [4:34:06<35:23,  1.22s/it]   "
     ]
    },
    {
     "name": "stdout",
     "output_type": "stream",
     "text": [
      "Link: https://opendatabot.ua/c/24767522 .Counter: 0\n"
     ]
    },
    {
     "name": "stderr",
     "output_type": "stream",
     "text": [
      " 62%|██████▏   | 2752/4470 [4:35:46<45:20,  1.58s/it]   "
     ]
    },
    {
     "name": "stdout",
     "output_type": "stream",
     "text": [
      "Link: https://opendatabot.ua/c/34849436 .Counter: 0\n"
     ]
    },
    {
     "name": "stderr",
     "output_type": "stream",
     "text": [
      " 62%|██████▏   | 2760/4470 [4:36:34<55:04,  1.93s/it]  "
     ]
    },
    {
     "name": "stdout",
     "output_type": "stream",
     "text": [
      "Link: https://opendatabot.ua/c/25300861 .Counter: 0\n"
     ]
    },
    {
     "name": "stderr",
     "output_type": "stream",
     "text": [
      " 62%|██████▏   | 2763/4470 [4:36:52<1:43:01,  3.62s/it]"
     ]
    },
    {
     "name": "stdout",
     "output_type": "stream",
     "text": [
      "Link: https://opendatabot.ua/c/02547501 .Counter: 0\n"
     ]
    },
    {
     "name": "stderr",
     "output_type": "stream",
     "text": [
      " 62%|██████▏   | 2777/4470 [4:38:18<22:01,  1.28it/s]   "
     ]
    },
    {
     "name": "stdout",
     "output_type": "stream",
     "text": [
      "Link: https://opendatabot.ua/c/25560094 .Counter: 0\n"
     ]
    },
    {
     "name": "stderr",
     "output_type": "stream",
     "text": [
      " 62%|██████▏   | 2780/4470 [4:38:36<1:26:18,  3.06s/it]"
     ]
    },
    {
     "name": "stdout",
     "output_type": "stream",
     "text": [
      "Link: https://opendatabot.ua/c/20559962 .Counter: 0\n"
     ]
    },
    {
     "name": "stderr",
     "output_type": "stream",
     "text": [
      " 63%|██████▎   | 2795/4470 [4:40:04<19:08,  1.46it/s]   "
     ]
    },
    {
     "name": "stdout",
     "output_type": "stream",
     "text": [
      "Link: https://opendatabot.ua/c/06670061 .Counter: 0\n"
     ]
    },
    {
     "name": "stderr",
     "output_type": "stream",
     "text": [
      " 63%|██████▎   | 2811/4470 [4:41:39<15:53,  1.74it/s]   "
     ]
    },
    {
     "name": "stdout",
     "output_type": "stream",
     "text": [
      "Link: https://opendatabot.ua/c/25090139 .Counter: 0\n"
     ]
    },
    {
     "name": "stderr",
     "output_type": "stream",
     "text": [
      " 63%|██████▎   | 2826/4470 [4:43:10<18:57,  1.44it/s]   "
     ]
    },
    {
     "name": "stdout",
     "output_type": "stream",
     "text": [
      "Link: https://opendatabot.ua/c/23547215 .Counter: 0\n"
     ]
    },
    {
     "name": "stderr",
     "output_type": "stream",
     "text": [
      " 63%|██████▎   | 2828/4470 [4:43:26<1:43:39,  3.79s/it]"
     ]
    },
    {
     "name": "stdout",
     "output_type": "stream",
     "text": [
      "Link: https://opendatabot.ua/c/25086770 .Counter: 0\n"
     ]
    },
    {
     "name": "stderr",
     "output_type": "stream",
     "text": [
      " 63%|██████▎   | 2834/4470 [4:44:01<1:09:21,  2.54s/it]"
     ]
    },
    {
     "name": "stdout",
     "output_type": "stream",
     "text": [
      "Link: https://opendatabot.ua/c/26286672 .Counter: 0\n"
     ]
    },
    {
     "name": "stderr",
     "output_type": "stream",
     "text": [
      " 63%|██████▎   | 2838/4470 [4:44:23<1:27:58,  3.23s/it]"
     ]
    },
    {
     "name": "stdout",
     "output_type": "stream",
     "text": [
      "Link: https://opendatabot.ua/c/21408219 .Counter: 0\n"
     ]
    },
    {
     "name": "stderr",
     "output_type": "stream",
     "text": [
      " 64%|██████▎   | 2843/4470 [4:44:54<1:32:28,  3.41s/it]"
     ]
    },
    {
     "name": "stdout",
     "output_type": "stream",
     "text": [
      "Link: https://opendatabot.ua/c/25880002 .Counter: 0\n"
     ]
    },
    {
     "name": "stderr",
     "output_type": "stream",
     "text": [
      " 64%|██████▍   | 2851/4470 [4:45:43<55:11,  2.05s/it]  "
     ]
    },
    {
     "name": "stdout",
     "output_type": "stream",
     "text": [
      "Link: https://opendatabot.ua/c/31715821 .Counter: 0\n"
     ]
    },
    {
     "name": "stderr",
     "output_type": "stream",
     "text": [
      " 64%|██████▍   | 2868/4470 [4:47:25<23:39,  1.13it/s]   "
     ]
    },
    {
     "name": "stdout",
     "output_type": "stream",
     "text": [
      "Link: https://opendatabot.ua/c/35826818 .Counter: 0\n"
     ]
    },
    {
     "name": "stderr",
     "output_type": "stream",
     "text": [
      " 64%|██████▍   | 2872/4470 [4:47:48<1:12:29,  2.72s/it]"
     ]
    },
    {
     "name": "stdout",
     "output_type": "stream",
     "text": [
      "Link: https://opendatabot.ua/c/25918745 .Counter: 0\n"
     ]
    },
    {
     "name": "stderr",
     "output_type": "stream",
     "text": [
      " 65%|██████▍   | 2884/4470 [4:48:59<28:17,  1.07s/it]  "
     ]
    },
    {
     "name": "stdout",
     "output_type": "stream",
     "text": [
      "Link: https://opendatabot.ua/c/23017090 .Counter: 0\n"
     ]
    },
    {
     "name": "stderr",
     "output_type": "stream",
     "text": [
      " 65%|██████▍   | 2892/4470 [4:49:51<50:20,  1.91s/it]  "
     ]
    },
    {
     "name": "stdout",
     "output_type": "stream",
     "text": [
      "Link: https://opendatabot.ua/c/25869911 .Counter: 0\n"
     ]
    },
    {
     "name": "stderr",
     "output_type": "stream",
     "text": [
      " 65%|██████▍   | 2897/4470 [4:50:18<1:10:22,  2.68s/it]"
     ]
    },
    {
     "name": "stdout",
     "output_type": "stream",
     "text": [
      "Link: https://opendatabot.ua/c/34793952 .Counter: 0\n"
     ]
    },
    {
     "name": "stderr",
     "output_type": "stream",
     "text": [
      " 65%|██████▌   | 2908/4470 [4:51:26<40:58,  1.57s/it]  "
     ]
    },
    {
     "name": "stdout",
     "output_type": "stream",
     "text": [
      "Link: https://opendatabot.ua/c/03063194 .Counter: 0\n"
     ]
    },
    {
     "name": "stderr",
     "output_type": "stream",
     "text": [
      " 65%|██████▌   | 2919/4470 [4:52:35<30:28,  1.18s/it]  "
     ]
    },
    {
     "name": "stdout",
     "output_type": "stream",
     "text": [
      "Link: https://opendatabot.ua/c/33361914 .Counter: 0\n"
     ]
    },
    {
     "name": "stderr",
     "output_type": "stream",
     "text": [
      " 65%|██████▌   | 2924/4470 [4:53:04<1:19:33,  3.09s/it]"
     ]
    },
    {
     "name": "stdout",
     "output_type": "stream",
     "text": [
      "Link: https://opendatabot.ua/c/23923316 .Counter: 0\n"
     ]
    },
    {
     "name": "stderr",
     "output_type": "stream",
     "text": [
      " 65%|██████▌   | 2927/4470 [4:53:21<1:36:27,  3.75s/it]"
     ]
    },
    {
     "name": "stdout",
     "output_type": "stream",
     "text": [
      "Link: https://opendatabot.ua/c/23543944 .Counter: 0\n"
     ]
    },
    {
     "name": "stderr",
     "output_type": "stream",
     "text": [
      " 66%|██████▌   | 2938/4470 [4:54:30<50:02,  1.96s/it]  "
     ]
    },
    {
     "name": "stdout",
     "output_type": "stream",
     "text": [
      "Link: https://opendatabot.ua/c/24882571 .Counter: 0\n"
     ]
    },
    {
     "name": "stderr",
     "output_type": "stream",
     "text": [
      " 66%|██████▌   | 2954/4470 [4:56:01<21:34,  1.17it/s]  "
     ]
    },
    {
     "name": "stdout",
     "output_type": "stream",
     "text": [
      "Link: https://opendatabot.ua/c/23594775 .Counter: 0\n"
     ]
    },
    {
     "name": "stderr",
     "output_type": "stream",
     "text": [
      " 66%|██████▋   | 2969/4470 [4:57:37<27:27,  1.10s/it]   "
     ]
    },
    {
     "name": "stdout",
     "output_type": "stream",
     "text": [
      "Link: https://opendatabot.ua/c/23923374 .Counter: 0\n"
     ]
    },
    {
     "name": "stderr",
     "output_type": "stream",
     "text": [
      " 67%|██████▋   | 2984/4470 [4:59:04<23:17,  1.06it/s]  "
     ]
    },
    {
     "name": "stdout",
     "output_type": "stream",
     "text": [
      "Link: https://opendatabot.ua/c/22757028 .Counter: 0\n"
     ]
    },
    {
     "name": "stderr",
     "output_type": "stream",
     "text": [
      " 67%|██████▋   | 2994/4470 [5:00:07<50:28,  2.05s/it]  "
     ]
    },
    {
     "name": "stdout",
     "output_type": "stream",
     "text": [
      "Link: https://opendatabot.ua/c/04062156 .Counter: 0\n"
     ]
    },
    {
     "name": "stderr",
     "output_type": "stream",
     "text": [
      " 67%|██████▋   | 3001/4470 [5:00:47<50:30,  2.06s/it]  "
     ]
    },
    {
     "name": "stdout",
     "output_type": "stream",
     "text": [
      "Link: https://opendatabot.ua/c/24622321 .Counter: 0\n"
     ]
    },
    {
     "name": "stderr",
     "output_type": "stream",
     "text": [
      " 67%|██████▋   | 3003/4470 [5:00:58<1:22:46,  3.39s/it]"
     ]
    },
    {
     "name": "stdout",
     "output_type": "stream",
     "text": [
      "Link: https://opendatabot.ua/c/22351310 .Counter: 0\n"
     ]
    },
    {
     "name": "stderr",
     "output_type": "stream",
     "text": [
      " 67%|██████▋   | 3015/4470 [5:02:11<42:58,  1.77s/it]  "
     ]
    },
    {
     "name": "stdout",
     "output_type": "stream",
     "text": [
      "Link: https://opendatabot.ua/c/22067341 .Counter: 0\n"
     ]
    },
    {
     "name": "stderr",
     "output_type": "stream",
     "text": [
      " 68%|██████▊   | 3029/4470 [5:03:34<18:27,  1.30it/s]  "
     ]
    },
    {
     "name": "stdout",
     "output_type": "stream",
     "text": [
      "Link: https://opendatabot.ua/c/04417010 .Counter: 0\n"
     ]
    },
    {
     "name": "stderr",
     "output_type": "stream",
     "text": [
      " 68%|██████▊   | 3045/4470 [5:05:09<27:25,  1.15s/it]  "
     ]
    },
    {
     "name": "stdout",
     "output_type": "stream",
     "text": [
      "Link: https://opendatabot.ua/c/23019114 .Counter: 0\n"
     ]
    },
    {
     "name": "stderr",
     "output_type": "stream",
     "text": [
      " 68%|██████▊   | 3055/4470 [5:06:14<30:10,  1.28s/it]  "
     ]
    },
    {
     "name": "stdout",
     "output_type": "stream",
     "text": [
      "Link: https://opendatabot.ua/c/22365044 .Counter: 0\n"
     ]
    },
    {
     "name": "stderr",
     "output_type": "stream",
     "text": [
      " 69%|██████▊   | 3066/4470 [5:07:21<39:33,  1.69s/it]  "
     ]
    },
    {
     "name": "stdout",
     "output_type": "stream",
     "text": [
      "Link: https://opendatabot.ua/c/24173946 .Counter: 0\n"
     ]
    },
    {
     "name": "stderr",
     "output_type": "stream",
     "text": [
      " 69%|██████▉   | 3080/4470 [5:08:42<29:39,  1.28s/it]  "
     ]
    },
    {
     "name": "stdout",
     "output_type": "stream",
     "text": [
      "Link: https://opendatabot.ua/c/33292924 .Counter: 0\n"
     ]
    },
    {
     "name": "stderr",
     "output_type": "stream",
     "text": [
      " 69%|██████▉   | 3098/4470 [5:10:31<24:14,  1.06s/it]   "
     ]
    },
    {
     "name": "stdout",
     "output_type": "stream",
     "text": [
      "Link: https://opendatabot.ua/c/34849441 .Counter: 0\n"
     ]
    },
    {
     "name": "stderr",
     "output_type": "stream",
     "text": [
      " 69%|██████▉   | 3103/4470 [5:11:00<1:03:39,  2.79s/it]"
     ]
    },
    {
     "name": "stdout",
     "output_type": "stream",
     "text": [
      "Link: https://opendatabot.ua/c/21436807 .Counter: 0\n"
     ]
    },
    {
     "name": "stderr",
     "output_type": "stream",
     "text": [
      " 70%|███████   | 3131/4470 [5:13:50<30:05,  1.35s/it]  "
     ]
    },
    {
     "name": "stdout",
     "output_type": "stream",
     "text": [
      "Link: https://opendatabot.ua/c/22850526 .Counter: 0\n"
     ]
    },
    {
     "name": "stderr",
     "output_type": "stream",
     "text": [
      " 70%|███████   | 3141/4470 [5:14:49<34:25,  1.55s/it]  "
     ]
    },
    {
     "name": "stdout",
     "output_type": "stream",
     "text": [
      "Link: https://opendatabot.ua/c/26110789 .Counter: 0\n"
     ]
    },
    {
     "name": "stderr",
     "output_type": "stream",
     "text": [
      " 71%|███████   | 3157/4470 [5:16:29<18:15,  1.20it/s]  "
     ]
    },
    {
     "name": "stdout",
     "output_type": "stream",
     "text": [
      "Link: https://opendatabot.ua/c/21052751 .Counter: 0\n"
     ]
    },
    {
     "name": "stderr",
     "output_type": "stream",
     "text": [
      " 71%|███████   | 3175/4470 [5:18:18<33:38,  1.56s/it]   "
     ]
    },
    {
     "name": "stdout",
     "output_type": "stream",
     "text": [
      "Link: https://opendatabot.ua/c/21439993 .Counter: 0\n"
     ]
    },
    {
     "name": "stderr",
     "output_type": "stream",
     "text": [
      " 71%|███████▏  | 3191/4470 [5:19:51<18:24,  1.16it/s]  "
     ]
    },
    {
     "name": "stdout",
     "output_type": "stream",
     "text": [
      "Link: https://opendatabot.ua/c/33274387 .Counter: 0\n"
     ]
    },
    {
     "name": "stderr",
     "output_type": "stream",
     "text": [
      " 72%|███████▏  | 3199/4470 [5:20:42<50:46,  2.40s/it]  "
     ]
    },
    {
     "name": "stdout",
     "output_type": "stream",
     "text": [
      "Link: https://opendatabot.ua/c/25085374 .Counter: 0\n"
     ]
    },
    {
     "name": "stderr",
     "output_type": "stream",
     "text": [
      " 72%|███████▏  | 3215/4470 [5:22:16<15:56,  1.31it/s]  "
     ]
    },
    {
     "name": "stdout",
     "output_type": "stream",
     "text": [
      "Link: https://opendatabot.ua/c/33380104 .Counter: 0\n"
     ]
    },
    {
     "name": "stderr",
     "output_type": "stream",
     "text": [
      " 72%|███████▏  | 3227/4470 [5:23:29<24:43,  1.19s/it]  "
     ]
    },
    {
     "name": "stdout",
     "output_type": "stream",
     "text": [
      "Link: https://opendatabot.ua/c/34085904 .Counter: 0\n"
     ]
    },
    {
     "name": "stderr",
     "output_type": "stream",
     "text": [
      " 72%|███████▏  | 3240/4470 [5:24:48<25:55,  1.26s/it]  "
     ]
    },
    {
     "name": "stdout",
     "output_type": "stream",
     "text": [
      "Link: https://opendatabot.ua/c/21443322 .Counter: 0\n"
     ]
    },
    {
     "name": "stderr",
     "output_type": "stream",
     "text": [
      " 73%|███████▎  | 3250/4470 [5:25:47<27:29,  1.35s/it]  "
     ]
    },
    {
     "name": "stdout",
     "output_type": "stream",
     "text": [
      "Link: https://opendatabot.ua/c/04590777 .Counter: 0\n"
     ]
    },
    {
     "name": "stderr",
     "output_type": "stream",
     "text": [
      " 73%|███████▎  | 3268/4470 [5:27:35<22:05,  1.10s/it]  "
     ]
    },
    {
     "name": "stdout",
     "output_type": "stream",
     "text": [
      "Link: https://opendatabot.ua/c/22398718 .Counter: 0\n"
     ]
    },
    {
     "name": "stderr",
     "output_type": "stream",
     "text": [
      " 73%|███████▎  | 3270/4470 [5:27:49<1:11:01,  3.55s/it]"
     ]
    },
    {
     "name": "stdout",
     "output_type": "stream",
     "text": [
      "Link: https://opendatabot.ua/c/22985249 .Counter: 0\n"
     ]
    },
    {
     "name": "stderr",
     "output_type": "stream",
     "text": [
      " 74%|███████▎  | 3287/4470 [5:29:31<27:32,  1.40s/it]  "
     ]
    },
    {
     "name": "stdout",
     "output_type": "stream",
     "text": [
      "Link: https://opendatabot.ua/c/20562734 .Counter: 0\n"
     ]
    },
    {
     "name": "stderr",
     "output_type": "stream",
     "text": [
      " 74%|███████▎  | 3289/4470 [5:29:42<59:57,  3.05s/it]  "
     ]
    },
    {
     "name": "stdout",
     "output_type": "stream",
     "text": [
      "Link: https://opendatabot.ua/c/26292610 .Counter: 0\n"
     ]
    },
    {
     "name": "stderr",
     "output_type": "stream",
     "text": [
      " 74%|███████▍  | 3302/4470 [5:31:03<31:36,  1.62s/it]  "
     ]
    },
    {
     "name": "stdout",
     "output_type": "stream",
     "text": [
      "Link: https://opendatabot.ua/c/23564455 .Counter: 0\n"
     ]
    },
    {
     "name": "stderr",
     "output_type": "stream",
     "text": [
      " 74%|███████▍  | 3307/4470 [5:31:33<50:16,  2.59s/it]  "
     ]
    },
    {
     "name": "stdout",
     "output_type": "stream",
     "text": [
      "Link: https://opendatabot.ua/c/26467511 .Counter: 0\n"
     ]
    },
    {
     "name": "stderr",
     "output_type": "stream",
     "text": [
      " 74%|███████▍  | 3315/4470 [5:32:20<38:10,  1.98s/it]  "
     ]
    },
    {
     "name": "stdout",
     "output_type": "stream",
     "text": [
      "Link: https://opendatabot.ua/c/25452370 .Counter: 0\n"
     ]
    },
    {
     "name": "stderr",
     "output_type": "stream",
     "text": [
      " 75%|███████▍  | 3331/4470 [5:33:56<14:41,  1.29it/s]  "
     ]
    },
    {
     "name": "stdout",
     "output_type": "stream",
     "text": [
      "Link: https://opendatabot.ua/c/25608027 .Counter: 0\n"
     ]
    },
    {
     "name": "stderr",
     "output_type": "stream",
     "text": [
      " 75%|███████▍  | 3333/4470 [5:34:10<1:03:22,  3.34s/it]"
     ]
    },
    {
     "name": "stdout",
     "output_type": "stream",
     "text": [
      "Link: https://opendatabot.ua/c/33452131 .Counter: 0\n"
     ]
    },
    {
     "name": "stderr",
     "output_type": "stream",
     "text": [
      " 75%|███████▍  | 3339/4470 [5:34:45<47:48,  2.54s/it]  "
     ]
    },
    {
     "name": "stdout",
     "output_type": "stream",
     "text": [
      "Link: https://opendatabot.ua/c/23231788 .Counter: 0\n"
     ]
    },
    {
     "name": "stderr",
     "output_type": "stream",
     "text": [
      " 75%|███████▍  | 3348/4470 [5:35:40<26:54,  1.44s/it]  "
     ]
    },
    {
     "name": "stdout",
     "output_type": "stream",
     "text": [
      "Link: https://opendatabot.ua/c/24826845 .Counter: 0\n"
     ]
    },
    {
     "name": "stderr",
     "output_type": "stream",
     "text": [
      " 75%|███████▌  | 3355/4470 [5:36:21<36:49,  1.98s/it]  "
     ]
    },
    {
     "name": "stdout",
     "output_type": "stream",
     "text": [
      "Link: https://opendatabot.ua/c/22787561 .Counter: 0\n"
     ]
    },
    {
     "name": "stderr",
     "output_type": "stream",
     "text": [
      " 75%|███████▌  | 3360/4470 [5:36:51<55:53,  3.02s/it]  "
     ]
    },
    {
     "name": "stdout",
     "output_type": "stream",
     "text": [
      "Link: https://opendatabot.ua/c/20133683 .Counter: 0\n"
     ]
    },
    {
     "name": "stderr",
     "output_type": "stream",
     "text": [
      " 76%|███████▌  | 3375/4470 [5:38:23<25:35,  1.40s/it]  "
     ]
    },
    {
     "name": "stdout",
     "output_type": "stream",
     "text": [
      "Link: https://opendatabot.ua/c/26371900 .Counter: 0\n"
     ]
    },
    {
     "name": "stderr",
     "output_type": "stream",
     "text": [
      " 76%|███████▌  | 3378/4470 [5:38:40<1:09:06,  3.80s/it]"
     ]
    },
    {
     "name": "stdout",
     "output_type": "stream",
     "text": [
      "Link: https://opendatabot.ua/c/24174957 .Counter: 0\n"
     ]
    },
    {
     "name": "stderr",
     "output_type": "stream",
     "text": [
      " 76%|███████▌  | 3384/4470 [5:39:13<53:17,  2.94s/it]  "
     ]
    },
    {
     "name": "stdout",
     "output_type": "stream",
     "text": [
      "Link: https://opendatabot.ua/c/16459048 .Counter: 0\n"
     ]
    },
    {
     "name": "stderr",
     "output_type": "stream",
     "text": [
      " 76%|███████▌  | 3386/4470 [5:39:27<1:19:58,  4.43s/it]"
     ]
    },
    {
     "name": "stdout",
     "output_type": "stream",
     "text": [
      "Link: https://opendatabot.ua/c/26494301 .Counter: 0\n"
     ]
    },
    {
     "name": "stderr",
     "output_type": "stream",
     "text": [
      " 76%|███████▌  | 3405/4470 [5:41:23<41:37,  2.35s/it]  "
     ]
    },
    {
     "name": "stdout",
     "output_type": "stream",
     "text": [
      "Link: https://opendatabot.ua/c/26046318 .Counter: 0\n"
     ]
    },
    {
     "name": "stderr",
     "output_type": "stream",
     "text": [
      " 76%|███████▌  | 3408/4470 [5:41:42<1:11:58,  4.07s/it]"
     ]
    },
    {
     "name": "stdout",
     "output_type": "stream",
     "text": [
      "Link: https://opendatabot.ua/c/22418154 .Counter: 0\n"
     ]
    },
    {
     "name": "stderr",
     "output_type": "stream",
     "text": [
      " 76%|███████▋  | 3415/4470 [5:42:21<37:00,  2.10s/it]  "
     ]
    },
    {
     "name": "stdout",
     "output_type": "stream",
     "text": [
      "Link: https://opendatabot.ua/c/24354783 .Counter: 0\n"
     ]
    },
    {
     "name": "stderr",
     "output_type": "stream",
     "text": [
      " 77%|███████▋  | 3422/4470 [5:43:06<36:19,  2.08s/it]  "
     ]
    },
    {
     "name": "stdout",
     "output_type": "stream",
     "text": [
      "Link: https://opendatabot.ua/c/33360601 .Counter: 0\n"
     ]
    },
    {
     "name": "stderr",
     "output_type": "stream",
     "text": [
      " 77%|███████▋  | 3431/4470 [5:43:58<29:05,  1.68s/it]  "
     ]
    },
    {
     "name": "stdout",
     "output_type": "stream",
     "text": [
      "Link: https://opendatabot.ua/c/24684090 .Counter: 0\n"
     ]
    },
    {
     "name": "stderr",
     "output_type": "stream",
     "text": [
      " 77%|███████▋  | 3448/4470 [5:45:43<27:08,  1.59s/it]  "
     ]
    },
    {
     "name": "stdout",
     "output_type": "stream",
     "text": [
      "Link: https://opendatabot.ua/c/22203689 .Counter: 0\n"
     ]
    },
    {
     "name": "stderr",
     "output_type": "stream",
     "text": [
      " 77%|███████▋  | 3464/4470 [5:47:17<20:36,  1.23s/it]  "
     ]
    },
    {
     "name": "stdout",
     "output_type": "stream",
     "text": [
      "Link: https://opendatabot.ua/c/40572551 .Counter: 0\n"
     ]
    },
    {
     "name": "stderr",
     "output_type": "stream",
     "text": [
      " 78%|███████▊  | 3481/4470 [5:49:00<21:00,  1.27s/it]  "
     ]
    },
    {
     "name": "stdout",
     "output_type": "stream",
     "text": [
      "Link: https://opendatabot.ua/c/22684772 .Counter: 0\n"
     ]
    },
    {
     "name": "stderr",
     "output_type": "stream",
     "text": [
      " 78%|███████▊  | 3497/4470 [5:50:37<12:56,  1.25it/s]  "
     ]
    },
    {
     "name": "stdout",
     "output_type": "stream",
     "text": [
      "Link: https://opendatabot.ua/c/26158951 .Counter: 0\n"
     ]
    },
    {
     "name": "stderr",
     "output_type": "stream",
     "text": [
      " 78%|███████▊  | 3500/4470 [5:50:53<45:12,  2.80s/it]  "
     ]
    },
    {
     "name": "stdout",
     "output_type": "stream",
     "text": [
      "Link: https://opendatabot.ua/c/24116463 .Counter: 0\n"
     ]
    },
    {
     "name": "stderr",
     "output_type": "stream",
     "text": [
      " 78%|███████▊  | 3504/4470 [5:51:20<58:49,  3.65s/it]  "
     ]
    },
    {
     "name": "stdout",
     "output_type": "stream",
     "text": [
      "Link: https://opendatabot.ua/c/40980685 .Counter: 0\n"
     ]
    },
    {
     "name": "stderr",
     "output_type": "stream",
     "text": [
      " 79%|███████▉  | 3521/4470 [5:52:58<13:05,  1.21it/s]  "
     ]
    },
    {
     "name": "stdout",
     "output_type": "stream",
     "text": [
      "Link: https://opendatabot.ua/c/33453821 .Counter: 0\n"
     ]
    },
    {
     "name": "stderr",
     "output_type": "stream",
     "text": [
      " 79%|███████▉  | 3529/4470 [5:53:47<26:52,  1.71s/it]  "
     ]
    },
    {
     "name": "stdout",
     "output_type": "stream",
     "text": [
      "Link: https://opendatabot.ua/c/21064903 .Counter: 0\n"
     ]
    },
    {
     "name": "stderr",
     "output_type": "stream",
     "text": [
      " 79%|███████▉  | 3544/4470 [5:55:21<17:38,  1.14s/it]  "
     ]
    },
    {
     "name": "stdout",
     "output_type": "stream",
     "text": [
      "Link: https://opendatabot.ua/c/42270262 .Counter: 0\n"
     ]
    },
    {
     "name": "stderr",
     "output_type": "stream",
     "text": [
      " 79%|███████▉  | 3547/4470 [5:55:38<46:30,  3.02s/it]  "
     ]
    },
    {
     "name": "stdout",
     "output_type": "stream",
     "text": [
      "Link: https://opendatabot.ua/c/25230296 .Counter: 0\n"
     ]
    },
    {
     "name": "stderr",
     "output_type": "stream",
     "text": [
      " 80%|███████▉  | 3556/4470 [5:56:34<30:11,  1.98s/it]  "
     ]
    },
    {
     "name": "stdout",
     "output_type": "stream",
     "text": [
      "Link: https://opendatabot.ua/c/23922742 .Counter: 0\n"
     ]
    },
    {
     "name": "stderr",
     "output_type": "stream",
     "text": [
      " 80%|███████▉  | 3567/4470 [5:57:39<40:40,  2.70s/it]  "
     ]
    },
    {
     "name": "stdout",
     "output_type": "stream",
     "text": [
      "Link: https://opendatabot.ua/c/20552865 .Counter: 0\n"
     ]
    },
    {
     "name": "stderr",
     "output_type": "stream",
     "text": [
      " 80%|████████  | 3581/4470 [5:59:05<17:07,  1.16s/it]  "
     ]
    },
    {
     "name": "stdout",
     "output_type": "stream",
     "text": [
      "Link: https://opendatabot.ua/c/26494710 .Counter: 0\n"
     ]
    },
    {
     "name": "stderr",
     "output_type": "stream",
     "text": [
      " 80%|████████  | 3593/4470 [6:00:18<28:06,  1.92s/it]  "
     ]
    },
    {
     "name": "stdout",
     "output_type": "stream",
     "text": [
      "Link: https://opendatabot.ua/c/25689480 .Counter: 0\n"
     ]
    },
    {
     "name": "stderr",
     "output_type": "stream",
     "text": [
      " 81%|████████  | 3608/4470 [6:01:47<19:04,  1.33s/it]  "
     ]
    },
    {
     "name": "stdout",
     "output_type": "stream",
     "text": [
      "Link: https://opendatabot.ua/c/02137810 .Counter: 0\n"
     ]
    },
    {
     "name": "stderr",
     "output_type": "stream",
     "text": [
      " 81%|████████  | 3626/4470 [6:03:35<22:14,  1.58s/it]  "
     ]
    },
    {
     "name": "stdout",
     "output_type": "stream",
     "text": [
      "Link: https://opendatabot.ua/c/24170942 .Counter: 0\n"
     ]
    },
    {
     "name": "stderr",
     "output_type": "stream",
     "text": [
      " 81%|████████▏ | 3634/4470 [6:04:21<29:09,  2.09s/it]  "
     ]
    },
    {
     "name": "stdout",
     "output_type": "stream",
     "text": [
      "Link: https://opendatabot.ua/c/33334414 .Counter: 0\n"
     ]
    },
    {
     "name": "stderr",
     "output_type": "stream",
     "text": [
      " 82%|████████▏ | 3651/4470 [6:06:03<09:52,  1.38it/s]  "
     ]
    },
    {
     "name": "stdout",
     "output_type": "stream",
     "text": [
      "Link: https://opendatabot.ua/c/26110602 .Counter: 0\n"
     ]
    },
    {
     "name": "stderr",
     "output_type": "stream",
     "text": [
      " 82%|████████▏ | 3666/4470 [6:07:38<15:16,  1.14s/it]  "
     ]
    },
    {
     "name": "stdout",
     "output_type": "stream",
     "text": [
      "Link: https://opendatabot.ua/c/23563668 .Counter: 0\n"
     ]
    },
    {
     "name": "stderr",
     "output_type": "stream",
     "text": [
      " 82%|████████▏ | 3677/4470 [6:08:44<18:43,  1.42s/it]  "
     ]
    },
    {
     "name": "stdout",
     "output_type": "stream",
     "text": [
      "Link: https://opendatabot.ua/c/22374014 .Counter: 0\n"
     ]
    },
    {
     "name": "stderr",
     "output_type": "stream",
     "text": [
      " 83%|████████▎ | 3696/4470 [6:10:37<18:23,  1.43s/it]  "
     ]
    },
    {
     "name": "stdout",
     "output_type": "stream",
     "text": [
      "Link: https://opendatabot.ua/c/06669201 .Counter: 0\n"
     ]
    },
    {
     "name": "stderr",
     "output_type": "stream",
     "text": [
      " 83%|████████▎ | 3701/4470 [6:11:08<38:57,  3.04s/it]  "
     ]
    },
    {
     "name": "stdout",
     "output_type": "stream",
     "text": [
      "Link: https://opendatabot.ua/c/21333668 .Counter: 0\n"
     ]
    },
    {
     "name": "stderr",
     "output_type": "stream",
     "text": [
      " 83%|████████▎ | 3705/4470 [6:11:31<41:13,  3.23s/it]  "
     ]
    },
    {
     "name": "stdout",
     "output_type": "stream",
     "text": [
      "Link: https://opendatabot.ua/c/33361081 .Counter: 0\n"
     ]
    },
    {
     "name": "stderr",
     "output_type": "stream",
     "text": [
      " 83%|████████▎ | 3713/4470 [6:12:18<21:43,  1.72s/it]  "
     ]
    },
    {
     "name": "stdout",
     "output_type": "stream",
     "text": [
      "Link: https://opendatabot.ua/c/25667188 .Counter: 0\n"
     ]
    },
    {
     "name": "stderr",
     "output_type": "stream",
     "text": [
      " 83%|████████▎ | 3731/4470 [6:14:06<08:39,  1.42it/s]  "
     ]
    },
    {
     "name": "stdout",
     "output_type": "stream",
     "text": [
      "Link: https://opendatabot.ua/c/26167022 .Counter: 0\n"
     ]
    },
    {
     "name": "stderr",
     "output_type": "stream",
     "text": [
      " 84%|████████▍ | 3749/4470 [6:15:57<13:42,  1.14s/it]  "
     ]
    },
    {
     "name": "stdout",
     "output_type": "stream",
     "text": [
      "Link: https://opendatabot.ua/c/26291555 .Counter: 0\n"
     ]
    },
    {
     "name": "stderr",
     "output_type": "stream",
     "text": [
      " 85%|████████▍ | 3779/4470 [6:18:58<13:19,  1.16s/it]  "
     ]
    },
    {
     "name": "stdout",
     "output_type": "stream",
     "text": [
      "Link: https://opendatabot.ua/c/22849730 .Counter: 0\n"
     ]
    },
    {
     "name": "stderr",
     "output_type": "stream",
     "text": [
      " 85%|████████▍ | 3790/4470 [6:20:03<16:58,  1.50s/it]  "
     ]
    },
    {
     "name": "stdout",
     "output_type": "stream",
     "text": [
      "Link: https://opendatabot.ua/c/22272621 .Counter: 0\n"
     ]
    },
    {
     "name": "stderr",
     "output_type": "stream",
     "text": [
      " 85%|████████▍ | 3795/4470 [6:20:30<26:48,  2.38s/it]  "
     ]
    },
    {
     "name": "stdout",
     "output_type": "stream",
     "text": [
      "Link: https://opendatabot.ua/c/33355350 .Counter: 0\n"
     ]
    },
    {
     "name": "stderr",
     "output_type": "stream",
     "text": [
      " 85%|████████▍ | 3797/4470 [6:20:46<51:50,  4.62s/it]  "
     ]
    },
    {
     "name": "stdout",
     "output_type": "stream",
     "text": [
      "Link: https://opendatabot.ua/c/24756493 .Counter: 0\n"
     ]
    },
    {
     "name": "stderr",
     "output_type": "stream",
     "text": [
      " 85%|████████▌ | 3815/4470 [6:22:35<10:16,  1.06it/s]  "
     ]
    },
    {
     "name": "stdout",
     "output_type": "stream",
     "text": [
      "Link: https://opendatabot.ua/c/26372975 .Counter: 0\n"
     ]
    },
    {
     "name": "stderr",
     "output_type": "stream",
     "text": [
      " 85%|████████▌ | 3818/4470 [6:22:53<38:02,  3.50s/it]"
     ]
    },
    {
     "name": "stdout",
     "output_type": "stream",
     "text": [
      "Link: https://opendatabot.ua/c/21438108 .Counter: 0\n"
     ]
    },
    {
     "name": "stderr",
     "output_type": "stream",
     "text": [
      " 86%|████████▌ | 3831/4470 [6:24:11<14:54,  1.40s/it]  "
     ]
    },
    {
     "name": "stdout",
     "output_type": "stream",
     "text": [
      "Link: https://opendatabot.ua/c/22398173 .Counter: 0\n"
     ]
    },
    {
     "name": "stderr",
     "output_type": "stream",
     "text": [
      " 86%|████████▌ | 3838/4470 [6:24:50<18:51,  1.79s/it]  "
     ]
    },
    {
     "name": "stdout",
     "output_type": "stream",
     "text": [
      "Link: https://opendatabot.ua/c/25811515 .Counter: 0\n"
     ]
    },
    {
     "name": "stderr",
     "output_type": "stream",
     "text": [
      " 86%|████████▌ | 3853/4470 [6:26:25<15:52,  1.54s/it]  "
     ]
    },
    {
     "name": "stdout",
     "output_type": "stream",
     "text": [
      "Link: https://opendatabot.ua/c/34901140 .Counter: 0\n"
     ]
    },
    {
     "name": "stderr",
     "output_type": "stream",
     "text": [
      " 86%|████████▋ | 3858/4470 [6:26:52<27:07,  2.66s/it]  "
     ]
    },
    {
     "name": "stdout",
     "output_type": "stream",
     "text": [
      "Link: https://opendatabot.ua/c/26357308 .Counter: 0\n"
     ]
    },
    {
     "name": "stderr",
     "output_type": "stream",
     "text": [
      " 86%|████████▋ | 3866/4470 [6:27:42<19:18,  1.92s/it]  "
     ]
    },
    {
     "name": "stdout",
     "output_type": "stream",
     "text": [
      "Link: https://opendatabot.ua/c/26338765 .Counter: 0\n"
     ]
    },
    {
     "name": "stderr",
     "output_type": "stream",
     "text": [
      " 87%|████████▋ | 3877/4470 [6:28:46<15:56,  1.61s/it]  "
     ]
    },
    {
     "name": "stdout",
     "output_type": "stream",
     "text": [
      "Link: https://opendatabot.ua/c/20829918 .Counter: 0\n"
     ]
    },
    {
     "name": "stderr",
     "output_type": "stream",
     "text": [
      " 87%|████████▋ | 3891/4470 [6:30:12<11:39,  1.21s/it]  "
     ]
    },
    {
     "name": "stdout",
     "output_type": "stream",
     "text": [
      "Link: https://opendatabot.ua/c/39977763 .Counter: 0\n"
     ]
    },
    {
     "name": "stderr",
     "output_type": "stream",
     "text": [
      " 87%|████████▋ | 3905/4470 [6:31:37<09:01,  1.04it/s]  "
     ]
    },
    {
     "name": "stdout",
     "output_type": "stream",
     "text": [
      "Link: https://opendatabot.ua/c/23210496 .Counter: 0\n"
     ]
    },
    {
     "name": "stderr",
     "output_type": "stream",
     "text": [
      " 88%|████████▊ | 3914/4470 [6:32:31<15:05,  1.63s/it]  "
     ]
    },
    {
     "name": "stdout",
     "output_type": "stream",
     "text": [
      "Link: https://opendatabot.ua/c/25037854 .Counter: 0\n"
     ]
    },
    {
     "name": "stderr",
     "output_type": "stream",
     "text": [
      " 88%|████████▊ | 3925/4470 [6:33:36<15:51,  1.75s/it]  "
     ]
    },
    {
     "name": "stdout",
     "output_type": "stream",
     "text": [
      "Link: https://opendatabot.ua/c/24355676 .Counter: 0\n"
     ]
    },
    {
     "name": "stderr",
     "output_type": "stream",
     "text": [
      " 88%|████████▊ | 3933/4470 [6:34:23<17:30,  1.96s/it]  "
     ]
    },
    {
     "name": "stdout",
     "output_type": "stream",
     "text": [
      "Link: https://opendatabot.ua/c/23548976 .Counter: 0\n"
     ]
    },
    {
     "name": "stderr",
     "output_type": "stream",
     "text": [
      " 88%|████████▊ | 3942/4470 [6:35:17<13:10,  1.50s/it]  "
     ]
    },
    {
     "name": "stdout",
     "output_type": "stream",
     "text": [
      "Link: https://opendatabot.ua/c/23066148 .Counter: 0\n"
     ]
    },
    {
     "name": "stderr",
     "output_type": "stream",
     "text": [
      " 88%|████████▊ | 3950/4470 [6:36:05<14:57,  1.73s/it]  "
     ]
    },
    {
     "name": "stdout",
     "output_type": "stream",
     "text": [
      "Link: https://opendatabot.ua/c/26228315 .Counter: 0\n"
     ]
    },
    {
     "name": "stderr",
     "output_type": "stream",
     "text": [
      " 89%|████████▊ | 3965/4470 [6:37:37<07:16,  1.16it/s]  "
     ]
    },
    {
     "name": "stdout",
     "output_type": "stream",
     "text": [
      "Link: https://opendatabot.ua/c/33141119 .Counter: 0\n"
     ]
    },
    {
     "name": "stderr",
     "output_type": "stream",
     "text": [
      " 89%|████████▉ | 3977/4470 [6:38:52<08:00,  1.03it/s]  "
     ]
    },
    {
     "name": "stdout",
     "output_type": "stream",
     "text": [
      "Link: https://opendatabot.ua/c/24629346 .Counter: 0\n"
     ]
    },
    {
     "name": "stderr",
     "output_type": "stream",
     "text": [
      " 89%|████████▉ | 3994/4470 [6:40:32<04:50,  1.64it/s]  "
     ]
    },
    {
     "name": "stdout",
     "output_type": "stream",
     "text": [
      "Link: https://opendatabot.ua/c/25457290 .Counter: 0\n"
     ]
    },
    {
     "name": "stderr",
     "output_type": "stream",
     "text": [
      " 90%|████████▉ | 4004/4470 [6:41:30<10:43,  1.38s/it]  "
     ]
    },
    {
     "name": "stdout",
     "output_type": "stream",
     "text": [
      "Link: https://opendatabot.ua/c/33333426 .Counter: 0\n"
     ]
    },
    {
     "name": "stderr",
     "output_type": "stream",
     "text": [
      " 90%|████████▉ | 4013/4470 [6:42:28<12:34,  1.65s/it]  "
     ]
    },
    {
     "name": "stdout",
     "output_type": "stream",
     "text": [
      "Link: https://opendatabot.ua/c/26323924 .Counter: 0\n"
     ]
    },
    {
     "name": "stderr",
     "output_type": "stream",
     "text": [
      " 90%|████████▉ | 4016/4470 [6:42:42<21:16,  2.81s/it]"
     ]
    },
    {
     "name": "stdout",
     "output_type": "stream",
     "text": [
      "Link: https://opendatabot.ua/c/26228226 .Counter: 0\n"
     ]
    },
    {
     "name": "stderr",
     "output_type": "stream",
     "text": [
      " 90%|████████▉ | 4021/4470 [6:43:16<23:19,  3.12s/it]  "
     ]
    },
    {
     "name": "stdout",
     "output_type": "stream",
     "text": [
      "Link: https://opendatabot.ua/c/23231794 .Counter: 0\n"
     ]
    },
    {
     "name": "stderr",
     "output_type": "stream",
     "text": [
      " 90%|█████████ | 4029/4470 [6:44:05<12:42,  1.73s/it]  "
     ]
    },
    {
     "name": "stdout",
     "output_type": "stream",
     "text": [
      "Link: https://opendatabot.ua/c/25974855 .Counter: 0\n"
     ]
    },
    {
     "name": "stderr",
     "output_type": "stream",
     "text": [
      " 90%|█████████ | 4040/4470 [6:45:11<12:37,  1.76s/it]  "
     ]
    },
    {
     "name": "stdout",
     "output_type": "stream",
     "text": [
      "Link: https://opendatabot.ua/c/33460598 .Counter: 0\n"
     ]
    },
    {
     "name": "stderr",
     "output_type": "stream",
     "text": [
      " 91%|█████████ | 4060/4470 [6:47:10<03:53,  1.75it/s]  "
     ]
    },
    {
     "name": "stdout",
     "output_type": "stream",
     "text": [
      "Link: https://opendatabot.ua/c/02548831 .Counter: 0\n"
     ]
    },
    {
     "name": "stderr",
     "output_type": "stream",
     "text": [
      " 91%|█████████ | 4078/4470 [6:49:00<09:08,  1.40s/it]  "
     ]
    },
    {
     "name": "stdout",
     "output_type": "stream",
     "text": [
      "Link: https://opendatabot.ua/c/23806486 .Counter: 0\n"
     ]
    },
    {
     "name": "stderr",
     "output_type": "stream",
     "text": [
      " 91%|█████████▏| 4088/4470 [6:50:00<11:19,  1.78s/it]  "
     ]
    },
    {
     "name": "stdout",
     "output_type": "stream",
     "text": [
      "Link: https://opendatabot.ua/c/25664132 .Counter: 0\n"
     ]
    },
    {
     "name": "stderr",
     "output_type": "stream",
     "text": [
      " 92%|█████████▏| 4093/4470 [6:50:30<16:38,  2.65s/it]  "
     ]
    },
    {
     "name": "stdout",
     "output_type": "stream",
     "text": [
      "Link: https://opendatabot.ua/c/40957402 .Counter: 0\n"
     ]
    },
    {
     "name": "stderr",
     "output_type": "stream",
     "text": [
      " 92%|█████████▏| 4096/4470 [6:50:49<25:26,  4.08s/it]"
     ]
    },
    {
     "name": "stdout",
     "output_type": "stream",
     "text": [
      "Link: https://opendatabot.ua/c/22402963 .Counter: 0\n"
     ]
    },
    {
     "name": "stderr",
     "output_type": "stream",
     "text": [
      " 92%|█████████▏| 4102/4470 [6:51:20<15:21,  2.50s/it]  "
     ]
    },
    {
     "name": "stdout",
     "output_type": "stream",
     "text": [
      "Link: https://opendatabot.ua/c/20565282 .Counter: 0\n"
     ]
    },
    {
     "name": "stderr",
     "output_type": "stream",
     "text": [
      " 92%|█████████▏| 4104/4470 [6:51:34<25:56,  4.25s/it]"
     ]
    },
    {
     "name": "stdout",
     "output_type": "stream",
     "text": [
      "Link: https://opendatabot.ua/c/22405625 .Counter: 0\n"
     ]
    },
    {
     "name": "stderr",
     "output_type": "stream",
     "text": [
      " 92%|█████████▏| 4110/4470 [6:52:09<14:50,  2.47s/it]  "
     ]
    },
    {
     "name": "stdout",
     "output_type": "stream",
     "text": [
      "Link: https://opendatabot.ua/c/32806275 .Counter: 0\n"
     ]
    },
    {
     "name": "stderr",
     "output_type": "stream",
     "text": [
      " 92%|█████████▏| 4123/4470 [6:53:30<05:57,  1.03s/it]  "
     ]
    },
    {
     "name": "stdout",
     "output_type": "stream",
     "text": [
      "Link: https://opendatabot.ua/c/25302274 .Counter: 0\n"
     ]
    },
    {
     "name": "stderr",
     "output_type": "stream",
     "text": [
      " 92%|█████████▏| 4132/4470 [6:54:22<09:40,  1.72s/it]  "
     ]
    },
    {
     "name": "stdout",
     "output_type": "stream",
     "text": [
      "Link: https://opendatabot.ua/c/24481085 .Counter: 0\n"
     ]
    },
    {
     "name": "stderr",
     "output_type": "stream",
     "text": [
      " 93%|█████████▎| 4149/4470 [6:56:06<07:40,  1.44s/it]  "
     ]
    },
    {
     "name": "stdout",
     "output_type": "stream",
     "text": [
      "Link: https://opendatabot.ua/c/22357240 .Counter: 0\n"
     ]
    },
    {
     "name": "stderr",
     "output_type": "stream",
     "text": [
      " 93%|█████████▎| 4151/4470 [6:56:17<16:20,  3.07s/it]"
     ]
    },
    {
     "name": "stdout",
     "output_type": "stream",
     "text": [
      "Link: https://opendatabot.ua/c/23542123 .Counter: 0\n"
     ]
    },
    {
     "name": "stderr",
     "output_type": "stream",
     "text": [
      " 93%|█████████▎| 4162/4470 [6:57:22<06:20,  1.24s/it]  "
     ]
    },
    {
     "name": "stdout",
     "output_type": "stream",
     "text": [
      "Link: https://opendatabot.ua/c/21440594 .Counter: 0\n"
     ]
    },
    {
     "name": "stderr",
     "output_type": "stream",
     "text": [
      " 93%|█████████▎| 4175/4470 [6:58:43<08:31,  1.73s/it]  "
     ]
    },
    {
     "name": "stdout",
     "output_type": "stream",
     "text": [
      "Link: https://opendatabot.ua/c/20565299 .Counter: 0\n"
     ]
    },
    {
     "name": "stderr",
     "output_type": "stream",
     "text": [
      " 94%|█████████▎| 4184/4470 [6:59:37<06:50,  1.43s/it]  "
     ]
    },
    {
     "name": "stdout",
     "output_type": "stream",
     "text": [
      "Link: https://opendatabot.ua/c/24329609 .Counter: 0\n"
     ]
    },
    {
     "name": "stderr",
     "output_type": "stream",
     "text": [
      " 94%|█████████▍| 4200/4470 [7:01:12<03:51,  1.17it/s]  "
     ]
    },
    {
     "name": "stdout",
     "output_type": "stream",
     "text": [
      "Link: https://opendatabot.ua/c/00729103 .Counter: 0\n"
     ]
    },
    {
     "name": "stderr",
     "output_type": "stream",
     "text": [
      " 94%|█████████▍| 4203/4470 [7:01:34<16:25,  3.69s/it]"
     ]
    },
    {
     "name": "stdout",
     "output_type": "stream",
     "text": [
      "Link: https://opendatabot.ua/c/22359026 .Counter: 0\n"
     ]
    },
    {
     "name": "stderr",
     "output_type": "stream",
     "text": [
      " 94%|█████████▍| 4209/4470 [7:02:10<11:28,  2.64s/it]"
     ]
    },
    {
     "name": "stdout",
     "output_type": "stream",
     "text": [
      "Link: https://opendatabot.ua/c/22442425 .Counter: 0\n"
     ]
    },
    {
     "name": "stderr",
     "output_type": "stream",
     "text": [
      " 94%|█████████▍| 4220/4470 [7:03:13<05:29,  1.32s/it]  "
     ]
    },
    {
     "name": "stdout",
     "output_type": "stream",
     "text": [
      "Link: https://opendatabot.ua/c/26323864 .Counter: 0\n"
     ]
    },
    {
     "name": "stderr",
     "output_type": "stream",
     "text": [
      " 94%|█████████▍| 4224/4470 [7:03:36<11:22,  2.77s/it]"
     ]
    },
    {
     "name": "stdout",
     "output_type": "stream",
     "text": [
      "Link: https://opendatabot.ua/c/26368921 .Counter: 0\n"
     ]
    },
    {
     "name": "stderr",
     "output_type": "stream",
     "text": [
      " 95%|█████████▍| 4226/4470 [7:03:50<18:08,  4.46s/it]"
     ]
    },
    {
     "name": "stdout",
     "output_type": "stream",
     "text": [
      "Link: https://opendatabot.ua/c/26460199 .Counter: 0\n"
     ]
    },
    {
     "name": "stderr",
     "output_type": "stream",
     "text": [
      " 95%|█████████▍| 4238/4470 [7:05:03<04:16,  1.10s/it]  "
     ]
    },
    {
     "name": "stdout",
     "output_type": "stream",
     "text": [
      "Link: https://opendatabot.ua/c/25090139 .Counter: 0\n"
     ]
    },
    {
     "name": "stderr",
     "output_type": "stream",
     "text": [
      " 95%|█████████▍| 4246/4470 [7:05:50<07:04,  1.89s/it]"
     ]
    },
    {
     "name": "stdout",
     "output_type": "stream",
     "text": [
      "Link: https://opendatabot.ua/c/26372727 .Counter: 0\n"
     ]
    },
    {
     "name": "stderr",
     "output_type": "stream",
     "text": [
      " 95%|█████████▌| 4257/4470 [7:06:55<05:34,  1.57s/it]  "
     ]
    },
    {
     "name": "stdout",
     "output_type": "stream",
     "text": [
      "Link: https://opendatabot.ua/c/33329210 .Counter: 0\n"
     ]
    },
    {
     "name": "stderr",
     "output_type": "stream",
     "text": [
      " 96%|█████████▌| 4274/4470 [7:08:38<01:46,  1.84it/s]  "
     ]
    },
    {
     "name": "stdout",
     "output_type": "stream",
     "text": [
      "Link: https://opendatabot.ua/c/20566844 .Counter: 0\n"
     ]
    },
    {
     "name": "stderr",
     "output_type": "stream",
     "text": [
      " 96%|█████████▌| 4283/4470 [7:09:35<05:04,  1.63s/it]"
     ]
    },
    {
     "name": "stdout",
     "output_type": "stream",
     "text": [
      "Link: https://opendatabot.ua/c/21166118 .Counter: 0\n"
     ]
    },
    {
     "name": "stderr",
     "output_type": "stream",
     "text": [
      " 96%|█████████▌| 4294/4470 [7:10:42<04:22,  1.49s/it]"
     ]
    },
    {
     "name": "stdout",
     "output_type": "stream",
     "text": [
      "Link: https://opendatabot.ua/c/22683755 .Counter: 0\n"
     ]
    },
    {
     "name": "stderr",
     "output_type": "stream",
     "text": [
      " 96%|█████████▋| 4307/4470 [7:11:57<03:52,  1.43s/it]"
     ]
    },
    {
     "name": "stdout",
     "output_type": "stream",
     "text": [
      "Link: https://opendatabot.ua/c/25716722 .Counter: 0\n"
     ]
    },
    {
     "name": "stderr",
     "output_type": "stream",
     "text": [
      " 96%|█████████▋| 4311/4470 [7:12:25<09:38,  3.64s/it]"
     ]
    },
    {
     "name": "stdout",
     "output_type": "stream",
     "text": [
      "Link: https://opendatabot.ua/c/22067105 .Counter: 0\n"
     ]
    },
    {
     "name": "stderr",
     "output_type": "stream",
     "text": [
      " 97%|█████████▋| 4326/4470 [7:13:53<02:47,  1.16s/it]  "
     ]
    },
    {
     "name": "stdout",
     "output_type": "stream",
     "text": [
      "Link: https://opendatabot.ua/c/25688003 .Counter: 0\n"
     ]
    },
    {
     "name": "stderr",
     "output_type": "stream",
     "text": [
      " 97%|█████████▋| 4334/4470 [7:14:40<03:40,  1.62s/it]"
     ]
    },
    {
     "name": "stdout",
     "output_type": "stream",
     "text": [
      "Link: https://opendatabot.ua/c/21438077 .Counter: 0\n"
     ]
    },
    {
     "name": "stderr",
     "output_type": "stream",
     "text": [
      " 97%|█████████▋| 4343/4470 [7:15:34<04:40,  2.21s/it]"
     ]
    },
    {
     "name": "stdout",
     "output_type": "stream",
     "text": [
      "Link: https://opendatabot.ua/c/35150743 .Counter: 0\n"
     ]
    },
    {
     "name": "stderr",
     "output_type": "stream",
     "text": [
      " 97%|█████████▋| 4347/4470 [7:15:58<06:20,  3.10s/it]"
     ]
    },
    {
     "name": "stdout",
     "output_type": "stream",
     "text": [
      "Link: https://opendatabot.ua/c/22490588 .Counter: 0\n"
     ]
    },
    {
     "name": "stderr",
     "output_type": "stream",
     "text": [
      " 97%|█████████▋| 4353/4470 [7:16:37<05:37,  2.88s/it]"
     ]
    },
    {
     "name": "stdout",
     "output_type": "stream",
     "text": [
      "Link: https://opendatabot.ua/c/21238197 .Counter: 0\n"
     ]
    },
    {
     "name": "stderr",
     "output_type": "stream",
     "text": [
      " 98%|█████████▊| 4363/4470 [7:17:38<03:18,  1.86s/it]"
     ]
    },
    {
     "name": "stdout",
     "output_type": "stream",
     "text": [
      "Link: https://opendatabot.ua/c/25704073 .Counter: 0\n"
     ]
    },
    {
     "name": "stderr",
     "output_type": "stream",
     "text": [
      " 98%|█████████▊| 4368/4470 [7:18:04<04:13,  2.49s/it]"
     ]
    },
    {
     "name": "stdout",
     "output_type": "stream",
     "text": [
      "Link: https://opendatabot.ua/c/24772902 .Counter: 0\n"
     ]
    },
    {
     "name": "stderr",
     "output_type": "stream",
     "text": [
      " 98%|█████████▊| 4378/4470 [7:19:04<02:30,  1.63s/it]"
     ]
    },
    {
     "name": "stdout",
     "output_type": "stream",
     "text": [
      "Link: https://opendatabot.ua/c/02011137 .Counter: 0\n"
     ]
    },
    {
     "name": "stderr",
     "output_type": "stream",
     "text": [
      " 98%|█████████▊| 4391/4470 [7:20:25<01:48,  1.37s/it]"
     ]
    },
    {
     "name": "stdout",
     "output_type": "stream",
     "text": [
      "Link: https://opendatabot.ua/c/33220420 .Counter: 0\n"
     ]
    },
    {
     "name": "stderr",
     "output_type": "stream",
     "text": [
      " 98%|█████████▊| 4396/4470 [7:20:55<03:15,  2.64s/it]"
     ]
    },
    {
     "name": "stdout",
     "output_type": "stream",
     "text": [
      "Link: https://opendatabot.ua/c/22987722 .Counter: 0\n"
     ]
    },
    {
     "name": "stderr",
     "output_type": "stream",
     "text": [
      " 99%|█████████▊| 4408/4470 [7:22:07<00:57,  1.09it/s]"
     ]
    },
    {
     "name": "stdout",
     "output_type": "stream",
     "text": [
      "Link: https://opendatabot.ua/c/01116420 .Counter: 0\n"
     ]
    },
    {
     "name": "stderr",
     "output_type": "stream",
     "text": [
      " 99%|█████████▊| 4414/4470 [7:22:42<02:21,  2.52s/it]"
     ]
    },
    {
     "name": "stdout",
     "output_type": "stream",
     "text": [
      "Link: https://opendatabot.ua/c/22342385 .Counter: 0\n"
     ]
    },
    {
     "name": "stderr",
     "output_type": "stream",
     "text": [
      " 99%|█████████▉| 4421/4470 [7:23:28<01:42,  2.09s/it]"
     ]
    },
    {
     "name": "stdout",
     "output_type": "stream",
     "text": [
      "Link: https://opendatabot.ua/c/26495358 .Counter: 0\n"
     ]
    },
    {
     "name": "stderr",
     "output_type": "stream",
     "text": [
      " 99%|█████████▉| 4431/4470 [7:24:26<00:55,  1.42s/it]"
     ]
    },
    {
     "name": "stdout",
     "output_type": "stream",
     "text": [
      "Link: https://opendatabot.ua/c/26368430 .Counter: 0\n"
     ]
    },
    {
     "name": "stderr",
     "output_type": "stream",
     "text": [
      " 99%|█████████▉| 4447/4470 [7:26:00<00:23,  1.00s/it]"
     ]
    },
    {
     "name": "stdout",
     "output_type": "stream",
     "text": [
      "Link: https://opendatabot.ua/c/26324148 .Counter: 0\n"
     ]
    },
    {
     "name": "stderr",
     "output_type": "stream",
     "text": [
      "100%|█████████▉| 4453/4470 [7:26:38<00:43,  2.53s/it]"
     ]
    },
    {
     "name": "stdout",
     "output_type": "stream",
     "text": [
      "Link: https://opendatabot.ua/c/23145927 .Counter: 0\n"
     ]
    },
    {
     "name": "stderr",
     "output_type": "stream",
     "text": [
      "100%|█████████▉| 4455/4470 [7:26:52<01:07,  4.47s/it]"
     ]
    },
    {
     "name": "stdout",
     "output_type": "stream",
     "text": [
      "Link: https://opendatabot.ua/c/03363140 .Counter: 0\n"
     ]
    },
    {
     "name": "stderr",
     "output_type": "stream",
     "text": [
      "100%|██████████| 4470/4470 [7:28:26<00:00,  6.02s/it]\n"
     ]
    }
   ],
   "source": [
    "import random\n",
    "import string\n",
    "import time\n",
    "from tqdm import tqdm\n",
    "tqdm.pandas()\n",
    "\n",
    "def get_header():\n",
    "    # create random header\n",
    "    random_string = ''.join(random.choice(string.ascii_uppercase + string.digits) for _ in range(10))\n",
    "    headers = {'User-Agent': random_string}\n",
    "    return headers\n",
    "\n",
    "def get_title(link):\n",
    "    counter = 0\n",
    "    while True:\n",
    "        response = requests.get(link, headers=get_header())\n",
    "        soup = BeautifulSoup(response.text, 'lxml')\n",
    "        # get title\n",
    "        title = soup.find('title').text\n",
    "        if title !='429 Too Many Requests':\n",
    "            return title\n",
    "        if counter%10==0:\n",
    "            print('Link:',link,'.Counter:', counter)\n",
    "        counter += 1\n",
    "        time.sleep(random.randint(10, 90))\n",
    "\n",
    "\n",
    "df['title_opendatabot'] = df['url'].progress_apply(get_title)"
   ]
  },
  {
   "cell_type": "code",
   "execution_count": 34,
   "metadata": {},
   "outputs": [
    {
     "data": {
      "text/html": [
       "<div>\n",
       "<style scoped>\n",
       "    .dataframe tbody tr th:only-of-type {\n",
       "        vertical-align: middle;\n",
       "    }\n",
       "\n",
       "    .dataframe tbody tr th {\n",
       "        vertical-align: top;\n",
       "    }\n",
       "\n",
       "    .dataframe thead th {\n",
       "        text-align: right;\n",
       "    }\n",
       "</style>\n",
       "<table border=\"1\" class=\"dataframe\">\n",
       "  <thead>\n",
       "    <tr style=\"text-align: right;\">\n",
       "      <th></th>\n",
       "      <th>eoname</th>\n",
       "      <th>KOATUU_2020</th>\n",
       "      <th>id</th>\n",
       "      <th>Код ЄДРПОУ</th>\n",
       "      <th>url</th>\n",
       "      <th>title_opendatabot</th>\n",
       "    </tr>\n",
       "  </thead>\n",
       "  <tbody>\n",
       "    <tr>\n",
       "      <th>0</th>\n",
       "      <td>Кулевчанська загальноосвітня школа I-III ступе...</td>\n",
       "      <td>5124581730</td>\n",
       "      <td>кулевчанськазагальноосвтняшкола3ступенвсаратсь...</td>\n",
       "      <td>NaN</td>\n",
       "      <td>https://opendatabot.ua/c/25814353</td>\n",
       "      <td>Кулевчанський опорний заклад - ліцей з початко...</td>\n",
       "    </tr>\n",
       "    <tr>\n",
       "      <th>1</th>\n",
       "      <td>Комунальний заклад \"Середня загальноосвітня шк...</td>\n",
       "      <td>1210436600</td>\n",
       "      <td>комунальнийзакладсереднязагальноосвтняшкола№30...</td>\n",
       "      <td>NaN</td>\n",
       "      <td>https://opendatabot.ua/c/20291034</td>\n",
       "      <td>Комунальний заклад \"ЛІЦЕЙ №30\" КАМ'ЯНСЬКОЇ МІС...</td>\n",
       "    </tr>\n",
       "    <tr>\n",
       "      <th>2</th>\n",
       "      <td>Ковалівська загальноосвітня школа І-ІІІ ступенів</td>\n",
       "      <td>2623282601</td>\n",
       "      <td>ковалвськазагальноосвтняшкола3ступенв</td>\n",
       "      <td>NaN</td>\n",
       "      <td>https://opendatabot.ua/c/23588837</td>\n",
       "      <td>Ковалівський заклад загальної середньої освіти...</td>\n",
       "    </tr>\n",
       "    <tr>\n",
       "      <th>3</th>\n",
       "      <td>Кам'янське вище професійне училище</td>\n",
       "      <td>1210436900</td>\n",
       "      <td>камянськевищепрофесйнеучилище</td>\n",
       "      <td>NaN</td>\n",
       "      <td>https://opendatabot.ua/c/02541496</td>\n",
       "      <td>Кам’янське вище професійне училище Код ЄДРПОУ ...</td>\n",
       "    </tr>\n",
       "    <tr>\n",
       "      <th>4</th>\n",
       "      <td>Іллінецька загальноосвітня школа I-III ступені...</td>\n",
       "      <td>521210100</td>\n",
       "      <td>ллнецьказагальноосвтняшкола3ступенв№1ллнецьком...</td>\n",
       "      <td>NaN</td>\n",
       "      <td>https://opendatabot.ua/c/13307208</td>\n",
       "      <td>Іллінецький ліцей №1 іллінецької міської ради ...</td>\n",
       "    </tr>\n",
       "    <tr>\n",
       "      <th>...</th>\n",
       "      <td>...</td>\n",
       "      <td>...</td>\n",
       "      <td>...</td>\n",
       "      <td>...</td>\n",
       "      <td>...</td>\n",
       "      <td>...</td>\n",
       "    </tr>\n",
       "    <tr>\n",
       "      <th>4465</th>\n",
       "      <td>Комунальний заклад освіти \"Дніпропетровський н...</td>\n",
       "      <td>1210137800</td>\n",
       "      <td>комунальнийзакладосвтиднпропетровськийнавчальн...</td>\n",
       "      <td>NaN</td>\n",
       "      <td>https://opendatabot.ua/c/21929243</td>\n",
       "      <td>Комунальний заклад освіти \"СПЕЦІАЛЬНА ШКОЛА № ...</td>\n",
       "    </tr>\n",
       "    <tr>\n",
       "      <th>4466</th>\n",
       "      <td>Федорівський заклад загальної середньої освіти...</td>\n",
       "      <td>6524484501</td>\n",
       "      <td>федорвськийзакладзагальносередньоосвтиновотроц...</td>\n",
       "      <td>NaN</td>\n",
       "      <td>https://opendatabot.ua/c/24750935</td>\n",
       "      <td>Федорівський заклад загальної середньої освіти...</td>\n",
       "    </tr>\n",
       "    <tr>\n",
       "      <th>4467</th>\n",
       "      <td>Волицька загальноосвітня школа І-ІІІ ступенів ...</td>\n",
       "      <td>4624881101</td>\n",
       "      <td>волицьказагальноосвтняшкола3ступенвсокальськор...</td>\n",
       "      <td>NaN</td>\n",
       "      <td>https://opendatabot.ua/c/25548733</td>\n",
       "      <td>Волицька загальноосвітня школа і-ііі ступенів ...</td>\n",
       "    </tr>\n",
       "    <tr>\n",
       "      <th>4468</th>\n",
       "      <td>Броварська загальноосвітня школа І-ІІІ ступені...</td>\n",
       "      <td>3210600000</td>\n",
       "      <td>броварськазагальноосвтняшкола3ступенв№9броварс...</td>\n",
       "      <td>NaN</td>\n",
       "      <td>https://opendatabot.ua/c/22208830</td>\n",
       "      <td>Броварський ліцей № 9 броварської міської ради...</td>\n",
       "    </tr>\n",
       "    <tr>\n",
       "      <th>4469</th>\n",
       "      <td>Вільхівецький навчально-виховний комплекс \"Заг...</td>\n",
       "      <td>3220685301</td>\n",
       "      <td>вльхвецькийнавчальновиховнийкомплексзагальноос...</td>\n",
       "      <td>NaN</td>\n",
       "      <td>https://opendatabot.ua/c/25300312</td>\n",
       "      <td>Вільхівецький навчально-виховний комплекс \"ЗАГ...</td>\n",
       "    </tr>\n",
       "  </tbody>\n",
       "</table>\n",
       "<p>4470 rows × 6 columns</p>\n",
       "</div>"
      ],
      "text/plain": [
       "                                                 eoname  KOATUU_2020  \\\n",
       "0     Кулевчанська загальноосвітня школа I-III ступе...   5124581730   \n",
       "1     Комунальний заклад \"Середня загальноосвітня шк...   1210436600   \n",
       "2      Ковалівська загальноосвітня школа І-ІІІ ступенів   2623282601   \n",
       "3                    Кам'янське вище професійне училище   1210436900   \n",
       "4     Іллінецька загальноосвітня школа I-III ступені...    521210100   \n",
       "...                                                 ...          ...   \n",
       "4465  Комунальний заклад освіти \"Дніпропетровський н...   1210137800   \n",
       "4466  Федорівський заклад загальної середньої освіти...   6524484501   \n",
       "4467  Волицька загальноосвітня школа І-ІІІ ступенів ...   4624881101   \n",
       "4468  Броварська загальноосвітня школа І-ІІІ ступені...   3210600000   \n",
       "4469  Вільхівецький навчально-виховний комплекс \"Заг...   3220685301   \n",
       "\n",
       "                                                     id  Код ЄДРПОУ  \\\n",
       "0     кулевчанськазагальноосвтняшкола3ступенвсаратсь...         NaN   \n",
       "1     комунальнийзакладсереднязагальноосвтняшкола№30...         NaN   \n",
       "2                 ковалвськазагальноосвтняшкола3ступенв         NaN   \n",
       "3                         камянськевищепрофесйнеучилище         NaN   \n",
       "4     ллнецьказагальноосвтняшкола3ступенв№1ллнецьком...         NaN   \n",
       "...                                                 ...         ...   \n",
       "4465  комунальнийзакладосвтиднпропетровськийнавчальн...         NaN   \n",
       "4466  федорвськийзакладзагальносередньоосвтиновотроц...         NaN   \n",
       "4467  волицьказагальноосвтняшкола3ступенвсокальськор...         NaN   \n",
       "4468  броварськазагальноосвтняшкола3ступенв№9броварс...         NaN   \n",
       "4469  вльхвецькийнавчальновиховнийкомплексзагальноос...         NaN   \n",
       "\n",
       "                                    url  \\\n",
       "0     https://opendatabot.ua/c/25814353   \n",
       "1     https://opendatabot.ua/c/20291034   \n",
       "2     https://opendatabot.ua/c/23588837   \n",
       "3     https://opendatabot.ua/c/02541496   \n",
       "4     https://opendatabot.ua/c/13307208   \n",
       "...                                 ...   \n",
       "4465  https://opendatabot.ua/c/21929243   \n",
       "4466  https://opendatabot.ua/c/24750935   \n",
       "4467  https://opendatabot.ua/c/25548733   \n",
       "4468  https://opendatabot.ua/c/22208830   \n",
       "4469  https://opendatabot.ua/c/25300312   \n",
       "\n",
       "                                      title_opendatabot  \n",
       "0     Кулевчанський опорний заклад - ліцей з початко...  \n",
       "1     Комунальний заклад \"ЛІЦЕЙ №30\" КАМ'ЯНСЬКОЇ МІС...  \n",
       "2     Ковалівський заклад загальної середньої освіти...  \n",
       "3     Кам’янське вище професійне училище Код ЄДРПОУ ...  \n",
       "4     Іллінецький ліцей №1 іллінецької міської ради ...  \n",
       "...                                                 ...  \n",
       "4465  Комунальний заклад освіти \"СПЕЦІАЛЬНА ШКОЛА № ...  \n",
       "4466  Федорівський заклад загальної середньої освіти...  \n",
       "4467  Волицька загальноосвітня школа і-ііі ступенів ...  \n",
       "4468  Броварський ліцей № 9 броварської міської ради...  \n",
       "4469  Вільхівецький навчально-виховний комплекс \"ЗАГ...  \n",
       "\n",
       "[4470 rows x 6 columns]"
      ]
     },
     "execution_count": 34,
     "metadata": {},
     "output_type": "execute_result"
    }
   ],
   "source": [
    "df"
   ]
  },
  {
   "cell_type": "code",
   "execution_count": 35,
   "metadata": {},
   "outputs": [
    {
     "data": {
      "text/html": [
       "<div>\n",
       "<style scoped>\n",
       "    .dataframe tbody tr th:only-of-type {\n",
       "        vertical-align: middle;\n",
       "    }\n",
       "\n",
       "    .dataframe tbody tr th {\n",
       "        vertical-align: top;\n",
       "    }\n",
       "\n",
       "    .dataframe thead th {\n",
       "        text-align: right;\n",
       "    }\n",
       "</style>\n",
       "<table border=\"1\" class=\"dataframe\">\n",
       "  <thead>\n",
       "    <tr style=\"text-align: right;\">\n",
       "      <th></th>\n",
       "      <th>eoname</th>\n",
       "      <th>KOATUU_2020</th>\n",
       "      <th>id</th>\n",
       "      <th>Код ЄДРПОУ</th>\n",
       "      <th>url</th>\n",
       "      <th>title_opendatabot</th>\n",
       "    </tr>\n",
       "  </thead>\n",
       "  <tbody>\n",
       "  </tbody>\n",
       "</table>\n",
       "</div>"
      ],
      "text/plain": [
       "Empty DataFrame\n",
       "Columns: [eoname, KOATUU_2020, id, Код ЄДРПОУ, url, title_opendatabot]\n",
       "Index: []"
      ]
     },
     "execution_count": 35,
     "metadata": {},
     "output_type": "execute_result"
    }
   ],
   "source": [
    "df[df.title_opendatabot=='429 Too Many Requests']"
   ]
  },
  {
   "cell_type": "code",
   "execution_count": 36,
   "metadata": {},
   "outputs": [],
   "source": [
    "df.to_csv('./parse_name_on_opendatabot.csv', index=False)"
   ]
  },
  {
   "cell_type": "code",
   "execution_count": 27,
   "metadata": {},
   "outputs": [
    {
     "data": {
      "text/plain": [
       "'Броварський ліцей № 9 броварської міської ради броварського району київської області Код ЄДРПОУ 22208830 — Опендатабот'"
      ]
     },
     "execution_count": 27,
     "metadata": {},
     "output_type": "execute_result"
    }
   ],
   "source": [
    "get_title('https://opendatabot.ua/c/22208830')"
   ]
  },
  {
   "cell_type": "code",
   "execution_count": 30,
   "metadata": {},
   "outputs": [
    {
     "data": {
      "text/plain": [
       "0"
      ]
     },
     "execution_count": 30,
     "metadata": {},
     "output_type": "execute_result"
    }
   ],
   "source": [
    "20%10"
   ]
  },
  {
   "cell_type": "code",
   "execution_count": null,
   "metadata": {},
   "outputs": [],
   "source": []
  }
 ],
 "metadata": {
  "kernelspec": {
   "display_name": "base",
   "language": "python",
   "name": "python3"
  },
  "language_info": {
   "codemirror_mode": {
    "name": "ipython",
    "version": 3
   },
   "file_extension": ".py",
   "mimetype": "text/x-python",
   "name": "python",
   "nbconvert_exporter": "python",
   "pygments_lexer": "ipython3",
   "version": "3.8.8"
  },
  "orig_nbformat": 4
 },
 "nbformat": 4,
 "nbformat_minor": 2
}
