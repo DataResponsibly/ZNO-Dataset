{
 "cells": [
  {
   "cell_type": "code",
   "execution_count": 1,
   "metadata": {},
   "outputs": [],
   "source": [
    "import numpy as np\n",
    "import pandas as pd"
   ]
  },
  {
   "cell_type": "code",
   "execution_count": 4,
   "metadata": {},
   "outputs": [
    {
     "name": "stdout",
     "output_type": "stream",
     "text": [
      "EIE 2016 Loading...\n",
      "success\n",
      "EIE 2017 Loading...\n",
      "success\n",
      "EIE 2018 Loading...\n"
     ]
    },
    {
     "name": "stderr",
     "output_type": "stream",
     "text": [
      "/var/folders/cz/wq9d8j_11fx3b8pjjbk7z8br0000gn/T/ipykernel_27855/3686568105.py:11: DtypeWarning: Columns (119) have mixed types. Specify dtype option on import or set low_memory=False.\n",
      "  dataset = pd.read_csv(f\"../../zno/{year}/{file_name}\", sep=\";\", encoding='utf-8')\n"
     ]
    },
    {
     "name": "stdout",
     "output_type": "stream",
     "text": [
      "success\n",
      "EIE 2019 Loading...\n"
     ]
    },
    {
     "name": "stderr",
     "output_type": "stream",
     "text": [
      "/var/folders/cz/wq9d8j_11fx3b8pjjbk7z8br0000gn/T/ipykernel_27855/3686568105.py:13: DtypeWarning: Columns (100,116,117,118,120,122,123,124,125) have mixed types. Specify dtype option on import or set low_memory=False.\n",
      "  dataset = pd.read_csv(f\"../../zno/{year}/{file_name}\", sep=\";\", encoding='Windows 1251')\n"
     ]
    },
    {
     "name": "stdout",
     "output_type": "stream",
     "text": [
      "success\n",
      "EIE 2020 Loading...\n"
     ]
    },
    {
     "name": "stderr",
     "output_type": "stream",
     "text": [
      "/var/folders/cz/wq9d8j_11fx3b8pjjbk7z8br0000gn/T/ipykernel_27855/3686568105.py:13: DtypeWarning: Columns (96,97,98,100,102,103,104,105,116,117,118,120,122,123,124,125) have mixed types. Specify dtype option on import or set low_memory=False.\n",
      "  dataset = pd.read_csv(f\"../../zno/{year}/{file_name}\", sep=\";\", encoding='Windows 1251')\n"
     ]
    },
    {
     "name": "stdout",
     "output_type": "stream",
     "text": [
      "success\n",
      "EIE 2021 Loading...\n"
     ]
    },
    {
     "name": "stderr",
     "output_type": "stream",
     "text": [
      "/var/folders/cz/wq9d8j_11fx3b8pjjbk7z8br0000gn/T/ipykernel_27855/3686568105.py:11: DtypeWarning: Columns (117,118,119,121,123,124,125,126,137,138,139,141,143,144,145,146) have mixed types. Specify dtype option on import or set low_memory=False.\n",
      "  dataset = pd.read_csv(f\"../../zno/{year}/{file_name}\", sep=\";\", encoding='utf-8')\n"
     ]
    },
    {
     "name": "stdout",
     "output_type": "stream",
     "text": [
      "success\n",
      "EIE 2022 Loading...\n",
      "success\n"
     ]
    }
   ],
   "source": [
    "# load datasets\n",
    "datasets = {}\n",
    "years = range(2016, 2023)\n",
    "for year in years:\n",
    "    print(f\"EIE {year} Loading...\")\n",
    "    if int(year) >= 2019:\n",
    "        file_name = f'Odata{year}File.csv'\n",
    "    else:\n",
    "        file_name = f'OpenData{year}.csv'\n",
    "    try:           \n",
    "        dataset = pd.read_csv(f\"../../zno/{year}/{file_name}\", sep=\";\", encoding='utf-8')\n",
    "    except:\n",
    "        dataset = pd.read_csv(f\"../../zno/{year}/{file_name}\", sep=\";\", encoding='Windows 1251')\n",
    "    datasets.update({year:dataset})\n",
    "    print(\"success\")"
   ]
  },
  {
   "cell_type": "code",
   "execution_count": 5,
   "metadata": {},
   "outputs": [],
   "source": [
    "for year, dataset in datasets.items():\n",
    "    #lowercase all columns and add year as attribute\n",
    "    dataset.columns = [col.lower() for col in dataset.columns]"
   ]
  },
  {
   "cell_type": "code",
   "execution_count": 6,
   "metadata": {},
   "outputs": [
    {
     "name": "stdout",
     "output_type": "stream",
     "text": [
      "['eoname', 'eotypename', 'eoregname', 'eoareaname', 'eotername', 'eoparent']\n",
      "['eoname', 'eotypename', 'eoregname', 'eoareaname', 'eotername', 'eoparent']\n",
      "['eoname', 'eotypename', 'eoregname', 'eoareaname', 'eotername', 'eoparent']\n",
      "['eoname', 'eotypename', 'eoregname', 'eoareaname', 'eotername', 'eoparent']\n",
      "['eoname', 'eotypename', 'eoregname', 'eoareaname', 'eotername', 'eoparent']\n",
      "['eoname', 'eotypename', 'eoregname', 'eoareaname', 'eotername', 'eoparent']\n",
      "['eoname', 'eotypename', 'eoregname', 'eoareaname', 'eotername', 'eoparent']\n"
     ]
    }
   ],
   "source": [
    "for year, dataset in datasets.items():\n",
    "    print([col for col in dataset.columns if col.startswith('eo')])"
   ]
  },
  {
   "cell_type": "code",
   "execution_count": 34,
   "metadata": {},
   "outputs": [],
   "source": [
    "organizations = pd.DataFrame(columns=['eoparent'])"
   ]
  },
  {
   "cell_type": "code",
   "execution_count": 35,
   "metadata": {},
   "outputs": [],
   "source": [
    "for year, dataset in datasets.items():\n",
    "    organizations = pd.concat([organizations, pd.DataFrame(dataset.loc[:, 'eoparent'])], ignore_index=True)\n"
   ]
  },
  {
   "cell_type": "code",
   "execution_count": 37,
   "metadata": {},
   "outputs": [
    {
     "data": {
      "text/html": [
       "<div>\n",
       "<style scoped>\n",
       "    .dataframe tbody tr th:only-of-type {\n",
       "        vertical-align: middle;\n",
       "    }\n",
       "\n",
       "    .dataframe tbody tr th {\n",
       "        vertical-align: top;\n",
       "    }\n",
       "\n",
       "    .dataframe thead th {\n",
       "        text-align: right;\n",
       "    }\n",
       "</style>\n",
       "<table border=\"1\" class=\"dataframe\">\n",
       "  <thead>\n",
       "    <tr style=\"text-align: right;\">\n",
       "      <th></th>\n",
       "      <th>eoparent</th>\n",
       "    </tr>\n",
       "  </thead>\n",
       "  <tbody>\n",
       "    <tr>\n",
       "      <th>0</th>\n",
       "      <td>Відділ освіти Мелітопольської районної державн...</td>\n",
       "    </tr>\n",
       "    <tr>\n",
       "      <th>1</th>\n",
       "      <td>Управління освіти, молоді та спорту Красилівсь...</td>\n",
       "    </tr>\n",
       "    <tr>\n",
       "      <th>3</th>\n",
       "      <td>Управління освіти Чернівецької міської ради</td>\n",
       "    </tr>\n",
       "    <tr>\n",
       "      <th>4</th>\n",
       "      <td>Відділ освіти Дружківської міської ради</td>\n",
       "    </tr>\n",
       "    <tr>\n",
       "      <th>5</th>\n",
       "      <td>Управління освіти і науки Тернопільської міськ...</td>\n",
       "    </tr>\n",
       "    <tr>\n",
       "      <th>...</th>\n",
       "      <td>...</td>\n",
       "    </tr>\n",
       "    <tr>\n",
       "      <th>3795</th>\n",
       "      <td>Відділ освіти, культури, молоді та спорту Ново...</td>\n",
       "    </tr>\n",
       "    <tr>\n",
       "      <th>3796</th>\n",
       "      <td>Відділ освіти, культури, молоді та спорту Біло...</td>\n",
       "    </tr>\n",
       "    <tr>\n",
       "      <th>3797</th>\n",
       "      <td>Відділ освіти, сім’ї, молоді, спорту, культури...</td>\n",
       "    </tr>\n",
       "    <tr>\n",
       "      <th>3798</th>\n",
       "      <td>Гуманітарний відділ Литовезької сільської ради...</td>\n",
       "    </tr>\n",
       "    <tr>\n",
       "      <th>3799</th>\n",
       "      <td>Відділ освіти, культури, туризму, молоді та сп...</td>\n",
       "    </tr>\n",
       "  </tbody>\n",
       "</table>\n",
       "<p>3799 rows × 1 columns</p>\n",
       "</div>"
      ],
      "text/plain": [
       "                                               eoparent\n",
       "0     Відділ освіти Мелітопольської районної державн...\n",
       "1     Управління освіти, молоді та спорту Красилівсь...\n",
       "3           Управління освіти Чернівецької міської ради\n",
       "4               Відділ освіти Дружківської міської ради\n",
       "5     Управління освіти і науки Тернопільської міськ...\n",
       "...                                                 ...\n",
       "3795  Відділ освіти, культури, молоді та спорту Ново...\n",
       "3796  Відділ освіти, культури, молоді та спорту Біло...\n",
       "3797  Відділ освіти, сім’ї, молоді, спорту, культури...\n",
       "3798  Гуманітарний відділ Литовезької сільської ради...\n",
       "3799  Відділ освіти, культури, туризму, молоді та сп...\n",
       "\n",
       "[3799 rows x 1 columns]"
      ]
     },
     "execution_count": 37,
     "metadata": {},
     "output_type": "execute_result"
    }
   ],
   "source": [
    "organizations.drop_duplicates(inplace=True)\n",
    "organizations.reset_index(drop=True, inplace=True)\n",
    "# when paricipant graduated in the previous years the corresponding information about school\n",
    "# (everything with 'eo') is NaN\n",
    "#we drop these rows\n",
    "organizations.dropna(how = 'all', inplace=True)\n",
    "organizations"
   ]
  },
  {
   "cell_type": "code",
   "execution_count": 38,
   "metadata": {},
   "outputs": [
    {
     "data": {
      "text/plain": [
       "array(['Відділ освіти Мелітопольської районної державної адміністрації Запорізької області',\n",
       "       'Управління освіти, молоді та спорту Красилівської районної державної адміністрації',\n",
       "       'Управління освіти Чернівецької міської ради', ...,\n",
       "       'Відділ освіти, сім’ї, молоді, спорту, культури і туризму Ольгопільської сільської ради Вінницької області',\n",
       "       'Гуманітарний відділ Литовезької сільської ради Володимир-Волинського району Волинської області',\n",
       "       'Відділ освіти, культури, туризму, молоді та спорту Присиваської сільської ради'],\n",
       "      dtype=object)"
      ]
     },
     "execution_count": 38,
     "metadata": {},
     "output_type": "execute_result"
    }
   ],
   "source": [
    "organizations.eoparent.unique()"
   ]
  },
  {
   "cell_type": "code",
   "execution_count": null,
   "metadata": {},
   "outputs": [],
   "source": []
  }
 ],
 "metadata": {
  "kernelspec": {
   "display_name": "Python 3",
   "language": "python",
   "name": "python3"
  },
  "language_info": {
   "codemirror_mode": {
    "name": "ipython",
    "version": 3
   },
   "file_extension": ".py",
   "mimetype": "text/x-python",
   "name": "python",
   "nbconvert_exporter": "python",
   "pygments_lexer": "ipython3",
   "version": "3.11.2"
  },
  "orig_nbformat": 4
 },
 "nbformat": 4,
 "nbformat_minor": 2
}
