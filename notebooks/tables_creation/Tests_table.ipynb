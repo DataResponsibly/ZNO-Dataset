{
 "cells": [
  {
   "cell_type": "code",
   "execution_count": 1,
   "metadata": {},
   "outputs": [],
   "source": [
    "import numpy as np\n",
    "import pandas as pd"
   ]
  },
  {
   "cell_type": "code",
   "execution_count": 2,
   "metadata": {},
   "outputs": [
    {
     "name": "stdout",
     "output_type": "stream",
     "text": [
      "EIE 2016 Loading...\n",
      "success\n",
      "EIE 2017 Loading...\n",
      "success\n",
      "EIE 2018 Loading...\n"
     ]
    },
    {
     "name": "stderr",
     "output_type": "stream",
     "text": [
      "/var/folders/0h/rk9k32wd7q19kh85p5flfq_r0000gn/T/ipykernel_36701/96975968.py:11: DtypeWarning: Columns (119) have mixed types. Specify dtype option on import or set low_memory=False.\n",
      "  dataset = pd.read_csv(f\"../../data_loader/{year}/{file_name}\", sep=\";\", encoding='utf-8')\n"
     ]
    },
    {
     "name": "stdout",
     "output_type": "stream",
     "text": [
      "success\n",
      "EIE 2019 Loading...\n"
     ]
    },
    {
     "name": "stderr",
     "output_type": "stream",
     "text": [
      "/var/folders/0h/rk9k32wd7q19kh85p5flfq_r0000gn/T/ipykernel_36701/96975968.py:13: DtypeWarning: Columns (100,116,117,118,120,122,123,124,125) have mixed types. Specify dtype option on import or set low_memory=False.\n",
      "  dataset = pd.read_csv(f\"../../data_loader/{year}/{file_name}\", sep=\";\", encoding='Windows 1251')\n"
     ]
    },
    {
     "name": "stdout",
     "output_type": "stream",
     "text": [
      "success\n",
      "EIE 2020 Loading...\n"
     ]
    },
    {
     "name": "stderr",
     "output_type": "stream",
     "text": [
      "/var/folders/0h/rk9k32wd7q19kh85p5flfq_r0000gn/T/ipykernel_36701/96975968.py:13: DtypeWarning: Columns (96,97,98,100,102,103,104,105,116,117,118,120,122,123,124,125) have mixed types. Specify dtype option on import or set low_memory=False.\n",
      "  dataset = pd.read_csv(f\"../../data_loader/{year}/{file_name}\", sep=\";\", encoding='Windows 1251')\n"
     ]
    },
    {
     "name": "stdout",
     "output_type": "stream",
     "text": [
      "success\n",
      "EIE 2021 Loading...\n"
     ]
    },
    {
     "name": "stderr",
     "output_type": "stream",
     "text": [
      "/var/folders/0h/rk9k32wd7q19kh85p5flfq_r0000gn/T/ipykernel_36701/96975968.py:11: DtypeWarning: Columns (117,118,119,121,123,124,125,126,137,138,139,141,143,144,145,146) have mixed types. Specify dtype option on import or set low_memory=False.\n",
      "  dataset = pd.read_csv(f\"../../data_loader/{year}/{file_name}\", sep=\";\", encoding='utf-8')\n"
     ]
    },
    {
     "name": "stdout",
     "output_type": "stream",
     "text": [
      "success\n",
      "EIE 2022 Loading...\n",
      "success\n",
      "EIE 2023 Loading...\n",
      "success\n"
     ]
    }
   ],
   "source": [
    "# load datasets\n",
    "datasets = {}\n",
    "years = range(2016, 2024)\n",
    "for year in years:\n",
    "    print(f\"EIE {year} Loading...\")\n",
    "    if int(year) >= 2019:\n",
    "        file_name = f'Odata{year}File.csv'\n",
    "    else:\n",
    "        file_name = f'OpenData{year}.csv'\n",
    "    try:           \n",
    "        dataset = pd.read_csv(f\"../../data_loader/{year}/{file_name}\", sep=\";\", encoding='utf-8')\n",
    "    except:\n",
    "        dataset = pd.read_csv(f\"../../data_loader/{year}/{file_name}\", sep=\";\", encoding='Windows 1251')\n",
    "    datasets.update({year:dataset})\n",
    "    print(\"success\")"
   ]
  },
  {
   "cell_type": "code",
   "execution_count": 3,
   "metadata": {},
   "outputs": [],
   "source": [
    "for year, dataset in datasets.items():\n",
    "    #lowercase all columns and add year as attribute\n",
    "    dataset.columns = [col.lower() for col in dataset.columns]"
   ]
  },
  {
   "cell_type": "markdown",
   "metadata": {},
   "source": [
    "# EIE"
   ]
  },
  {
   "cell_type": "code",
   "execution_count": 4,
   "metadata": {},
   "outputs": [
    {
     "name": "stdout",
     "output_type": "stream",
     "text": [
      "2016 ['ukrtest', 'histtest', 'mathtest', 'phystest', 'chemtest', 'biotest', 'geotest', 'engtest', 'frtest', 'deutest', 'sptest', 'rustest']\n",
      "2017 ['ukrtest', 'histtest', 'mathtest', 'phystest', 'chemtest', 'biotest', 'geotest', 'engtest', 'fratest', 'deutest', 'spatest', 'rustest']\n",
      "2018 ['ukrtest', 'histtest', 'mathtest', 'phystest', 'chemtest', 'biotest', 'geotest', 'engtest', 'fratest', 'deutest', 'spatest']\n",
      "2019 ['ukrtest', 'histtest', 'mathtest', 'phystest', 'chemtest', 'biotest', 'geotest', 'engtest', 'fratest', 'deutest', 'spatest']\n",
      "2020 ['ukrtest', 'histtest', 'mathtest', 'phystest', 'chemtest', 'biotest', 'geotest', 'engtest', 'fratest', 'deutest', 'spatest']\n",
      "2021 ['umltest', 'ukrtest', 'ukrsubtest', 'histtest', 'mathtest', 'mathsttest', 'phystest', 'chemtest', 'biotest', 'geotest', 'engtest', 'fratest', 'deutest', 'spatest']\n",
      "2022 ['test']\n",
      "2023 ['test']\n"
     ]
    }
   ],
   "source": [
    "nmt_start_year = 2022 # all years before that had EIE\n",
    "eie_subjects = set()\n",
    "for year, dataset in datasets.items():\n",
    "    subjects = [col for col in dataset.columns if col.endswith('test')]\n",
    "    if year < nmt_start_year:\n",
    "        eie_subjects.update(subjects)\n",
    "    print(year, subjects)"
   ]
  },
  {
   "cell_type": "code",
   "execution_count": 5,
   "metadata": {},
   "outputs": [
    {
     "data": {
      "text/plain": [
       "{'biotest',\n",
       " 'chemtest',\n",
       " 'deutest',\n",
       " 'engtest',\n",
       " 'fratest',\n",
       " 'geotest',\n",
       " 'histtest',\n",
       " 'mathsttest',\n",
       " 'mathtest',\n",
       " 'phystest',\n",
       " 'rustest',\n",
       " 'spatest',\n",
       " 'ukrsubtest',\n",
       " 'ukrtest',\n",
       " 'umltest'}"
      ]
     },
     "execution_count": 5,
     "metadata": {},
     "output_type": "execute_result"
    }
   ],
   "source": [
    "eie_subjects.remove('frtest')\n",
    "eie_subjects.remove('sptest')\n",
    "eie_subjects"
   ]
  },
  {
   "cell_type": "code",
   "execution_count": 6,
   "metadata": {},
   "outputs": [
    {
     "data": {
      "text/html": [
       "<div>\n",
       "<style scoped>\n",
       "    .dataframe tbody tr th:only-of-type {\n",
       "        vertical-align: middle;\n",
       "    }\n",
       "\n",
       "    .dataframe tbody tr th {\n",
       "        vertical-align: top;\n",
       "    }\n",
       "\n",
       "    .dataframe thead th {\n",
       "        text-align: right;\n",
       "    }\n",
       "</style>\n",
       "<table border=\"1\" class=\"dataframe\">\n",
       "  <thead>\n",
       "    <tr style=\"text-align: right;\">\n",
       "      <th></th>\n",
       "      <th>test_type</th>\n",
       "      <th>test_subject</th>\n",
       "    </tr>\n",
       "  </thead>\n",
       "  <tbody>\n",
       "    <tr>\n",
       "      <th>0</th>\n",
       "      <td>EIE</td>\n",
       "      <td>histtest</td>\n",
       "    </tr>\n",
       "    <tr>\n",
       "      <th>1</th>\n",
       "      <td>EIE</td>\n",
       "      <td>mathsttest</td>\n",
       "    </tr>\n",
       "    <tr>\n",
       "      <th>2</th>\n",
       "      <td>EIE</td>\n",
       "      <td>ukrtest</td>\n",
       "    </tr>\n",
       "    <tr>\n",
       "      <th>3</th>\n",
       "      <td>EIE</td>\n",
       "      <td>phystest</td>\n",
       "    </tr>\n",
       "    <tr>\n",
       "      <th>4</th>\n",
       "      <td>EIE</td>\n",
       "      <td>geotest</td>\n",
       "    </tr>\n",
       "    <tr>\n",
       "      <th>5</th>\n",
       "      <td>EIE</td>\n",
       "      <td>umltest</td>\n",
       "    </tr>\n",
       "    <tr>\n",
       "      <th>6</th>\n",
       "      <td>EIE</td>\n",
       "      <td>spatest</td>\n",
       "    </tr>\n",
       "    <tr>\n",
       "      <th>7</th>\n",
       "      <td>EIE</td>\n",
       "      <td>mathtest</td>\n",
       "    </tr>\n",
       "    <tr>\n",
       "      <th>8</th>\n",
       "      <td>EIE</td>\n",
       "      <td>deutest</td>\n",
       "    </tr>\n",
       "    <tr>\n",
       "      <th>9</th>\n",
       "      <td>EIE</td>\n",
       "      <td>engtest</td>\n",
       "    </tr>\n",
       "    <tr>\n",
       "      <th>10</th>\n",
       "      <td>EIE</td>\n",
       "      <td>biotest</td>\n",
       "    </tr>\n",
       "    <tr>\n",
       "      <th>11</th>\n",
       "      <td>EIE</td>\n",
       "      <td>rustest</td>\n",
       "    </tr>\n",
       "    <tr>\n",
       "      <th>12</th>\n",
       "      <td>EIE</td>\n",
       "      <td>ukrsubtest</td>\n",
       "    </tr>\n",
       "    <tr>\n",
       "      <th>13</th>\n",
       "      <td>EIE</td>\n",
       "      <td>fratest</td>\n",
       "    </tr>\n",
       "    <tr>\n",
       "      <th>14</th>\n",
       "      <td>EIE</td>\n",
       "      <td>chemtest</td>\n",
       "    </tr>\n",
       "  </tbody>\n",
       "</table>\n",
       "</div>"
      ],
      "text/plain": [
       "   test_type test_subject\n",
       "0        EIE     histtest\n",
       "1        EIE   mathsttest\n",
       "2        EIE      ukrtest\n",
       "3        EIE     phystest\n",
       "4        EIE      geotest\n",
       "5        EIE      umltest\n",
       "6        EIE      spatest\n",
       "7        EIE     mathtest\n",
       "8        EIE      deutest\n",
       "9        EIE      engtest\n",
       "10       EIE      biotest\n",
       "11       EIE      rustest\n",
       "12       EIE   ukrsubtest\n",
       "13       EIE      fratest\n",
       "14       EIE     chemtest"
      ]
     },
     "execution_count": 6,
     "metadata": {},
     "output_type": "execute_result"
    }
   ],
   "source": [
    "eie_df = pd.DataFrame(data={\"test_type\": [\"EIE\"] * len(eie_subjects), \"test_subject\": list(eie_subjects)})\n",
    "eie_df"
   ]
  },
  {
   "cell_type": "markdown",
   "metadata": {},
   "source": [
    "# NMT"
   ]
  },
  {
   "cell_type": "code",
   "execution_count": 7,
   "metadata": {},
   "outputs": [
    {
     "name": "stdout",
     "output_type": "stream",
     "text": [
      "test 2022 ['НМТ '] 2023 ['НМТ']\n",
      "ukrtest 2022 ['Українська мова'] 2023 ['Українська мова']\n",
      "histtest 2022 ['Історія України'] 2023 [nan 'Історія України']\n",
      "mathtest 2022 ['Математика'] 2023 ['Математика']\n"
     ]
    }
   ],
   "source": [
    "print('test', 2022, datasets[2022]['test'].unique(), 2023, datasets[2023]['test'].unique())\n",
    "print('ukrtest', 2022, datasets[2022]['block1'].unique(), 2023, datasets[2023]['ukrblock'].unique())\n",
    "print('histtest', 2022, datasets[2022]['block2'].unique(), 2023, datasets[2023]['histblock'].unique())\n",
    "print('mathtest', 2022, datasets[2022]['block3'].unique(), 2023, datasets[2023]['mathblock'].unique())"
   ]
  },
  {
   "cell_type": "markdown",
   "metadata": {},
   "source": [
    "From 2023 NMT have not only: `ukr, hist, math tests`"
   ]
  },
  {
   "cell_type": "code",
   "execution_count": 8,
   "metadata": {},
   "outputs": [
    {
     "name": "stdout",
     "output_type": "stream",
     "text": [
      "['ukrblock', 'histblock', 'mathblock', 'physblock', 'chemblock', 'bioblock', 'engblock', 'frablock', 'deublock', 'spablock']\n"
     ]
    }
   ],
   "source": [
    "subjects = [col for col in datasets[2023].columns if col.endswith('block')]\n",
    "print(subjects)"
   ]
  },
  {
   "cell_type": "code",
   "execution_count": 9,
   "metadata": {},
   "outputs": [
    {
     "name": "stdout",
     "output_type": "stream",
     "text": [
      "phystest 2023 [nan 'Фізика']\n",
      "chemtest 2023 [nan 'Хімія']\n",
      "biotest 2023 [nan 'Біологія']\n",
      "engtest 2023 ['Англійська мова' nan]\n",
      "fratest 2023 [nan 'Французька мова']\n",
      "deutest 2023 [nan 'Німецька мова']\n",
      "spatest 2023 [nan 'Іспанська мова']\n"
     ]
    }
   ],
   "source": [
    "print('phystest', 2023, datasets[2023]['physblock'].unique())\n",
    "print('chemtest', 2023,datasets[2023]['chemblock'].unique())\n",
    "print('biotest', 2023,datasets[2023]['bioblock'].unique())\n",
    "print('engtest', 2023,datasets[2023]['engblock'].unique())\n",
    "print('fratest', 2023,datasets[2023]['frablock'].unique())\n",
    "print('deutest', 2023,datasets[2023]['deublock'].unique())\n",
    "print('spatest', 2023,datasets[2023]['spablock'].unique())"
   ]
  },
  {
   "cell_type": "code",
   "execution_count": 10,
   "metadata": {},
   "outputs": [
    {
     "data": {
      "text/plain": [
       "['ukrtest',\n",
       " 'histtest',\n",
       " 'mathtest',\n",
       " 'phystest',\n",
       " 'chemtest',\n",
       " 'biotest',\n",
       " 'engtest',\n",
       " 'fratest',\n",
       " 'deutest',\n",
       " 'spatest']"
      ]
     },
     "execution_count": 10,
     "metadata": {},
     "output_type": "execute_result"
    }
   ],
   "source": [
    "nmt_subjects = [col.replace('block', 'test') for col in subjects]\n",
    "nmt_subjects"
   ]
  },
  {
   "cell_type": "code",
   "execution_count": 11,
   "metadata": {},
   "outputs": [
    {
     "data": {
      "text/html": [
       "<div>\n",
       "<style scoped>\n",
       "    .dataframe tbody tr th:only-of-type {\n",
       "        vertical-align: middle;\n",
       "    }\n",
       "\n",
       "    .dataframe tbody tr th {\n",
       "        vertical-align: top;\n",
       "    }\n",
       "\n",
       "    .dataframe thead th {\n",
       "        text-align: right;\n",
       "    }\n",
       "</style>\n",
       "<table border=\"1\" class=\"dataframe\">\n",
       "  <thead>\n",
       "    <tr style=\"text-align: right;\">\n",
       "      <th></th>\n",
       "      <th>test_type</th>\n",
       "      <th>test_subject</th>\n",
       "    </tr>\n",
       "  </thead>\n",
       "  <tbody>\n",
       "    <tr>\n",
       "      <th>0</th>\n",
       "      <td>NMT</td>\n",
       "      <td>ukrtest</td>\n",
       "    </tr>\n",
       "    <tr>\n",
       "      <th>1</th>\n",
       "      <td>NMT</td>\n",
       "      <td>histtest</td>\n",
       "    </tr>\n",
       "    <tr>\n",
       "      <th>2</th>\n",
       "      <td>NMT</td>\n",
       "      <td>mathtest</td>\n",
       "    </tr>\n",
       "    <tr>\n",
       "      <th>3</th>\n",
       "      <td>NMT</td>\n",
       "      <td>phystest</td>\n",
       "    </tr>\n",
       "    <tr>\n",
       "      <th>4</th>\n",
       "      <td>NMT</td>\n",
       "      <td>chemtest</td>\n",
       "    </tr>\n",
       "    <tr>\n",
       "      <th>5</th>\n",
       "      <td>NMT</td>\n",
       "      <td>biotest</td>\n",
       "    </tr>\n",
       "    <tr>\n",
       "      <th>6</th>\n",
       "      <td>NMT</td>\n",
       "      <td>engtest</td>\n",
       "    </tr>\n",
       "    <tr>\n",
       "      <th>7</th>\n",
       "      <td>NMT</td>\n",
       "      <td>fratest</td>\n",
       "    </tr>\n",
       "    <tr>\n",
       "      <th>8</th>\n",
       "      <td>NMT</td>\n",
       "      <td>deutest</td>\n",
       "    </tr>\n",
       "    <tr>\n",
       "      <th>9</th>\n",
       "      <td>NMT</td>\n",
       "      <td>spatest</td>\n",
       "    </tr>\n",
       "  </tbody>\n",
       "</table>\n",
       "</div>"
      ],
      "text/plain": [
       "  test_type test_subject\n",
       "0       NMT      ukrtest\n",
       "1       NMT     histtest\n",
       "2       NMT     mathtest\n",
       "3       NMT     phystest\n",
       "4       NMT     chemtest\n",
       "5       NMT      biotest\n",
       "6       NMT      engtest\n",
       "7       NMT      fratest\n",
       "8       NMT      deutest\n",
       "9       NMT      spatest"
      ]
     },
     "execution_count": 11,
     "metadata": {},
     "output_type": "execute_result"
    }
   ],
   "source": [
    "nmt_df = pd.DataFrame(data={\"test_type\": [\"NMT\"] * len(nmt_subjects), \"test_subject\": nmt_subjects})\n",
    "nmt_df"
   ]
  },
  {
   "cell_type": "code",
   "execution_count": 12,
   "metadata": {},
   "outputs": [
    {
     "data": {
      "text/html": [
       "<div>\n",
       "<style scoped>\n",
       "    .dataframe tbody tr th:only-of-type {\n",
       "        vertical-align: middle;\n",
       "    }\n",
       "\n",
       "    .dataframe tbody tr th {\n",
       "        vertical-align: top;\n",
       "    }\n",
       "\n",
       "    .dataframe thead th {\n",
       "        text-align: right;\n",
       "    }\n",
       "</style>\n",
       "<table border=\"1\" class=\"dataframe\">\n",
       "  <thead>\n",
       "    <tr style=\"text-align: right;\">\n",
       "      <th></th>\n",
       "      <th>test_type</th>\n",
       "      <th>test_subject</th>\n",
       "    </tr>\n",
       "  </thead>\n",
       "  <tbody>\n",
       "    <tr>\n",
       "      <th>0</th>\n",
       "      <td>EIE</td>\n",
       "      <td>histtest</td>\n",
       "    </tr>\n",
       "    <tr>\n",
       "      <th>1</th>\n",
       "      <td>EIE</td>\n",
       "      <td>mathsttest</td>\n",
       "    </tr>\n",
       "    <tr>\n",
       "      <th>2</th>\n",
       "      <td>EIE</td>\n",
       "      <td>ukrtest</td>\n",
       "    </tr>\n",
       "    <tr>\n",
       "      <th>3</th>\n",
       "      <td>EIE</td>\n",
       "      <td>phystest</td>\n",
       "    </tr>\n",
       "    <tr>\n",
       "      <th>4</th>\n",
       "      <td>EIE</td>\n",
       "      <td>geotest</td>\n",
       "    </tr>\n",
       "    <tr>\n",
       "      <th>5</th>\n",
       "      <td>EIE</td>\n",
       "      <td>umltest</td>\n",
       "    </tr>\n",
       "    <tr>\n",
       "      <th>6</th>\n",
       "      <td>EIE</td>\n",
       "      <td>spatest</td>\n",
       "    </tr>\n",
       "    <tr>\n",
       "      <th>7</th>\n",
       "      <td>EIE</td>\n",
       "      <td>mathtest</td>\n",
       "    </tr>\n",
       "    <tr>\n",
       "      <th>8</th>\n",
       "      <td>EIE</td>\n",
       "      <td>deutest</td>\n",
       "    </tr>\n",
       "    <tr>\n",
       "      <th>9</th>\n",
       "      <td>EIE</td>\n",
       "      <td>engtest</td>\n",
       "    </tr>\n",
       "    <tr>\n",
       "      <th>10</th>\n",
       "      <td>EIE</td>\n",
       "      <td>biotest</td>\n",
       "    </tr>\n",
       "    <tr>\n",
       "      <th>11</th>\n",
       "      <td>EIE</td>\n",
       "      <td>rustest</td>\n",
       "    </tr>\n",
       "    <tr>\n",
       "      <th>12</th>\n",
       "      <td>EIE</td>\n",
       "      <td>ukrsubtest</td>\n",
       "    </tr>\n",
       "    <tr>\n",
       "      <th>13</th>\n",
       "      <td>EIE</td>\n",
       "      <td>fratest</td>\n",
       "    </tr>\n",
       "    <tr>\n",
       "      <th>14</th>\n",
       "      <td>EIE</td>\n",
       "      <td>chemtest</td>\n",
       "    </tr>\n",
       "    <tr>\n",
       "      <th>15</th>\n",
       "      <td>NMT</td>\n",
       "      <td>ukrtest</td>\n",
       "    </tr>\n",
       "    <tr>\n",
       "      <th>16</th>\n",
       "      <td>NMT</td>\n",
       "      <td>histtest</td>\n",
       "    </tr>\n",
       "    <tr>\n",
       "      <th>17</th>\n",
       "      <td>NMT</td>\n",
       "      <td>mathtest</td>\n",
       "    </tr>\n",
       "    <tr>\n",
       "      <th>18</th>\n",
       "      <td>NMT</td>\n",
       "      <td>phystest</td>\n",
       "    </tr>\n",
       "    <tr>\n",
       "      <th>19</th>\n",
       "      <td>NMT</td>\n",
       "      <td>chemtest</td>\n",
       "    </tr>\n",
       "    <tr>\n",
       "      <th>20</th>\n",
       "      <td>NMT</td>\n",
       "      <td>biotest</td>\n",
       "    </tr>\n",
       "    <tr>\n",
       "      <th>21</th>\n",
       "      <td>NMT</td>\n",
       "      <td>engtest</td>\n",
       "    </tr>\n",
       "    <tr>\n",
       "      <th>22</th>\n",
       "      <td>NMT</td>\n",
       "      <td>fratest</td>\n",
       "    </tr>\n",
       "    <tr>\n",
       "      <th>23</th>\n",
       "      <td>NMT</td>\n",
       "      <td>deutest</td>\n",
       "    </tr>\n",
       "    <tr>\n",
       "      <th>24</th>\n",
       "      <td>NMT</td>\n",
       "      <td>spatest</td>\n",
       "    </tr>\n",
       "  </tbody>\n",
       "</table>\n",
       "</div>"
      ],
      "text/plain": [
       "   test_type test_subject\n",
       "0        EIE     histtest\n",
       "1        EIE   mathsttest\n",
       "2        EIE      ukrtest\n",
       "3        EIE     phystest\n",
       "4        EIE      geotest\n",
       "5        EIE      umltest\n",
       "6        EIE      spatest\n",
       "7        EIE     mathtest\n",
       "8        EIE      deutest\n",
       "9        EIE      engtest\n",
       "10       EIE      biotest\n",
       "11       EIE      rustest\n",
       "12       EIE   ukrsubtest\n",
       "13       EIE      fratest\n",
       "14       EIE     chemtest\n",
       "15       NMT      ukrtest\n",
       "16       NMT     histtest\n",
       "17       NMT     mathtest\n",
       "18       NMT     phystest\n",
       "19       NMT     chemtest\n",
       "20       NMT      biotest\n",
       "21       NMT      engtest\n",
       "22       NMT      fratest\n",
       "23       NMT      deutest\n",
       "24       NMT      spatest"
      ]
     },
     "execution_count": 12,
     "metadata": {},
     "output_type": "execute_result"
    }
   ],
   "source": [
    "subjects_df = pd.concat([eie_df,nmt_df], ignore_index=True)\n",
    "subjects_df"
   ]
  },
  {
   "cell_type": "code",
   "execution_count": 13,
   "metadata": {},
   "outputs": [],
   "source": [
    "subjects_df.to_csv(\"./final_tables/subjects.csv\", index=False)"
   ]
  },
  {
   "cell_type": "code",
   "execution_count": null,
   "metadata": {},
   "outputs": [],
   "source": []
  }
 ],
 "metadata": {
  "kernelspec": {
   "display_name": "Python 3",
   "language": "python",
   "name": "python3"
  },
  "language_info": {
   "codemirror_mode": {
    "name": "ipython",
    "version": 3
   },
   "file_extension": ".py",
   "mimetype": "text/x-python",
   "name": "python",
   "nbconvert_exporter": "python",
   "pygments_lexer": "ipython3",
   "version": "3.11.3"
  }
 },
 "nbformat": 4,
 "nbformat_minor": 4
}
