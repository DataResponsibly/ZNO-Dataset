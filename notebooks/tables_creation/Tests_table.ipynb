{
 "cells": [
  {
   "cell_type": "code",
   "execution_count": 2,
   "metadata": {},
   "outputs": [],
   "source": [
    "import numpy as np\n",
    "import pandas as pd"
   ]
  },
  {
   "cell_type": "code",
   "execution_count": 3,
   "metadata": {},
   "outputs": [
    {
     "name": "stdout",
     "output_type": "stream",
     "text": [
      "EIE 2016 Loading...\n",
      "success\n",
      "EIE 2017 Loading...\n",
      "success\n",
      "EIE 2018 Loading...\n"
     ]
    },
    {
     "name": "stderr",
     "output_type": "stream",
     "text": [
      "/Users/nazardrushchak/opt/anaconda3/lib/python3.8/site-packages/IPython/core/interactiveshell.py:3437: DtypeWarning: Columns (119) have mixed types.Specify dtype option on import or set low_memory=False.\n",
      "  exec(code_obj, self.user_global_ns, self.user_ns)\n"
     ]
    },
    {
     "name": "stdout",
     "output_type": "stream",
     "text": [
      "success\n",
      "EIE 2019 Loading...\n"
     ]
    },
    {
     "name": "stderr",
     "output_type": "stream",
     "text": [
      "/Users/nazardrushchak/opt/anaconda3/lib/python3.8/site-packages/IPython/core/interactiveshell.py:3437: DtypeWarning: Columns (100,116,117,118,120,122,123,124,125) have mixed types.Specify dtype option on import or set low_memory=False.\n",
      "  exec(code_obj, self.user_global_ns, self.user_ns)\n"
     ]
    },
    {
     "name": "stdout",
     "output_type": "stream",
     "text": [
      "success\n",
      "EIE 2020 Loading...\n"
     ]
    },
    {
     "name": "stderr",
     "output_type": "stream",
     "text": [
      "/Users/nazardrushchak/opt/anaconda3/lib/python3.8/site-packages/IPython/core/interactiveshell.py:3437: DtypeWarning: Columns (96,97,98,100,102,103,104,105,116,117,118,120,122,123,124,125) have mixed types.Specify dtype option on import or set low_memory=False.\n",
      "  exec(code_obj, self.user_global_ns, self.user_ns)\n"
     ]
    },
    {
     "name": "stdout",
     "output_type": "stream",
     "text": [
      "success\n",
      "EIE 2021 Loading...\n"
     ]
    },
    {
     "name": "stderr",
     "output_type": "stream",
     "text": [
      "/Users/nazardrushchak/opt/anaconda3/lib/python3.8/site-packages/IPython/core/interactiveshell.py:3437: DtypeWarning: Columns (117,118,119,121,123,124,125,126,137,138,139,141,143,144,145,146) have mixed types.Specify dtype option on import or set low_memory=False.\n",
      "  exec(code_obj, self.user_global_ns, self.user_ns)\n"
     ]
    },
    {
     "name": "stdout",
     "output_type": "stream",
     "text": [
      "success\n",
      "EIE 2022 Loading...\n",
      "success\n",
      "EIE 2023 Loading...\n",
      "success\n"
     ]
    }
   ],
   "source": [
    "# load datasets\n",
    "datasets = {}\n",
    "years = range(2016, 2024)\n",
    "for year in years:\n",
    "    print(f\"EIE {year} Loading...\")\n",
    "    if int(year) >= 2019:\n",
    "        file_name = f'Odata{year}File.csv'\n",
    "    else:\n",
    "        file_name = f'OpenData{year}.csv'\n",
    "    try:           \n",
    "        dataset = pd.read_csv(f\"../../data_loader/{year}/{file_name}\", sep=\";\", encoding='utf-8')\n",
    "    except:\n",
    "        dataset = pd.read_csv(f\"../../data_loader/{year}/{file_name}\", sep=\";\", encoding='Windows 1251')\n",
    "    datasets.update({year:dataset})\n",
    "    print(\"success\")"
   ]
  },
  {
   "cell_type": "code",
   "execution_count": 31,
   "metadata": {},
   "outputs": [],
   "source": [
    "for year, dataset in datasets.items():\n",
    "    #lowercase all columns and add year as attribute\n",
    "    dataset.columns = [col.lower() for col in dataset.columns]"
   ]
  },
  {
   "cell_type": "code",
   "execution_count": 32,
   "metadata": {},
   "outputs": [
    {
     "name": "stdout",
     "output_type": "stream",
     "text": [
      "['ukrtest', 'histtest', 'mathtest', 'phystest', 'chemtest', 'biotest', 'geotest', 'engtest', 'frtest', 'deutest', 'sptest', 'rustest']\n",
      "['ukrtest', 'histtest', 'mathtest', 'phystest', 'chemtest', 'biotest', 'geotest', 'engtest', 'fratest', 'deutest', 'spatest', 'rustest']\n",
      "['ukrtest', 'histtest', 'mathtest', 'phystest', 'chemtest', 'biotest', 'geotest', 'engtest', 'fratest', 'deutest', 'spatest']\n",
      "['ukrtest', 'histtest', 'mathtest', 'phystest', 'chemtest', 'biotest', 'geotest', 'engtest', 'fratest', 'deutest', 'spatest']\n",
      "['ukrtest', 'histtest', 'mathtest', 'phystest', 'chemtest', 'biotest', 'geotest', 'engtest', 'fratest', 'deutest', 'spatest']\n",
      "['umltest', 'ukrtest', 'ukrsubtest', 'histtest', 'mathtest', 'mathsttest', 'phystest', 'chemtest', 'biotest', 'geotest', 'engtest', 'fratest', 'deutest', 'spatest']\n",
      "['test']\n",
      "['test']\n"
     ]
    }
   ],
   "source": [
    "nmt_start_year = 2022 # all years before that had EIE\n",
    "eie_subjects = set()\n",
    "for year, dataset in datasets.items():\n",
    "    subjects = [col for col in dataset.columns if col.endswith('test')]\n",
    "    if year < nmt_start_year:\n",
    "        eie_subjects.update(subjects)\n",
    "    print(subjects)"
   ]
  },
  {
   "cell_type": "code",
   "execution_count": 33,
   "metadata": {},
   "outputs": [
    {
     "name": "stdout",
     "output_type": "stream",
     "text": [
      "Index(['outid', 'birth', 'sextypename', 'regname', 'areaname', 'tername',\n",
      "       'regtypename', 'tertypename', 'eoname', 'eotypename', 'eoregname',\n",
      "       'eoareaname', 'eotername', 'eoparent', 'test', 'testdate', 'teststatus',\n",
      "       'block1', 'block1ball100', 'block1ball', 'block2', 'block2ball100',\n",
      "       'block2ball', 'block3', 'block3ball100', 'block3ball', 'ptregname',\n",
      "       'ptareaname', 'pttername'],\n",
      "      dtype='object') Index(['outid', 'birth', 'sextypename', 'regname', 'areaname', 'tername',\n",
      "       'regtypename', 'tertypename', 'eoname', 'eotypename', 'eoregname',\n",
      "       'eoareaname', 'eotername', 'eoparent', 'test', 'testdate', 'ukrblock',\n",
      "       'ukrblockstatus', 'ukrblockball100', 'ukrblockball', 'histblock',\n",
      "       'histblockstatus', 'histblockball100', 'histblockball', 'mathblock',\n",
      "       'mathblockstatus', 'mathblockball100', 'mathblockball', 'physblock',\n",
      "       'physblockstatus', 'physblockball100', 'physblockball', 'chemblock',\n",
      "       'chemblockstatus', 'chemblockball100', 'chemblockball', 'bioblock',\n",
      "       'bioblockstatus', 'bioblockball100', 'bioblockball', 'engblock',\n",
      "       'engblockstatus', 'engblockball100', 'engblockball', 'frablock',\n",
      "       'frablockstatus', 'frablockball100', 'frablockball', 'deublock',\n",
      "       'deublockstatus', 'deublockball100', 'deublockball', 'spablock',\n",
      "       'spablockstatus', 'spablockball100', 'spablockball', 'ptregname',\n",
      "       'ptareaname', 'pttername'],\n",
      "      dtype='object')\n"
     ]
    }
   ],
   "source": [
    "print(datasets[2022].columns, datasets[2023].columns)"
   ]
  },
  {
   "cell_type": "code",
   "execution_count": 34,
   "metadata": {},
   "outputs": [
    {
     "name": "stdout",
     "output_type": "stream",
     "text": [
      "['НМТ '] ['НМТ']\n"
     ]
    }
   ],
   "source": [
    "print(datasets[2022]['test'].unique(), datasets[2023]['test'].unique())"
   ]
  },
  {
   "cell_type": "code",
   "execution_count": 35,
   "metadata": {},
   "outputs": [
    {
     "name": "stdout",
     "output_type": "stream",
     "text": [
      "['Українська мова'] ['Українська мова']\n"
     ]
    }
   ],
   "source": [
    "print(datasets[2022]['block1'].unique(), datasets[2023]['ukrblock'].unique())"
   ]
  },
  {
   "cell_type": "markdown",
   "metadata": {},
   "source": [
    "This is the same as `ukrtest` in previous years."
   ]
  },
  {
   "cell_type": "code",
   "execution_count": 36,
   "metadata": {},
   "outputs": [
    {
     "name": "stdout",
     "output_type": "stream",
     "text": [
      "['Історія України'] [nan 'Історія України']\n"
     ]
    }
   ],
   "source": [
    "print(datasets[2022]['block2'].unique(), datasets[2023]['histblock'].unique())"
   ]
  },
  {
   "cell_type": "markdown",
   "metadata": {},
   "source": [
    "This is the same as `histtest` in previous years."
   ]
  },
  {
   "cell_type": "code",
   "execution_count": 37,
   "metadata": {},
   "outputs": [
    {
     "name": "stdout",
     "output_type": "stream",
     "text": [
      "['Математика'] ['Математика']\n"
     ]
    }
   ],
   "source": [
    "print(datasets[2022]['block3'].unique(), datasets[2023]['mathblock'].unique())"
   ]
  },
  {
   "cell_type": "markdown",
   "metadata": {},
   "source": [
    "This is the same as `mathtest` in previous years."
   ]
  },
  {
   "cell_type": "markdown",
   "metadata": {},
   "source": [
    "From 2023 NMT have not only: `ukr, hist, math tests`"
   ]
  },
  {
   "cell_type": "code",
   "execution_count": 38,
   "metadata": {},
   "outputs": [
    {
     "name": "stdout",
     "output_type": "stream",
     "text": [
      "['ukrblock', 'histblock', 'mathblock', 'physblock', 'chemblock', 'bioblock', 'engblock', 'frablock', 'deublock', 'spablock']\n"
     ]
    }
   ],
   "source": [
    "subjects = [col for col in datasets[2023].columns if col.endswith('block')]\n",
    "print(subjects)"
   ]
  },
  {
   "cell_type": "code",
   "execution_count": 39,
   "metadata": {},
   "outputs": [
    {
     "name": "stdout",
     "output_type": "stream",
     "text": [
      "[nan 'Фізика']\n"
     ]
    }
   ],
   "source": [
    "print(datasets[2023]['physblock'].unique())"
   ]
  },
  {
   "cell_type": "markdown",
   "metadata": {},
   "source": [
    "This is the same as `phystest` in previous years."
   ]
  },
  {
   "cell_type": "code",
   "execution_count": 40,
   "metadata": {},
   "outputs": [
    {
     "name": "stdout",
     "output_type": "stream",
     "text": [
      "[nan 'Хімія']\n"
     ]
    }
   ],
   "source": [
    "print(datasets[2023]['chemblock'].unique())"
   ]
  },
  {
   "cell_type": "markdown",
   "metadata": {},
   "source": [
    "This is the same as `chemtest` in previous years."
   ]
  },
  {
   "cell_type": "code",
   "execution_count": 41,
   "metadata": {},
   "outputs": [
    {
     "name": "stdout",
     "output_type": "stream",
     "text": [
      "[nan 'Біологія']\n"
     ]
    }
   ],
   "source": [
    "print(datasets[2023]['bioblock'].unique())"
   ]
  },
  {
   "cell_type": "markdown",
   "metadata": {},
   "source": [
    "This is the same as `biotest` in previous years."
   ]
  },
  {
   "cell_type": "code",
   "execution_count": 42,
   "metadata": {},
   "outputs": [
    {
     "name": "stdout",
     "output_type": "stream",
     "text": [
      "['Англійська мова' nan]\n"
     ]
    }
   ],
   "source": [
    "print(datasets[2023]['engblock'].unique())"
   ]
  },
  {
   "cell_type": "markdown",
   "metadata": {},
   "source": [
    "This is the same as `engtest` in previous years."
   ]
  },
  {
   "cell_type": "code",
   "execution_count": 43,
   "metadata": {},
   "outputs": [
    {
     "name": "stdout",
     "output_type": "stream",
     "text": [
      "[nan 'Французька мова']\n"
     ]
    }
   ],
   "source": [
    "print(datasets[2023]['frablock'].unique())"
   ]
  },
  {
   "cell_type": "markdown",
   "metadata": {},
   "source": [
    "This is the same as `fratest` in previous years."
   ]
  },
  {
   "cell_type": "code",
   "execution_count": 44,
   "metadata": {},
   "outputs": [
    {
     "name": "stdout",
     "output_type": "stream",
     "text": [
      "[nan 'Німецька мова']\n"
     ]
    }
   ],
   "source": [
    "print(datasets[2023]['deublock'].unique())"
   ]
  },
  {
   "cell_type": "markdown",
   "metadata": {},
   "source": [
    "This is the same as `deutest` in previous years."
   ]
  },
  {
   "cell_type": "code",
   "execution_count": 45,
   "metadata": {},
   "outputs": [
    {
     "name": "stdout",
     "output_type": "stream",
     "text": [
      "[nan 'Іспанська мова']\n"
     ]
    }
   ],
   "source": [
    "print(datasets[2023]['spablock'].unique())"
   ]
  },
  {
   "cell_type": "markdown",
   "metadata": {},
   "source": [
    "This is the same as `spatest` in previous years."
   ]
  },
  {
   "cell_type": "code",
   "execution_count": 46,
   "metadata": {},
   "outputs": [
    {
     "data": {
      "text/plain": [
       "{'biotest',\n",
       " 'chemtest',\n",
       " 'deutest',\n",
       " 'engtest',\n",
       " 'fratest',\n",
       " 'geotest',\n",
       " 'histtest',\n",
       " 'mathsttest',\n",
       " 'mathtest',\n",
       " 'phystest',\n",
       " 'rustest',\n",
       " 'spatest',\n",
       " 'sptest',\n",
       " 'ukrsubtest',\n",
       " 'ukrtest',\n",
       " 'umltest'}"
      ]
     },
     "execution_count": 46,
     "metadata": {},
     "output_type": "execute_result"
    }
   ],
   "source": [
    "eie_subjects.remove('frtest')\n",
    "eie_subjects"
   ]
  },
  {
   "cell_type": "code",
   "execution_count": 47,
   "metadata": {},
   "outputs": [
    {
     "data": {
      "text/html": [
       "<div>\n",
       "<style scoped>\n",
       "    .dataframe tbody tr th:only-of-type {\n",
       "        vertical-align: middle;\n",
       "    }\n",
       "\n",
       "    .dataframe tbody tr th {\n",
       "        vertical-align: top;\n",
       "    }\n",
       "\n",
       "    .dataframe thead th {\n",
       "        text-align: right;\n",
       "    }\n",
       "</style>\n",
       "<table border=\"1\" class=\"dataframe\">\n",
       "  <thead>\n",
       "    <tr style=\"text-align: right;\">\n",
       "      <th></th>\n",
       "      <th>test_type</th>\n",
       "      <th>test_subject</th>\n",
       "    </tr>\n",
       "  </thead>\n",
       "  <tbody>\n",
       "    <tr>\n",
       "      <th>0</th>\n",
       "      <td>EIE</td>\n",
       "      <td>mathtest</td>\n",
       "    </tr>\n",
       "    <tr>\n",
       "      <th>1</th>\n",
       "      <td>EIE</td>\n",
       "      <td>umltest</td>\n",
       "    </tr>\n",
       "    <tr>\n",
       "      <th>2</th>\n",
       "      <td>EIE</td>\n",
       "      <td>ukrtest</td>\n",
       "    </tr>\n",
       "    <tr>\n",
       "      <th>3</th>\n",
       "      <td>EIE</td>\n",
       "      <td>phystest</td>\n",
       "    </tr>\n",
       "    <tr>\n",
       "      <th>4</th>\n",
       "      <td>EIE</td>\n",
       "      <td>engtest</td>\n",
       "    </tr>\n",
       "    <tr>\n",
       "      <th>5</th>\n",
       "      <td>EIE</td>\n",
       "      <td>geotest</td>\n",
       "    </tr>\n",
       "    <tr>\n",
       "      <th>6</th>\n",
       "      <td>EIE</td>\n",
       "      <td>ukrsubtest</td>\n",
       "    </tr>\n",
       "    <tr>\n",
       "      <th>7</th>\n",
       "      <td>EIE</td>\n",
       "      <td>mathsttest</td>\n",
       "    </tr>\n",
       "    <tr>\n",
       "      <th>8</th>\n",
       "      <td>EIE</td>\n",
       "      <td>chemtest</td>\n",
       "    </tr>\n",
       "    <tr>\n",
       "      <th>9</th>\n",
       "      <td>EIE</td>\n",
       "      <td>histtest</td>\n",
       "    </tr>\n",
       "    <tr>\n",
       "      <th>10</th>\n",
       "      <td>EIE</td>\n",
       "      <td>spatest</td>\n",
       "    </tr>\n",
       "    <tr>\n",
       "      <th>11</th>\n",
       "      <td>EIE</td>\n",
       "      <td>fratest</td>\n",
       "    </tr>\n",
       "    <tr>\n",
       "      <th>12</th>\n",
       "      <td>EIE</td>\n",
       "      <td>sptest</td>\n",
       "    </tr>\n",
       "    <tr>\n",
       "      <th>13</th>\n",
       "      <td>EIE</td>\n",
       "      <td>rustest</td>\n",
       "    </tr>\n",
       "    <tr>\n",
       "      <th>14</th>\n",
       "      <td>EIE</td>\n",
       "      <td>deutest</td>\n",
       "    </tr>\n",
       "    <tr>\n",
       "      <th>15</th>\n",
       "      <td>EIE</td>\n",
       "      <td>biotest</td>\n",
       "    </tr>\n",
       "  </tbody>\n",
       "</table>\n",
       "</div>"
      ],
      "text/plain": [
       "   test_type test_subject\n",
       "0        EIE     mathtest\n",
       "1        EIE      umltest\n",
       "2        EIE      ukrtest\n",
       "3        EIE     phystest\n",
       "4        EIE      engtest\n",
       "5        EIE      geotest\n",
       "6        EIE   ukrsubtest\n",
       "7        EIE   mathsttest\n",
       "8        EIE     chemtest\n",
       "9        EIE     histtest\n",
       "10       EIE      spatest\n",
       "11       EIE      fratest\n",
       "12       EIE       sptest\n",
       "13       EIE      rustest\n",
       "14       EIE      deutest\n",
       "15       EIE      biotest"
      ]
     },
     "execution_count": 47,
     "metadata": {},
     "output_type": "execute_result"
    }
   ],
   "source": [
    "eie_df = pd.DataFrame(data={\"test_type\": [\"EIE\"] * len(eie_subjects), \"test_subject\": list(eie_subjects)})\n",
    "eie_df"
   ]
  },
  {
   "cell_type": "code",
   "execution_count": 48,
   "metadata": {},
   "outputs": [],
   "source": [
    "nmt_subjects = [\"ukrtest\", \"histtest\", \"mathtest\"]\n",
    "nmt_subjects_from_2023 = ['phystest', 'chemtest', 'biotest', 'engtest', 'fratest', 'deutest', 'spatest']\n",
    "nmt_subjects += nmt_subjects_from_2023"
   ]
  },
  {
   "cell_type": "code",
   "execution_count": 49,
   "metadata": {},
   "outputs": [
    {
     "data": {
      "text/html": [
       "<div>\n",
       "<style scoped>\n",
       "    .dataframe tbody tr th:only-of-type {\n",
       "        vertical-align: middle;\n",
       "    }\n",
       "\n",
       "    .dataframe tbody tr th {\n",
       "        vertical-align: top;\n",
       "    }\n",
       "\n",
       "    .dataframe thead th {\n",
       "        text-align: right;\n",
       "    }\n",
       "</style>\n",
       "<table border=\"1\" class=\"dataframe\">\n",
       "  <thead>\n",
       "    <tr style=\"text-align: right;\">\n",
       "      <th></th>\n",
       "      <th>test_type</th>\n",
       "      <th>test_subject</th>\n",
       "    </tr>\n",
       "  </thead>\n",
       "  <tbody>\n",
       "    <tr>\n",
       "      <th>0</th>\n",
       "      <td>NMT</td>\n",
       "      <td>ukrtest</td>\n",
       "    </tr>\n",
       "    <tr>\n",
       "      <th>1</th>\n",
       "      <td>NMT</td>\n",
       "      <td>histtest</td>\n",
       "    </tr>\n",
       "    <tr>\n",
       "      <th>2</th>\n",
       "      <td>NMT</td>\n",
       "      <td>mathtest</td>\n",
       "    </tr>\n",
       "    <tr>\n",
       "      <th>3</th>\n",
       "      <td>NMT</td>\n",
       "      <td>phystest</td>\n",
       "    </tr>\n",
       "    <tr>\n",
       "      <th>4</th>\n",
       "      <td>NMT</td>\n",
       "      <td>chemtest</td>\n",
       "    </tr>\n",
       "    <tr>\n",
       "      <th>5</th>\n",
       "      <td>NMT</td>\n",
       "      <td>biotest</td>\n",
       "    </tr>\n",
       "    <tr>\n",
       "      <th>6</th>\n",
       "      <td>NMT</td>\n",
       "      <td>engtest</td>\n",
       "    </tr>\n",
       "    <tr>\n",
       "      <th>7</th>\n",
       "      <td>NMT</td>\n",
       "      <td>fratest</td>\n",
       "    </tr>\n",
       "    <tr>\n",
       "      <th>8</th>\n",
       "      <td>NMT</td>\n",
       "      <td>deutest</td>\n",
       "    </tr>\n",
       "    <tr>\n",
       "      <th>9</th>\n",
       "      <td>NMT</td>\n",
       "      <td>spatest</td>\n",
       "    </tr>\n",
       "  </tbody>\n",
       "</table>\n",
       "</div>"
      ],
      "text/plain": [
       "  test_type test_subject\n",
       "0       NMT      ukrtest\n",
       "1       NMT     histtest\n",
       "2       NMT     mathtest\n",
       "3       NMT     phystest\n",
       "4       NMT     chemtest\n",
       "5       NMT      biotest\n",
       "6       NMT      engtest\n",
       "7       NMT      fratest\n",
       "8       NMT      deutest\n",
       "9       NMT      spatest"
      ]
     },
     "execution_count": 49,
     "metadata": {},
     "output_type": "execute_result"
    }
   ],
   "source": [
    "nmt_df = pd.DataFrame(data={\"test_type\": [\"NMT\"] * len(nmt_subjects), \"test_subject\": nmt_subjects})\n",
    "nmt_df"
   ]
  },
  {
   "cell_type": "code",
   "execution_count": 50,
   "metadata": {},
   "outputs": [
    {
     "data": {
      "text/html": [
       "<div>\n",
       "<style scoped>\n",
       "    .dataframe tbody tr th:only-of-type {\n",
       "        vertical-align: middle;\n",
       "    }\n",
       "\n",
       "    .dataframe tbody tr th {\n",
       "        vertical-align: top;\n",
       "    }\n",
       "\n",
       "    .dataframe thead th {\n",
       "        text-align: right;\n",
       "    }\n",
       "</style>\n",
       "<table border=\"1\" class=\"dataframe\">\n",
       "  <thead>\n",
       "    <tr style=\"text-align: right;\">\n",
       "      <th></th>\n",
       "      <th>test_type</th>\n",
       "      <th>test_subject</th>\n",
       "    </tr>\n",
       "  </thead>\n",
       "  <tbody>\n",
       "    <tr>\n",
       "      <th>0</th>\n",
       "      <td>EIE</td>\n",
       "      <td>mathtest</td>\n",
       "    </tr>\n",
       "    <tr>\n",
       "      <th>1</th>\n",
       "      <td>EIE</td>\n",
       "      <td>umltest</td>\n",
       "    </tr>\n",
       "    <tr>\n",
       "      <th>2</th>\n",
       "      <td>EIE</td>\n",
       "      <td>ukrtest</td>\n",
       "    </tr>\n",
       "    <tr>\n",
       "      <th>3</th>\n",
       "      <td>EIE</td>\n",
       "      <td>phystest</td>\n",
       "    </tr>\n",
       "    <tr>\n",
       "      <th>4</th>\n",
       "      <td>EIE</td>\n",
       "      <td>engtest</td>\n",
       "    </tr>\n",
       "    <tr>\n",
       "      <th>5</th>\n",
       "      <td>EIE</td>\n",
       "      <td>geotest</td>\n",
       "    </tr>\n",
       "    <tr>\n",
       "      <th>6</th>\n",
       "      <td>EIE</td>\n",
       "      <td>ukrsubtest</td>\n",
       "    </tr>\n",
       "    <tr>\n",
       "      <th>7</th>\n",
       "      <td>EIE</td>\n",
       "      <td>mathsttest</td>\n",
       "    </tr>\n",
       "    <tr>\n",
       "      <th>8</th>\n",
       "      <td>EIE</td>\n",
       "      <td>chemtest</td>\n",
       "    </tr>\n",
       "    <tr>\n",
       "      <th>9</th>\n",
       "      <td>EIE</td>\n",
       "      <td>histtest</td>\n",
       "    </tr>\n",
       "    <tr>\n",
       "      <th>10</th>\n",
       "      <td>EIE</td>\n",
       "      <td>spatest</td>\n",
       "    </tr>\n",
       "    <tr>\n",
       "      <th>11</th>\n",
       "      <td>EIE</td>\n",
       "      <td>fratest</td>\n",
       "    </tr>\n",
       "    <tr>\n",
       "      <th>12</th>\n",
       "      <td>EIE</td>\n",
       "      <td>sptest</td>\n",
       "    </tr>\n",
       "    <tr>\n",
       "      <th>13</th>\n",
       "      <td>EIE</td>\n",
       "      <td>rustest</td>\n",
       "    </tr>\n",
       "    <tr>\n",
       "      <th>14</th>\n",
       "      <td>EIE</td>\n",
       "      <td>deutest</td>\n",
       "    </tr>\n",
       "    <tr>\n",
       "      <th>15</th>\n",
       "      <td>EIE</td>\n",
       "      <td>biotest</td>\n",
       "    </tr>\n",
       "    <tr>\n",
       "      <th>16</th>\n",
       "      <td>NMT</td>\n",
       "      <td>ukrtest</td>\n",
       "    </tr>\n",
       "    <tr>\n",
       "      <th>17</th>\n",
       "      <td>NMT</td>\n",
       "      <td>histtest</td>\n",
       "    </tr>\n",
       "    <tr>\n",
       "      <th>18</th>\n",
       "      <td>NMT</td>\n",
       "      <td>mathtest</td>\n",
       "    </tr>\n",
       "    <tr>\n",
       "      <th>19</th>\n",
       "      <td>NMT</td>\n",
       "      <td>phystest</td>\n",
       "    </tr>\n",
       "    <tr>\n",
       "      <th>20</th>\n",
       "      <td>NMT</td>\n",
       "      <td>chemtest</td>\n",
       "    </tr>\n",
       "    <tr>\n",
       "      <th>21</th>\n",
       "      <td>NMT</td>\n",
       "      <td>biotest</td>\n",
       "    </tr>\n",
       "    <tr>\n",
       "      <th>22</th>\n",
       "      <td>NMT</td>\n",
       "      <td>engtest</td>\n",
       "    </tr>\n",
       "    <tr>\n",
       "      <th>23</th>\n",
       "      <td>NMT</td>\n",
       "      <td>fratest</td>\n",
       "    </tr>\n",
       "    <tr>\n",
       "      <th>24</th>\n",
       "      <td>NMT</td>\n",
       "      <td>deutest</td>\n",
       "    </tr>\n",
       "    <tr>\n",
       "      <th>25</th>\n",
       "      <td>NMT</td>\n",
       "      <td>spatest</td>\n",
       "    </tr>\n",
       "  </tbody>\n",
       "</table>\n",
       "</div>"
      ],
      "text/plain": [
       "   test_type test_subject\n",
       "0        EIE     mathtest\n",
       "1        EIE      umltest\n",
       "2        EIE      ukrtest\n",
       "3        EIE     phystest\n",
       "4        EIE      engtest\n",
       "5        EIE      geotest\n",
       "6        EIE   ukrsubtest\n",
       "7        EIE   mathsttest\n",
       "8        EIE     chemtest\n",
       "9        EIE     histtest\n",
       "10       EIE      spatest\n",
       "11       EIE      fratest\n",
       "12       EIE       sptest\n",
       "13       EIE      rustest\n",
       "14       EIE      deutest\n",
       "15       EIE      biotest\n",
       "16       NMT      ukrtest\n",
       "17       NMT     histtest\n",
       "18       NMT     mathtest\n",
       "19       NMT     phystest\n",
       "20       NMT     chemtest\n",
       "21       NMT      biotest\n",
       "22       NMT      engtest\n",
       "23       NMT      fratest\n",
       "24       NMT      deutest\n",
       "25       NMT      spatest"
      ]
     },
     "execution_count": 50,
     "metadata": {},
     "output_type": "execute_result"
    }
   ],
   "source": [
    "subjects_df = eie_df.append(nmt_df, ignore_index=True)\n",
    "subjects_df"
   ]
  },
  {
   "cell_type": "code",
   "execution_count": 51,
   "metadata": {},
   "outputs": [],
   "source": [
    "subjects_df.to_csv(\"./data/Subjects.csv\", index=False)"
   ]
  },
  {
   "cell_type": "code",
   "execution_count": null,
   "metadata": {},
   "outputs": [],
   "source": []
  }
 ],
 "metadata": {
  "kernelspec": {
   "display_name": "Python 3",
   "language": "python",
   "name": "python3"
  },
  "language_info": {
   "codemirror_mode": {
    "name": "ipython",
    "version": 3
   },
   "file_extension": ".py",
   "mimetype": "text/x-python",
   "name": "python",
   "nbconvert_exporter": "python",
   "pygments_lexer": "ipython3",
   "version": "3.8.8"
  }
 },
 "nbformat": 4,
 "nbformat_minor": 4
}
