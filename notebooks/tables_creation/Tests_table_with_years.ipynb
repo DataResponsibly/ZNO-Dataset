{
 "cells": [
  {
   "cell_type": "code",
   "execution_count": 1,
   "metadata": {},
   "outputs": [],
   "source": [
    "import numpy as np\n",
    "import pandas as pd"
   ]
  },
  {
   "cell_type": "code",
   "execution_count": 3,
   "metadata": {},
   "outputs": [
    {
     "name": "stdout",
     "output_type": "stream",
     "text": [
      "EIE 2016 Loading...\n",
      "success\n",
      "EIE 2017 Loading...\n",
      "success\n",
      "EIE 2018 Loading...\n"
     ]
    },
    {
     "name": "stderr",
     "output_type": "stream",
     "text": [
      "/home/olha/anaconda3/lib/python3.7/site-packages/IPython/core/interactiveshell.py:3331: DtypeWarning: Columns (119) have mixed types.Specify dtype option on import or set low_memory=False.\n",
      "  exec(code_obj, self.user_global_ns, self.user_ns)\n"
     ]
    },
    {
     "name": "stdout",
     "output_type": "stream",
     "text": [
      "success\n",
      "EIE 2019 Loading...\n"
     ]
    },
    {
     "name": "stderr",
     "output_type": "stream",
     "text": [
      "/home/olha/anaconda3/lib/python3.7/site-packages/IPython/core/interactiveshell.py:3331: DtypeWarning: Columns (100,116,117,118,120,122,123,124,125) have mixed types.Specify dtype option on import or set low_memory=False.\n",
      "  exec(code_obj, self.user_global_ns, self.user_ns)\n"
     ]
    },
    {
     "name": "stdout",
     "output_type": "stream",
     "text": [
      "success\n",
      "EIE 2020 Loading...\n"
     ]
    },
    {
     "name": "stderr",
     "output_type": "stream",
     "text": [
      "/home/olha/anaconda3/lib/python3.7/site-packages/IPython/core/interactiveshell.py:3331: DtypeWarning: Columns (96,97,98,100,102,103,104,105,116,117,118,120,122,123,124,125) have mixed types.Specify dtype option on import or set low_memory=False.\n",
      "  exec(code_obj, self.user_global_ns, self.user_ns)\n"
     ]
    },
    {
     "name": "stdout",
     "output_type": "stream",
     "text": [
      "success\n",
      "EIE 2021 Loading...\n"
     ]
    },
    {
     "name": "stderr",
     "output_type": "stream",
     "text": [
      "/home/olha/anaconda3/lib/python3.7/site-packages/IPython/core/interactiveshell.py:3331: DtypeWarning: Columns (117,118,119,121,123,124,125,126,137,138,139,141,143,144,145,146) have mixed types.Specify dtype option on import or set low_memory=False.\n",
      "  exec(code_obj, self.user_global_ns, self.user_ns)\n"
     ]
    },
    {
     "name": "stdout",
     "output_type": "stream",
     "text": [
      "success\n",
      "EIE 2022 Loading...\n",
      "success\n"
     ]
    }
   ],
   "source": [
    "# load datasets\n",
    "datasets = {}\n",
    "years = range(2016, 2023)\n",
    "for year in years:\n",
    "    print(f\"EIE {year} Loading...\")\n",
    "    if int(year) >= 2019:\n",
    "        file_name = f'Odata{year}File.csv'\n",
    "    else:\n",
    "        file_name = f'OpenData{year}.csv'\n",
    "    try:           \n",
    "        dataset = pd.read_csv(f\"../../zno/{year}/{file_name}\", sep=\";\", encoding='utf-8')\n",
    "    except:\n",
    "        dataset = pd.read_csv(f\"../../zno/{year}/{file_name}\", sep=\";\", encoding='Windows 1251')\n",
    "    datasets.update({year:dataset})\n",
    "    print(\"success\")"
   ]
  },
  {
   "cell_type": "code",
   "execution_count": 4,
   "metadata": {},
   "outputs": [],
   "source": [
    "for year, dataset in datasets.items():\n",
    "    #lowercase all columns and add year as attribute\n",
    "    dataset.columns = [col.lower() for col in dataset.columns]"
   ]
  },
  {
   "cell_type": "code",
   "execution_count": 14,
   "metadata": {},
   "outputs": [
    {
     "name": "stdout",
     "output_type": "stream",
     "text": [
      "Index(['outid', 'birth', 'sextypename', 'regname', 'areaname', 'tername',\n",
      "       'regtypename', 'tertypename', 'eoname', 'eotypename', 'eoregname',\n",
      "       'eoareaname', 'eotername', 'eoparent', 'test', 'testdate', 'teststatus',\n",
      "       'block1', 'block1ball100', 'block1ball', 'block2', 'block2ball100',\n",
      "       'block2ball', 'block3', 'block3ball100', 'block3ball', 'ptregname',\n",
      "       'ptareaname', 'pttername'],\n",
      "      dtype='object')\n"
     ]
    }
   ],
   "source": [
    "print(datasets[2022].columns)"
   ]
  },
  {
   "cell_type": "code",
   "execution_count": 15,
   "metadata": {},
   "outputs": [
    {
     "name": "stdout",
     "output_type": "stream",
     "text": [
      "['НМТ ']\n"
     ]
    }
   ],
   "source": [
    "print(datasets[2022]['test'].unique())"
   ]
  },
  {
   "cell_type": "code",
   "execution_count": 16,
   "metadata": {},
   "outputs": [
    {
     "name": "stdout",
     "output_type": "stream",
     "text": [
      "['Українська мова']\n"
     ]
    }
   ],
   "source": [
    "print(datasets[2022]['block1'].unique())"
   ]
  },
  {
   "cell_type": "markdown",
   "metadata": {},
   "source": [
    "This is the same as `ukrtest` in previous years."
   ]
  },
  {
   "cell_type": "code",
   "execution_count": 25,
   "metadata": {},
   "outputs": [
    {
     "name": "stdout",
     "output_type": "stream",
     "text": [
      "['Історія України']\n"
     ]
    }
   ],
   "source": [
    "print(datasets[2022]['block2'].unique())"
   ]
  },
  {
   "cell_type": "markdown",
   "metadata": {},
   "source": [
    "This is the same as `histtest` in previous years."
   ]
  },
  {
   "cell_type": "code",
   "execution_count": 18,
   "metadata": {},
   "outputs": [
    {
     "name": "stdout",
     "output_type": "stream",
     "text": [
      "['Математика']\n"
     ]
    }
   ],
   "source": [
    "print(datasets[2022]['block3'].unique())"
   ]
  },
  {
   "cell_type": "markdown",
   "metadata": {},
   "source": [
    "This is the same as `mathtest` in previous years."
   ]
  },
  {
   "cell_type": "code",
   "execution_count": 53,
   "metadata": {},
   "outputs": [
    {
     "name": "stdout",
     "output_type": "stream",
     "text": [
      "EIE\n",
      "['ukrtest', 'histtest', 'mathtest', 'phystest', 'chemtest', 'biotest', 'geotest', 'engtest', 'deutest', 'sptest', 'rustest', 'fratest']\n",
      "EIE\n",
      "['ukrtest', 'histtest', 'mathtest', 'phystest', 'chemtest', 'biotest', 'geotest', 'engtest', 'fratest', 'deutest', 'spatest', 'rustest']\n",
      "EIE\n",
      "['ukrtest', 'histtest', 'mathtest', 'phystest', 'chemtest', 'biotest', 'geotest', 'engtest', 'fratest', 'deutest', 'spatest']\n",
      "EIE\n",
      "['ukrtest', 'histtest', 'mathtest', 'phystest', 'chemtest', 'biotest', 'geotest', 'engtest', 'fratest', 'deutest', 'spatest']\n",
      "EIE\n",
      "['ukrtest', 'histtest', 'mathtest', 'phystest', 'chemtest', 'biotest', 'geotest', 'engtest', 'fratest', 'deutest', 'spatest']\n",
      "EIE\n",
      "['umltest', 'ukrtest', 'ukrsubtest', 'histtest', 'mathtest', 'mathsttest', 'phystest', 'chemtest', 'biotest', 'geotest', 'engtest', 'fratest', 'deutest', 'spatest']\n",
      "NMT\n",
      "['ukrtest', 'histtest', 'mathtest']\n"
     ]
    }
   ],
   "source": [
    "nmt_start_year = 2022 # all years before that had EIE\n",
    "test_types = []\n",
    "test_subjects = []\n",
    "test_years = []\n",
    "for year, dataset in datasets.items():\n",
    "    subjects = [col for col in dataset.columns if col.endswith('test')]\n",
    "    if 'frtest' in subjects:\n",
    "        subjects.remove('frtest')\n",
    "        subjects.append('fratest')\n",
    "    test_type = \"EIE\"\n",
    "    if year >= nmt_start_year:\n",
    "        test_type = \"NMT\"\n",
    "        subjects = [\"ukrtest\", \"histtest\", \"mathtest\"]\n",
    "    print(test_type)\n",
    "    test_types.extend([test_type] * len(subjects))\n",
    "    test_subjects.extend(subjects)\n",
    "    test_years.extend([year] * len(subjects))\n",
    "    print(subjects)"
   ]
  },
  {
   "cell_type": "code",
   "execution_count": 54,
   "metadata": {},
   "outputs": [
    {
     "data": {
      "text/html": [
       "<div>\n",
       "<style scoped>\n",
       "    .dataframe tbody tr th:only-of-type {\n",
       "        vertical-align: middle;\n",
       "    }\n",
       "\n",
       "    .dataframe tbody tr th {\n",
       "        vertical-align: top;\n",
       "    }\n",
       "\n",
       "    .dataframe thead th {\n",
       "        text-align: right;\n",
       "    }\n",
       "</style>\n",
       "<table border=\"1\" class=\"dataframe\">\n",
       "  <thead>\n",
       "    <tr style=\"text-align: right;\">\n",
       "      <th></th>\n",
       "      <th>test_type</th>\n",
       "      <th>test_subject</th>\n",
       "      <th>test_year</th>\n",
       "    </tr>\n",
       "  </thead>\n",
       "  <tbody>\n",
       "    <tr>\n",
       "      <th>0</th>\n",
       "      <td>EIE</td>\n",
       "      <td>ukrtest</td>\n",
       "      <td>2016</td>\n",
       "    </tr>\n",
       "    <tr>\n",
       "      <th>1</th>\n",
       "      <td>EIE</td>\n",
       "      <td>histtest</td>\n",
       "      <td>2016</td>\n",
       "    </tr>\n",
       "    <tr>\n",
       "      <th>2</th>\n",
       "      <td>EIE</td>\n",
       "      <td>mathtest</td>\n",
       "      <td>2016</td>\n",
       "    </tr>\n",
       "    <tr>\n",
       "      <th>3</th>\n",
       "      <td>EIE</td>\n",
       "      <td>phystest</td>\n",
       "      <td>2016</td>\n",
       "    </tr>\n",
       "    <tr>\n",
       "      <th>4</th>\n",
       "      <td>EIE</td>\n",
       "      <td>chemtest</td>\n",
       "      <td>2016</td>\n",
       "    </tr>\n",
       "    <tr>\n",
       "      <th>...</th>\n",
       "      <td>...</td>\n",
       "      <td>...</td>\n",
       "      <td>...</td>\n",
       "    </tr>\n",
       "    <tr>\n",
       "      <th>69</th>\n",
       "      <td>EIE</td>\n",
       "      <td>deutest</td>\n",
       "      <td>2021</td>\n",
       "    </tr>\n",
       "    <tr>\n",
       "      <th>70</th>\n",
       "      <td>EIE</td>\n",
       "      <td>spatest</td>\n",
       "      <td>2021</td>\n",
       "    </tr>\n",
       "    <tr>\n",
       "      <th>71</th>\n",
       "      <td>NMT</td>\n",
       "      <td>ukrtest</td>\n",
       "      <td>2022</td>\n",
       "    </tr>\n",
       "    <tr>\n",
       "      <th>72</th>\n",
       "      <td>NMT</td>\n",
       "      <td>histtest</td>\n",
       "      <td>2022</td>\n",
       "    </tr>\n",
       "    <tr>\n",
       "      <th>73</th>\n",
       "      <td>NMT</td>\n",
       "      <td>mathtest</td>\n",
       "      <td>2022</td>\n",
       "    </tr>\n",
       "  </tbody>\n",
       "</table>\n",
       "<p>74 rows × 3 columns</p>\n",
       "</div>"
      ],
      "text/plain": [
       "   test_type test_subject  test_year\n",
       "0        EIE      ukrtest       2016\n",
       "1        EIE     histtest       2016\n",
       "2        EIE     mathtest       2016\n",
       "3        EIE     phystest       2016\n",
       "4        EIE     chemtest       2016\n",
       "..       ...          ...        ...\n",
       "69       EIE      deutest       2021\n",
       "70       EIE      spatest       2021\n",
       "71       NMT      ukrtest       2022\n",
       "72       NMT     histtest       2022\n",
       "73       NMT     mathtest       2022\n",
       "\n",
       "[74 rows x 3 columns]"
      ]
     },
     "execution_count": 54,
     "metadata": {},
     "output_type": "execute_result"
    }
   ],
   "source": [
    "subjects_df = pd.DataFrame(data={\"test_type\": test_types, \"test_subject\": test_subjects, \"test_year\": test_years})\n",
    "subjects_df"
   ]
  },
  {
   "cell_type": "code",
   "execution_count": 55,
   "metadata": {},
   "outputs": [
    {
     "data": {
      "text/plain": [
       "array(['ukrtest', 'histtest', 'mathtest', 'phystest', 'chemtest',\n",
       "       'biotest', 'geotest', 'engtest', 'deutest', 'sptest', 'rustest',\n",
       "       'fratest', 'spatest', 'umltest', 'ukrsubtest', 'mathsttest'],\n",
       "      dtype=object)"
      ]
     },
     "execution_count": 55,
     "metadata": {},
     "output_type": "execute_result"
    }
   ],
   "source": [
    "subjects_df[\"test_subject\"].unique()"
   ]
  },
  {
   "cell_type": "code",
   "execution_count": 56,
   "metadata": {},
   "outputs": [],
   "source": [
    "subjects_df.to_csv(\"./data/Subjects_with_years.csv\", index=False)"
   ]
  }
 ],
 "metadata": {
  "kernelspec": {
   "display_name": "Python 3",
   "language": "python",
   "name": "python3"
  },
  "language_info": {
   "codemirror_mode": {
    "name": "ipython",
    "version": 3
   },
   "file_extension": ".py",
   "mimetype": "text/x-python",
   "name": "python",
   "nbconvert_exporter": "python",
   "pygments_lexer": "ipython3",
   "version": "3.7.6"
  }
 },
 "nbformat": 4,
 "nbformat_minor": 4
}
