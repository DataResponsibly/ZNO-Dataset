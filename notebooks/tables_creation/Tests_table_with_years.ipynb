{
 "cells": [
  {
   "cell_type": "code",
   "execution_count": 1,
   "metadata": {},
   "outputs": [],
   "source": [
    "import numpy as np\n",
    "import pandas as pd"
   ]
  },
  {
   "cell_type": "code",
   "execution_count": 2,
   "metadata": {},
   "outputs": [
    {
     "name": "stdout",
     "output_type": "stream",
     "text": [
      "EIE 2016 Loading...\n",
      "success\n",
      "EIE 2017 Loading...\n",
      "success\n",
      "EIE 2018 Loading...\n"
     ]
    },
    {
     "name": "stderr",
     "output_type": "stream",
     "text": [
      "/Users/nazardrushchak/opt/anaconda3/lib/python3.8/site-packages/IPython/core/interactiveshell.py:3437: DtypeWarning: Columns (119) have mixed types.Specify dtype option on import or set low_memory=False.\n",
      "  exec(code_obj, self.user_global_ns, self.user_ns)\n"
     ]
    },
    {
     "name": "stdout",
     "output_type": "stream",
     "text": [
      "success\n",
      "EIE 2019 Loading...\n"
     ]
    },
    {
     "name": "stderr",
     "output_type": "stream",
     "text": [
      "/Users/nazardrushchak/opt/anaconda3/lib/python3.8/site-packages/IPython/core/interactiveshell.py:3437: DtypeWarning: Columns (100,116,117,118,120,122,123,124,125) have mixed types.Specify dtype option on import or set low_memory=False.\n",
      "  exec(code_obj, self.user_global_ns, self.user_ns)\n"
     ]
    },
    {
     "name": "stdout",
     "output_type": "stream",
     "text": [
      "success\n",
      "EIE 2020 Loading...\n"
     ]
    },
    {
     "name": "stderr",
     "output_type": "stream",
     "text": [
      "/Users/nazardrushchak/opt/anaconda3/lib/python3.8/site-packages/IPython/core/interactiveshell.py:3437: DtypeWarning: Columns (96,97,98,100,102,103,104,105,116,117,118,120,122,123,124,125) have mixed types.Specify dtype option on import or set low_memory=False.\n",
      "  exec(code_obj, self.user_global_ns, self.user_ns)\n"
     ]
    },
    {
     "name": "stdout",
     "output_type": "stream",
     "text": [
      "success\n",
      "EIE 2021 Loading...\n"
     ]
    },
    {
     "name": "stderr",
     "output_type": "stream",
     "text": [
      "/Users/nazardrushchak/opt/anaconda3/lib/python3.8/site-packages/IPython/core/interactiveshell.py:3437: DtypeWarning: Columns (117,118,119,121,123,124,125,126,137,138,139,141,143,144,145,146) have mixed types.Specify dtype option on import or set low_memory=False.\n",
      "  exec(code_obj, self.user_global_ns, self.user_ns)\n"
     ]
    },
    {
     "name": "stdout",
     "output_type": "stream",
     "text": [
      "success\n",
      "EIE 2022 Loading...\n",
      "success\n",
      "EIE 2023 Loading...\n",
      "success\n"
     ]
    }
   ],
   "source": [
    "# load datasets\n",
    "datasets = {}\n",
    "years = range(2016, 2024)\n",
    "for year in years:\n",
    "    print(f\"EIE {year} Loading...\")\n",
    "    if int(year) >= 2019:\n",
    "        file_name = f'Odata{year}File.csv'\n",
    "    else:\n",
    "        file_name = f'OpenData{year}.csv'\n",
    "    try:           \n",
    "        dataset = pd.read_csv(f\"../../data_loader/{year}/{file_name}\", sep=\";\", encoding='utf-8')\n",
    "    except:\n",
    "        dataset = pd.read_csv(f\"../../data_loader/{year}/{file_name}\", sep=\";\", encoding='Windows 1251')\n",
    "    datasets.update({year:dataset})\n",
    "    print(\"success\")"
   ]
  },
  {
   "cell_type": "code",
   "execution_count": 3,
   "metadata": {},
   "outputs": [],
   "source": [
    "for year, dataset in datasets.items():\n",
    "    #lowercase all columns and add year as attribute\n",
    "    dataset.columns = [col.lower() for col in dataset.columns]"
   ]
  },
  {
   "cell_type": "code",
   "execution_count": 4,
   "metadata": {},
   "outputs": [
    {
     "name": "stdout",
     "output_type": "stream",
     "text": [
      "Index(['outid', 'birth', 'sextypename', 'regname', 'areaname', 'tername',\n",
      "       'regtypename', 'tertypename', 'eoname', 'eotypename', 'eoregname',\n",
      "       'eoareaname', 'eotername', 'eoparent', 'test', 'testdate', 'teststatus',\n",
      "       'block1', 'block1ball100', 'block1ball', 'block2', 'block2ball100',\n",
      "       'block2ball', 'block3', 'block3ball100', 'block3ball', 'ptregname',\n",
      "       'ptareaname', 'pttername'],\n",
      "      dtype='object') Index(['outid', 'birth', 'sextypename', 'regname', 'areaname', 'tername',\n",
      "       'regtypename', 'tertypename', 'eoname', 'eotypename', 'eoregname',\n",
      "       'eoareaname', 'eotername', 'eoparent', 'test', 'testdate', 'ukrblock',\n",
      "       'ukrblockstatus', 'ukrblockball100', 'ukrblockball', 'histblock',\n",
      "       'histblockstatus', 'histblockball100', 'histblockball', 'mathblock',\n",
      "       'mathblockstatus', 'mathblockball100', 'mathblockball', 'physblock',\n",
      "       'physblockstatus', 'physblockball100', 'physblockball', 'chemblock',\n",
      "       'chemblockstatus', 'chemblockball100', 'chemblockball', 'bioblock',\n",
      "       'bioblockstatus', 'bioblockball100', 'bioblockball', 'engblock',\n",
      "       'engblockstatus', 'engblockball100', 'engblockball', 'frablock',\n",
      "       'frablockstatus', 'frablockball100', 'frablockball', 'deublock',\n",
      "       'deublockstatus', 'deublockball100', 'deublockball', 'spablock',\n",
      "       'spablockstatus', 'spablockball100', 'spablockball', 'ptregname',\n",
      "       'ptareaname', 'pttername'],\n",
      "      dtype='object')\n"
     ]
    }
   ],
   "source": [
    "print(datasets[2022].columns, datasets[2023].columns)"
   ]
  },
  {
   "cell_type": "code",
   "execution_count": 5,
   "metadata": {},
   "outputs": [
    {
     "name": "stdout",
     "output_type": "stream",
     "text": [
      "['НМТ '] ['НМТ']\n"
     ]
    }
   ],
   "source": [
    "print(datasets[2022]['test'].unique(), datasets[2023]['test'].unique())"
   ]
  },
  {
   "cell_type": "code",
   "execution_count": 6,
   "metadata": {},
   "outputs": [
    {
     "name": "stdout",
     "output_type": "stream",
     "text": [
      "['Українська мова'] ['Українська мова']\n"
     ]
    }
   ],
   "source": [
    "print(datasets[2022]['block1'].unique(), datasets[2023]['ukrblock'].unique())"
   ]
  },
  {
   "cell_type": "markdown",
   "metadata": {},
   "source": [
    "This is the same as `ukrtest` in previous years."
   ]
  },
  {
   "cell_type": "code",
   "execution_count": 7,
   "metadata": {},
   "outputs": [
    {
     "name": "stdout",
     "output_type": "stream",
     "text": [
      "['Історія України'] [nan 'Історія України']\n"
     ]
    }
   ],
   "source": [
    "print(datasets[2022]['block2'].unique(), datasets[2023]['histblock'].unique())"
   ]
  },
  {
   "cell_type": "markdown",
   "metadata": {},
   "source": [
    "This is the same as `histtest` in previous years."
   ]
  },
  {
   "cell_type": "code",
   "execution_count": 8,
   "metadata": {},
   "outputs": [
    {
     "name": "stdout",
     "output_type": "stream",
     "text": [
      "['Математика'] ['Математика']\n"
     ]
    }
   ],
   "source": [
    "print(datasets[2022]['block3'].unique(), datasets[2023]['mathblock'].unique())"
   ]
  },
  {
   "cell_type": "markdown",
   "metadata": {},
   "source": [
    "This is the same as `mathtest` in previous years."
   ]
  },
  {
   "cell_type": "markdown",
   "metadata": {},
   "source": [
    "From 2023 NMT have not only: `ukr, hist, math tests`"
   ]
  },
  {
   "cell_type": "code",
   "execution_count": 9,
   "metadata": {},
   "outputs": [
    {
     "name": "stdout",
     "output_type": "stream",
     "text": [
      "['ukrblock', 'histblock', 'mathblock', 'physblock', 'chemblock', 'bioblock', 'engblock', 'frablock', 'deublock', 'spablock']\n"
     ]
    }
   ],
   "source": [
    "subjects = [col for col in datasets[2023].columns if col.endswith('block')]\n",
    "print(subjects)"
   ]
  },
  {
   "cell_type": "code",
   "execution_count": 10,
   "metadata": {},
   "outputs": [
    {
     "name": "stdout",
     "output_type": "stream",
     "text": [
      "[nan 'Фізика']\n"
     ]
    }
   ],
   "source": [
    "print(datasets[2023]['physblock'].unique())"
   ]
  },
  {
   "cell_type": "markdown",
   "metadata": {},
   "source": [
    "This is the same as `phystest` in previous years."
   ]
  },
  {
   "cell_type": "code",
   "execution_count": 11,
   "metadata": {},
   "outputs": [
    {
     "name": "stdout",
     "output_type": "stream",
     "text": [
      "[nan 'Хімія']\n"
     ]
    }
   ],
   "source": [
    "print(datasets[2023]['chemblock'].unique())"
   ]
  },
  {
   "cell_type": "markdown",
   "metadata": {},
   "source": [
    "This is the same as `chemtest` in previous years."
   ]
  },
  {
   "cell_type": "code",
   "execution_count": 12,
   "metadata": {},
   "outputs": [
    {
     "name": "stdout",
     "output_type": "stream",
     "text": [
      "[nan 'Біологія']\n"
     ]
    }
   ],
   "source": [
    "print(datasets[2023]['bioblock'].unique())"
   ]
  },
  {
   "cell_type": "markdown",
   "metadata": {},
   "source": [
    "This is the same as `biotest` in previous years."
   ]
  },
  {
   "cell_type": "code",
   "execution_count": 13,
   "metadata": {},
   "outputs": [
    {
     "name": "stdout",
     "output_type": "stream",
     "text": [
      "['Англійська мова' nan]\n"
     ]
    }
   ],
   "source": [
    "print(datasets[2023]['engblock'].unique())"
   ]
  },
  {
   "cell_type": "markdown",
   "metadata": {},
   "source": [
    "This is the same as `engtest` in previous years."
   ]
  },
  {
   "cell_type": "code",
   "execution_count": 14,
   "metadata": {},
   "outputs": [
    {
     "name": "stdout",
     "output_type": "stream",
     "text": [
      "[nan 'Французька мова']\n"
     ]
    }
   ],
   "source": [
    "print(datasets[2023]['frablock'].unique())"
   ]
  },
  {
   "cell_type": "markdown",
   "metadata": {},
   "source": [
    "This is the same as `fratest` in previous years."
   ]
  },
  {
   "cell_type": "code",
   "execution_count": 15,
   "metadata": {},
   "outputs": [
    {
     "name": "stdout",
     "output_type": "stream",
     "text": [
      "[nan 'Німецька мова']\n"
     ]
    }
   ],
   "source": [
    "print(datasets[2023]['deublock'].unique())"
   ]
  },
  {
   "cell_type": "markdown",
   "metadata": {},
   "source": [
    "This is the same as `deutest` in previous years."
   ]
  },
  {
   "cell_type": "code",
   "execution_count": 16,
   "metadata": {},
   "outputs": [
    {
     "name": "stdout",
     "output_type": "stream",
     "text": [
      "[nan 'Іспанська мова']\n"
     ]
    }
   ],
   "source": [
    "print(datasets[2023]['spablock'].unique())"
   ]
  },
  {
   "cell_type": "markdown",
   "metadata": {},
   "source": [
    "This is the same as `spatest` in previous years."
   ]
  },
  {
   "cell_type": "code",
   "execution_count": 17,
   "metadata": {},
   "outputs": [
    {
     "name": "stdout",
     "output_type": "stream",
     "text": [
      "EIE\n",
      "['ukrtest', 'histtest', 'mathtest', 'phystest', 'chemtest', 'biotest', 'geotest', 'engtest', 'deutest', 'sptest', 'rustest', 'fratest']\n",
      "EIE\n",
      "['ukrtest', 'histtest', 'mathtest', 'phystest', 'chemtest', 'biotest', 'geotest', 'engtest', 'fratest', 'deutest', 'spatest', 'rustest']\n",
      "EIE\n",
      "['ukrtest', 'histtest', 'mathtest', 'phystest', 'chemtest', 'biotest', 'geotest', 'engtest', 'fratest', 'deutest', 'spatest']\n",
      "EIE\n",
      "['ukrtest', 'histtest', 'mathtest', 'phystest', 'chemtest', 'biotest', 'geotest', 'engtest', 'fratest', 'deutest', 'spatest']\n",
      "EIE\n",
      "['ukrtest', 'histtest', 'mathtest', 'phystest', 'chemtest', 'biotest', 'geotest', 'engtest', 'fratest', 'deutest', 'spatest']\n",
      "EIE\n",
      "['umltest', 'ukrtest', 'ukrsubtest', 'histtest', 'mathtest', 'mathsttest', 'phystest', 'chemtest', 'biotest', 'geotest', 'engtest', 'fratest', 'deutest', 'spatest']\n",
      "NMT\n",
      "['ukrtest', 'histtest', 'mathtest']\n",
      "NMT\n",
      "['ukrtest', 'histtest', 'mathtest', 'phystest', 'chemtest', 'biotest', 'engtest', 'fratest', 'deutest', 'spatest']\n"
     ]
    }
   ],
   "source": [
    "nmt_start_year = 2022 # all years before that had EIE\n",
    "test_types = []\n",
    "test_subjects = []\n",
    "test_years = []\n",
    "nmt_subjects = [\"ukrtest\", \"histtest\", \"mathtest\"]\n",
    "nmt_subjects_from_2023 = ['phystest', 'chemtest', 'biotest', 'engtest', 'fratest', 'deutest', 'spatest']\n",
    "for year, dataset in datasets.items():\n",
    "    subjects = [col for col in dataset.columns if col.endswith('test')]\n",
    "    if 'frtest' in subjects:\n",
    "        subjects.remove('frtest')\n",
    "        subjects.append('fratest')\n",
    "    if 'sptest' in subjects:\n",
    "        subjects.remove('sptest')\n",
    "        subjects.append('spatest')\n",
    "    test_type = \"EIE\"\n",
    "    if year == nmt_start_year:\n",
    "        test_type = \"NMT\"\n",
    "        subjects = nmt_subjects.copy()\n",
    "    elif year > nmt_start_year:\n",
    "        test_type = \"NMT\"\n",
    "        subjects = nmt_subjects.copy()\n",
    "        subjects += nmt_subjects_from_2023\n",
    "    print(test_type)\n",
    "    test_types.extend([test_type] * len(subjects))\n",
    "    test_subjects.extend(subjects)\n",
    "    test_years.extend([year] * len(subjects))\n",
    "    print(subjects)"
   ]
  },
  {
   "cell_type": "code",
   "execution_count": 18,
   "metadata": {},
   "outputs": [
    {
     "data": {
      "text/html": [
       "<div>\n",
       "<style scoped>\n",
       "    .dataframe tbody tr th:only-of-type {\n",
       "        vertical-align: middle;\n",
       "    }\n",
       "\n",
       "    .dataframe tbody tr th {\n",
       "        vertical-align: top;\n",
       "    }\n",
       "\n",
       "    .dataframe thead th {\n",
       "        text-align: right;\n",
       "    }\n",
       "</style>\n",
       "<table border=\"1\" class=\"dataframe\">\n",
       "  <thead>\n",
       "    <tr style=\"text-align: right;\">\n",
       "      <th></th>\n",
       "      <th>test_type</th>\n",
       "      <th>test_subject</th>\n",
       "      <th>test_year</th>\n",
       "    </tr>\n",
       "  </thead>\n",
       "  <tbody>\n",
       "    <tr>\n",
       "      <th>0</th>\n",
       "      <td>EIE</td>\n",
       "      <td>ukrtest</td>\n",
       "      <td>2016</td>\n",
       "    </tr>\n",
       "    <tr>\n",
       "      <th>1</th>\n",
       "      <td>EIE</td>\n",
       "      <td>histtest</td>\n",
       "      <td>2016</td>\n",
       "    </tr>\n",
       "    <tr>\n",
       "      <th>2</th>\n",
       "      <td>EIE</td>\n",
       "      <td>mathtest</td>\n",
       "      <td>2016</td>\n",
       "    </tr>\n",
       "    <tr>\n",
       "      <th>3</th>\n",
       "      <td>EIE</td>\n",
       "      <td>phystest</td>\n",
       "      <td>2016</td>\n",
       "    </tr>\n",
       "    <tr>\n",
       "      <th>4</th>\n",
       "      <td>EIE</td>\n",
       "      <td>chemtest</td>\n",
       "      <td>2016</td>\n",
       "    </tr>\n",
       "    <tr>\n",
       "      <th>...</th>\n",
       "      <td>...</td>\n",
       "      <td>...</td>\n",
       "      <td>...</td>\n",
       "    </tr>\n",
       "    <tr>\n",
       "      <th>79</th>\n",
       "      <td>NMT</td>\n",
       "      <td>biotest</td>\n",
       "      <td>2023</td>\n",
       "    </tr>\n",
       "    <tr>\n",
       "      <th>80</th>\n",
       "      <td>NMT</td>\n",
       "      <td>engtest</td>\n",
       "      <td>2023</td>\n",
       "    </tr>\n",
       "    <tr>\n",
       "      <th>81</th>\n",
       "      <td>NMT</td>\n",
       "      <td>fratest</td>\n",
       "      <td>2023</td>\n",
       "    </tr>\n",
       "    <tr>\n",
       "      <th>82</th>\n",
       "      <td>NMT</td>\n",
       "      <td>deutest</td>\n",
       "      <td>2023</td>\n",
       "    </tr>\n",
       "    <tr>\n",
       "      <th>83</th>\n",
       "      <td>NMT</td>\n",
       "      <td>spatest</td>\n",
       "      <td>2023</td>\n",
       "    </tr>\n",
       "  </tbody>\n",
       "</table>\n",
       "<p>84 rows × 3 columns</p>\n",
       "</div>"
      ],
      "text/plain": [
       "   test_type test_subject  test_year\n",
       "0        EIE      ukrtest       2016\n",
       "1        EIE     histtest       2016\n",
       "2        EIE     mathtest       2016\n",
       "3        EIE     phystest       2016\n",
       "4        EIE     chemtest       2016\n",
       "..       ...          ...        ...\n",
       "79       NMT      biotest       2023\n",
       "80       NMT      engtest       2023\n",
       "81       NMT      fratest       2023\n",
       "82       NMT      deutest       2023\n",
       "83       NMT      spatest       2023\n",
       "\n",
       "[84 rows x 3 columns]"
      ]
     },
     "execution_count": 18,
     "metadata": {},
     "output_type": "execute_result"
    }
   ],
   "source": [
    "subjects_df = pd.DataFrame(data={\"test_type\": test_types, \"test_subject\": test_subjects, \"test_year\": test_years})\n",
    "subjects_df"
   ]
  },
  {
   "cell_type": "code",
   "execution_count": 19,
   "metadata": {},
   "outputs": [
    {
     "data": {
      "text/plain": [
       "array(['ukrtest', 'histtest', 'mathtest', 'phystest', 'chemtest',\n",
       "       'biotest', 'geotest', 'engtest', 'deutest', 'sptest', 'rustest',\n",
       "       'fratest', 'spatest', 'umltest', 'ukrsubtest', 'mathsttest'],\n",
       "      dtype=object)"
      ]
     },
     "execution_count": 19,
     "metadata": {},
     "output_type": "execute_result"
    }
   ],
   "source": [
    "subjects_df[\"test_subject\"].unique()"
   ]
  },
  {
   "cell_type": "code",
   "execution_count": 20,
   "metadata": {},
   "outputs": [],
   "source": [
    "subjects_df.to_csv(\"./data/Subjects_with_years.csv\", index=False)"
   ]
  },
  {
   "cell_type": "code",
   "execution_count": null,
   "metadata": {},
   "outputs": [],
   "source": []
  }
 ],
 "metadata": {
  "kernelspec": {
   "display_name": "Python 3",
   "language": "python",
   "name": "python3"
  },
  "language_info": {
   "codemirror_mode": {
    "name": "ipython",
    "version": 3
   },
   "file_extension": ".py",
   "mimetype": "text/x-python",
   "name": "python",
   "nbconvert_exporter": "python",
   "pygments_lexer": "ipython3",
   "version": "3.8.8"
  }
 },
 "nbformat": 4,
 "nbformat_minor": 4
}
